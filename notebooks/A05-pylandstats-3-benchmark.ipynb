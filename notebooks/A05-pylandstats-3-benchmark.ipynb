{
 "cells": [
  {
   "cell_type": "markdown",
   "id": "15034818-a6ed-4221-bb96-9d9533d3eb49",
   "metadata": {},
   "source": [
    "# pylandstats 3 benchmark\n",
    "\n",
    "This notebook illustrates the performance gains of pylandstats v3.0.0 by performing a zonal analysis using 10 x 10 km$^2$ landscapes (at 100x100 m$^2$ pixel resolution) covering the entire extent of Switzerland. You can run it using pylandstats v2 and v3 separately to see the performance gains."
   ]
  },
  {
   "cell_type": "code",
   "execution_count": null,
   "id": "21d385e4",
   "metadata": {},
   "outputs": [],
   "source": [
    "import time\n",
    "import warnings\n",
    "\n",
    "import pylandstats as pls\n",
    "\n",
    "# ignore ENN warnings for landscapes with less than 2 patches\n",
    "warnings.filterwarnings(\"ignore\")"
   ]
  },
  {
   "cell_type": "code",
   "execution_count": null,
   "id": "12958002",
   "metadata": {},
   "outputs": [],
   "source": [
    "input_filepath = \"../data/processed/switzerland/LU18_4.tif\"\n",
    "# square side length of landscapes (in meters)\n",
    "landscape_size = 10000\n",
    "# metrics to compute (we exclude SHDI because it raises errors on pylandstats 2)\n",
    "metrics = [\n",
    "    # area and edge\n",
    "    \"area_mn\",\n",
    "    \"perimeter_mn\",\n",
    "    \"patch_density\",\n",
    "    \"edge_density\",\n",
    "    # shape\n",
    "    \"fractal_dimension_am\",\n",
    "    \"shape_index_mn\",\n",
    "    # aggregation\n",
    "    \"euclidean_nearest_neighbor_mn\",\n",
    "    # \"contagion\",\n",
    "    \"effective_mesh_size\",\n",
    "    \"landscape_shape_index\",\n",
    "    # diversity\n",
    "    # \"shannon_diversity_index\",\n",
    "]"
   ]
  },
  {
   "cell_type": "markdown",
   "id": "5984f54f-372e-4307-adb0-cc3b3b3cb5dc",
   "metadata": {},
   "source": [
    "We first make sure to have downloaded and pre-processed the land use data (see [A03-swisslandstats-preprocessing.ipynb](https://github.com/martibosch/pylandstats-notebooks/blob/main/notebooks/A03-swisslandstats-preprocessing.ipynb) for more details):"
   ]
  },
  {
   "cell_type": "code",
   "execution_count": null,
   "id": "7516d6d1",
   "metadata": {},
   "outputs": [
    {
     "name": "stdout",
     "output_type": "stream",
     "text": [
      "\u001b[33mAssuming unrestricted shared filesystem usage.\u001b[0m\n",
      "\u001b[32mhost: pop-os\u001b[0m\n",
      "\u001b[33mBuilding DAG of jobs...\u001b[0m\n",
      "\u001b[33mNothing to be done (all requested files are present and up to date).\u001b[0m\n"
     ]
    }
   ],
   "source": [
    "!snakemake -c1 -d .. -s ../Snakefile switzerland_lulc_tifs"
   ]
  },
  {
   "cell_type": "markdown",
   "id": "4835dffb-5181-40fc-83fb-0dc401ca7e45",
   "metadata": {},
   "source": [
    "Let us first time the initialization of the `ZonalGridAnalysis`"
   ]
  },
  {
   "cell_type": "code",
   "execution_count": null,
   "id": "faa2ac68-9a06-43a1-bde7-91ac85496245",
   "metadata": {},
   "outputs": [
    {
     "name": "stdout",
     "output_type": "stream",
     "text": [
      "Init zonal grid analysis in: 1.56 s\n"
     ]
    }
   ],
   "source": [
    "start = time.time()\n",
    "zga = pls.ZonalGridAnalysis(\n",
    "    input_filepath, zone_width=landscape_size, zone_height=landscape_size\n",
    ")\n",
    "print(f\"Init zonal grid analysis in: {time.time() - start:.2f} s\")"
   ]
  },
  {
   "cell_type": "markdown",
   "id": "6d8f6c3d-05c9-408a-ae07-60dee2394c49",
   "metadata": {},
   "source": [
    "The above should be super fast in pylandstats 3, yet it took 77.52 s with pylandstats 2 in my computer mainly because binary raster masks for each zone had to be initialized (more precisely, 348 arrays of 2207x3484 pixels).\n",
    "\n",
    "Let us now see how long it takes to compute the list of metrics for each zone:"
   ]
  },
  {
   "cell_type": "code",
   "execution_count": null,
   "id": "56a79c4e-2667-406b-98a0-6213984b2379",
   "metadata": {},
   "outputs": [
    {
     "name": "stdout",
     "output_type": "stream",
     "text": [
      "[########################################] | 100% Completed | 143.14 s\n",
      "Computed landscape metrics in: 143.46 s\n"
     ]
    },
    {
     "data": {
      "text/html": [
       "<div>\n",
       "<style scoped>\n",
       "    .dataframe tbody tr th:only-of-type {\n",
       "        vertical-align: middle;\n",
       "    }\n",
       "\n",
       "    .dataframe tbody tr th {\n",
       "        vertical-align: top;\n",
       "    }\n",
       "\n",
       "    .dataframe thead th {\n",
       "        text-align: right;\n",
       "    }\n",
       "</style>\n",
       "<table border=\"1\" class=\"dataframe\">\n",
       "  <thead>\n",
       "    <tr style=\"text-align: right;\">\n",
       "      <th></th>\n",
       "      <th>area_mn</th>\n",
       "      <th>perimeter_mn</th>\n",
       "      <th>patch_density</th>\n",
       "      <th>edge_density</th>\n",
       "      <th>fractal_dimension_am</th>\n",
       "      <th>shape_index_mn</th>\n",
       "      <th>euclidean_nearest_neighbor_mn</th>\n",
       "      <th>effective_mesh_size</th>\n",
       "      <th>landscape_shape_index</th>\n",
       "    </tr>\n",
       "    <tr>\n",
       "      <th>grid_cell</th>\n",
       "      <th></th>\n",
       "      <th></th>\n",
       "      <th></th>\n",
       "      <th></th>\n",
       "      <th></th>\n",
       "      <th></th>\n",
       "      <th></th>\n",
       "      <th></th>\n",
       "      <th></th>\n",
       "    </tr>\n",
       "  </thead>\n",
       "  <tbody>\n",
       "    <tr>\n",
       "      <th>18</th>\n",
       "      <td>1.000000</td>\n",
       "      <td>400.000000</td>\n",
       "      <td>100.000000</td>\n",
       "      <td>66.666667</td>\n",
       "      <td>1.000000</td>\n",
       "      <td>1.000000</td>\n",
       "      <td>NaN</td>\n",
       "      <td>1.000000</td>\n",
       "      <td>1.250000</td>\n",
       "    </tr>\n",
       "    <tr>\n",
       "      <th>19</th>\n",
       "      <td>8.297806</td>\n",
       "      <td>2050.783699</td>\n",
       "      <td>12.051379</td>\n",
       "      <td>16.471477</td>\n",
       "      <td>1.213140</td>\n",
       "      <td>1.374316</td>\n",
       "      <td>318.158106</td>\n",
       "      <td>258.791462</td>\n",
       "      <td>29.640777</td>\n",
       "    </tr>\n",
       "    <tr>\n",
       "      <th>20</th>\n",
       "      <td>5.494234</td>\n",
       "      <td>1427.018122</td>\n",
       "      <td>18.200900</td>\n",
       "      <td>25.367316</td>\n",
       "      <td>1.150227</td>\n",
       "      <td>1.317940</td>\n",
       "      <td>266.635700</td>\n",
       "      <td>57.304648</td>\n",
       "      <td>33.689655</td>\n",
       "    </tr>\n",
       "    <tr>\n",
       "      <th>21</th>\n",
       "      <td>5.024691</td>\n",
       "      <td>1367.901235</td>\n",
       "      <td>19.901720</td>\n",
       "      <td>18.673219</td>\n",
       "      <td>1.142642</td>\n",
       "      <td>1.320300</td>\n",
       "      <td>454.598699</td>\n",
       "      <td>30.724816</td>\n",
       "      <td>12.585366</td>\n",
       "    </tr>\n",
       "    <tr>\n",
       "      <th>23</th>\n",
       "      <td>1.500000</td>\n",
       "      <td>500.000000</td>\n",
       "      <td>66.666667</td>\n",
       "      <td>0.000000</td>\n",
       "      <td>1.007929</td>\n",
       "      <td>1.000000</td>\n",
       "      <td>NaN</td>\n",
       "      <td>1.666667</td>\n",
       "      <td>1.250000</td>\n",
       "    </tr>\n",
       "  </tbody>\n",
       "</table>\n",
       "</div>"
      ],
      "text/plain": [
       "            area_mn  perimeter_mn  patch_density  edge_density  \\\n",
       "grid_cell                                                        \n",
       "18         1.000000    400.000000     100.000000     66.666667   \n",
       "19         8.297806   2050.783699      12.051379     16.471477   \n",
       "20         5.494234   1427.018122      18.200900     25.367316   \n",
       "21         5.024691   1367.901235      19.901720     18.673219   \n",
       "23         1.500000    500.000000      66.666667      0.000000   \n",
       "\n",
       "           fractal_dimension_am  shape_index_mn  \\\n",
       "grid_cell                                         \n",
       "18                     1.000000        1.000000   \n",
       "19                     1.213140        1.374316   \n",
       "20                     1.150227        1.317940   \n",
       "21                     1.142642        1.320300   \n",
       "23                     1.007929        1.000000   \n",
       "\n",
       "           euclidean_nearest_neighbor_mn  effective_mesh_size  \\\n",
       "grid_cell                                                       \n",
       "18                                   NaN             1.000000   \n",
       "19                            318.158106           258.791462   \n",
       "20                            266.635700            57.304648   \n",
       "21                            454.598699            30.724816   \n",
       "23                                   NaN             1.666667   \n",
       "\n",
       "           landscape_shape_index  \n",
       "grid_cell                         \n",
       "18                      1.250000  \n",
       "19                     29.640777  \n",
       "20                     33.689655  \n",
       "21                     12.585366  \n",
       "23                      1.250000  "
      ]
     },
     "execution_count": null,
     "metadata": {},
     "output_type": "execute_result"
    }
   ],
   "source": [
    "start = time.time()\n",
    "metrics_df = zga.compute_landscape_metrics_df(metrics=metrics)\n",
    "print(f\"Computed landscape metrics in: {time.time() - start:.2f} s\")\n",
    "metrics_df.head()"
   ]
  },
  {
   "cell_type": "markdown",
   "id": "6df6e0d2-8a7d-4282-be1c-904e7ff56c74",
   "metadata": {},
   "source": [
    "The above took 819.52 s with pylandstats 2, which represents a speed-up of about x6, mainly due to the fact that it has been run in parallel in an 8 core computer.\n",
    "\n",
    "In pylandstats 3, we can compute the metrics directly into a geo-data frame (note that the computation now will be much faster because many intermediate results of each landscape zone have been cached):"
   ]
  },
  {
   "cell_type": "code",
   "execution_count": null,
   "id": "602f9e2e-e3ac-4c77-8a32-1fc4d6c1c8b2",
   "metadata": {},
   "outputs": [
    {
     "name": "stdout",
     "output_type": "stream",
     "text": [
      "[########################################] | 100% Completed | 5.43 sms\n"
     ]
    },
    {
     "data": {
      "text/html": [
       "<div>\n",
       "<style scoped>\n",
       "    .dataframe tbody tr th:only-of-type {\n",
       "        vertical-align: middle;\n",
       "    }\n",
       "\n",
       "    .dataframe tbody tr th {\n",
       "        vertical-align: top;\n",
       "    }\n",
       "\n",
       "    .dataframe thead th {\n",
       "        text-align: right;\n",
       "    }\n",
       "</style>\n",
       "<table border=\"1\" class=\"dataframe\">\n",
       "  <thead>\n",
       "    <tr style=\"text-align: right;\">\n",
       "      <th></th>\n",
       "      <th>area_mn</th>\n",
       "      <th>edge_density</th>\n",
       "      <th>effective_mesh_size</th>\n",
       "      <th>euclidean_nearest_neighbor_mn</th>\n",
       "      <th>fractal_dimension_am</th>\n",
       "      <th>landscape_shape_index</th>\n",
       "      <th>patch_density</th>\n",
       "      <th>perimeter_mn</th>\n",
       "      <th>shape_index_mn</th>\n",
       "      <th>geometry</th>\n",
       "    </tr>\n",
       "    <tr>\n",
       "      <th>grid_cell</th>\n",
       "      <th></th>\n",
       "      <th></th>\n",
       "      <th></th>\n",
       "      <th></th>\n",
       "      <th></th>\n",
       "      <th></th>\n",
       "      <th></th>\n",
       "      <th></th>\n",
       "      <th></th>\n",
       "      <th></th>\n",
       "    </tr>\n",
       "  </thead>\n",
       "  <tbody>\n",
       "    <tr>\n",
       "      <th>18</th>\n",
       "      <td>1.000000</td>\n",
       "      <td>66.666667</td>\n",
       "      <td>1.000000</td>\n",
       "      <td>NaN</td>\n",
       "      <td>1.000000</td>\n",
       "      <td>1.250000</td>\n",
       "      <td>100.000000</td>\n",
       "      <td>400.000000</td>\n",
       "      <td>1.000000</td>\n",
       "      <td>POLYGON ((2675450 1285950, 2675450 1295950, 26...</td>\n",
       "    </tr>\n",
       "    <tr>\n",
       "      <th>19</th>\n",
       "      <td>8.297806</td>\n",
       "      <td>16.471477</td>\n",
       "      <td>258.791462</td>\n",
       "      <td>318.158106</td>\n",
       "      <td>1.213140</td>\n",
       "      <td>29.640777</td>\n",
       "      <td>12.051379</td>\n",
       "      <td>2050.783699</td>\n",
       "      <td>1.374316</td>\n",
       "      <td>POLYGON ((2685450 1285950, 2685450 1295950, 26...</td>\n",
       "    </tr>\n",
       "    <tr>\n",
       "      <th>20</th>\n",
       "      <td>5.494234</td>\n",
       "      <td>25.367316</td>\n",
       "      <td>57.304648</td>\n",
       "      <td>266.635700</td>\n",
       "      <td>1.150227</td>\n",
       "      <td>33.689655</td>\n",
       "      <td>18.200900</td>\n",
       "      <td>1427.018122</td>\n",
       "      <td>1.317940</td>\n",
       "      <td>POLYGON ((2695450 1285950, 2695450 1295950, 26...</td>\n",
       "    </tr>\n",
       "    <tr>\n",
       "      <th>21</th>\n",
       "      <td>5.024691</td>\n",
       "      <td>18.673219</td>\n",
       "      <td>30.724816</td>\n",
       "      <td>454.598699</td>\n",
       "      <td>1.142642</td>\n",
       "      <td>12.585366</td>\n",
       "      <td>19.901720</td>\n",
       "      <td>1367.901235</td>\n",
       "      <td>1.320300</td>\n",
       "      <td>POLYGON ((2705450 1285950, 2705450 1295950, 26...</td>\n",
       "    </tr>\n",
       "    <tr>\n",
       "      <th>23</th>\n",
       "      <td>1.500000</td>\n",
       "      <td>0.000000</td>\n",
       "      <td>1.666667</td>\n",
       "      <td>NaN</td>\n",
       "      <td>1.007929</td>\n",
       "      <td>1.250000</td>\n",
       "      <td>66.666667</td>\n",
       "      <td>500.000000</td>\n",
       "      <td>1.000000</td>\n",
       "      <td>POLYGON ((2725450 1285950, 2725450 1295950, 27...</td>\n",
       "    </tr>\n",
       "  </tbody>\n",
       "</table>\n",
       "</div>"
      ],
      "text/plain": [
       "            area_mn  edge_density  effective_mesh_size  \\\n",
       "grid_cell                                                \n",
       "18         1.000000     66.666667             1.000000   \n",
       "19         8.297806     16.471477           258.791462   \n",
       "20         5.494234     25.367316            57.304648   \n",
       "21         5.024691     18.673219            30.724816   \n",
       "23         1.500000      0.000000             1.666667   \n",
       "\n",
       "           euclidean_nearest_neighbor_mn  fractal_dimension_am  \\\n",
       "grid_cell                                                        \n",
       "18                                   NaN              1.000000   \n",
       "19                            318.158106              1.213140   \n",
       "20                            266.635700              1.150227   \n",
       "21                            454.598699              1.142642   \n",
       "23                                   NaN              1.007929   \n",
       "\n",
       "           landscape_shape_index  patch_density  perimeter_mn  shape_index_mn  \\\n",
       "grid_cell                                                                       \n",
       "18                      1.250000     100.000000    400.000000        1.000000   \n",
       "19                     29.640777      12.051379   2050.783699        1.374316   \n",
       "20                     33.689655      18.200900   1427.018122        1.317940   \n",
       "21                     12.585366      19.901720   1367.901235        1.320300   \n",
       "23                      1.250000      66.666667    500.000000        1.000000   \n",
       "\n",
       "                                                    geometry  \n",
       "grid_cell                                                     \n",
       "18         POLYGON ((2675450 1285950, 2675450 1295950, 26...  \n",
       "19         POLYGON ((2685450 1285950, 2685450 1295950, 26...  \n",
       "20         POLYGON ((2695450 1285950, 2695450 1295950, 26...  \n",
       "21         POLYGON ((2705450 1285950, 2705450 1295950, 26...  \n",
       "23         POLYGON ((2725450 1285950, 2725450 1295950, 27...  "
      ]
     },
     "execution_count": null,
     "metadata": {},
     "output_type": "execute_result"
    }
   ],
   "source": [
    "zonal_gdf = zga.compute_zonal_statistics_gdf(metrics=metrics)\n",
    "zonal_gdf.head()"
   ]
  },
  {
   "cell_type": "markdown",
   "id": "9cdde6f8-9d8a-48e5-8a28-dabe050c6ac2",
   "metadata": {},
   "source": [
    "We can now use the geo-data frame to plot any metric accross zones:"
   ]
  },
  {
   "cell_type": "code",
   "execution_count": null,
   "id": "d9906ab5-474e-4094-9353-55162dc22f78",
   "metadata": {},
   "outputs": [
    {
     "data": {
      "text/plain": [
       "<Axes: >"
      ]
     },
     "execution_count": null,
     "metadata": {},
     "output_type": "execute_result"
    },
    {
     "data": {
      "image/png": "[encoded data removed]",
      "text/plain": [
       "<Figure size 640x480 with 2 Axes>"
      ]
     },
     "metadata": {},
     "output_type": "display_data"
    }
   ],
   "source": [
    "zonal_gdf.plot(\"fractal_dimension_am\", legend=True, legend_kwds={\"shrink\": 0.5})"
   ]
  }
 ],
 "metadata": {
  "jupytext": {
   "cell_metadata_filter": "-all"
  },
  "kernelspec": {
   "display_name": "Python (pylandstats)",
   "language": "python",
   "name": "pylandstats"
  },
  "language_info": {
   "codemirror_mode": {
    "name": "ipython",
    "version": 3
   },
   "file_extension": ".py",
   "mimetype": "text/x-python",
   "name": "python",
   "nbconvert_exporter": "python",
   "pygments_lexer": "ipython3",
   "version": "3.12.7"
  }
 },
 "nbformat": 4,
 "nbformat_minor": 5
}
