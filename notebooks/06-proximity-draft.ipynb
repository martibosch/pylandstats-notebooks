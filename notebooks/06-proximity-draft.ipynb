{
 "cells": [
  {
   "cell_type": "markdown",
   "id": "d18ffdde",
   "metadata": {},
   "source": [
    "# Proximity draft\n",
    "\n",
    "In the cell below, the notebook introduces a preliminary implementation of the proximity metric from Gustafson and Parker (1992) [1]. We use the `class_src` and `class_dst` arguments to select the source and destination classes, i.e., we compute the proximity of patches of the source class to patches of the destination class."
   ]
  },
  {
   "cell_type": "code",
   "execution_count": null,
   "id": "5d1eb963",
   "metadata": {},
   "outputs": [],
   "source": [
    "import warnings\n",
    "\n",
    "import matplotlib.pyplot as plt\n",
    "import numpy as np\n",
    "import pandas as pd\n",
    "import swisslandstats as sls\n",
    "from scipy import ndimage\n",
    "\n",
    "import pylandstats as pls\n",
    "\n",
    "\n",
    "def proximity_index(ls, class_src, class_dst, search_radius):\n",
    "    \"\"\"\n",
    "    Proximity index.\n",
    "\n",
    "    Parameters\n",
    "    ----------\n",
    "    ls : pylandstats.Landscape\n",
    "        The landscape instance used to compute the metric.\n",
    "    class_src, class_dst : int, optional\n",
    "        Source and destination classes (respectively) used to compute the metric.\n",
    "    search_radius : numeric\n",
    "        Search radius defining the neighborhood at which the metric will be computed for\n",
    "        each patch.\n",
    "\n",
    "    Returns\n",
    "    -------\n",
    "    PROX : numeric\n",
    "        PROX >= 0 ; prox equals 0 if a patch has no neighbors, and increases as the\n",
    "        neighborhood is occupied by patches of the same type and those patches become\n",
    "        more contiguous (or less fragmented).\n",
    "    \"\"\"\n",
    "    # first of all, we get some iteration-independent variables that will be useful in\n",
    "    # the loop below\n",
    "    num_buffer_cells = int(search_radius / ls.cell_width)\n",
    "    num_rows, num_cols = ls.landscape_arr.shape\n",
    "    # then, we get the label arrays for the source and destination classes\n",
    "    src_label_arr, dst_label_arr = [\n",
    "        ls.class_label(class_val)[0] for class_val in [class_src, class_dst]\n",
    "    ]\n",
    "    # the slices that correspond to each patch of the source class\n",
    "    patch_slices = ndimage.find_objects(src_label_arr)\n",
    "    # and init an empty array for the computed indices\n",
    "    proximity = np.empty(len(patch_slices))\n",
    "\n",
    "    # we now iterate the patches of the source class\n",
    "    for patch_label, (patch_row_slice, patch_col_slice) in enumerate(\n",
    "        patch_slices, start=1\n",
    "    ):\n",
    "        # we now identify the slice region that corresponds to the focus patch plus the\n",
    "        # search buffer\n",
    "        _slice = np.s_[\n",
    "            max(0, patch_row_slice.start - num_buffer_cells) : min(\n",
    "                patch_row_slice.stop + num_buffer_cells, num_rows\n",
    "            ),\n",
    "            max(0, patch_col_slice.start - num_buffer_cells) : min(\n",
    "                patch_col_slice.stop + num_buffer_cells, num_cols\n",
    "            ),\n",
    "        ]\n",
    "        # and get a boolean array corresponds to the target patch (True) plus the search\n",
    "        # buffer\n",
    "        patch_arr = src_label_arr[_slice] == patch_label\n",
    "        # let us now get the labels of the patches of the destination class, and drop\n",
    "        # the 0 (in class label arrays, 0 always corresponds to pixels that are not of\n",
    "        # that class)\n",
    "        neighbor_patches_arr = dst_label_arr[_slice]\n",
    "        neighbor_labels = np.unique(neighbor_patches_arr)\n",
    "        neighbor_labels = neighbor_labels[neighbor_labels != 0]\n",
    "\n",
    "        # we can get the areas of the neighbor patches using the patch labels (note that\n",
    "        # patch labels start at 1 whereas pandas series indexing starts at 0)\n",
    "        neighbor_areas = ls.area(class_val=class_dst).iloc[neighbor_labels - 1]\n",
    "\n",
    "        # to get the distances to the neighbor patches, we will generate another label\n",
    "        # array where the focus patch is labeled as 1 and the others are labeled from 2\n",
    "        # to the number of neighbor patches plus one (since we start indexing at 2 to\n",
    "        # distinguish from the focus path - labeled as 1)\n",
    "        _label_arr = neighbor_patches_arr.copy()\n",
    "        for new_label, neighbor_label in enumerate(neighbor_labels, start=2):\n",
    "            _label_arr[neighbor_patches_arr == neighbor_label] = new_label\n",
    "        _label_arr += np.where(patch_arr, 1, 0)\n",
    "        # note that `compute_patch_euclidean_nearest_neighbor` computes the distances\n",
    "        # for all patches in `_label_arr`, which includes the focus patch, which is not\n",
    "        # considered to compute proximity (and hence dropped from the returned array via\n",
    "        # slicing)\n",
    "        try:\n",
    "            enn = ls.compute_patch_euclidean_nearest_neighbor(_label_arr)[1:]\n",
    "            # the proximity index for the focus patch can now very easily be computed as\n",
    "            # follows (note that patch labels start at 1 whereas numpy array indexing\n",
    "            # starts at 0)):\n",
    "            patch_proximity = np.sum(neighbor_areas / enn)\n",
    "        except IndexError:\n",
    "            # in some cases, we can have a patch of the source class adjacent to a patch\n",
    "            # of the destination class, which results in an ENN of 0, hence we cannot\n",
    "            # divide by it.\n",
    "            warnings.warn(\n",
    "                f\"Patch {patch_label} of the source class is adjacent to a patch of the\"\n",
    "                \" destination class. Returning nan to avoid division by zero.\",\n",
    "                RuntimeWarning,\n",
    "            )\n",
    "            patch_proximity = np.nan\n",
    "        proximity[patch_label - 1] = patch_proximity\n",
    "\n",
    "    return proximity"
   ]
  },
  {
   "cell_type": "markdown",
   "id": "8e7b4666",
   "metadata": {},
   "source": [
    "We first need to run the cell below so that the land use/land cover (LULC) data is downloaded and preprocessed (see [A03-swisslandstats-preprocessing.ipynb](https://github.com/martibosch/pylandstats-notebooks/blob/master/notebooks/A03-swisslandstats-preprocessing.ipynb) for more details)."
   ]
  },
  {
   "cell_type": "code",
   "execution_count": null,
   "id": "ef2d6ebc",
   "metadata": {},
   "outputs": [
    {
     "name": "stdout",
     "output_type": "stream",
     "text": [
      "make: Entering directory '/home/martibosch/data-science/pylandstats-notebooks'\r\n",
      "make: Nothing to be done for 'lulc_rasters'.\r\n",
      "make: Leaving directory '/home/martibosch/data-science/pylandstats-notebooks'\r\n"
     ]
    }
   ],
   "source": [
    "!make -C .. lulc_rasters"
   ]
  },
  {
   "cell_type": "markdown",
   "id": "a1034938",
   "metadata": {},
   "source": [
    "This is what the landscape used in this example looks like:"
   ]
  },
  {
   "cell_type": "code",
   "execution_count": null,
   "id": "8dd15e09",
   "metadata": {},
   "outputs": [
    {
     "data": {
      "text/plain": [
       "<AxesSubplot:>"
      ]
     },
     "execution_count": null,
     "metadata": {},
     "output_type": "execute_result"
    },
    {
     "data": {
      "image/png": "[encoded data removed]",
      "text/plain": [
       "<Figure size 432x288 with 1 Axes>"
      ]
     },
     "metadata": {
      "needs_background": "light"
     },
     "output_type": "display_data"
    }
   ],
   "source": [
    "input_filepath = \"../data/processed/veveyse-AS18_4.tif\"\n",
    "\n",
    "ls = pls.Landscape(input_filepath)\n",
    "ls.plot_landscape(cmap=sls.noas04_4_cmap, norm=sls.noas04_4_norm, legend=True)"
   ]
  },
  {
   "cell_type": "markdown",
   "id": "ba122a5c",
   "metadata": {},
   "source": [
    "In this example, the source and destination classes will be \"urban\" and \"forest\" respectively, i.e., for each urban patch, we will compute its proximity index to forest patches. To compute the metric, we will use a search radius of 1000 meters."
   ]
  },
  {
   "cell_type": "code",
   "execution_count": null,
   "id": "80d8d3e0",
   "metadata": {},
   "outputs": [
    {
     "name": "stderr",
     "output_type": "stream",
     "text": [
      "/tmp/ipykernel_26714/3796027500.py:96: RuntimeWarning: Patch 120 of the source class is adjacent to a patch of the destination class. Returning nan to avoid division by zero.\n",
      "  warnings.warn(\n",
      "/tmp/ipykernel_26714/3796027500.py:96: RuntimeWarning: Patch 123 of the source class is adjacent to a patch of the destination class. Returning nan to avoid division by zero.\n",
      "  warnings.warn(\n",
      "/tmp/ipykernel_26714/3796027500.py:96: RuntimeWarning: Patch 131 of the source class is adjacent to a patch of the destination class. Returning nan to avoid division by zero.\n",
      "  warnings.warn(\n",
      "/tmp/ipykernel_26714/3796027500.py:96: RuntimeWarning: Patch 164 of the source class is adjacent to a patch of the destination class. Returning nan to avoid division by zero.\n",
      "  warnings.warn(\n",
      "/tmp/ipykernel_26714/3796027500.py:96: RuntimeWarning: Patch 170 of the source class is adjacent to a patch of the destination class. Returning nan to avoid division by zero.\n",
      "  warnings.warn(\n",
      "/tmp/ipykernel_26714/3796027500.py:96: RuntimeWarning: Patch 180 of the source class is adjacent to a patch of the destination class. Returning nan to avoid division by zero.\n",
      "  warnings.warn(\n",
      "/tmp/ipykernel_26714/3796027500.py:96: RuntimeWarning: Patch 223 of the source class is adjacent to a patch of the destination class. Returning nan to avoid division by zero.\n",
      "  warnings.warn(\n",
      "/tmp/ipykernel_26714/3796027500.py:96: RuntimeWarning: Patch 226 of the source class is adjacent to a patch of the destination class. Returning nan to avoid division by zero.\n",
      "  warnings.warn(\n"
     ]
    },
    {
     "name": "stderr",
     "output_type": "stream",
     "text": [
      "/tmp/ipykernel_26714/3796027500.py:96: RuntimeWarning: Patch 242 of the source class is adjacent to a patch of the destination class. Returning nan to avoid division by zero.\n",
      "  warnings.warn(\n",
      "/tmp/ipykernel_26714/3796027500.py:96: RuntimeWarning: Patch 247 of the source class is adjacent to a patch of the destination class. Returning nan to avoid division by zero.\n",
      "  warnings.warn(\n",
      "/tmp/ipykernel_26714/3796027500.py:96: RuntimeWarning: Patch 248 of the source class is adjacent to a patch of the destination class. Returning nan to avoid division by zero.\n",
      "  warnings.warn(\n",
      "/tmp/ipykernel_26714/3796027500.py:96: RuntimeWarning: Patch 257 of the source class is adjacent to a patch of the destination class. Returning nan to avoid division by zero.\n",
      "  warnings.warn(\n",
      "/tmp/ipykernel_26714/3796027500.py:96: RuntimeWarning: Patch 274 of the source class is adjacent to a patch of the destination class. Returning nan to avoid division by zero.\n",
      "  warnings.warn(\n",
      "/tmp/ipykernel_26714/3796027500.py:96: RuntimeWarning: Patch 276 of the source class is adjacent to a patch of the destination class. Returning nan to avoid division by zero.\n",
      "  warnings.warn(\n"
     ]
    }
   ],
   "source": [
    "class_src = 1  # urban\n",
    "class_dst = 3  # forest\n",
    "search_radius = 1000\n",
    "\n",
    "patch_proximities = proximity_index(ls, class_src, class_dst, search_radius)"
   ]
  },
  {
   "cell_type": "markdown",
   "id": "5bf14087",
   "metadata": {},
   "source": [
    "We can build a data frame of patch-level metrics in order to map the computed proximities to the actual patches:"
   ]
  },
  {
   "cell_type": "code",
   "execution_count": null,
   "id": "de8f2725",
   "metadata": {},
   "outputs": [
    {
     "data": {
      "text/html": [
       "<div>\n",
       "<style scoped>\n",
       "    .dataframe tbody tr th:only-of-type {\n",
       "        vertical-align: middle;\n",
       "    }\n",
       "\n",
       "    .dataframe tbody tr th {\n",
       "        vertical-align: top;\n",
       "    }\n",
       "\n",
       "    .dataframe thead th {\n",
       "        text-align: right;\n",
       "    }\n",
       "</style>\n",
       "<table border=\"1\" class=\"dataframe\">\n",
       "  <thead>\n",
       "    <tr style=\"text-align: right;\">\n",
       "      <th></th>\n",
       "      <th>area</th>\n",
       "      <th>proximity</th>\n",
       "    </tr>\n",
       "  </thead>\n",
       "  <tbody>\n",
       "    <tr>\n",
       "      <th>0</th>\n",
       "      <td>1.0</td>\n",
       "      <td>0.267514</td>\n",
       "    </tr>\n",
       "    <tr>\n",
       "      <th>1</th>\n",
       "      <td>1.0</td>\n",
       "      <td>0.286099</td>\n",
       "    </tr>\n",
       "    <tr>\n",
       "      <th>2</th>\n",
       "      <td>1.0</td>\n",
       "      <td>0.337302</td>\n",
       "    </tr>\n",
       "    <tr>\n",
       "      <th>3</th>\n",
       "      <td>1.0</td>\n",
       "      <td>0.540459</td>\n",
       "    </tr>\n",
       "    <tr>\n",
       "      <th>4</th>\n",
       "      <td>1.0</td>\n",
       "      <td>0.804110</td>\n",
       "    </tr>\n",
       "    <tr>\n",
       "      <th>...</th>\n",
       "      <td>...</td>\n",
       "      <td>...</td>\n",
       "    </tr>\n",
       "    <tr>\n",
       "      <th>282</th>\n",
       "      <td>6.0</td>\n",
       "      <td>1.663668</td>\n",
       "    </tr>\n",
       "    <tr>\n",
       "      <th>283</th>\n",
       "      <td>1.0</td>\n",
       "      <td>15.831384</td>\n",
       "    </tr>\n",
       "    <tr>\n",
       "      <th>284</th>\n",
       "      <td>2.0</td>\n",
       "      <td>0.642959</td>\n",
       "    </tr>\n",
       "    <tr>\n",
       "      <th>285</th>\n",
       "      <td>1.0</td>\n",
       "      <td>0.806677</td>\n",
       "    </tr>\n",
       "    <tr>\n",
       "      <th>286</th>\n",
       "      <td>1.0</td>\n",
       "      <td>31.212082</td>\n",
       "    </tr>\n",
       "  </tbody>\n",
       "</table>\n",
       "<p>287 rows × 2 columns</p>\n",
       "</div>"
      ],
      "text/plain": [
       "     area  proximity\n",
       "0     1.0   0.267514\n",
       "1     1.0   0.286099\n",
       "2     1.0   0.337302\n",
       "3     1.0   0.540459\n",
       "4     1.0   0.804110\n",
       "..    ...        ...\n",
       "282   6.0   1.663668\n",
       "283   1.0  15.831384\n",
       "284   2.0   0.642959\n",
       "285   1.0   0.806677\n",
       "286   1.0  31.212082\n",
       "\n",
       "[287 rows x 2 columns]"
      ]
     },
     "execution_count": null,
     "metadata": {},
     "output_type": "execute_result"
    }
   ],
   "source": [
    "patch_df = pd.DataFrame(ls.area(class_val=class_src))\n",
    "patch_df[\"proximity\"] = patch_proximities\n",
    "patch_df"
   ]
  },
  {
   "cell_type": "markdown",
   "id": "1d1e4b28",
   "metadata": {},
   "source": [
    "We can also plot each patch of the source class (i.e., urban) colored according to its proximity to the destination class (i.e., forest):"
   ]
  },
  {
   "cell_type": "code",
   "execution_count": null,
   "id": "74819182",
   "metadata": {},
   "outputs": [
    {
     "data": {
      "text/plain": [
       "<matplotlib.colorbar.Colorbar at 0x7fe4a4e82a10>"
      ]
     },
     "execution_count": null,
     "metadata": {},
     "output_type": "execute_result"
    },
    {
     "data": {
      "image/png": "[encoded data removed]",
      "text/plain": [
       "<Figure size 432x288 with 2 Axes>"
      ]
     },
     "metadata": {
      "needs_background": "light"
     },
     "output_type": "display_data"
    }
   ],
   "source": [
    "label_arr = ls.class_label(class_src)[0]\n",
    "prox_arr = np.full_like(label_arr, np.nan, dtype=patch_proximities.dtype)\n",
    "# map proximity values to each patch\n",
    "for patch_label, patch_prox in enumerate(patch_proximities, start=1):\n",
    "    prox_arr[label_arr == patch_label] = patch_prox\n",
    "\n",
    "plt.imshow(prox_arr)\n",
    "plt.colorbar()"
   ]
  },
  {
   "cell_type": "markdown",
   "id": "e989d589",
   "metadata": {},
   "source": [
    "## References\n",
    "\n",
    "1. Gustafson, E. J., & Parker, G. R. (1994). Using an index of habitat patch proximity for landscape design. Landscape and urban planning, 29(2-3), 117-130."
   ]
  }
 ],
 "metadata": {
  "kernelspec": {
   "argv": [
    "/home/martibosch/mambaforge/envs/pylandstats/bin/python",
    "-m",
    "ipykernel_launcher",
    "-f",
    "{connection_file}"
   ],
   "display_name": "Python (pylandstats)",
   "env": null,
   "interrupt_mode": "signal",
   "language": "python",
   "metadata": {
    "debugger": true
   },
   "name": "pylandstats"
  },
  "name": "06-proximity-draft.ipynb"
 },
 "nbformat": 4,
 "nbformat_minor": 5
}
