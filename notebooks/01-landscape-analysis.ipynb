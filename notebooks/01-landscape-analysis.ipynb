{
 "cells": [
  {
   "cell_type": "markdown",
   "metadata": {
    "ein.tags": "worksheet-0",
    "slideshow": {
     "slide_type": "-"
    }
   },
   "source": [
    "# Landscape analysis"
   ]
  },
  {
   "cell_type": "code",
   "execution_count": 1,
   "metadata": {
    "autoscroll": false,
    "ein.hycell": false,
    "ein.tags": "worksheet-0",
    "slideshow": {
     "slide_type": "-"
    }
   },
   "outputs": [],
   "source": [
    "import pylandstats as pls"
   ]
  },
  {
   "cell_type": "markdown",
   "metadata": {
    "ein.tags": "worksheet-0",
    "slideshow": {
     "slide_type": "-"
    }
   },
   "source": [
    "We can load our landscape from a GeoTiff. We will use an extract of the Canton of Vaud (Switerland) derived from the [CORINE Land Cover dataset](https://land.copernicus.eu/pan-european/corine-land-cover) of the year 2000."
   ]
  },
  {
   "cell_type": "code",
   "execution_count": 2,
   "metadata": {
    "autoscroll": false,
    "ein.hycell": false,
    "ein.tags": "worksheet-0",
    "slideshow": {
     "slide_type": "-"
    }
   },
   "outputs": [],
   "source": [
    "ls = pls.Landscape('../data/clc/vaud_g100_clc00_V18_5.tif')"
   ]
  },
  {
   "cell_type": "markdown",
   "metadata": {
    "ein.tags": "worksheet-0",
    "slideshow": {
     "slide_type": "-"
    }
   },
   "source": [
    "For simplicity, it has been reclassified to show only *urban* (1) and *non-urban* (2) land cover classes"
   ]
  },
  {
   "cell_type": "code",
   "execution_count": 3,
   "metadata": {
    "autoscroll": false,
    "ein.hycell": false,
    "ein.tags": "worksheet-0",
    "slideshow": {
     "slide_type": "-"
    }
   },
   "outputs": [
    {
     "data": {
      "text/plain": [
       "<matplotlib.axes._subplots.AxesSubplot at 0x7fa6fcfe0278>"
      ]
     },
     "execution_count": 3,
     "metadata": {},
     "output_type": "execute_result"
    },
    {
     "data": {
      "image/png": "[encoded data removed]",
      "text/plain": [
       "<Figure size 432x288 with 1 Axes>"
      ]
     },
     "metadata": {
      "needs_background": "light"
     },
     "output_type": "display_data"
    }
   ],
   "source": [
    "ls.plot_landscape(legend=True)"
   ]
  },
  {
   "cell_type": "markdown",
   "metadata": {
    "ein.tags": "worksheet-0",
    "slideshow": {
     "slide_type": "-"
    }
   },
   "source": [
    "## Computing metrics"
   ]
  },
  {
   "cell_type": "markdown",
   "metadata": {
    "ein.tags": "worksheet-0",
    "slideshow": {
     "slide_type": "-"
    }
   },
   "source": [
    "The metrics can be computed at the patch, class and landscape level (see [the list of implemented metrics](https://pylandstats.readthedocs.io/en/latest/landscape.html#list-of-implemented-metrics))"
   ]
  },
  {
   "cell_type": "markdown",
   "metadata": {
    "ein.tags": "worksheet-0",
    "slideshow": {
     "slide_type": "-"
    }
   },
   "source": [
    "### Patch-level metrics"
   ]
  },
  {
   "cell_type": "markdown",
   "metadata": {
    "ein.tags": "worksheet-0",
    "slideshow": {
     "slide_type": "-"
    }
   },
   "source": [
    "The metrics can be computed at the patch level, that is, for each patch of the landscape:"
   ]
  },
  {
   "cell_type": "code",
   "execution_count": 4,
   "metadata": {
    "autoscroll": false,
    "ein.hycell": false,
    "ein.tags": "worksheet-0",
    "slideshow": {
     "slide_type": "-"
    }
   },
   "outputs": [
    {
     "data": {
      "text/html": [
       "<div>\n",
       "<style scoped>\n",
       "    .dataframe tbody tr th:only-of-type {\n",
       "        vertical-align: middle;\n",
       "    }\n",
       "\n",
       "    .dataframe tbody tr th {\n",
       "        vertical-align: top;\n",
       "    }\n",
       "\n",
       "    .dataframe thead th {\n",
       "        text-align: right;\n",
       "    }\n",
       "</style>\n",
       "<table border=\"1\" class=\"dataframe\">\n",
       "  <thead>\n",
       "    <tr style=\"text-align: right;\">\n",
       "      <th></th>\n",
       "      <th>class_val</th>\n",
       "      <th>area</th>\n",
       "      <th>perimeter</th>\n",
       "      <th>perimeter_area_ratio</th>\n",
       "      <th>shape_index</th>\n",
       "      <th>fractal_dimension</th>\n",
       "      <th>euclidean_nearest_neighbor</th>\n",
       "    </tr>\n",
       "    <tr>\n",
       "      <th>patch_id</th>\n",
       "      <th></th>\n",
       "      <th></th>\n",
       "      <th></th>\n",
       "      <th></th>\n",
       "      <th></th>\n",
       "      <th></th>\n",
       "      <th></th>\n",
       "    </tr>\n",
       "  </thead>\n",
       "  <tbody>\n",
       "    <tr>\n",
       "      <th>0</th>\n",
       "      <td>1</td>\n",
       "      <td>115.0</td>\n",
       "      <td>10600.0</td>\n",
       "      <td>92.173913</td>\n",
       "      <td>2.409091</td>\n",
       "      <td>1.129654</td>\n",
       "      <td>1431.782106</td>\n",
       "    </tr>\n",
       "    <tr>\n",
       "      <th>1</th>\n",
       "      <td>1</td>\n",
       "      <td>13.0</td>\n",
       "      <td>2600.0</td>\n",
       "      <td>200.000000</td>\n",
       "      <td>1.625000</td>\n",
       "      <td>1.100096</td>\n",
       "      <td>223.606798</td>\n",
       "    </tr>\n",
       "    <tr>\n",
       "      <th>2</th>\n",
       "      <td>1</td>\n",
       "      <td>2.0</td>\n",
       "      <td>600.0</td>\n",
       "      <td>300.000000</td>\n",
       "      <td>1.000000</td>\n",
       "      <td>1.011893</td>\n",
       "      <td>223.606798</td>\n",
       "    </tr>\n",
       "    <tr>\n",
       "      <th>3</th>\n",
       "      <td>1</td>\n",
       "      <td>69.0</td>\n",
       "      <td>6000.0</td>\n",
       "      <td>86.956522</td>\n",
       "      <td>1.764706</td>\n",
       "      <td>1.087917</td>\n",
       "      <td>316.227766</td>\n",
       "    </tr>\n",
       "    <tr>\n",
       "      <th>4</th>\n",
       "      <td>1</td>\n",
       "      <td>76.0</td>\n",
       "      <td>8800.0</td>\n",
       "      <td>115.789474</td>\n",
       "      <td>2.444444</td>\n",
       "      <td>1.136721</td>\n",
       "      <td>316.227766</td>\n",
       "    </tr>\n",
       "  </tbody>\n",
       "</table>\n",
       "</div>"
      ],
      "text/plain": [
       "          class_val   area  perimeter  perimeter_area_ratio  shape_index  \\\n",
       "patch_id                                                                   \n",
       "0                 1  115.0    10600.0             92.173913     2.409091   \n",
       "1                 1   13.0     2600.0            200.000000     1.625000   \n",
       "2                 1    2.0      600.0            300.000000     1.000000   \n",
       "3                 1   69.0     6000.0             86.956522     1.764706   \n",
       "4                 1   76.0     8800.0            115.789474     2.444444   \n",
       "\n",
       "          fractal_dimension  euclidean_nearest_neighbor  \n",
       "patch_id                                                 \n",
       "0                  1.129654                 1431.782106  \n",
       "1                  1.100096                  223.606798  \n",
       "2                  1.011893                  223.606798  \n",
       "3                  1.087917                  316.227766  \n",
       "4                  1.136721                  316.227766  "
      ]
     },
     "execution_count": 4,
     "metadata": {},
     "output_type": "execute_result"
    }
   ],
   "source": [
    "patch_metrics_df = ls.compute_patch_metrics_df()\n",
    "patch_metrics_df.head()"
   ]
  },
  {
   "cell_type": "markdown",
   "metadata": {
    "ein.tags": "worksheet-0",
    "slideshow": {
     "slide_type": "-"
    }
   },
   "source": [
    "We can operate upon `patch_metrics_df` as with any other pandas DataFrame. In this case, there are 206 patches, of which 193 are *urban* and 13 *non-urban*, as noted respectively by the values of 1 and 2 within the `class_val` column:"
   ]
  },
  {
   "cell_type": "code",
   "execution_count": 5,
   "metadata": {
    "autoscroll": false,
    "ein.hycell": false,
    "ein.tags": "worksheet-0",
    "slideshow": {
     "slide_type": "-"
    }
   },
   "outputs": [
    {
     "data": {
      "text/plain": [
       "1    193\n",
       "2     13\n",
       "Name: class_val, dtype: int64"
      ]
     },
     "execution_count": 5,
     "metadata": {},
     "output_type": "execute_result"
    }
   ],
   "source": [
    "patch_metrics_df['class_val'].value_counts()"
   ]
  },
  {
   "cell_type": "markdown",
   "metadata": {
    "ein.tags": "worksheet-0",
    "slideshow": {
     "slide_type": "-"
    }
   },
   "source": [
    "We might also use methods from other libraries, such as matplotlib or numpy. For instance, in order to explore the size distribution of patches, we can also plot the distribution of the logarithm of `area` for *urban* and *non-urban* classes as follows:"
   ]
  },
  {
   "cell_type": "code",
   "execution_count": 6,
   "metadata": {
    "autoscroll": false,
    "ein.hycell": false,
    "ein.tags": "worksheet-0",
    "slideshow": {
     "slide_type": "-"
    }
   },
   "outputs": [
    {
     "data": {
      "text/plain": [
       "<matplotlib.legend.Legend at 0x7fa6fce52b38>"
      ]
     },
     "execution_count": 6,
     "metadata": {},
     "output_type": "execute_result"
    },
    {
     "data": {
      "image/png": "[encoded data removed]",
      "text/plain": [
       "<Figure size 432x288 with 1 Axes>"
      ]
     },
     "metadata": {
      "needs_background": "light"
     },
     "output_type": "display_data"
    }
   ],
   "source": [
    "import matplotlib as mpl\n",
    "import numpy as np\n",
    "\n",
    "ax = patch_metrics_df[patch_metrics_df['class_val'] == 1].apply(np.log10).hist(\n",
    "    column='area', label='urban', density=True)\n",
    "ax = patch_metrics_df[patch_metrics_df['class_val'] == 2].apply(np.log10).hist(\n",
    "    column='area', ax=ax, label='non-urban', density=True)\n",
    "\n",
    "ax[0].get_xaxis().set_major_formatter(\n",
    "    mpl.ticker.FuncFormatter(lambda x, p: '10^%d' % x))\n",
    "ax[0].legend()"
   ]
  },
  {
   "cell_type": "markdown",
   "metadata": {
    "ein.tags": "worksheet-0",
    "slideshow": {
     "slide_type": "-"
    }
   },
   "source": [
    "### Class-level metrics"
   ]
  },
  {
   "cell_type": "markdown",
   "metadata": {
    "ein.tags": "worksheet-0",
    "slideshow": {
     "slide_type": "-"
    }
   },
   "source": [
    "The metrics can also be computed at the class level, that is, aggregating over all patches of a land use/cover class"
   ]
  },
  {
   "cell_type": "markdown",
   "metadata": {
    "ein.tags": "worksheet-0",
    "slideshow": {
     "slide_type": "-"
    }
   },
   "source": [
    "<a id='class-metrics-df'></a>"
   ]
  },
  {
   "cell_type": "code",
   "execution_count": 7,
   "metadata": {
    "autoscroll": false,
    "ein.hycell": false,
    "ein.tags": "worksheet-0",
    "slideshow": {
     "slide_type": "-"
    }
   },
   "outputs": [
    {
     "data": {
      "text/html": [
       "<div>\n",
       "<style scoped>\n",
       "    .dataframe tbody tr th:only-of-type {\n",
       "        vertical-align: middle;\n",
       "    }\n",
       "\n",
       "    .dataframe tbody tr th {\n",
       "        vertical-align: top;\n",
       "    }\n",
       "\n",
       "    .dataframe thead th {\n",
       "        text-align: right;\n",
       "    }\n",
       "</style>\n",
       "<table border=\"1\" class=\"dataframe\">\n",
       "  <thead>\n",
       "    <tr style=\"text-align: right;\">\n",
       "      <th></th>\n",
       "      <th>total_area</th>\n",
       "      <th>proportion_of_landscape</th>\n",
       "      <th>number_of_patches</th>\n",
       "      <th>patch_density</th>\n",
       "      <th>largest_patch_index</th>\n",
       "      <th>total_edge</th>\n",
       "      <th>edge_density</th>\n",
       "      <th>landscape_shape_index</th>\n",
       "      <th>area_mn</th>\n",
       "      <th>area_am</th>\n",
       "      <th>...</th>\n",
       "      <th>fractal_dimension_md</th>\n",
       "      <th>fractal_dimension_ra</th>\n",
       "      <th>fractal_dimension_sd</th>\n",
       "      <th>fractal_dimension_cv</th>\n",
       "      <th>euclidean_nearest_neighbor_mn</th>\n",
       "      <th>euclidean_nearest_neighbor_am</th>\n",
       "      <th>euclidean_nearest_neighbor_md</th>\n",
       "      <th>euclidean_nearest_neighbor_ra</th>\n",
       "      <th>euclidean_nearest_neighbor_sd</th>\n",
       "      <th>euclidean_nearest_neighbor_cv</th>\n",
       "    </tr>\n",
       "    <tr>\n",
       "      <th>class_val</th>\n",
       "      <th></th>\n",
       "      <th></th>\n",
       "      <th></th>\n",
       "      <th></th>\n",
       "      <th></th>\n",
       "      <th></th>\n",
       "      <th></th>\n",
       "      <th></th>\n",
       "      <th></th>\n",
       "      <th></th>\n",
       "      <th></th>\n",
       "      <th></th>\n",
       "      <th></th>\n",
       "      <th></th>\n",
       "      <th></th>\n",
       "      <th></th>\n",
       "      <th></th>\n",
       "      <th></th>\n",
       "      <th></th>\n",
       "      <th></th>\n",
       "      <th></th>\n",
       "    </tr>\n",
       "  </thead>\n",
       "  <tbody>\n",
       "    <tr>\n",
       "      <th>1</th>\n",
       "      <td>24729.0</td>\n",
       "      <td>7.701939</td>\n",
       "      <td>193</td>\n",
       "      <td>0.060111</td>\n",
       "      <td>2.069921</td>\n",
       "      <td>1431600.0</td>\n",
       "      <td>4.458771</td>\n",
       "      <td>22.949206</td>\n",
       "      <td>128.129534</td>\n",
       "      <td>2201.712038</td>\n",
       "      <td>...</td>\n",
       "      <td>1.081665</td>\n",
       "      <td>0.200096</td>\n",
       "      <td>0.035772</td>\n",
       "      <td>3.298134</td>\n",
       "      <td>1023.354950</td>\n",
       "      <td>707.998485</td>\n",
       "      <td>781.024968</td>\n",
       "      <td>6772.087205</td>\n",
       "      <td>879.913199</td>\n",
       "      <td>85.983187</td>\n",
       "    </tr>\n",
       "    <tr>\n",
       "      <th>2</th>\n",
       "      <td>296346.0</td>\n",
       "      <td>92.298061</td>\n",
       "      <td>13</td>\n",
       "      <td>0.004049</td>\n",
       "      <td>89.451374</td>\n",
       "      <td>1431600.0</td>\n",
       "      <td>4.458771</td>\n",
       "      <td>10.053260</td>\n",
       "      <td>22795.846154</td>\n",
       "      <td>278596.402199</td>\n",
       "      <td>...</td>\n",
       "      <td>1.069990</td>\n",
       "      <td>0.206571</td>\n",
       "      <td>0.056823</td>\n",
       "      <td>5.322120</td>\n",
       "      <td>246.645899</td>\n",
       "      <td>202.442542</td>\n",
       "      <td>223.606798</td>\n",
       "      <td>116.227766</td>\n",
       "      <td>38.386100</td>\n",
       "      <td>15.563243</td>\n",
       "    </tr>\n",
       "  </tbody>\n",
       "</table>\n",
       "<p>2 rows × 38 columns</p>\n",
       "</div>"
      ],
      "text/plain": [
       "           total_area  proportion_of_landscape  number_of_patches  \\\n",
       "class_val                                                           \n",
       "1             24729.0                 7.701939                193   \n",
       "2            296346.0                92.298061                 13   \n",
       "\n",
       "           patch_density  largest_patch_index  total_edge  edge_density  \\\n",
       "class_val                                                                 \n",
       "1               0.060111             2.069921   1431600.0      4.458771   \n",
       "2               0.004049            89.451374   1431600.0      4.458771   \n",
       "\n",
       "           landscape_shape_index       area_mn        area_am  ...  \\\n",
       "class_val                                                      ...   \n",
       "1                      22.949206    128.129534    2201.712038  ...   \n",
       "2                      10.053260  22795.846154  278596.402199  ...   \n",
       "\n",
       "           fractal_dimension_md  fractal_dimension_ra  fractal_dimension_sd  \\\n",
       "class_val                                                                     \n",
       "1                      1.081665              0.200096              0.035772   \n",
       "2                      1.069990              0.206571              0.056823   \n",
       "\n",
       "           fractal_dimension_cv  euclidean_nearest_neighbor_mn  \\\n",
       "class_val                                                        \n",
       "1                      3.298134                    1023.354950   \n",
       "2                      5.322120                     246.645899   \n",
       "\n",
       "           euclidean_nearest_neighbor_am  euclidean_nearest_neighbor_md  \\\n",
       "class_val                                                                 \n",
       "1                             707.998485                     781.024968   \n",
       "2                             202.442542                     223.606798   \n",
       "\n",
       "           euclidean_nearest_neighbor_ra  euclidean_nearest_neighbor_sd  \\\n",
       "class_val                                                                 \n",
       "1                            6772.087205                     879.913199   \n",
       "2                             116.227766                      38.386100   \n",
       "\n",
       "           euclidean_nearest_neighbor_cv  \n",
       "class_val                                 \n",
       "1                              85.983187  \n",
       "2                              15.563243  \n",
       "\n",
       "[2 rows x 38 columns]"
      ]
     },
     "execution_count": 7,
     "metadata": {},
     "output_type": "execute_result"
    }
   ],
   "source": [
    "class_metrics_df = ls.compute_class_metrics_df()\n",
    "class_metrics_df"
   ]
  },
  {
   "cell_type": "markdown",
   "metadata": {
    "ein.tags": "worksheet-0",
    "slideshow": {
     "slide_type": "-"
    }
   },
   "source": [
    "### Landscape-level metrics"
   ]
  },
  {
   "cell_type": "markdown",
   "metadata": {
    "ein.tags": "worksheet-0",
    "slideshow": {
     "slide_type": "-"
    }
   },
   "source": [
    "Finally, the metrics can also be computed at the landscape level, that is, aggregating over all patches of the landscape"
   ]
  },
  {
   "cell_type": "code",
   "execution_count": 8,
   "metadata": {
    "autoscroll": false,
    "ein.hycell": false,
    "ein.tags": "worksheet-0",
    "slideshow": {
     "slide_type": "-"
    }
   },
   "outputs": [
    {
     "data": {
      "text/html": [
       "<div>\n",
       "<style scoped>\n",
       "    .dataframe tbody tr th:only-of-type {\n",
       "        vertical-align: middle;\n",
       "    }\n",
       "\n",
       "    .dataframe tbody tr th {\n",
       "        vertical-align: top;\n",
       "    }\n",
       "\n",
       "    .dataframe thead th {\n",
       "        text-align: right;\n",
       "    }\n",
       "</style>\n",
       "<table border=\"1\" class=\"dataframe\">\n",
       "  <thead>\n",
       "    <tr style=\"text-align: right;\">\n",
       "      <th></th>\n",
       "      <th>total_area</th>\n",
       "      <th>number_of_patches</th>\n",
       "      <th>patch_density</th>\n",
       "      <th>largest_patch_index</th>\n",
       "      <th>total_edge</th>\n",
       "      <th>edge_density</th>\n",
       "      <th>landscape_shape_index</th>\n",
       "      <th>area_mn</th>\n",
       "      <th>area_am</th>\n",
       "      <th>area_md</th>\n",
       "      <th>...</th>\n",
       "      <th>fractal_dimension_sd</th>\n",
       "      <th>fractal_dimension_cv</th>\n",
       "      <th>euclidean_nearest_neighbor_mn</th>\n",
       "      <th>euclidean_nearest_neighbor_am</th>\n",
       "      <th>euclidean_nearest_neighbor_md</th>\n",
       "      <th>euclidean_nearest_neighbor_ra</th>\n",
       "      <th>euclidean_nearest_neighbor_sd</th>\n",
       "      <th>euclidean_nearest_neighbor_cv</th>\n",
       "      <th>contagion</th>\n",
       "      <th>shannon_diversity_index</th>\n",
       "    </tr>\n",
       "  </thead>\n",
       "  <tbody>\n",
       "    <tr>\n",
       "      <th>0</th>\n",
       "      <td>321075.0</td>\n",
       "      <td>206</td>\n",
       "      <td>0.064159</td>\n",
       "      <td>89.451374</td>\n",
       "      <td>1431600.0</td>\n",
       "      <td>4.458771</td>\n",
       "      <td>9.716931</td>\n",
       "      <td>1558.616505</td>\n",
       "      <td>257308.652318</td>\n",
       "      <td>43.0</td>\n",
       "      <td>...</td>\n",
       "      <td>0.037678</td>\n",
       "      <td>3.477259</td>\n",
       "      <td>974.33933</td>\n",
       "      <td>241.380151</td>\n",
       "      <td>700.0</td>\n",
       "      <td>6772.087205</td>\n",
       "      <td>872.438139</td>\n",
       "      <td>89.541509</td>\n",
       "      <td>73.40177</td>\n",
       "      <td>0.271429</td>\n",
       "    </tr>\n",
       "  </tbody>\n",
       "</table>\n",
       "<p>1 rows × 39 columns</p>\n",
       "</div>"
      ],
      "text/plain": [
       "   total_area  number_of_patches  patch_density  largest_patch_index  \\\n",
       "0    321075.0                206       0.064159            89.451374   \n",
       "\n",
       "   total_edge  edge_density  landscape_shape_index      area_mn  \\\n",
       "0   1431600.0      4.458771               9.716931  1558.616505   \n",
       "\n",
       "         area_am  area_md  ...  fractal_dimension_sd  fractal_dimension_cv  \\\n",
       "0  257308.652318     43.0  ...              0.037678              3.477259   \n",
       "\n",
       "   euclidean_nearest_neighbor_mn  euclidean_nearest_neighbor_am  \\\n",
       "0                      974.33933                     241.380151   \n",
       "\n",
       "   euclidean_nearest_neighbor_md  euclidean_nearest_neighbor_ra  \\\n",
       "0                          700.0                    6772.087205   \n",
       "\n",
       "   euclidean_nearest_neighbor_sd  euclidean_nearest_neighbor_cv  contagion  \\\n",
       "0                     872.438139                      89.541509   73.40177   \n",
       "\n",
       "   shannon_diversity_index  \n",
       "0                 0.271429  \n",
       "\n",
       "[1 rows x 39 columns]"
      ]
     },
     "execution_count": 8,
     "metadata": {},
     "output_type": "execute_result"
    }
   ],
   "source": [
    "landscape_metrics_df = ls.compute_landscape_metrics_df()\n",
    "landscape_metrics_df"
   ]
  },
  {
   "cell_type": "markdown",
   "metadata": {
    "ein.tags": "worksheet-0",
    "slideshow": {
     "slide_type": "-"
    }
   },
   "source": [
    "## Customizing the metrics DataFrames"
   ]
  },
  {
   "cell_type": "markdown",
   "metadata": {
    "ein.tags": "worksheet-0",
    "slideshow": {
     "slide_type": "-"
    }
   },
   "source": [
    "### Selecting the metrics to compute"
   ]
  },
  {
   "cell_type": "markdown",
   "metadata": {
    "ein.tags": "worksheet-0",
    "slideshow": {
     "slide_type": "-"
    }
   },
   "source": [
    "Some metrics can be expensive to compute. If you are only interested in computing a subset of the metrics implemented within PyLandStats, you can specify it in each respective method, that is, `Landscape.compute_patch_metrics_df`, `Landscape.compute_patch_metrics_df` and/or `Landscape.compute_class_metrics_df` through the `metrics` argument (see [the documentation on \"Computing metrics data frames\"](https://pylandstats.readthedocs.io/en/latest/landscape.html#computing-metrics-data-frames). For instance:"
   ]
  },
  {
   "cell_type": "markdown",
   "metadata": {
    "ein.tags": "worksheet-0",
    "slideshow": {
     "slide_type": "-"
    }
   },
   "source": [
    "<a id='subset-class-metrics-df'></a>"
   ]
  },
  {
   "cell_type": "code",
   "execution_count": 9,
   "metadata": {
    "autoscroll": false,
    "ein.hycell": false,
    "ein.tags": "worksheet-0",
    "slideshow": {
     "slide_type": "-"
    }
   },
   "outputs": [
    {
     "data": {
      "text/html": [
       "<div>\n",
       "<style scoped>\n",
       "    .dataframe tbody tr th:only-of-type {\n",
       "        vertical-align: middle;\n",
       "    }\n",
       "\n",
       "    .dataframe tbody tr th {\n",
       "        vertical-align: top;\n",
       "    }\n",
       "\n",
       "    .dataframe thead th {\n",
       "        text-align: right;\n",
       "    }\n",
       "</style>\n",
       "<table border=\"1\" class=\"dataframe\">\n",
       "  <thead>\n",
       "    <tr style=\"text-align: right;\">\n",
       "      <th></th>\n",
       "      <th>proportion_of_landscape</th>\n",
       "      <th>edge_density</th>\n",
       "    </tr>\n",
       "    <tr>\n",
       "      <th>class_val</th>\n",
       "      <th></th>\n",
       "      <th></th>\n",
       "    </tr>\n",
       "  </thead>\n",
       "  <tbody>\n",
       "    <tr>\n",
       "      <th>1</th>\n",
       "      <td>7.701939</td>\n",
       "      <td>4.458771</td>\n",
       "    </tr>\n",
       "    <tr>\n",
       "      <th>2</th>\n",
       "      <td>92.298061</td>\n",
       "      <td>4.458771</td>\n",
       "    </tr>\n",
       "  </tbody>\n",
       "</table>\n",
       "</div>"
      ],
      "text/plain": [
       "           proportion_of_landscape  edge_density\n",
       "class_val                                       \n",
       "1                         7.701939      4.458771\n",
       "2                        92.298061      4.458771"
      ]
     },
     "execution_count": 9,
     "metadata": {},
     "output_type": "execute_result"
    }
   ],
   "source": [
    "subset_class_metrics_df = ls.compute_class_metrics_df(\n",
    "    metrics=['proportion_of_landscape', 'edge_density'])\n",
    "subset_class_metrics_df"
   ]
  },
  {
   "cell_type": "markdown",
   "metadata": {
    "ein.tags": "worksheet-0",
    "slideshow": {
     "slide_type": "-"
    }
   },
   "source": [
    "### Customizing how each metric is computed"
   ]
  },
  {
   "cell_type": "markdown",
   "metadata": {
    "ein.tags": "worksheet-0",
    "slideshow": {
     "slide_type": "-"
    }
   },
   "source": [
    "The default arguments correspond to how the metrics are defined within FRAGSTATS. Nevertheless, some metrics allow some variations in their definition. For instance, the `edge_density` above allows us to choose whether we consider the landscape boundary to be an edge (by default, as in FRAGSTATS, we do not, since we only consider edges between land use/cover classes), or whether we want the area to be converted to hectares (by default, as in FRAGSTATS, we do)."
   ]
  },
  {
   "cell_type": "code",
   "execution_count": 10,
   "metadata": {
    "autoscroll": false,
    "ein.hycell": false,
    "ein.tags": "worksheet-0",
    "slideshow": {
     "slide_type": "-"
    }
   },
   "outputs": [
    {
     "name": "stdout",
     "output_type": "stream",
     "text": [
      "Edge density (without boundary, meters of edge per hectare):\n",
      "4.4587713151132915\n",
      "\n",
      "Edge density (with boundary, meters of edge per hectare):\n",
      "6.863816865218407\n",
      "\n",
      "Edge density (with boundary, meters of edge per square meter):\n",
      "0.0006863816865218407\n"
     ]
    }
   ],
   "source": [
    "print(\n",
    "    \"Edge density (without boundary, meters of edge per hectare):\\n{}\\n\" \\\n",
    "    .format(ls.edge_density()))\n",
    "\n",
    "print(\n",
    "    \"Edge density (with boundary, meters of edge per hectare):\\n{}\\n\" \\\n",
    "    .format(ls.edge_density(count_boundary=True)))\n",
    "\n",
    "print(\n",
    "    \"Edge density (with boundary, meters of edge per square meter):\\n{}\" \\\n",
    "    .format(ls.edge_density(count_boundary=True, hectares=False)))"
   ]
  },
  {
   "cell_type": "markdown",
   "metadata": {
    "ein.tags": "worksheet-0",
    "slideshow": {
     "slide_type": "-"
    }
   },
   "source": [
    "For more details, see the documentation for each metric's method.\n",
    "\n",
    "If we want to obtain a patch, class or landscape-level DataFrame with some customized metrics, instead of manually calling each metric's method with its respective parameters, we can use the `metrics_kws` argument of the `Landscape.compute_patch_metrics_df`, `Landscape.compute_patch_metrics_df` and/or `Landscape.compute_class_metrics_df` to set the keyword arguments to be passed to the some metric methods. For instance, if we wanted `proportion_of_landscape` as a fraction instead of a percentage and `edge_density` to include the boundary, we can do it as follows:"
   ]
  },
  {
   "cell_type": "code",
   "execution_count": 11,
   "metadata": {
    "autoscroll": false,
    "ein.hycell": false,
    "ein.tags": "worksheet-0",
    "slideshow": {
     "slide_type": "-"
    }
   },
   "outputs": [
    {
     "data": {
      "text/html": [
       "<div>\n",
       "<style scoped>\n",
       "    .dataframe tbody tr th:only-of-type {\n",
       "        vertical-align: middle;\n",
       "    }\n",
       "\n",
       "    .dataframe tbody tr th {\n",
       "        vertical-align: top;\n",
       "    }\n",
       "\n",
       "    .dataframe thead th {\n",
       "        text-align: right;\n",
       "    }\n",
       "</style>\n",
       "<table border=\"1\" class=\"dataframe\">\n",
       "  <thead>\n",
       "    <tr style=\"text-align: right;\">\n",
       "      <th></th>\n",
       "      <th>total_area</th>\n",
       "      <th>proportion_of_landscape</th>\n",
       "      <th>number_of_patches</th>\n",
       "      <th>patch_density</th>\n",
       "      <th>largest_patch_index</th>\n",
       "      <th>total_edge</th>\n",
       "      <th>edge_density</th>\n",
       "      <th>landscape_shape_index</th>\n",
       "      <th>area_mn</th>\n",
       "      <th>area_am</th>\n",
       "      <th>...</th>\n",
       "      <th>fractal_dimension_md</th>\n",
       "      <th>fractal_dimension_ra</th>\n",
       "      <th>fractal_dimension_sd</th>\n",
       "      <th>fractal_dimension_cv</th>\n",
       "      <th>euclidean_nearest_neighbor_mn</th>\n",
       "      <th>euclidean_nearest_neighbor_am</th>\n",
       "      <th>euclidean_nearest_neighbor_md</th>\n",
       "      <th>euclidean_nearest_neighbor_ra</th>\n",
       "      <th>euclidean_nearest_neighbor_sd</th>\n",
       "      <th>euclidean_nearest_neighbor_cv</th>\n",
       "    </tr>\n",
       "    <tr>\n",
       "      <th>class_val</th>\n",
       "      <th></th>\n",
       "      <th></th>\n",
       "      <th></th>\n",
       "      <th></th>\n",
       "      <th></th>\n",
       "      <th></th>\n",
       "      <th></th>\n",
       "      <th></th>\n",
       "      <th></th>\n",
       "      <th></th>\n",
       "      <th></th>\n",
       "      <th></th>\n",
       "      <th></th>\n",
       "      <th></th>\n",
       "      <th></th>\n",
       "      <th></th>\n",
       "      <th></th>\n",
       "      <th></th>\n",
       "      <th></th>\n",
       "      <th></th>\n",
       "      <th></th>\n",
       "    </tr>\n",
       "  </thead>\n",
       "  <tbody>\n",
       "    <tr>\n",
       "      <th>1</th>\n",
       "      <td>24729.0</td>\n",
       "      <td>0.077019</td>\n",
       "      <td>193</td>\n",
       "      <td>0.060111</td>\n",
       "      <td>2.069921</td>\n",
       "      <td>1431600.0</td>\n",
       "      <td>4.502998</td>\n",
       "      <td>22.949206</td>\n",
       "      <td>128.129534</td>\n",
       "      <td>2201.712038</td>\n",
       "      <td>...</td>\n",
       "      <td>1.081665</td>\n",
       "      <td>0.200096</td>\n",
       "      <td>0.035772</td>\n",
       "      <td>3.298134</td>\n",
       "      <td>1023.354950</td>\n",
       "      <td>707.998485</td>\n",
       "      <td>781.024968</td>\n",
       "      <td>6772.087205</td>\n",
       "      <td>879.913199</td>\n",
       "      <td>85.983187</td>\n",
       "    </tr>\n",
       "    <tr>\n",
       "      <th>2</th>\n",
       "      <td>296346.0</td>\n",
       "      <td>0.922981</td>\n",
       "      <td>13</td>\n",
       "      <td>0.004049</td>\n",
       "      <td>89.451374</td>\n",
       "      <td>1431600.0</td>\n",
       "      <td>6.819590</td>\n",
       "      <td>10.053260</td>\n",
       "      <td>22795.846154</td>\n",
       "      <td>278596.402199</td>\n",
       "      <td>...</td>\n",
       "      <td>1.069990</td>\n",
       "      <td>0.206571</td>\n",
       "      <td>0.056823</td>\n",
       "      <td>5.322120</td>\n",
       "      <td>246.645899</td>\n",
       "      <td>202.442542</td>\n",
       "      <td>223.606798</td>\n",
       "      <td>116.227766</td>\n",
       "      <td>38.386100</td>\n",
       "      <td>15.563243</td>\n",
       "    </tr>\n",
       "  </tbody>\n",
       "</table>\n",
       "<p>2 rows × 38 columns</p>\n",
       "</div>"
      ],
      "text/plain": [
       "           total_area  proportion_of_landscape  number_of_patches  \\\n",
       "class_val                                                           \n",
       "1             24729.0                 0.077019                193   \n",
       "2            296346.0                 0.922981                 13   \n",
       "\n",
       "           patch_density  largest_patch_index  total_edge  edge_density  \\\n",
       "class_val                                                                 \n",
       "1               0.060111             2.069921   1431600.0      4.502998   \n",
       "2               0.004049            89.451374   1431600.0      6.819590   \n",
       "\n",
       "           landscape_shape_index       area_mn        area_am  ...  \\\n",
       "class_val                                                      ...   \n",
       "1                      22.949206    128.129534    2201.712038  ...   \n",
       "2                      10.053260  22795.846154  278596.402199  ...   \n",
       "\n",
       "           fractal_dimension_md  fractal_dimension_ra  fractal_dimension_sd  \\\n",
       "class_val                                                                     \n",
       "1                      1.081665              0.200096              0.035772   \n",
       "2                      1.069990              0.206571              0.056823   \n",
       "\n",
       "           fractal_dimension_cv  euclidean_nearest_neighbor_mn  \\\n",
       "class_val                                                        \n",
       "1                      3.298134                    1023.354950   \n",
       "2                      5.322120                     246.645899   \n",
       "\n",
       "           euclidean_nearest_neighbor_am  euclidean_nearest_neighbor_md  \\\n",
       "class_val                                                                 \n",
       "1                             707.998485                     781.024968   \n",
       "2                             202.442542                     223.606798   \n",
       "\n",
       "           euclidean_nearest_neighbor_ra  euclidean_nearest_neighbor_sd  \\\n",
       "class_val                                                                 \n",
       "1                            6772.087205                     879.913199   \n",
       "2                             116.227766                      38.386100   \n",
       "\n",
       "           euclidean_nearest_neighbor_cv  \n",
       "class_val                                 \n",
       "1                              85.983187  \n",
       "2                              15.563243  \n",
       "\n",
       "[2 rows x 38 columns]"
      ]
     },
     "execution_count": 11,
     "metadata": {},
     "output_type": "execute_result"
    }
   ],
   "source": [
    "custom_class_metrics_df = ls.compute_class_metrics_df(\n",
    "    metrics_kws={\n",
    "        'proportion_of_landscape': {'percent': False},\n",
    "        'edge_density': {'count_boundary': True}\n",
    "    })\n",
    "custom_class_metrics_df"
   ]
  },
  {
   "cell_type": "markdown",
   "metadata": {
    "ein.tags": "worksheet-0",
    "slideshow": {
     "slide_type": "-"
    }
   },
   "source": [
    "Note that the values for `proportion_of_landscape` and `edge_density` are different now than when we computed them with the default arguments for their respective methods (in the [class_metrics_df](#class-metrics-df) and [subset_class_metrics_df](#subset-class-metrics-df) above).\n",
    "\n",
    "Note also that the `custom_class_metrics_df` does not only feature `proportion_of_landscape` and `edge_density` but features all the available metrics instead. This is because the `metrics_kws` argument does not imply that only the the metrics defined on it will be computed, only that the metrics defined on it will be computed with the specified arguments.\n",
    "\n",
    "We might choose to only compute a reduced set of metrics, some of which with non-default arguments, by setting both the `metrics` and `metric_kws` arguments:"
   ]
  },
  {
   "cell_type": "code",
   "execution_count": 12,
   "metadata": {
    "autoscroll": false,
    "ein.hycell": false,
    "ein.tags": "worksheet-0",
    "slideshow": {
     "slide_type": "-"
    }
   },
   "outputs": [
    {
     "data": {
      "text/html": [
       "<div>\n",
       "<style scoped>\n",
       "    .dataframe tbody tr th:only-of-type {\n",
       "        vertical-align: middle;\n",
       "    }\n",
       "\n",
       "    .dataframe tbody tr th {\n",
       "        vertical-align: top;\n",
       "    }\n",
       "\n",
       "    .dataframe thead th {\n",
       "        text-align: right;\n",
       "    }\n",
       "</style>\n",
       "<table border=\"1\" class=\"dataframe\">\n",
       "  <thead>\n",
       "    <tr style=\"text-align: right;\">\n",
       "      <th></th>\n",
       "      <th>proportion_of_landscape</th>\n",
       "      <th>edge_density</th>\n",
       "      <th>fractal_dimension_am</th>\n",
       "    </tr>\n",
       "    <tr>\n",
       "      <th>class_val</th>\n",
       "      <th></th>\n",
       "      <th></th>\n",
       "      <th></th>\n",
       "    </tr>\n",
       "  </thead>\n",
       "  <tbody>\n",
       "    <tr>\n",
       "      <th>1</th>\n",
       "      <td>0.077019</td>\n",
       "      <td>4.502998</td>\n",
       "      <td>1.129561</td>\n",
       "    </tr>\n",
       "    <tr>\n",
       "      <th>2</th>\n",
       "      <td>0.922981</td>\n",
       "      <td>6.819590</td>\n",
       "      <td>1.204003</td>\n",
       "    </tr>\n",
       "  </tbody>\n",
       "</table>\n",
       "</div>"
      ],
      "text/plain": [
       "           proportion_of_landscape  edge_density  fractal_dimension_am\n",
       "class_val                                                             \n",
       "1                         0.077019      4.502998              1.129561\n",
       "2                         0.922981      6.819590              1.204003"
      ]
     },
     "execution_count": 12,
     "metadata": {},
     "output_type": "execute_result"
    }
   ],
   "source": [
    "custom_subset_class_metrics_df = ls.compute_class_metrics_df(\n",
    "    metrics=[\n",
    "        'proportion_of_landscape', 'edge_density', 'fractal_dimension_am'],\n",
    "    metrics_kws={\n",
    "        'proportion_of_landscape': {'percent': False}, \n",
    "        'edge_density': {'count_boundary': True}\n",
    "    })\n",
    "custom_subset_class_metrics_df"
   ]
  },
  {
   "cell_type": "markdown",
   "metadata": {
    "ein.tags": "worksheet-0",
    "slideshow": {
     "slide_type": "-"
    }
   },
   "source": [
    "The same could be done for the `Landscape.compute_patch_metrics_df` or `Landscape.compute_landscape_metrics_df` methods. Check the documentation of each metric's method for more details on how they might be customized through their arguments."
   ]
  }
 ],
 "metadata": {
  "kernelspec": {
   "display_name": "Python (pylandstats)",
   "language": "python",
   "name": "pylandstats"
  },
  "language_info": {
   "codemirror_mode": {
    "name": "ipython",
    "version": 3
   },
   "file_extension": ".py",
   "mimetype": "text/x-python",
   "name": "python",
   "nbconvert_exporter": "python",
   "pygments_lexer": "ipython3",
   "version": "3.6.7"
  },
  "name": "01-landscape-analysis.ipynb"
 },
 "nbformat": 4,
 "nbformat_minor": 2
}
