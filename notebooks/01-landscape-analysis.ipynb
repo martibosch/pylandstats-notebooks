{
 "cells": [
  {
   "cell_type": "markdown",
   "metadata": {
    "ein.tags": "worksheet-0",
    "slideshow": {
     "slide_type": "-"
    }
   },
   "source": [
    "# Landscape analysis"
   ]
  },
  {
   "cell_type": "code",
   "execution_count": null,
   "metadata": {
    "autoscroll": false,
    "ein.hycell": false,
    "ein.tags": "worksheet-0",
    "slideshow": {
     "slide_type": "-"
    }
   },
   "outputs": [],
   "source": [
    "import matplotlib as mpl\n",
    "import numpy as np\n",
    "import swisslandstats as sls\n",
    "\n",
    "import pylandstats as pls"
   ]
  },
  {
   "cell_type": "markdown",
   "metadata": {},
   "source": [
    "Running the cell below is required so that the land use/land cover (LULC) data is downloaded and preprocessed (see [A03-swisslandstats-preprocessing.ipynb](https://github.com/martibosch/pylandstats-notebooks/blob/master/notebooks/A03-swisslandstats-preprocessing.ipynb) for more details)."
   ]
  },
  {
   "cell_type": "code",
   "execution_count": null,
   "metadata": {},
   "outputs": [],
   "source": [
    "!cd .. && snakemake -c1 lulc_rasters && cd notebooks"
   ]
  },
  {
   "cell_type": "markdown",
   "metadata": {},
   "source": [
    "We can load our landscape from a GeoTiff file:"
   ]
  },
  {
   "cell_type": "code",
   "execution_count": null,
   "metadata": {},
   "outputs": [],
   "source": [
    "URBAN_CLASS_VAL = 1\n",
    "AGRICULTURAL_CLASS_VAL = 2\n",
    "input_filepath = \"../data/processed/veveyse-AS18_4.tif\""
   ]
  },
  {
   "cell_type": "code",
   "execution_count": null,
   "metadata": {
    "autoscroll": false,
    "ein.hycell": false,
    "ein.tags": "worksheet-0",
    "slideshow": {
     "slide_type": "-"
    }
   },
   "outputs": [],
   "source": [
    "ls = pls.Landscape(input_filepath)"
   ]
  },
  {
   "cell_type": "markdown",
   "metadata": {
    "ein.tags": "worksheet-0",
    "slideshow": {
     "slide_type": "-"
    }
   },
   "source": [
    "The SLS inventory distinguishes 27 land use/land cover classes, however, to simplify, this repository uses the classification aggregated into four main categories, i.e., *urban* (1), *agricultural* (3) *wooded areas* and (4) *unproductive areas*:"
   ]
  },
  {
   "cell_type": "code",
   "execution_count": null,
   "metadata": {
    "autoscroll": false,
    "ein.hycell": false,
    "ein.tags": "worksheet-0",
    "slideshow": {
     "slide_type": "-"
    }
   },
   "outputs": [
    {
     "data": {
      "text/plain": [
       "<AxesSubplot:>"
      ]
     },
     "execution_count": null,
     "metadata": {},
     "output_type": "execute_result"
    },
    {
     "data": {
      "image/png": "[encoded data removed]",
      "text/plain": [
       "<Figure size 432x288 with 1 Axes>"
      ]
     },
     "metadata": {
      "needs_background": "light"
     },
     "output_type": "display_data"
    }
   ],
   "source": [
    "ls.plot_landscape(cmap=sls.noas04_4_cmap, legend=True)"
   ]
  },
  {
   "cell_type": "markdown",
   "metadata": {
    "ein.tags": "worksheet-0",
    "slideshow": {
     "slide_type": "-"
    }
   },
   "source": [
    "## Computing metrics\n",
    "\n",
    "The metrics can be computed at the patch, class and landscape level (see [the list of implemented metrics](https://pylandstats.readthedocs.io/en/latest/landscape.html#list-of-implemented-metrics))\n",
    "\n",
    "### Patch-level metrics\n",
    "\n",
    "The metrics can be computed at the patch level, that is, for each patch of the landscape:"
   ]
  },
  {
   "cell_type": "code",
   "execution_count": null,
   "metadata": {
    "autoscroll": false,
    "ein.hycell": false,
    "ein.tags": "worksheet-0",
    "slideshow": {
     "slide_type": "-"
    }
   },
   "outputs": [
    {
     "data": {
      "text/html": [
       "<div>\n",
       "<style scoped>\n",
       "    .dataframe tbody tr th:only-of-type {\n",
       "        vertical-align: middle;\n",
       "    }\n",
       "\n",
       "    .dataframe tbody tr th {\n",
       "        vertical-align: top;\n",
       "    }\n",
       "\n",
       "    .dataframe thead th {\n",
       "        text-align: right;\n",
       "    }\n",
       "</style>\n",
       "<table border=\"1\" class=\"dataframe\">\n",
       "  <thead>\n",
       "    <tr style=\"text-align: right;\">\n",
       "      <th></th>\n",
       "      <th>class_val</th>\n",
       "      <th>area</th>\n",
       "      <th>perimeter</th>\n",
       "      <th>perimeter_area_ratio</th>\n",
       "      <th>shape_index</th>\n",
       "      <th>fractal_dimension</th>\n",
       "      <th>euclidean_nearest_neighbor</th>\n",
       "    </tr>\n",
       "    <tr>\n",
       "      <th>patch_id</th>\n",
       "      <th></th>\n",
       "      <th></th>\n",
       "      <th></th>\n",
       "      <th></th>\n",
       "      <th></th>\n",
       "      <th></th>\n",
       "      <th></th>\n",
       "    </tr>\n",
       "  </thead>\n",
       "  <tbody>\n",
       "    <tr>\n",
       "      <th>0</th>\n",
       "      <td>1</td>\n",
       "      <td>1.0</td>\n",
       "      <td>400.0</td>\n",
       "      <td>400.0</td>\n",
       "      <td>1.0</td>\n",
       "      <td>1.0</td>\n",
       "      <td>360.555128</td>\n",
       "    </tr>\n",
       "    <tr>\n",
       "      <th>1</th>\n",
       "      <td>1</td>\n",
       "      <td>1.0</td>\n",
       "      <td>400.0</td>\n",
       "      <td>400.0</td>\n",
       "      <td>1.0</td>\n",
       "      <td>1.0</td>\n",
       "      <td>360.555128</td>\n",
       "    </tr>\n",
       "    <tr>\n",
       "      <th>2</th>\n",
       "      <td>1</td>\n",
       "      <td>1.0</td>\n",
       "      <td>400.0</td>\n",
       "      <td>400.0</td>\n",
       "      <td>1.0</td>\n",
       "      <td>1.0</td>\n",
       "      <td>200.000000</td>\n",
       "    </tr>\n",
       "    <tr>\n",
       "      <th>3</th>\n",
       "      <td>1</td>\n",
       "      <td>1.0</td>\n",
       "      <td>400.0</td>\n",
       "      <td>400.0</td>\n",
       "      <td>1.0</td>\n",
       "      <td>1.0</td>\n",
       "      <td>200.000000</td>\n",
       "    </tr>\n",
       "    <tr>\n",
       "      <th>4</th>\n",
       "      <td>1</td>\n",
       "      <td>1.0</td>\n",
       "      <td>400.0</td>\n",
       "      <td>400.0</td>\n",
       "      <td>1.0</td>\n",
       "      <td>1.0</td>\n",
       "      <td>424.264069</td>\n",
       "    </tr>\n",
       "  </tbody>\n",
       "</table>\n",
       "</div>"
      ],
      "text/plain": [
       "          class_val  area  perimeter  perimeter_area_ratio  shape_index  \\\n",
       "patch_id                                                                  \n",
       "0                 1   1.0      400.0                 400.0          1.0   \n",
       "1                 1   1.0      400.0                 400.0          1.0   \n",
       "2                 1   1.0      400.0                 400.0          1.0   \n",
       "3                 1   1.0      400.0                 400.0          1.0   \n",
       "4                 1   1.0      400.0                 400.0          1.0   \n",
       "\n",
       "          fractal_dimension  euclidean_nearest_neighbor  \n",
       "patch_id                                                 \n",
       "0                       1.0                  360.555128  \n",
       "1                       1.0                  360.555128  \n",
       "2                       1.0                  200.000000  \n",
       "3                       1.0                  200.000000  \n",
       "4                       1.0                  424.264069  "
      ]
     },
     "execution_count": null,
     "metadata": {},
     "output_type": "execute_result"
    }
   ],
   "source": [
    "patch_metrics_df = ls.compute_patch_metrics_df()\n",
    "patch_metrics_df.head()"
   ]
  },
  {
   "cell_type": "markdown",
   "metadata": {
    "ein.tags": "worksheet-0",
    "slideshow": {
     "slide_type": "-"
    }
   },
   "source": [
    "We can operate upon `patch_metrics_df` as with any other pandas DataFrame. In this case, there are 206 patches, of which 193 are *urban* and 13 *non-urban*, as noted respectively by the values of 1 and 2 within the `class_val` column:"
   ]
  },
  {
   "cell_type": "code",
   "execution_count": null,
   "metadata": {
    "autoscroll": false,
    "ein.hycell": false,
    "ein.tags": "worksheet-0",
    "slideshow": {
     "slide_type": "-"
    }
   },
   "outputs": [
    {
     "data": {
      "text/plain": [
       "1    287\n",
       "3    243\n",
       "4     75\n",
       "2     60\n",
       "Name: class_val, dtype: int64"
      ]
     },
     "execution_count": null,
     "metadata": {},
     "output_type": "execute_result"
    }
   ],
   "source": [
    "patch_metrics_df[\"class_val\"].value_counts()"
   ]
  },
  {
   "cell_type": "markdown",
   "metadata": {
    "ein.tags": "worksheet-0",
    "slideshow": {
     "slide_type": "-"
    }
   },
   "source": [
    "We might also use methods from other libraries, such as matplotlib or numpy. For instance, in order to explore the size distribution of patches, we can also plot the distribution of the logarithm of `area` for *urban* and *agricultural* classes as follows:"
   ]
  },
  {
   "cell_type": "code",
   "execution_count": null,
   "metadata": {
    "autoscroll": false,
    "ein.hycell": false,
    "ein.tags": "worksheet-0",
    "slideshow": {
     "slide_type": "-"
    }
   },
   "outputs": [
    {
     "data": {
      "text/plain": [
       "<matplotlib.legend.Legend at 0x7fd2430d2910>"
      ]
     },
     "execution_count": null,
     "metadata": {},
     "output_type": "execute_result"
    },
    {
     "data": {
      "image/png": "[encoded data removed]",
      "text/plain": [
       "<Figure size 432x288 with 1 Axes>"
      ]
     },
     "metadata": {
      "needs_background": "light"
     },
     "output_type": "display_data"
    }
   ],
   "source": [
    "ax = (\n",
    "    patch_metrics_df[patch_metrics_df[\"class_val\"] == URBAN_CLASS_VAL]\n",
    "    .apply(np.log10)\n",
    "    .hist(column=\"area\", label=\"urban\", density=True)\n",
    ")\n",
    "patch_metrics_df[patch_metrics_df[\"class_val\"] == AGRICULTURAL_CLASS_VAL].apply(\n",
    "    np.log10\n",
    ").hist(column=\"area\", ax=ax, label=\"agricultural\", density=True)\n",
    "\n",
    "ax.item().get_xaxis().set_major_formatter(\n",
    "    mpl.ticker.FuncFormatter(lambda x, p: \"10^%d\" % x)\n",
    ")\n",
    "ax.item().legend()"
   ]
  },
  {
   "cell_type": "code",
   "execution_count": null,
   "metadata": {},
   "outputs": [
    {
     "data": {
      "image/png": "[encoded data removed]",
      "text/plain": [
       "<Figure size 432x288 with 1 Axes>"
      ]
     },
     "metadata": {
      "needs_background": "light"
     },
     "output_type": "display_data"
    }
   ],
   "source": [
    "ax = (\n",
    "    patch_metrics_df[patch_metrics_df[\"class_val\"] == 1]\n",
    "    .apply(np.log10)\n",
    "    .hist(column=\"area\", label=\"urban\", density=True)\n",
    ")"
   ]
  },
  {
   "cell_type": "markdown",
   "metadata": {
    "ein.tags": "worksheet-0",
    "slideshow": {
     "slide_type": "-"
    }
   },
   "source": [
    "### Class-level metrics\n",
    "\n",
    "The metrics can also be computed at the class level, that is, aggregating over all patches of a land use/cover class"
   ]
  },
  {
   "cell_type": "markdown",
   "metadata": {
    "ein.tags": "worksheet-0",
    "slideshow": {
     "slide_type": "-"
    }
   },
   "source": [
    "<a id='class-metrics-df'></a>"
   ]
  },
  {
   "cell_type": "code",
   "execution_count": null,
   "metadata": {
    "autoscroll": false,
    "ein.hycell": false,
    "ein.tags": "worksheet-0",
    "slideshow": {
     "slide_type": "-"
    }
   },
   "outputs": [
    {
     "data": {
      "text/html": [
       "<div>\n",
       "<style scoped>\n",
       "    .dataframe tbody tr th:only-of-type {\n",
       "        vertical-align: middle;\n",
       "    }\n",
       "\n",
       "    .dataframe tbody tr th {\n",
       "        vertical-align: top;\n",
       "    }\n",
       "\n",
       "    .dataframe thead th {\n",
       "        text-align: right;\n",
       "    }\n",
       "</style>\n",
       "<table border=\"1\" class=\"dataframe\">\n",
       "  <thead>\n",
       "    <tr style=\"text-align: right;\">\n",
       "      <th></th>\n",
       "      <th>total_area</th>\n",
       "      <th>proportion_of_landscape</th>\n",
       "      <th>number_of_patches</th>\n",
       "      <th>patch_density</th>\n",
       "      <th>largest_patch_index</th>\n",
       "      <th>total_edge</th>\n",
       "      <th>edge_density</th>\n",
       "      <th>landscape_shape_index</th>\n",
       "      <th>effective_mesh_size</th>\n",
       "      <th>area_mn</th>\n",
       "      <th>...</th>\n",
       "      <th>fractal_dimension_md</th>\n",
       "      <th>fractal_dimension_ra</th>\n",
       "      <th>fractal_dimension_sd</th>\n",
       "      <th>fractal_dimension_cv</th>\n",
       "      <th>euclidean_nearest_neighbor_mn</th>\n",
       "      <th>euclidean_nearest_neighbor_am</th>\n",
       "      <th>euclidean_nearest_neighbor_md</th>\n",
       "      <th>euclidean_nearest_neighbor_ra</th>\n",
       "      <th>euclidean_nearest_neighbor_sd</th>\n",
       "      <th>euclidean_nearest_neighbor_cv</th>\n",
       "    </tr>\n",
       "    <tr>\n",
       "      <th>class_val</th>\n",
       "      <th></th>\n",
       "      <th></th>\n",
       "      <th></th>\n",
       "      <th></th>\n",
       "      <th></th>\n",
       "      <th></th>\n",
       "      <th></th>\n",
       "      <th></th>\n",
       "      <th></th>\n",
       "      <th></th>\n",
       "      <th></th>\n",
       "      <th></th>\n",
       "      <th></th>\n",
       "      <th></th>\n",
       "      <th></th>\n",
       "      <th></th>\n",
       "      <th></th>\n",
       "      <th></th>\n",
       "      <th></th>\n",
       "      <th></th>\n",
       "      <th></th>\n",
       "    </tr>\n",
       "  </thead>\n",
       "  <tbody>\n",
       "    <tr>\n",
       "      <th>1</th>\n",
       "      <td>1041.0</td>\n",
       "      <td>7.749572</td>\n",
       "      <td>287</td>\n",
       "      <td>2.136529</td>\n",
       "      <td>1.421872</td>\n",
       "      <td>256600.0</td>\n",
       "      <td>19.102211</td>\n",
       "      <td>19.969231</td>\n",
       "      <td>3.877838</td>\n",
       "      <td>3.627178</td>\n",
       "      <td>...</td>\n",
       "      <td>1.000000</td>\n",
       "      <td>0.220343</td>\n",
       "      <td>0.045077</td>\n",
       "      <td>4.402981</td>\n",
       "      <td>309.244705</td>\n",
       "      <td>240.805397</td>\n",
       "      <td>223.606798</td>\n",
       "      <td>1100.000000</td>\n",
       "      <td>168.551251</td>\n",
       "      <td>54.504167</td>\n",
       "    </tr>\n",
       "    <tr>\n",
       "      <th>2</th>\n",
       "      <td>7559.0</td>\n",
       "      <td>56.271868</td>\n",
       "      <td>60</td>\n",
       "      <td>0.446661</td>\n",
       "      <td>44.807563</td>\n",
       "      <td>679700.0</td>\n",
       "      <td>50.599270</td>\n",
       "      <td>20.810345</td>\n",
       "      <td>2737.138614</td>\n",
       "      <td>125.983333</td>\n",
       "      <td>...</td>\n",
       "      <td>1.053496</td>\n",
       "      <td>0.311892</td>\n",
       "      <td>0.066308</td>\n",
       "      <td>6.247750</td>\n",
       "      <td>229.079970</td>\n",
       "      <td>203.046531</td>\n",
       "      <td>200.000000</td>\n",
       "      <td>624.621125</td>\n",
       "      <td>86.731582</td>\n",
       "      <td>37.860832</td>\n",
       "    </tr>\n",
       "    <tr>\n",
       "      <th>3</th>\n",
       "      <td>4560.0</td>\n",
       "      <td>33.946252</td>\n",
       "      <td>243</td>\n",
       "      <td>1.808978</td>\n",
       "      <td>23.040274</td>\n",
       "      <td>512700.0</td>\n",
       "      <td>38.167200</td>\n",
       "      <td>20.433824</td>\n",
       "      <td>720.249237</td>\n",
       "      <td>18.765432</td>\n",
       "      <td>...</td>\n",
       "      <td>1.000000</td>\n",
       "      <td>0.284597</td>\n",
       "      <td>0.051072</td>\n",
       "      <td>4.945558</td>\n",
       "      <td>253.299859</td>\n",
       "      <td>209.633359</td>\n",
       "      <td>223.606798</td>\n",
       "      <td>521.110255</td>\n",
       "      <td>77.749231</td>\n",
       "      <td>30.694542</td>\n",
       "    </tr>\n",
       "    <tr>\n",
       "      <th>4</th>\n",
       "      <td>273.0</td>\n",
       "      <td>2.032308</td>\n",
       "      <td>75</td>\n",
       "      <td>0.558327</td>\n",
       "      <td>0.528549</td>\n",
       "      <td>50000.0</td>\n",
       "      <td>3.722177</td>\n",
       "      <td>8.500000</td>\n",
       "      <td>0.619147</td>\n",
       "      <td>3.640000</td>\n",
       "      <td>...</td>\n",
       "      <td>1.000000</td>\n",
       "      <td>0.149061</td>\n",
       "      <td>0.032689</td>\n",
       "      <td>3.205601</td>\n",
       "      <td>552.835154</td>\n",
       "      <td>485.539111</td>\n",
       "      <td>360.555128</td>\n",
       "      <td>3124.154028</td>\n",
       "      <td>491.229708</td>\n",
       "      <td>88.856453</td>\n",
       "    </tr>\n",
       "  </tbody>\n",
       "</table>\n",
       "<p>4 rows × 45 columns</p>\n",
       "</div>"
      ],
      "text/plain": [
       "           total_area  proportion_of_landscape  number_of_patches  \\\n",
       "class_val                                                           \n",
       "1              1041.0                 7.749572                287   \n",
       "2              7559.0                56.271868                 60   \n",
       "3              4560.0                33.946252                243   \n",
       "4               273.0                 2.032308                 75   \n",
       "\n",
       "           patch_density  largest_patch_index  total_edge  edge_density  \\\n",
       "class_val                                                                 \n",
       "1               2.136529             1.421872    256600.0     19.102211   \n",
       "2               0.446661            44.807563    679700.0     50.599270   \n",
       "3               1.808978            23.040274    512700.0     38.167200   \n",
       "4               0.558327             0.528549     50000.0      3.722177   \n",
       "\n",
       "           landscape_shape_index  effective_mesh_size     area_mn  ...  \\\n",
       "class_val                                                          ...   \n",
       "1                      19.969231             3.877838    3.627178  ...   \n",
       "2                      20.810345          2737.138614  125.983333  ...   \n",
       "3                      20.433824           720.249237   18.765432  ...   \n",
       "4                       8.500000             0.619147    3.640000  ...   \n",
       "\n",
       "           fractal_dimension_md  fractal_dimension_ra  fractal_dimension_sd  \\\n",
       "class_val                                                                     \n",
       "1                      1.000000              0.220343              0.045077   \n",
       "2                      1.053496              0.311892              0.066308   \n",
       "3                      1.000000              0.284597              0.051072   \n",
       "4                      1.000000              0.149061              0.032689   \n",
       "\n",
       "           fractal_dimension_cv  euclidean_nearest_neighbor_mn  \\\n",
       "class_val                                                        \n",
       "1                      4.402981                     309.244705   \n",
       "2                      6.247750                     229.079970   \n",
       "3                      4.945558                     253.299859   \n",
       "4                      3.205601                     552.835154   \n",
       "\n",
       "           euclidean_nearest_neighbor_am  euclidean_nearest_neighbor_md  \\\n",
       "class_val                                                                 \n",
       "1                             240.805397                     223.606798   \n",
       "2                             203.046531                     200.000000   \n",
       "3                             209.633359                     223.606798   \n",
       "4                             485.539111                     360.555128   \n",
       "\n",
       "           euclidean_nearest_neighbor_ra  euclidean_nearest_neighbor_sd  \\\n",
       "class_val                                                                 \n",
       "1                            1100.000000                     168.551251   \n",
       "2                             624.621125                      86.731582   \n",
       "3                             521.110255                      77.749231   \n",
       "4                            3124.154028                     491.229708   \n",
       "\n",
       "           euclidean_nearest_neighbor_cv  \n",
       "class_val                                 \n",
       "1                              54.504167  \n",
       "2                              37.860832  \n",
       "3                              30.694542  \n",
       "4                              88.856453  \n",
       "\n",
       "[4 rows x 45 columns]"
      ]
     },
     "execution_count": null,
     "metadata": {},
     "output_type": "execute_result"
    }
   ],
   "source": [
    "class_metrics_df = ls.compute_class_metrics_df()\n",
    "class_metrics_df"
   ]
  },
  {
   "cell_type": "markdown",
   "metadata": {
    "ein.tags": "worksheet-0",
    "slideshow": {
     "slide_type": "-"
    }
   },
   "source": [
    "### Landscape-level metrics\n",
    "\n",
    "Finally, the metrics can also be computed at the landscape level, that is, aggregating over all patches of the landscape"
   ]
  },
  {
   "cell_type": "code",
   "execution_count": null,
   "metadata": {
    "autoscroll": false,
    "ein.hycell": false,
    "ein.tags": "worksheet-0",
    "slideshow": {
     "slide_type": "-"
    }
   },
   "outputs": [
    {
     "name": "stderr",
     "output_type": "stream",
     "text": [
      "/home/martibosch/libraries/pylandstats/pylandstats/landscape.py:684: FutureWarning: Using the level keyword in DataFrame and Series aggregations is deprecated and will be removed in a future version. Use groupby instead. df.sum(level=1) should use df.groupby(level=1).sum().\n",
      "  return self._adjacency_df.sum(level=[1]).loc[self.classes, self.classes]\n"
     ]
    },
    {
     "data": {
      "text/html": [
       "<div>\n",
       "<style scoped>\n",
       "    .dataframe tbody tr th:only-of-type {\n",
       "        vertical-align: middle;\n",
       "    }\n",
       "\n",
       "    .dataframe tbody tr th {\n",
       "        vertical-align: top;\n",
       "    }\n",
       "\n",
       "    .dataframe thead th {\n",
       "        text-align: right;\n",
       "    }\n",
       "</style>\n",
       "<table border=\"1\" class=\"dataframe\">\n",
       "  <thead>\n",
       "    <tr style=\"text-align: right;\">\n",
       "      <th></th>\n",
       "      <th>total_area</th>\n",
       "      <th>number_of_patches</th>\n",
       "      <th>patch_density</th>\n",
       "      <th>largest_patch_index</th>\n",
       "      <th>total_edge</th>\n",
       "      <th>edge_density</th>\n",
       "      <th>landscape_shape_index</th>\n",
       "      <th>effective_mesh_size</th>\n",
       "      <th>entropy</th>\n",
       "      <th>shannon_diversity_index</th>\n",
       "      <th>...</th>\n",
       "      <th>fractal_dimension_md</th>\n",
       "      <th>fractal_dimension_ra</th>\n",
       "      <th>fractal_dimension_sd</th>\n",
       "      <th>fractal_dimension_cv</th>\n",
       "      <th>euclidean_nearest_neighbor_mn</th>\n",
       "      <th>euclidean_nearest_neighbor_am</th>\n",
       "      <th>euclidean_nearest_neighbor_md</th>\n",
       "      <th>euclidean_nearest_neighbor_ra</th>\n",
       "      <th>euclidean_nearest_neighbor_sd</th>\n",
       "      <th>euclidean_nearest_neighbor_cv</th>\n",
       "    </tr>\n",
       "  </thead>\n",
       "  <tbody>\n",
       "    <tr>\n",
       "      <th>0</th>\n",
       "      <td>13433.0</td>\n",
       "      <td>665</td>\n",
       "      <td>4.950495</td>\n",
       "      <td>44.807563</td>\n",
       "      <td>749500.0</td>\n",
       "      <td>55.795429</td>\n",
       "      <td>18.273707</td>\n",
       "      <td>3461.884836</td>\n",
       "      <td>1.391901</td>\n",
       "      <td>0.964792</td>\n",
       "      <td>...</td>\n",
       "      <td>1.0</td>\n",
       "      <td>0.311892</td>\n",
       "      <td>0.049667</td>\n",
       "      <td>4.822265</td>\n",
       "      <td>309.0414</td>\n",
       "      <td>213.949783</td>\n",
       "      <td>223.606798</td>\n",
       "      <td>3124.154028</td>\n",
       "      <td>225.342246</td>\n",
       "      <td>72.916524</td>\n",
       "    </tr>\n",
       "  </tbody>\n",
       "</table>\n",
       "<p>1 rows × 51 columns</p>\n",
       "</div>"
      ],
      "text/plain": [
       "   total_area  number_of_patches  patch_density  largest_patch_index  \\\n",
       "0     13433.0                665       4.950495            44.807563   \n",
       "\n",
       "   total_edge  edge_density  landscape_shape_index  effective_mesh_size  \\\n",
       "0    749500.0     55.795429              18.273707          3461.884836   \n",
       "\n",
       "    entropy  shannon_diversity_index  ...  fractal_dimension_md  \\\n",
       "0  1.391901                 0.964792  ...                   1.0   \n",
       "\n",
       "   fractal_dimension_ra  fractal_dimension_sd  fractal_dimension_cv  \\\n",
       "0              0.311892              0.049667              4.822265   \n",
       "\n",
       "   euclidean_nearest_neighbor_mn  euclidean_nearest_neighbor_am  \\\n",
       "0                       309.0414                     213.949783   \n",
       "\n",
       "   euclidean_nearest_neighbor_md  euclidean_nearest_neighbor_ra  \\\n",
       "0                     223.606798                    3124.154028   \n",
       "\n",
       "   euclidean_nearest_neighbor_sd  euclidean_nearest_neighbor_cv  \n",
       "0                     225.342246                      72.916524  \n",
       "\n",
       "[1 rows x 51 columns]"
      ]
     },
     "execution_count": null,
     "metadata": {},
     "output_type": "execute_result"
    }
   ],
   "source": [
    "landscape_metrics_df = ls.compute_landscape_metrics_df()\n",
    "landscape_metrics_df"
   ]
  },
  {
   "cell_type": "markdown",
   "metadata": {
    "ein.tags": "worksheet-0",
    "slideshow": {
     "slide_type": "-"
    }
   },
   "source": []
  },
  {
   "cell_type": "markdown",
   "metadata": {
    "ein.tags": "worksheet-0",
    "slideshow": {
     "slide_type": "-"
    }
   },
   "source": [
    "## Customizing the metrics DataFrames\n",
    "\n",
    "### Selecting the metrics to compute\n",
    "\n",
    "Some metrics can be expensive to compute. If you are only interested in computing a subset of the metrics implemented within PyLandStats, you can specify it in each respective method, that is, `Landscape.compute_patch_metrics_df`, `Landscape.compute_patch_metrics_df` and/or `Landscape.compute_class_metrics_df` through the `metrics` argument (see [the documentation on \"Computing metrics data frames\"](https://pylandstats.readthedocs.io/en/latest/landscape.html#computing-metrics-data-frames). For instance:"
   ]
  },
  {
   "cell_type": "markdown",
   "metadata": {
    "ein.tags": "worksheet-0",
    "slideshow": {
     "slide_type": "-"
    }
   },
   "source": [
    "<a id='subset-class-metrics-df'></a>"
   ]
  },
  {
   "cell_type": "code",
   "execution_count": null,
   "metadata": {
    "autoscroll": false,
    "ein.hycell": false,
    "ein.tags": "worksheet-0",
    "slideshow": {
     "slide_type": "-"
    }
   },
   "outputs": [
    {
     "data": {
      "text/html": [
       "<div>\n",
       "<style scoped>\n",
       "    .dataframe tbody tr th:only-of-type {\n",
       "        vertical-align: middle;\n",
       "    }\n",
       "\n",
       "    .dataframe tbody tr th {\n",
       "        vertical-align: top;\n",
       "    }\n",
       "\n",
       "    .dataframe thead th {\n",
       "        text-align: right;\n",
       "    }\n",
       "</style>\n",
       "<table border=\"1\" class=\"dataframe\">\n",
       "  <thead>\n",
       "    <tr style=\"text-align: right;\">\n",
       "      <th></th>\n",
       "      <th>proportion_of_landscape</th>\n",
       "      <th>edge_density</th>\n",
       "    </tr>\n",
       "    <tr>\n",
       "      <th>class_val</th>\n",
       "      <th></th>\n",
       "      <th></th>\n",
       "    </tr>\n",
       "  </thead>\n",
       "  <tbody>\n",
       "    <tr>\n",
       "      <th>1</th>\n",
       "      <td>7.749572</td>\n",
       "      <td>19.102211</td>\n",
       "    </tr>\n",
       "    <tr>\n",
       "      <th>2</th>\n",
       "      <td>56.271868</td>\n",
       "      <td>50.599270</td>\n",
       "    </tr>\n",
       "    <tr>\n",
       "      <th>3</th>\n",
       "      <td>33.946252</td>\n",
       "      <td>38.167200</td>\n",
       "    </tr>\n",
       "    <tr>\n",
       "      <th>4</th>\n",
       "      <td>2.032308</td>\n",
       "      <td>3.722177</td>\n",
       "    </tr>\n",
       "  </tbody>\n",
       "</table>\n",
       "</div>"
      ],
      "text/plain": [
       "           proportion_of_landscape  edge_density\n",
       "class_val                                       \n",
       "1                         7.749572     19.102211\n",
       "2                        56.271868     50.599270\n",
       "3                        33.946252     38.167200\n",
       "4                         2.032308      3.722177"
      ]
     },
     "execution_count": null,
     "metadata": {},
     "output_type": "execute_result"
    }
   ],
   "source": [
    "subset_class_metrics_df = ls.compute_class_metrics_df(\n",
    "    metrics=[\"proportion_of_landscape\", \"edge_density\"]\n",
    ")\n",
    "subset_class_metrics_df"
   ]
  },
  {
   "cell_type": "markdown",
   "metadata": {
    "ein.tags": "worksheet-0",
    "slideshow": {
     "slide_type": "-"
    }
   },
   "source": [
    "### Customizing how each metric is computed\n",
    "\n",
    "The default arguments correspond to how the metrics are defined within FRAGSTATS. Nevertheless, some metrics allow some variations in their definition. For instance, the `edge_density` above allows us to choose whether we consider the landscape boundary to be an edge (by default, as in FRAGSTATS, we do not, since we only consider edges between land use/cover classes), or whether we want the area to be converted to hectares (by default, as in FRAGSTATS, we do)."
   ]
  },
  {
   "cell_type": "code",
   "execution_count": null,
   "metadata": {
    "autoscroll": false,
    "ein.hycell": false,
    "ein.tags": "worksheet-0",
    "slideshow": {
     "slide_type": "-"
    }
   },
   "outputs": [
    {
     "name": "stdout",
     "output_type": "stream",
     "text": [
      "Edge density (without boundary, meters of edge per hectare):\n",
      "55.795429166976845\n",
      "\n",
      "Edge density (with boundary, meters of edge per hectare):\n",
      "63.120672969552594\n",
      "\n",
      "Edge density (with boundary, meters of edge per square meter):\n",
      "0.006312067296955259\n"
     ]
    }
   ],
   "source": [
    "print(\n",
    "    \"Edge density (without boundary, meters of edge per hectare):\\n{}\\n\".format(\n",
    "        ls.edge_density()\n",
    "    )\n",
    ")\n",
    "\n",
    "print(\n",
    "    \"Edge density (with boundary, meters of edge per hectare):\\n{}\\n\".format(\n",
    "        ls.edge_density(count_boundary=True)\n",
    "    )\n",
    ")\n",
    "\n",
    "print(\n",
    "    \"Edge density (with boundary, meters of edge per square meter):\\n{}\".format(\n",
    "        ls.edge_density(count_boundary=True, hectares=False)\n",
    "    )\n",
    ")"
   ]
  },
  {
   "cell_type": "markdown",
   "metadata": {
    "ein.tags": "worksheet-0",
    "slideshow": {
     "slide_type": "-"
    }
   },
   "source": [
    "For more details, see the documentation for each metric's method.\n",
    "\n",
    "If we want to obtain a patch, class or landscape-level DataFrame with some customized metrics, instead of manually calling each metric's method with its respective parameters, we can use the `metrics_kws` argument of the `Landscape.compute_patch_metrics_df`, `Landscape.compute_patch_metrics_df` and/or `Landscape.compute_class_metrics_df` to set the keyword arguments to be passed to the some metric methods. For instance, if we wanted `proportion_of_landscape` as a fraction instead of a percentage and `edge_density` to include the boundary, we can do it as follows:"
   ]
  },
  {
   "cell_type": "code",
   "execution_count": null,
   "metadata": {
    "autoscroll": false,
    "ein.hycell": false,
    "ein.tags": "worksheet-0",
    "slideshow": {
     "slide_type": "-"
    }
   },
   "outputs": [
    {
     "data": {
      "text/html": [
       "<div>\n",
       "<style scoped>\n",
       "    .dataframe tbody tr th:only-of-type {\n",
       "        vertical-align: middle;\n",
       "    }\n",
       "\n",
       "    .dataframe tbody tr th {\n",
       "        vertical-align: top;\n",
       "    }\n",
       "\n",
       "    .dataframe thead th {\n",
       "        text-align: right;\n",
       "    }\n",
       "</style>\n",
       "<table border=\"1\" class=\"dataframe\">\n",
       "  <thead>\n",
       "    <tr style=\"text-align: right;\">\n",
       "      <th></th>\n",
       "      <th>total_area</th>\n",
       "      <th>proportion_of_landscape</th>\n",
       "      <th>number_of_patches</th>\n",
       "      <th>patch_density</th>\n",
       "      <th>largest_patch_index</th>\n",
       "      <th>total_edge</th>\n",
       "      <th>edge_density</th>\n",
       "      <th>landscape_shape_index</th>\n",
       "      <th>effective_mesh_size</th>\n",
       "      <th>area_mn</th>\n",
       "      <th>...</th>\n",
       "      <th>fractal_dimension_md</th>\n",
       "      <th>fractal_dimension_ra</th>\n",
       "      <th>fractal_dimension_sd</th>\n",
       "      <th>fractal_dimension_cv</th>\n",
       "      <th>euclidean_nearest_neighbor_mn</th>\n",
       "      <th>euclidean_nearest_neighbor_am</th>\n",
       "      <th>euclidean_nearest_neighbor_md</th>\n",
       "      <th>euclidean_nearest_neighbor_ra</th>\n",
       "      <th>euclidean_nearest_neighbor_sd</th>\n",
       "      <th>euclidean_nearest_neighbor_cv</th>\n",
       "    </tr>\n",
       "    <tr>\n",
       "      <th>class_val</th>\n",
       "      <th></th>\n",
       "      <th></th>\n",
       "      <th></th>\n",
       "      <th></th>\n",
       "      <th></th>\n",
       "      <th></th>\n",
       "      <th></th>\n",
       "      <th></th>\n",
       "      <th></th>\n",
       "      <th></th>\n",
       "      <th></th>\n",
       "      <th></th>\n",
       "      <th></th>\n",
       "      <th></th>\n",
       "      <th></th>\n",
       "      <th></th>\n",
       "      <th></th>\n",
       "      <th></th>\n",
       "      <th></th>\n",
       "      <th></th>\n",
       "      <th></th>\n",
       "    </tr>\n",
       "  </thead>\n",
       "  <tbody>\n",
       "    <tr>\n",
       "      <th>1</th>\n",
       "      <td>1041.0</td>\n",
       "      <td>0.077496</td>\n",
       "      <td>287</td>\n",
       "      <td>2.136529</td>\n",
       "      <td>1.421872</td>\n",
       "      <td>256600.0</td>\n",
       "      <td>19.325542</td>\n",
       "      <td>19.969231</td>\n",
       "      <td>3.877838</td>\n",
       "      <td>3.627178</td>\n",
       "      <td>...</td>\n",
       "      <td>1.000000</td>\n",
       "      <td>0.220343</td>\n",
       "      <td>0.045077</td>\n",
       "      <td>4.402981</td>\n",
       "      <td>309.244705</td>\n",
       "      <td>240.805397</td>\n",
       "      <td>223.606798</td>\n",
       "      <td>1100.000000</td>\n",
       "      <td>168.551251</td>\n",
       "      <td>54.504167</td>\n",
       "    </tr>\n",
       "    <tr>\n",
       "      <th>2</th>\n",
       "      <td>7559.0</td>\n",
       "      <td>0.562719</td>\n",
       "      <td>60</td>\n",
       "      <td>0.446661</td>\n",
       "      <td>44.807563</td>\n",
       "      <td>679700.0</td>\n",
       "      <td>53.912008</td>\n",
       "      <td>20.810345</td>\n",
       "      <td>2737.138614</td>\n",
       "      <td>125.983333</td>\n",
       "      <td>...</td>\n",
       "      <td>1.053496</td>\n",
       "      <td>0.311892</td>\n",
       "      <td>0.066308</td>\n",
       "      <td>6.247750</td>\n",
       "      <td>229.079970</td>\n",
       "      <td>203.046531</td>\n",
       "      <td>200.000000</td>\n",
       "      <td>624.621125</td>\n",
       "      <td>86.731582</td>\n",
       "      <td>37.860832</td>\n",
       "    </tr>\n",
       "    <tr>\n",
       "      <th>3</th>\n",
       "      <td>4560.0</td>\n",
       "      <td>0.339463</td>\n",
       "      <td>243</td>\n",
       "      <td>1.808978</td>\n",
       "      <td>23.040274</td>\n",
       "      <td>512700.0</td>\n",
       "      <td>41.375717</td>\n",
       "      <td>20.433824</td>\n",
       "      <td>720.249237</td>\n",
       "      <td>18.765432</td>\n",
       "      <td>...</td>\n",
       "      <td>1.000000</td>\n",
       "      <td>0.284597</td>\n",
       "      <td>0.051072</td>\n",
       "      <td>4.945558</td>\n",
       "      <td>253.299859</td>\n",
       "      <td>209.633359</td>\n",
       "      <td>223.606798</td>\n",
       "      <td>521.110255</td>\n",
       "      <td>77.749231</td>\n",
       "      <td>30.694542</td>\n",
       "    </tr>\n",
       "    <tr>\n",
       "      <th>4</th>\n",
       "      <td>273.0</td>\n",
       "      <td>0.020323</td>\n",
       "      <td>75</td>\n",
       "      <td>0.558327</td>\n",
       "      <td>0.528549</td>\n",
       "      <td>50000.0</td>\n",
       "      <td>4.302836</td>\n",
       "      <td>8.500000</td>\n",
       "      <td>0.619147</td>\n",
       "      <td>3.640000</td>\n",
       "      <td>...</td>\n",
       "      <td>1.000000</td>\n",
       "      <td>0.149061</td>\n",
       "      <td>0.032689</td>\n",
       "      <td>3.205601</td>\n",
       "      <td>552.835154</td>\n",
       "      <td>485.539111</td>\n",
       "      <td>360.555128</td>\n",
       "      <td>3124.154028</td>\n",
       "      <td>491.229708</td>\n",
       "      <td>88.856453</td>\n",
       "    </tr>\n",
       "  </tbody>\n",
       "</table>\n",
       "<p>4 rows × 45 columns</p>\n",
       "</div>"
      ],
      "text/plain": [
       "           total_area  proportion_of_landscape  number_of_patches  \\\n",
       "class_val                                                           \n",
       "1              1041.0                 0.077496                287   \n",
       "2              7559.0                 0.562719                 60   \n",
       "3              4560.0                 0.339463                243   \n",
       "4               273.0                 0.020323                 75   \n",
       "\n",
       "           patch_density  largest_patch_index  total_edge  edge_density  \\\n",
       "class_val                                                                 \n",
       "1               2.136529             1.421872    256600.0     19.325542   \n",
       "2               0.446661            44.807563    679700.0     53.912008   \n",
       "3               1.808978            23.040274    512700.0     41.375717   \n",
       "4               0.558327             0.528549     50000.0      4.302836   \n",
       "\n",
       "           landscape_shape_index  effective_mesh_size     area_mn  ...  \\\n",
       "class_val                                                          ...   \n",
       "1                      19.969231             3.877838    3.627178  ...   \n",
       "2                      20.810345          2737.138614  125.983333  ...   \n",
       "3                      20.433824           720.249237   18.765432  ...   \n",
       "4                       8.500000             0.619147    3.640000  ...   \n",
       "\n",
       "           fractal_dimension_md  fractal_dimension_ra  fractal_dimension_sd  \\\n",
       "class_val                                                                     \n",
       "1                      1.000000              0.220343              0.045077   \n",
       "2                      1.053496              0.311892              0.066308   \n",
       "3                      1.000000              0.284597              0.051072   \n",
       "4                      1.000000              0.149061              0.032689   \n",
       "\n",
       "           fractal_dimension_cv  euclidean_nearest_neighbor_mn  \\\n",
       "class_val                                                        \n",
       "1                      4.402981                     309.244705   \n",
       "2                      6.247750                     229.079970   \n",
       "3                      4.945558                     253.299859   \n",
       "4                      3.205601                     552.835154   \n",
       "\n",
       "           euclidean_nearest_neighbor_am  euclidean_nearest_neighbor_md  \\\n",
       "class_val                                                                 \n",
       "1                             240.805397                     223.606798   \n",
       "2                             203.046531                     200.000000   \n",
       "3                             209.633359                     223.606798   \n",
       "4                             485.539111                     360.555128   \n",
       "\n",
       "           euclidean_nearest_neighbor_ra  euclidean_nearest_neighbor_sd  \\\n",
       "class_val                                                                 \n",
       "1                            1100.000000                     168.551251   \n",
       "2                             624.621125                      86.731582   \n",
       "3                             521.110255                      77.749231   \n",
       "4                            3124.154028                     491.229708   \n",
       "\n",
       "           euclidean_nearest_neighbor_cv  \n",
       "class_val                                 \n",
       "1                              54.504167  \n",
       "2                              37.860832  \n",
       "3                              30.694542  \n",
       "4                              88.856453  \n",
       "\n",
       "[4 rows x 45 columns]"
      ]
     },
     "execution_count": null,
     "metadata": {},
     "output_type": "execute_result"
    }
   ],
   "source": [
    "custom_class_metrics_df = ls.compute_class_metrics_df(\n",
    "    metrics_kws={\n",
    "        \"proportion_of_landscape\": {\"percent\": False},\n",
    "        \"edge_density\": {\"count_boundary\": True},\n",
    "    }\n",
    ")\n",
    "custom_class_metrics_df"
   ]
  },
  {
   "cell_type": "markdown",
   "metadata": {
    "ein.tags": "worksheet-0",
    "slideshow": {
     "slide_type": "-"
    }
   },
   "source": [
    "Note that the values for `proportion_of_landscape` and `edge_density` are different now than when we computed them with the default arguments for their respective methods (in the [class_metrics_df](#class-metrics-df) and [subset_class_metrics_df](#subset-class-metrics-df) above).\n",
    "\n",
    "Note also that the `custom_class_metrics_df` does not only feature `proportion_of_landscape` and `edge_density` but features all the available metrics instead. This is because the `metrics_kws` argument does not imply that only the the metrics defined on it will be computed, only that the metrics defined on it will be computed with the specified arguments.\n",
    "\n",
    "We might choose to only compute a reduced set of metrics, some of which with non-default arguments, by setting both the `metrics` and `metric_kws` arguments:"
   ]
  },
  {
   "cell_type": "code",
   "execution_count": null,
   "metadata": {
    "autoscroll": false,
    "ein.hycell": false,
    "ein.tags": "worksheet-0",
    "slideshow": {
     "slide_type": "-"
    }
   },
   "outputs": [
    {
     "data": {
      "text/html": [
       "<div>\n",
       "<style scoped>\n",
       "    .dataframe tbody tr th:only-of-type {\n",
       "        vertical-align: middle;\n",
       "    }\n",
       "\n",
       "    .dataframe tbody tr th {\n",
       "        vertical-align: top;\n",
       "    }\n",
       "\n",
       "    .dataframe thead th {\n",
       "        text-align: right;\n",
       "    }\n",
       "</style>\n",
       "<table border=\"1\" class=\"dataframe\">\n",
       "  <thead>\n",
       "    <tr style=\"text-align: right;\">\n",
       "      <th></th>\n",
       "      <th>proportion_of_landscape</th>\n",
       "      <th>edge_density</th>\n",
       "      <th>fractal_dimension_am</th>\n",
       "    </tr>\n",
       "    <tr>\n",
       "      <th>class_val</th>\n",
       "      <th></th>\n",
       "      <th></th>\n",
       "      <th></th>\n",
       "    </tr>\n",
       "  </thead>\n",
       "  <tbody>\n",
       "    <tr>\n",
       "      <th>1</th>\n",
       "      <td>0.077496</td>\n",
       "      <td>19.325542</td>\n",
       "      <td>1.113777</td>\n",
       "    </tr>\n",
       "    <tr>\n",
       "      <th>2</th>\n",
       "      <td>0.562719</td>\n",
       "      <td>53.912008</td>\n",
       "      <td>1.287897</td>\n",
       "    </tr>\n",
       "    <tr>\n",
       "      <th>3</th>\n",
       "      <td>0.339463</td>\n",
       "      <td>41.375717</td>\n",
       "      <td>1.232546</td>\n",
       "    </tr>\n",
       "    <tr>\n",
       "      <th>4</th>\n",
       "      <td>0.020323</td>\n",
       "      <td>4.302836</td>\n",
       "      <td>1.073387</td>\n",
       "    </tr>\n",
       "  </tbody>\n",
       "</table>\n",
       "</div>"
      ],
      "text/plain": [
       "           proportion_of_landscape  edge_density  fractal_dimension_am\n",
       "class_val                                                             \n",
       "1                         0.077496     19.325542              1.113777\n",
       "2                         0.562719     53.912008              1.287897\n",
       "3                         0.339463     41.375717              1.232546\n",
       "4                         0.020323      4.302836              1.073387"
      ]
     },
     "execution_count": null,
     "metadata": {},
     "output_type": "execute_result"
    }
   ],
   "source": [
    "custom_subset_class_metrics_df = ls.compute_class_metrics_df(\n",
    "    metrics=[\"proportion_of_landscape\", \"edge_density\", \"fractal_dimension_am\"],\n",
    "    metrics_kws={\n",
    "        \"proportion_of_landscape\": {\"percent\": False},\n",
    "        \"edge_density\": {\"count_boundary\": True},\n",
    "    },\n",
    ")\n",
    "custom_subset_class_metrics_df"
   ]
  },
  {
   "cell_type": "markdown",
   "metadata": {
    "ein.tags": "worksheet-0",
    "slideshow": {
     "slide_type": "-"
    }
   },
   "source": [
    "The same could be done for the `Landscape.compute_patch_metrics_df` or `Landscape.compute_landscape_metrics_df` methods. Check the documentation of each metric's method for more details on how they might be customized through their arguments."
   ]
  }
 ],
 "metadata": {
  "kernelspec": {
   "argv": [
    "/home/martibosch/anaconda3/envs/pylandstats/bin/python",
    "-m",
    "ipykernel_launcher",
    "-f",
    "{connection_file}"
   ],
   "display_name": "Python (pylandstats)",
   "env": null,
   "interrupt_mode": "signal",
   "language": "python",
   "metadata": null,
   "name": "pylandstats"
  },
  "language_info": {
   "codemirror_mode": {
    "name": "ipython",
    "version": 3
   },
   "file_extension": ".py",
   "mimetype": "text/x-python",
   "name": "python",
   "nbconvert_exporter": "python",
   "pygments_lexer": "ipython3",
   "version": "3.8.6"
  },
  "name": "01-landscape-analysis.ipynb"
 },
 "nbformat": 4,
 "nbformat_minor": 2
}
