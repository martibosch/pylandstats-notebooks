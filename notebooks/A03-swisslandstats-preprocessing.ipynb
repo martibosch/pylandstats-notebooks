{
 "cells": [
  {
   "cell_type": "markdown",
   "id": "34e28d5c",
   "metadata": {},
   "source": [
    "# swisslandstats preprocessing\n",
    "\n",
    "We will create an extract of the Canton of Vaud (Switerland) derived from the [Swiss Land Statistics (SLS) datasets from the Swiss Federal Statistical Office](https://www.bfs.admin.ch/bfs/en/home/services/geostat/swiss-federal-statistics-geodata/land-use-cover-suitability/swiss-land-use-statistics.html). We will first use GNU Make to download the data:"
   ]
  },
  {
   "cell_type": "code",
   "execution_count": null,
   "id": "48c51ce3",
   "metadata": {},
   "outputs": [
    {
     "name": "stdout",
     "output_type": "stream",
     "text": [
      "\u001b[33mBuilding DAG of jobs...\u001b[0m\n",
      "\u001b[33mNothing to be done (all requested files are present and up to date).\u001b[0m\n",
      "\u001b[33mComplete log: .snakemake/log/2023-08-10T144454.450275.snakemake.log\u001b[0m\n"
     ]
    }
   ],
   "source": [
    "!snakemake -c1 -d .. -s ../Snakefile lulc_csv"
   ]
  },
  {
   "cell_type": "markdown",
   "id": "19db891e",
   "metadata": {},
   "source": [
    "This downloads the SLS inventory as a CSV file:"
   ]
  },
  {
   "cell_type": "code",
   "execution_count": null,
   "id": "c0b5cb47",
   "metadata": {},
   "outputs": [
    {
     "name": "stdout",
     "output_type": "stream",
     "text": [
      "AREA_NOAS04_17_181029.csv\n"
     ]
    }
   ],
   "source": [
    "!ls ../data/raw/lulc"
   ]
  },
  {
   "cell_type": "markdown",
   "id": "d6889fc3",
   "metadata": {},
   "source": [
    "Each row corresponds to one of the hectometric pixels that configure the Swiss territory, and features three main goups of columns [1], i.e.:\n",
    "\n",
    "* the coordinates of the pixels centroid `E`, `N` in the LV95 coordinate reference system (CRS) or `X`, `Y` in the LV03 CRS\n",
    "* columns starting with `FJ` denote the exact year when the observation was taken\n",
    "* columns starting with `AS` denote the actual land use/land cover (LULC) code of each pixel\n",
    "\n",
    "This is what the file looks like:"
   ]
  },
  {
   "cell_type": "code",
   "execution_count": null,
   "id": "ecc472ce",
   "metadata": {},
   "outputs": [
    {
     "name": "stdout",
     "output_type": "stream",
     "text": [
      "\"E\",\"N\",\"X\",\"Y\",\"RELI\",\"GMDE\",\"FJ85\",\"FJ97\",\"FJ09\",\"FJ18\",\"AS85R_17\",\"AS97R_17\",\"AS09R_17\",\"AS18_17\",\"AS85R_4\",\"AS97R_4\",\"AS09R_4\",\"AS18_4\"\n",
      "2485500,1109700,485500,109700,48551097,6611,1980,1992,2004,2012,10,10,10,10,3,3,3,3\n",
      "2485500,1109800,485500,109800,48551098,6611,1980,1992,2004,2012,10,10,10,10,3,3,3,3\n",
      "2485500,1109900,485500,109900,48551099,6611,1980,1992,2004,2012,10,10,10,10,3,3,3,3\n",
      "2485500,1110000,485500,110000,48551100,6611,1980,1992,2004,2012,10,10,10,10,3,3,3,3\n",
      "2485500,1110100,485500,110100,48551101,6611,1980,1992,2004,2012,10,10,10,10,3,3,3,3\n",
      "2485600,1109800,485600,109800,48561098,6611,1980,1992,2004,2012,7,7,7,7,2,2,2,2\n",
      "2485600,1109900,485600,109900,48561099,6611,1980,1992,2004,2012,10,10,10,10,3,3,3,3\n",
      "2485600,1110000,485600,110000,48561100,6611,1980,1992,2004,2012,10,10,10,10,3,3,3,3\n",
      "2485600,1110100,485600,110100,48561101,6611,1980,1992,2004,2012,10,10,10,10,3,3,3,3\n"
     ]
    }
   ],
   "source": [
    "!head ../data/raw/lulc/AREA_NOAS04_17_181029.csv"
   ]
  },
  {
   "cell_type": "markdown",
   "id": "d13737ee",
   "metadata": {},
   "source": [
    "We will now preprocess this data using the [swisslandstats-geopy](https://github.com/martibosch/swisslandstats-geopy) library:"
   ]
  },
  {
   "cell_type": "code",
   "execution_count": null,
   "id": "2ee13b13",
   "metadata": {},
   "outputs": [],
   "source": [
    "import swisslandstats as sls"
   ]
  },
  {
   "cell_type": "markdown",
   "id": "2237c5cb",
   "metadata": {},
   "source": [
    "Below are the parameters needed to run this notebook (to be filled directly in the notebook or using [papermill](https://github.com/nteract/papermill)):"
   ]
  },
  {
   "cell_type": "code",
   "execution_count": null,
   "id": "05d3459f",
   "metadata": {
    "tags": [
     "parameters"
    ]
   },
   "outputs": [],
   "source": [
    "lulc_csv_filepath = \"../data/raw/lulc/AREA_NOAS04_17_181029.csv\"\n",
    "lulc_column = \"AS18_4\"\n",
    "dst_filepath = \"../data/processed/veveyse-AS18_4.tif\"\n",
    "nominatim_query = \"District de la Veveyse, Fribourg, Switzerland\""
   ]
  },
  {
   "cell_type": "markdown",
   "id": "6d51ab04",
   "metadata": {},
   "source": [
    "We will now:\n",
    "\n",
    "1. read the data into a land data frame"
   ]
  },
  {
   "cell_type": "code",
   "execution_count": null,
   "id": "038045bd",
   "metadata": {},
   "outputs": [],
   "source": [
    "ldf = sls.read_csv(lulc_csv_filepath)"
   ]
  },
  {
   "cell_type": "markdown",
   "id": "90de7bc6",
   "metadata": {},
   "source": [
    "2. clip it to the extent of interest:"
   ]
  },
  {
   "cell_type": "code",
   "execution_count": null,
   "id": "90dc6bee",
   "metadata": {},
   "outputs": [],
   "source": [
    "extent_ldf = ldf.clip_by_nominatim(nominatim_query)"
   ]
  },
  {
   "cell_type": "markdown",
   "id": "fb814924",
   "metadata": {},
   "source": [
    "3. dump the LULC columns of interest into a geotiff file:"
   ]
  },
  {
   "cell_type": "code",
   "execution_count": null,
   "id": "d9cea48d",
   "metadata": {},
   "outputs": [],
   "source": [
    "extent_ldf.to_geotiff(dst_filepath, lulc_column)"
   ]
  },
  {
   "cell_type": "markdown",
   "id": "4c6fbb3e",
   "metadata": {},
   "source": [
    "## References\n",
    "\n",
    "1. Bosch, M. (2019). swisslandstats-geopy: Python tools for the land statistics datasets from the Swiss Federal Statistical Office. Journal of Open Source Software, 4(41), 1511."
   ]
  }
 ],
 "metadata": {
  "kernelspec": {
   "display_name": "Python (pylandstats)",
   "language": "python",
   "name": "pylandstats"
  },
  "language_info": {
   "codemirror_mode": {
    "name": "ipython",
    "version": 3
   },
   "file_extension": ".py",
   "mimetype": "text/x-python",
   "name": "python",
   "nbconvert_exporter": "python",
   "pygments_lexer": "ipython3",
   "version": "3.11.4"
  }
 },
 "nbformat": 4,
 "nbformat_minor": 5
}
