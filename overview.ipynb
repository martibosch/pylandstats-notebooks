{
 "cells": [
  {
   "cell_type": "markdown",
   "metadata": {
    "ein.tags": "worksheet-0",
    "slideshow": {
     "slide_type": "-"
    }
   },
   "source": [
    "# Overview of PyLandStats"
   ]
  },
  {
   "cell_type": "code",
   "execution_count": 1,
   "metadata": {
    "autoscroll": false,
    "ein.hycell": false,
    "ein.tags": "worksheet-0",
    "slideshow": {
     "slide_type": "-"
    }
   },
   "outputs": [],
   "source": [
    "import pylandstats as pls"
   ]
  },
  {
   "cell_type": "markdown",
   "metadata": {
    "ein.tags": "worksheet-0",
    "slideshow": {
     "slide_type": "-"
    }
   },
   "source": [
    "## Landscape analysis"
   ]
  },
  {
   "cell_type": "markdown",
   "metadata": {
    "ein.tags": "worksheet-0",
    "slideshow": {
     "slide_type": "-"
    }
   },
   "source": [
    "We can load our landscape from a GeoTiff. We will use an extract of the Canton of Vaud (Switerland) derived from the [CORINE Land Cover dataset](https://land.copernicus.eu/pan-european/corine-land-cover) of the year 2000."
   ]
  },
  {
   "cell_type": "code",
   "execution_count": 2,
   "metadata": {
    "autoscroll": false,
    "ein.hycell": false,
    "ein.tags": "worksheet-0",
    "slideshow": {
     "slide_type": "-"
    }
   },
   "outputs": [],
   "source": [
    "ls = pls.read_geotiff('data/vaud_g100_clc00_V18_5.tif')"
   ]
  },
  {
   "cell_type": "markdown",
   "metadata": {
    "ein.tags": "worksheet-0",
    "slideshow": {
     "slide_type": "-"
    }
   },
   "source": [
    "For simplicity, it has been reclassified to show only *urban* (1) and *non-urban* (2) land cover classes"
   ]
  },
  {
   "cell_type": "code",
   "execution_count": 3,
   "metadata": {
    "autoscroll": false,
    "ein.hycell": false,
    "ein.tags": "worksheet-0",
    "slideshow": {
     "slide_type": "-"
    }
   },
   "outputs": [
    {
     "data": {
      "text/plain": [
       "<matplotlib.axes._subplots.AxesSubplot at 0x7fcb5bfaa6a0>"
      ]
     },
     "execution_count": 3,
     "metadata": {},
     "output_type": "execute_result"
    },
    {
     "data": {
      "image/png": "[encoded data removed]",
      "text/plain": [
       "<Figure size 432x288 with 1 Axes>"
      ]
     },
     "metadata": {
      "needs_background": "light"
     },
     "output_type": "display_data"
    }
   ],
   "source": [
    "ls.plot_landscape(legend=True)"
   ]
  },
  {
   "cell_type": "markdown",
   "metadata": {
    "ein.tags": "worksheet-0",
    "slideshow": {
     "slide_type": "-"
    }
   },
   "source": [
    "### Computing metrics"
   ]
  },
  {
   "cell_type": "markdown",
   "metadata": {
    "ein.tags": "worksheet-0",
    "slideshow": {
     "slide_type": "-"
    }
   },
   "source": [
    "The metrics can be computed at the patch, class and landscape level"
   ]
  },
  {
   "cell_type": "markdown",
   "metadata": {
    "ein.tags": "worksheet-0",
    "slideshow": {
     "slide_type": "-"
    }
   },
   "source": [
    "#### Patch-level metrics"
   ]
  },
  {
   "cell_type": "markdown",
   "metadata": {
    "ein.tags": "worksheet-0",
    "slideshow": {
     "slide_type": "-"
    }
   },
   "source": [
    "The metrics can be computed at the patch level, that is, for each patch of the landscape:"
   ]
  },
  {
   "cell_type": "code",
   "execution_count": 4,
   "metadata": {
    "autoscroll": false,
    "ein.hycell": false,
    "ein.tags": "worksheet-0",
    "slideshow": {
     "slide_type": "-"
    }
   },
   "outputs": [
    {
     "data": {
      "text/html": [
       "<div>\n",
       "<style scoped>\n",
       "    .dataframe tbody tr th:only-of-type {\n",
       "        vertical-align: middle;\n",
       "    }\n",
       "\n",
       "    .dataframe tbody tr th {\n",
       "        vertical-align: top;\n",
       "    }\n",
       "\n",
       "    .dataframe thead th {\n",
       "        text-align: right;\n",
       "    }\n",
       "</style>\n",
       "<table border=\"1\" class=\"dataframe\">\n",
       "  <thead>\n",
       "    <tr style=\"text-align: right;\">\n",
       "      <th></th>\n",
       "      <th>class_val</th>\n",
       "      <th>area</th>\n",
       "      <th>perimeter</th>\n",
       "      <th>perimeter_area_ratio</th>\n",
       "      <th>shape_index</th>\n",
       "      <th>fractal_dimension</th>\n",
       "      <th>euclidean_nearest_neighbor</th>\n",
       "    </tr>\n",
       "    <tr>\n",
       "      <th>patch_id</th>\n",
       "      <th></th>\n",
       "      <th></th>\n",
       "      <th></th>\n",
       "      <th></th>\n",
       "      <th></th>\n",
       "      <th></th>\n",
       "      <th></th>\n",
       "    </tr>\n",
       "  </thead>\n",
       "  <tbody>\n",
       "    <tr>\n",
       "      <th>0</th>\n",
       "      <td>1</td>\n",
       "      <td>115.0</td>\n",
       "      <td>10600.0</td>\n",
       "      <td>92.173913</td>\n",
       "      <td>2.409091</td>\n",
       "      <td>1.129654</td>\n",
       "      <td>1431.782106</td>\n",
       "    </tr>\n",
       "    <tr>\n",
       "      <th>1</th>\n",
       "      <td>1</td>\n",
       "      <td>13.0</td>\n",
       "      <td>2600.0</td>\n",
       "      <td>200.000000</td>\n",
       "      <td>1.625000</td>\n",
       "      <td>1.100096</td>\n",
       "      <td>223.606798</td>\n",
       "    </tr>\n",
       "    <tr>\n",
       "      <th>2</th>\n",
       "      <td>1</td>\n",
       "      <td>2.0</td>\n",
       "      <td>600.0</td>\n",
       "      <td>300.000000</td>\n",
       "      <td>1.000000</td>\n",
       "      <td>1.011893</td>\n",
       "      <td>223.606798</td>\n",
       "    </tr>\n",
       "    <tr>\n",
       "      <th>3</th>\n",
       "      <td>1</td>\n",
       "      <td>69.0</td>\n",
       "      <td>6000.0</td>\n",
       "      <td>86.956522</td>\n",
       "      <td>1.764706</td>\n",
       "      <td>1.087917</td>\n",
       "      <td>316.227766</td>\n",
       "    </tr>\n",
       "    <tr>\n",
       "      <th>4</th>\n",
       "      <td>1</td>\n",
       "      <td>76.0</td>\n",
       "      <td>8800.0</td>\n",
       "      <td>115.789474</td>\n",
       "      <td>2.444444</td>\n",
       "      <td>1.136721</td>\n",
       "      <td>316.227766</td>\n",
       "    </tr>\n",
       "    <tr>\n",
       "      <th>5</th>\n",
       "      <td>1</td>\n",
       "      <td>50.0</td>\n",
       "      <td>4600.0</td>\n",
       "      <td>92.000000</td>\n",
       "      <td>1.533333</td>\n",
       "      <td>1.074123</td>\n",
       "      <td>1236.931688</td>\n",
       "    </tr>\n",
       "    <tr>\n",
       "      <th>6</th>\n",
       "      <td>1</td>\n",
       "      <td>26.0</td>\n",
       "      <td>3200.0</td>\n",
       "      <td>123.076923</td>\n",
       "      <td>1.454545</td>\n",
       "      <td>1.072245</td>\n",
       "      <td>1526.433752</td>\n",
       "    </tr>\n",
       "    <tr>\n",
       "      <th>7</th>\n",
       "      <td>1</td>\n",
       "      <td>43.0</td>\n",
       "      <td>5000.0</td>\n",
       "      <td>116.279070</td>\n",
       "      <td>1.785714</td>\n",
       "      <td>1.099468</td>\n",
       "      <td>316.227766</td>\n",
       "    </tr>\n",
       "    <tr>\n",
       "      <th>8</th>\n",
       "      <td>1</td>\n",
       "      <td>1.0</td>\n",
       "      <td>400.0</td>\n",
       "      <td>400.000000</td>\n",
       "      <td>1.000000</td>\n",
       "      <td>1.000000</td>\n",
       "      <td>1769.180601</td>\n",
       "    </tr>\n",
       "    <tr>\n",
       "      <th>9</th>\n",
       "      <td>1</td>\n",
       "      <td>51.0</td>\n",
       "      <td>4200.0</td>\n",
       "      <td>82.352941</td>\n",
       "      <td>1.400000</td>\n",
       "      <td>1.058660</td>\n",
       "      <td>1720.465053</td>\n",
       "    </tr>\n",
       "    <tr>\n",
       "      <th>10</th>\n",
       "      <td>1</td>\n",
       "      <td>132.0</td>\n",
       "      <td>8200.0</td>\n",
       "      <td>62.121212</td>\n",
       "      <td>1.782609</td>\n",
       "      <td>1.082171</td>\n",
       "      <td>316.227766</td>\n",
       "    </tr>\n",
       "    <tr>\n",
       "      <th>11</th>\n",
       "      <td>1</td>\n",
       "      <td>108.0</td>\n",
       "      <td>5400.0</td>\n",
       "      <td>50.000000</td>\n",
       "      <td>1.285714</td>\n",
       "      <td>1.037664</td>\n",
       "      <td>1208.304597</td>\n",
       "    </tr>\n",
       "    <tr>\n",
       "      <th>12</th>\n",
       "      <td>1</td>\n",
       "      <td>35.0</td>\n",
       "      <td>3600.0</td>\n",
       "      <td>102.857143</td>\n",
       "      <td>1.500000</td>\n",
       "      <td>1.065731</td>\n",
       "      <td>2109.502311</td>\n",
       "    </tr>\n",
       "    <tr>\n",
       "      <th>13</th>\n",
       "      <td>1</td>\n",
       "      <td>47.0</td>\n",
       "      <td>4400.0</td>\n",
       "      <td>93.617021</td>\n",
       "      <td>1.571429</td>\n",
       "      <td>1.072405</td>\n",
       "      <td>1513.274595</td>\n",
       "    </tr>\n",
       "    <tr>\n",
       "      <th>14</th>\n",
       "      <td>1</td>\n",
       "      <td>24.0</td>\n",
       "      <td>3200.0</td>\n",
       "      <td>133.333333</td>\n",
       "      <td>1.600000</td>\n",
       "      <td>1.079173</td>\n",
       "      <td>806.225775</td>\n",
       "    </tr>\n",
       "    <tr>\n",
       "      <th>15</th>\n",
       "      <td>1</td>\n",
       "      <td>36.0</td>\n",
       "      <td>4000.0</td>\n",
       "      <td>111.111111</td>\n",
       "      <td>1.666667</td>\n",
       "      <td>1.079855</td>\n",
       "      <td>2193.171220</td>\n",
       "    </tr>\n",
       "    <tr>\n",
       "      <th>16</th>\n",
       "      <td>1</td>\n",
       "      <td>50.0</td>\n",
       "      <td>4200.0</td>\n",
       "      <td>84.000000</td>\n",
       "      <td>1.400000</td>\n",
       "      <td>1.060258</td>\n",
       "      <td>2126.029163</td>\n",
       "    </tr>\n",
       "    <tr>\n",
       "      <th>17</th>\n",
       "      <td>1</td>\n",
       "      <td>60.0</td>\n",
       "      <td>7000.0</td>\n",
       "      <td>116.666667</td>\n",
       "      <td>2.187500</td>\n",
       "      <td>1.122518</td>\n",
       "      <td>1345.362405</td>\n",
       "    </tr>\n",
       "    <tr>\n",
       "      <th>18</th>\n",
       "      <td>1</td>\n",
       "      <td>26.0</td>\n",
       "      <td>3000.0</td>\n",
       "      <td>115.384615</td>\n",
       "      <td>1.363636</td>\n",
       "      <td>1.061893</td>\n",
       "      <td>670.820393</td>\n",
       "    </tr>\n",
       "    <tr>\n",
       "      <th>19</th>\n",
       "      <td>1</td>\n",
       "      <td>45.0</td>\n",
       "      <td>5200.0</td>\n",
       "      <td>115.555556</td>\n",
       "      <td>1.857143</td>\n",
       "      <td>1.101654</td>\n",
       "      <td>900.000000</td>\n",
       "    </tr>\n",
       "    <tr>\n",
       "      <th>20</th>\n",
       "      <td>1</td>\n",
       "      <td>39.0</td>\n",
       "      <td>3600.0</td>\n",
       "      <td>92.307692</td>\n",
       "      <td>1.384615</td>\n",
       "      <td>1.056773</td>\n",
       "      <td>300.000000</td>\n",
       "    </tr>\n",
       "    <tr>\n",
       "      <th>21</th>\n",
       "      <td>1</td>\n",
       "      <td>146.0</td>\n",
       "      <td>11000.0</td>\n",
       "      <td>75.342466</td>\n",
       "      <td>2.200000</td>\n",
       "      <td>1.115878</td>\n",
       "      <td>1170.469991</td>\n",
       "    </tr>\n",
       "    <tr>\n",
       "      <th>22</th>\n",
       "      <td>1</td>\n",
       "      <td>26.0</td>\n",
       "      <td>2800.0</td>\n",
       "      <td>107.692308</td>\n",
       "      <td>1.272727</td>\n",
       "      <td>1.050826</td>\n",
       "      <td>300.000000</td>\n",
       "    </tr>\n",
       "    <tr>\n",
       "      <th>23</th>\n",
       "      <td>1</td>\n",
       "      <td>42.0</td>\n",
       "      <td>4600.0</td>\n",
       "      <td>109.523810</td>\n",
       "      <td>1.769231</td>\n",
       "      <td>1.088587</td>\n",
       "      <td>670.820393</td>\n",
       "    </tr>\n",
       "    <tr>\n",
       "      <th>24</th>\n",
       "      <td>1</td>\n",
       "      <td>472.0</td>\n",
       "      <td>20600.0</td>\n",
       "      <td>43.644068</td>\n",
       "      <td>2.340909</td>\n",
       "      <td>1.112328</td>\n",
       "      <td>1345.362405</td>\n",
       "    </tr>\n",
       "    <tr>\n",
       "      <th>25</th>\n",
       "      <td>1</td>\n",
       "      <td>31.0</td>\n",
       "      <td>4600.0</td>\n",
       "      <td>148.387097</td>\n",
       "      <td>1.916667</td>\n",
       "      <td>1.114732</td>\n",
       "      <td>1603.121954</td>\n",
       "    </tr>\n",
       "    <tr>\n",
       "      <th>26</th>\n",
       "      <td>1</td>\n",
       "      <td>29.0</td>\n",
       "      <td>4000.0</td>\n",
       "      <td>137.931034</td>\n",
       "      <td>1.818182</td>\n",
       "      <td>1.098419</td>\n",
       "      <td>894.427191</td>\n",
       "    </tr>\n",
       "    <tr>\n",
       "      <th>27</th>\n",
       "      <td>1</td>\n",
       "      <td>89.0</td>\n",
       "      <td>8000.0</td>\n",
       "      <td>89.887640</td>\n",
       "      <td>2.105263</td>\n",
       "      <td>1.109704</td>\n",
       "      <td>300.000000</td>\n",
       "    </tr>\n",
       "    <tr>\n",
       "      <th>28</th>\n",
       "      <td>1</td>\n",
       "      <td>818.0</td>\n",
       "      <td>31800.0</td>\n",
       "      <td>38.875306</td>\n",
       "      <td>2.741379</td>\n",
       "      <td>1.128455</td>\n",
       "      <td>300.000000</td>\n",
       "    </tr>\n",
       "    <tr>\n",
       "      <th>29</th>\n",
       "      <td>1</td>\n",
       "      <td>119.0</td>\n",
       "      <td>6800.0</td>\n",
       "      <td>57.142857</td>\n",
       "      <td>1.545455</td>\n",
       "      <td>1.063427</td>\n",
       "      <td>2282.542442</td>\n",
       "    </tr>\n",
       "    <tr>\n",
       "      <th>...</th>\n",
       "      <td>...</td>\n",
       "      <td>...</td>\n",
       "      <td>...</td>\n",
       "      <td>...</td>\n",
       "      <td>...</td>\n",
       "      <td>...</td>\n",
       "      <td>...</td>\n",
       "    </tr>\n",
       "    <tr>\n",
       "      <th>176</th>\n",
       "      <td>1</td>\n",
       "      <td>155.0</td>\n",
       "      <td>9000.0</td>\n",
       "      <td>58.064516</td>\n",
       "      <td>1.800000</td>\n",
       "      <td>1.083038</td>\n",
       "      <td>1711.724277</td>\n",
       "    </tr>\n",
       "    <tr>\n",
       "      <th>177</th>\n",
       "      <td>1</td>\n",
       "      <td>25.0</td>\n",
       "      <td>3000.0</td>\n",
       "      <td>120.000000</td>\n",
       "      <td>1.500000</td>\n",
       "      <td>1.065244</td>\n",
       "      <td>1500.000000</td>\n",
       "    </tr>\n",
       "    <tr>\n",
       "      <th>178</th>\n",
       "      <td>1</td>\n",
       "      <td>169.0</td>\n",
       "      <td>8400.0</td>\n",
       "      <td>49.704142</td>\n",
       "      <td>1.615385</td>\n",
       "      <td>1.066885</td>\n",
       "      <td>6972.087205</td>\n",
       "    </tr>\n",
       "    <tr>\n",
       "      <th>179</th>\n",
       "      <td>1</td>\n",
       "      <td>26.0</td>\n",
       "      <td>4400.0</td>\n",
       "      <td>169.230769</td>\n",
       "      <td>2.000000</td>\n",
       "      <td>1.123327</td>\n",
       "      <td>300.000000</td>\n",
       "    </tr>\n",
       "    <tr>\n",
       "      <th>180</th>\n",
       "      <td>1</td>\n",
       "      <td>212.0</td>\n",
       "      <td>10000.0</td>\n",
       "      <td>47.169811</td>\n",
       "      <td>1.666667</td>\n",
       "      <td>1.074221</td>\n",
       "      <td>200.000000</td>\n",
       "    </tr>\n",
       "    <tr>\n",
       "      <th>181</th>\n",
       "      <td>1</td>\n",
       "      <td>94.0</td>\n",
       "      <td>7200.0</td>\n",
       "      <td>76.595745</td>\n",
       "      <td>1.800000</td>\n",
       "      <td>1.089972</td>\n",
       "      <td>200.000000</td>\n",
       "    </tr>\n",
       "    <tr>\n",
       "      <th>182</th>\n",
       "      <td>1</td>\n",
       "      <td>291.0</td>\n",
       "      <td>12200.0</td>\n",
       "      <td>41.924399</td>\n",
       "      <td>1.742857</td>\n",
       "      <td>1.078081</td>\n",
       "      <td>565.685425</td>\n",
       "    </tr>\n",
       "    <tr>\n",
       "      <th>183</th>\n",
       "      <td>1</td>\n",
       "      <td>103.0</td>\n",
       "      <td>11600.0</td>\n",
       "      <td>112.621359</td>\n",
       "      <td>2.761905</td>\n",
       "      <td>1.151669</td>\n",
       "      <td>500.000000</td>\n",
       "    </tr>\n",
       "    <tr>\n",
       "      <th>184</th>\n",
       "      <td>1</td>\n",
       "      <td>99.0</td>\n",
       "      <td>5000.0</td>\n",
       "      <td>50.505051</td>\n",
       "      <td>1.250000</td>\n",
       "      <td>1.033055</td>\n",
       "      <td>1204.159458</td>\n",
       "    </tr>\n",
       "    <tr>\n",
       "      <th>185</th>\n",
       "      <td>1</td>\n",
       "      <td>30.0</td>\n",
       "      <td>3000.0</td>\n",
       "      <td>100.000000</td>\n",
       "      <td>1.363636</td>\n",
       "      <td>1.049844</td>\n",
       "      <td>400.000000</td>\n",
       "    </tr>\n",
       "    <tr>\n",
       "      <th>186</th>\n",
       "      <td>1</td>\n",
       "      <td>258.0</td>\n",
       "      <td>15800.0</td>\n",
       "      <td>61.240310</td>\n",
       "      <td>2.393939</td>\n",
       "      <td>1.121900</td>\n",
       "      <td>400.000000</td>\n",
       "    </tr>\n",
       "    <tr>\n",
       "      <th>187</th>\n",
       "      <td>1</td>\n",
       "      <td>26.0</td>\n",
       "      <td>3400.0</td>\n",
       "      <td>130.769231</td>\n",
       "      <td>1.545455</td>\n",
       "      <td>1.081970</td>\n",
       "      <td>1204.159458</td>\n",
       "    </tr>\n",
       "    <tr>\n",
       "      <th>188</th>\n",
       "      <td>1</td>\n",
       "      <td>285.0</td>\n",
       "      <td>14400.0</td>\n",
       "      <td>50.526316</td>\n",
       "      <td>2.117647</td>\n",
       "      <td>1.101902</td>\n",
       "      <td>223.606798</td>\n",
       "    </tr>\n",
       "    <tr>\n",
       "      <th>189</th>\n",
       "      <td>1</td>\n",
       "      <td>13.0</td>\n",
       "      <td>2000.0</td>\n",
       "      <td>153.846154</td>\n",
       "      <td>1.250000</td>\n",
       "      <td>1.055534</td>\n",
       "      <td>223.606798</td>\n",
       "    </tr>\n",
       "    <tr>\n",
       "      <th>190</th>\n",
       "      <td>1</td>\n",
       "      <td>43.0</td>\n",
       "      <td>3400.0</td>\n",
       "      <td>79.069767</td>\n",
       "      <td>1.214286</td>\n",
       "      <td>1.040005</td>\n",
       "      <td>921.954446</td>\n",
       "    </tr>\n",
       "    <tr>\n",
       "      <th>191</th>\n",
       "      <td>1</td>\n",
       "      <td>3.0</td>\n",
       "      <td>800.0</td>\n",
       "      <td>266.666667</td>\n",
       "      <td>1.000000</td>\n",
       "      <td>1.027906</td>\n",
       "      <td>360.555128</td>\n",
       "    </tr>\n",
       "    <tr>\n",
       "      <th>192</th>\n",
       "      <td>1</td>\n",
       "      <td>8.0</td>\n",
       "      <td>1800.0</td>\n",
       "      <td>225.000000</td>\n",
       "      <td>1.500000</td>\n",
       "      <td>1.082261</td>\n",
       "      <td>360.555128</td>\n",
       "    </tr>\n",
       "    <tr>\n",
       "      <th>193</th>\n",
       "      <td>2</td>\n",
       "      <td>8576.0</td>\n",
       "      <td>116400.0</td>\n",
       "      <td>13.572761</td>\n",
       "      <td>3.129032</td>\n",
       "      <td>1.125358</td>\n",
       "      <td>282.842712</td>\n",
       "    </tr>\n",
       "    <tr>\n",
       "      <th>194</th>\n",
       "      <td>2</td>\n",
       "      <td>287206.0</td>\n",
       "      <td>2032600.0</td>\n",
       "      <td>7.077150</td>\n",
       "      <td>9.480410</td>\n",
       "      <td>1.206571</td>\n",
       "      <td>200.000000</td>\n",
       "    </tr>\n",
       "    <tr>\n",
       "      <th>195</th>\n",
       "      <td>2</td>\n",
       "      <td>83.0</td>\n",
       "      <td>6400.0</td>\n",
       "      <td>77.108434</td>\n",
       "      <td>1.684211</td>\n",
       "      <td>1.082642</td>\n",
       "      <td>282.842712</td>\n",
       "    </tr>\n",
       "    <tr>\n",
       "      <th>196</th>\n",
       "      <td>2</td>\n",
       "      <td>143.0</td>\n",
       "      <td>9200.0</td>\n",
       "      <td>64.335664</td>\n",
       "      <td>1.916667</td>\n",
       "      <td>1.092297</td>\n",
       "      <td>223.606798</td>\n",
       "    </tr>\n",
       "    <tr>\n",
       "      <th>197</th>\n",
       "      <td>2</td>\n",
       "      <td>2.0</td>\n",
       "      <td>600.0</td>\n",
       "      <td>300.000000</td>\n",
       "      <td>1.000000</td>\n",
       "      <td>1.011893</td>\n",
       "      <td>300.000000</td>\n",
       "    </tr>\n",
       "    <tr>\n",
       "      <th>198</th>\n",
       "      <td>2</td>\n",
       "      <td>50.0</td>\n",
       "      <td>3600.0</td>\n",
       "      <td>72.000000</td>\n",
       "      <td>1.200000</td>\n",
       "      <td>1.036764</td>\n",
       "      <td>223.606798</td>\n",
       "    </tr>\n",
       "    <tr>\n",
       "      <th>199</th>\n",
       "      <td>2</td>\n",
       "      <td>255.0</td>\n",
       "      <td>14400.0</td>\n",
       "      <td>56.470588</td>\n",
       "      <td>2.250000</td>\n",
       "      <td>1.110210</td>\n",
       "      <td>200.000000</td>\n",
       "    </tr>\n",
       "    <tr>\n",
       "      <th>200</th>\n",
       "      <td>2</td>\n",
       "      <td>2.0</td>\n",
       "      <td>600.0</td>\n",
       "      <td>300.000000</td>\n",
       "      <td>1.000000</td>\n",
       "      <td>1.011893</td>\n",
       "      <td>316.227766</td>\n",
       "    </tr>\n",
       "    <tr>\n",
       "      <th>201</th>\n",
       "      <td>2</td>\n",
       "      <td>1.0</td>\n",
       "      <td>400.0</td>\n",
       "      <td>400.000000</td>\n",
       "      <td>1.000000</td>\n",
       "      <td>1.000000</td>\n",
       "      <td>223.606798</td>\n",
       "    </tr>\n",
       "    <tr>\n",
       "      <th>202</th>\n",
       "      <td>2</td>\n",
       "      <td>1.0</td>\n",
       "      <td>400.0</td>\n",
       "      <td>400.000000</td>\n",
       "      <td>1.000000</td>\n",
       "      <td>1.000000</td>\n",
       "      <td>223.606798</td>\n",
       "    </tr>\n",
       "    <tr>\n",
       "      <th>203</th>\n",
       "      <td>2</td>\n",
       "      <td>11.0</td>\n",
       "      <td>1800.0</td>\n",
       "      <td>163.636364</td>\n",
       "      <td>1.285714</td>\n",
       "      <td>1.052571</td>\n",
       "      <td>223.606798</td>\n",
       "    </tr>\n",
       "    <tr>\n",
       "      <th>204</th>\n",
       "      <td>2</td>\n",
       "      <td>2.0</td>\n",
       "      <td>800.0</td>\n",
       "      <td>400.000000</td>\n",
       "      <td>1.333333</td>\n",
       "      <td>1.069990</td>\n",
       "      <td>223.606798</td>\n",
       "    </tr>\n",
       "    <tr>\n",
       "      <th>205</th>\n",
       "      <td>2</td>\n",
       "      <td>14.0</td>\n",
       "      <td>2400.0</td>\n",
       "      <td>171.428571</td>\n",
       "      <td>1.500000</td>\n",
       "      <td>1.079705</td>\n",
       "      <td>282.842712</td>\n",
       "    </tr>\n",
       "  </tbody>\n",
       "</table>\n",
       "<p>206 rows × 7 columns</p>\n",
       "</div>"
      ],
      "text/plain": [
       "          class_val      area  perimeter  perimeter_area_ratio  shape_index  \\\n",
       "patch_id                                                                      \n",
       "0                 1     115.0    10600.0             92.173913     2.409091   \n",
       "1                 1      13.0     2600.0            200.000000     1.625000   \n",
       "2                 1       2.0      600.0            300.000000     1.000000   \n",
       "3                 1      69.0     6000.0             86.956522     1.764706   \n",
       "4                 1      76.0     8800.0            115.789474     2.444444   \n",
       "5                 1      50.0     4600.0             92.000000     1.533333   \n",
       "6                 1      26.0     3200.0            123.076923     1.454545   \n",
       "7                 1      43.0     5000.0            116.279070     1.785714   \n",
       "8                 1       1.0      400.0            400.000000     1.000000   \n",
       "9                 1      51.0     4200.0             82.352941     1.400000   \n",
       "10                1     132.0     8200.0             62.121212     1.782609   \n",
       "11                1     108.0     5400.0             50.000000     1.285714   \n",
       "12                1      35.0     3600.0            102.857143     1.500000   \n",
       "13                1      47.0     4400.0             93.617021     1.571429   \n",
       "14                1      24.0     3200.0            133.333333     1.600000   \n",
       "15                1      36.0     4000.0            111.111111     1.666667   \n",
       "16                1      50.0     4200.0             84.000000     1.400000   \n",
       "17                1      60.0     7000.0            116.666667     2.187500   \n",
       "18                1      26.0     3000.0            115.384615     1.363636   \n",
       "19                1      45.0     5200.0            115.555556     1.857143   \n",
       "20                1      39.0     3600.0             92.307692     1.384615   \n",
       "21                1     146.0    11000.0             75.342466     2.200000   \n",
       "22                1      26.0     2800.0            107.692308     1.272727   \n",
       "23                1      42.0     4600.0            109.523810     1.769231   \n",
       "24                1     472.0    20600.0             43.644068     2.340909   \n",
       "25                1      31.0     4600.0            148.387097     1.916667   \n",
       "26                1      29.0     4000.0            137.931034     1.818182   \n",
       "27                1      89.0     8000.0             89.887640     2.105263   \n",
       "28                1     818.0    31800.0             38.875306     2.741379   \n",
       "29                1     119.0     6800.0             57.142857     1.545455   \n",
       "...             ...       ...        ...                   ...          ...   \n",
       "176               1     155.0     9000.0             58.064516     1.800000   \n",
       "177               1      25.0     3000.0            120.000000     1.500000   \n",
       "178               1     169.0     8400.0             49.704142     1.615385   \n",
       "179               1      26.0     4400.0            169.230769     2.000000   \n",
       "180               1     212.0    10000.0             47.169811     1.666667   \n",
       "181               1      94.0     7200.0             76.595745     1.800000   \n",
       "182               1     291.0    12200.0             41.924399     1.742857   \n",
       "183               1     103.0    11600.0            112.621359     2.761905   \n",
       "184               1      99.0     5000.0             50.505051     1.250000   \n",
       "185               1      30.0     3000.0            100.000000     1.363636   \n",
       "186               1     258.0    15800.0             61.240310     2.393939   \n",
       "187               1      26.0     3400.0            130.769231     1.545455   \n",
       "188               1     285.0    14400.0             50.526316     2.117647   \n",
       "189               1      13.0     2000.0            153.846154     1.250000   \n",
       "190               1      43.0     3400.0             79.069767     1.214286   \n",
       "191               1       3.0      800.0            266.666667     1.000000   \n",
       "192               1       8.0     1800.0            225.000000     1.500000   \n",
       "193               2    8576.0   116400.0             13.572761     3.129032   \n",
       "194               2  287206.0  2032600.0              7.077150     9.480410   \n",
       "195               2      83.0     6400.0             77.108434     1.684211   \n",
       "196               2     143.0     9200.0             64.335664     1.916667   \n",
       "197               2       2.0      600.0            300.000000     1.000000   \n",
       "198               2      50.0     3600.0             72.000000     1.200000   \n",
       "199               2     255.0    14400.0             56.470588     2.250000   \n",
       "200               2       2.0      600.0            300.000000     1.000000   \n",
       "201               2       1.0      400.0            400.000000     1.000000   \n",
       "202               2       1.0      400.0            400.000000     1.000000   \n",
       "203               2      11.0     1800.0            163.636364     1.285714   \n",
       "204               2       2.0      800.0            400.000000     1.333333   \n",
       "205               2      14.0     2400.0            171.428571     1.500000   \n",
       "\n",
       "          fractal_dimension  euclidean_nearest_neighbor  \n",
       "patch_id                                                 \n",
       "0                  1.129654                 1431.782106  \n",
       "1                  1.100096                  223.606798  \n",
       "2                  1.011893                  223.606798  \n",
       "3                  1.087917                  316.227766  \n",
       "4                  1.136721                  316.227766  \n",
       "5                  1.074123                 1236.931688  \n",
       "6                  1.072245                 1526.433752  \n",
       "7                  1.099468                  316.227766  \n",
       "8                  1.000000                 1769.180601  \n",
       "9                  1.058660                 1720.465053  \n",
       "10                 1.082171                  316.227766  \n",
       "11                 1.037664                 1208.304597  \n",
       "12                 1.065731                 2109.502311  \n",
       "13                 1.072405                 1513.274595  \n",
       "14                 1.079173                  806.225775  \n",
       "15                 1.079855                 2193.171220  \n",
       "16                 1.060258                 2126.029163  \n",
       "17                 1.122518                 1345.362405  \n",
       "18                 1.061893                  670.820393  \n",
       "19                 1.101654                  900.000000  \n",
       "20                 1.056773                  300.000000  \n",
       "21                 1.115878                 1170.469991  \n",
       "22                 1.050826                  300.000000  \n",
       "23                 1.088587                  670.820393  \n",
       "24                 1.112328                 1345.362405  \n",
       "25                 1.114732                 1603.121954  \n",
       "26                 1.098419                  894.427191  \n",
       "27                 1.109704                  300.000000  \n",
       "28                 1.128455                  300.000000  \n",
       "29                 1.063427                 2282.542442  \n",
       "...                     ...                         ...  \n",
       "176                1.083038                 1711.724277  \n",
       "177                1.065244                 1500.000000  \n",
       "178                1.066885                 6972.087205  \n",
       "179                1.123327                  300.000000  \n",
       "180                1.074221                  200.000000  \n",
       "181                1.089972                  200.000000  \n",
       "182                1.078081                  565.685425  \n",
       "183                1.151669                  500.000000  \n",
       "184                1.033055                 1204.159458  \n",
       "185                1.049844                  400.000000  \n",
       "186                1.121900                  400.000000  \n",
       "187                1.081970                 1204.159458  \n",
       "188                1.101902                  223.606798  \n",
       "189                1.055534                  223.606798  \n",
       "190                1.040005                  921.954446  \n",
       "191                1.027906                  360.555128  \n",
       "192                1.082261                  360.555128  \n",
       "193                1.125358                  282.842712  \n",
       "194                1.206571                  200.000000  \n",
       "195                1.082642                  282.842712  \n",
       "196                1.092297                  223.606798  \n",
       "197                1.011893                  300.000000  \n",
       "198                1.036764                  223.606798  \n",
       "199                1.110210                  200.000000  \n",
       "200                1.011893                  316.227766  \n",
       "201                1.000000                  223.606798  \n",
       "202                1.000000                  223.606798  \n",
       "203                1.052571                  223.606798  \n",
       "204                1.069990                  223.606798  \n",
       "205                1.079705                  282.842712  \n",
       "\n",
       "[206 rows x 7 columns]"
      ]
     },
     "execution_count": 4,
     "metadata": {},
     "output_type": "execute_result"
    }
   ],
   "source": [
    "patch_metrics_df = ls.compute_patch_metrics_df()\n",
    "patch_metrics_df"
   ]
  },
  {
   "cell_type": "markdown",
   "metadata": {
    "ein.tags": "worksheet-0",
    "slideshow": {
     "slide_type": "-"
    }
   },
   "source": [
    "We can operate upon `patch_metrics_df` as with any other pandas DataFrame. In this case, there are 206 patches, of which 193 are *urban* and 13 *non-urban*, as noted respectively by the values of 1 and 2 within the `class_val` column:"
   ]
  },
  {
   "cell_type": "code",
   "execution_count": 5,
   "metadata": {
    "autoscroll": false,
    "ein.hycell": false,
    "ein.tags": "worksheet-0",
    "slideshow": {
     "slide_type": "-"
    }
   },
   "outputs": [
    {
     "data": {
      "text/plain": [
       "1    193\n",
       "2     13\n",
       "Name: class_val, dtype: int64"
      ]
     },
     "execution_count": 5,
     "metadata": {},
     "output_type": "execute_result"
    }
   ],
   "source": [
    "patch_metrics_df['class_val'].value_counts()"
   ]
  },
  {
   "cell_type": "markdown",
   "metadata": {
    "ein.tags": "worksheet-0",
    "slideshow": {
     "slide_type": "-"
    }
   },
   "source": [
    "We might also use methods from other libraries, such as matplotlib or numpy. For instance, in order to explore the size distribution of patches, we can also plot the distribution of the logarithm of `area` for *urban* and *non-urban* classes as follows:"
   ]
  },
  {
   "cell_type": "code",
   "execution_count": 6,
   "metadata": {
    "autoscroll": false,
    "ein.hycell": false,
    "ein.tags": "worksheet-0",
    "slideshow": {
     "slide_type": "-"
    }
   },
   "outputs": [
    {
     "data": {
      "text/plain": [
       "<matplotlib.legend.Legend at 0x7fcb5bbe4080>"
      ]
     },
     "execution_count": 6,
     "metadata": {},
     "output_type": "execute_result"
    },
    {
     "data": {
      "image/png": "[encoded data removed]",
      "text/plain": [
       "<Figure size 432x288 with 1 Axes>"
      ]
     },
     "metadata": {
      "needs_background": "light"
     },
     "output_type": "display_data"
    }
   ],
   "source": [
    "import matplotlib as mpl\n",
    "import numpy as np\n",
    "\n",
    "ax = patch_metrics_df[patch_metrics_df['class_val'] == 1].apply(np.log10).hist(\n",
    "    column='area', label='urban', density=True)\n",
    "ax = patch_metrics_df[patch_metrics_df['class_val'] == 2].apply(np.log10).hist(\n",
    "    column='area', ax=ax, label='non-urban', density=True)\n",
    "\n",
    "ax[0].get_xaxis().set_major_formatter(\n",
    "    mpl.ticker.FuncFormatter(lambda x, p: '10^%d' % x))\n",
    "ax[0].legend()"
   ]
  },
  {
   "cell_type": "markdown",
   "metadata": {
    "ein.tags": "worksheet-0",
    "slideshow": {
     "slide_type": "-"
    }
   },
   "source": [
    "#### Class-level metrics"
   ]
  },
  {
   "cell_type": "markdown",
   "metadata": {
    "autoscroll": false,
    "ein.hycell": false,
    "ein.tags": "worksheet-0",
    "slideshow": {
     "slide_type": "-"
    }
   },
   "source": [
    "The metrics can also be computed at the class level, that is, aggregating over all patches of a land use/cover class"
   ]
  },
  {
   "cell_type": "markdown",
   "metadata": {
    "ein.tags": "worksheet-0",
    "slideshow": {
     "slide_type": "-"
    }
   },
   "source": [
    "<a id='class-metrics-df'></a>"
   ]
  },
  {
   "cell_type": "code",
   "execution_count": 7,
   "metadata": {
    "autoscroll": false,
    "ein.hycell": false,
    "ein.tags": "worksheet-0",
    "slideshow": {
     "slide_type": "-"
    }
   },
   "outputs": [
    {
     "data": {
      "text/html": [
       "<div>\n",
       "<style scoped>\n",
       "    .dataframe tbody tr th:only-of-type {\n",
       "        vertical-align: middle;\n",
       "    }\n",
       "\n",
       "    .dataframe tbody tr th {\n",
       "        vertical-align: top;\n",
       "    }\n",
       "\n",
       "    .dataframe thead th {\n",
       "        text-align: right;\n",
       "    }\n",
       "</style>\n",
       "<table border=\"1\" class=\"dataframe\">\n",
       "  <thead>\n",
       "    <tr style=\"text-align: right;\">\n",
       "      <th></th>\n",
       "      <th>total_area</th>\n",
       "      <th>proportion_of_landscape</th>\n",
       "      <th>number_of_patches</th>\n",
       "      <th>patch_density</th>\n",
       "      <th>largest_patch_index</th>\n",
       "      <th>total_edge</th>\n",
       "      <th>edge_density</th>\n",
       "      <th>landscape_shape_index</th>\n",
       "      <th>area_mn</th>\n",
       "      <th>area_am</th>\n",
       "      <th>...</th>\n",
       "      <th>fractal_dimension_md</th>\n",
       "      <th>fractal_dimension_ra</th>\n",
       "      <th>fractal_dimension_sd</th>\n",
       "      <th>fractal_dimension_cv</th>\n",
       "      <th>euclidean_nearest_neighbor_mn</th>\n",
       "      <th>euclidean_nearest_neighbor_am</th>\n",
       "      <th>euclidean_nearest_neighbor_md</th>\n",
       "      <th>euclidean_nearest_neighbor_ra</th>\n",
       "      <th>euclidean_nearest_neighbor_sd</th>\n",
       "      <th>euclidean_nearest_neighbor_cv</th>\n",
       "    </tr>\n",
       "    <tr>\n",
       "      <th>class_val</th>\n",
       "      <th></th>\n",
       "      <th></th>\n",
       "      <th></th>\n",
       "      <th></th>\n",
       "      <th></th>\n",
       "      <th></th>\n",
       "      <th></th>\n",
       "      <th></th>\n",
       "      <th></th>\n",
       "      <th></th>\n",
       "      <th></th>\n",
       "      <th></th>\n",
       "      <th></th>\n",
       "      <th></th>\n",
       "      <th></th>\n",
       "      <th></th>\n",
       "      <th></th>\n",
       "      <th></th>\n",
       "      <th></th>\n",
       "      <th></th>\n",
       "      <th></th>\n",
       "    </tr>\n",
       "  </thead>\n",
       "  <tbody>\n",
       "    <tr>\n",
       "      <th>1</th>\n",
       "      <td>24729.0</td>\n",
       "      <td>7.701939</td>\n",
       "      <td>193</td>\n",
       "      <td>0.060111</td>\n",
       "      <td>2.069921</td>\n",
       "      <td>1431600.0</td>\n",
       "      <td>4.458771</td>\n",
       "      <td>22.949206</td>\n",
       "      <td>128.129534</td>\n",
       "      <td>2201.712038</td>\n",
       "      <td>...</td>\n",
       "      <td>1.081665</td>\n",
       "      <td>0.200096</td>\n",
       "      <td>0.035772</td>\n",
       "      <td>3.298134</td>\n",
       "      <td>1023.354950</td>\n",
       "      <td>707.998485</td>\n",
       "      <td>781.024968</td>\n",
       "      <td>6772.087205</td>\n",
       "      <td>879.913199</td>\n",
       "      <td>85.983187</td>\n",
       "    </tr>\n",
       "    <tr>\n",
       "      <th>2</th>\n",
       "      <td>296346.0</td>\n",
       "      <td>92.298061</td>\n",
       "      <td>13</td>\n",
       "      <td>0.004049</td>\n",
       "      <td>89.451374</td>\n",
       "      <td>1431600.0</td>\n",
       "      <td>4.458771</td>\n",
       "      <td>10.053260</td>\n",
       "      <td>22795.846154</td>\n",
       "      <td>278596.402199</td>\n",
       "      <td>...</td>\n",
       "      <td>1.069990</td>\n",
       "      <td>0.206571</td>\n",
       "      <td>0.056823</td>\n",
       "      <td>5.322120</td>\n",
       "      <td>246.645899</td>\n",
       "      <td>202.442542</td>\n",
       "      <td>223.606798</td>\n",
       "      <td>116.227766</td>\n",
       "      <td>38.386100</td>\n",
       "      <td>15.563243</td>\n",
       "    </tr>\n",
       "  </tbody>\n",
       "</table>\n",
       "<p>2 rows × 38 columns</p>\n",
       "</div>"
      ],
      "text/plain": [
       "           total_area  proportion_of_landscape  number_of_patches  \\\n",
       "class_val                                                           \n",
       "1             24729.0                 7.701939                193   \n",
       "2            296346.0                92.298061                 13   \n",
       "\n",
       "           patch_density  largest_patch_index  total_edge  edge_density  \\\n",
       "class_val                                                                 \n",
       "1               0.060111             2.069921   1431600.0      4.458771   \n",
       "2               0.004049            89.451374   1431600.0      4.458771   \n",
       "\n",
       "           landscape_shape_index       area_mn        area_am  \\\n",
       "class_val                                                       \n",
       "1                      22.949206    128.129534    2201.712038   \n",
       "2                      10.053260  22795.846154  278596.402199   \n",
       "\n",
       "                       ...                fractal_dimension_md  \\\n",
       "class_val              ...                                       \n",
       "1                      ...                            1.081665   \n",
       "2                      ...                            1.069990   \n",
       "\n",
       "           fractal_dimension_ra  fractal_dimension_sd  fractal_dimension_cv  \\\n",
       "class_val                                                                     \n",
       "1                      0.200096              0.035772              3.298134   \n",
       "2                      0.206571              0.056823              5.322120   \n",
       "\n",
       "           euclidean_nearest_neighbor_mn  euclidean_nearest_neighbor_am  \\\n",
       "class_val                                                                 \n",
       "1                            1023.354950                     707.998485   \n",
       "2                             246.645899                     202.442542   \n",
       "\n",
       "           euclidean_nearest_neighbor_md  euclidean_nearest_neighbor_ra  \\\n",
       "class_val                                                                 \n",
       "1                             781.024968                    6772.087205   \n",
       "2                             223.606798                     116.227766   \n",
       "\n",
       "           euclidean_nearest_neighbor_sd  euclidean_nearest_neighbor_cv  \n",
       "class_val                                                                \n",
       "1                             879.913199                      85.983187  \n",
       "2                              38.386100                      15.563243  \n",
       "\n",
       "[2 rows x 38 columns]"
      ]
     },
     "execution_count": 7,
     "metadata": {},
     "output_type": "execute_result"
    }
   ],
   "source": [
    "class_metrics_df = ls.compute_class_metrics_df()\n",
    "class_metrics_df"
   ]
  },
  {
   "cell_type": "markdown",
   "metadata": {
    "ein.tags": "worksheet-0",
    "slideshow": {
     "slide_type": "-"
    }
   },
   "source": [
    "#### Landscape-level metrics"
   ]
  },
  {
   "cell_type": "markdown",
   "metadata": {
    "ein.tags": "worksheet-0",
    "slideshow": {
     "slide_type": "-"
    }
   },
   "source": [
    "Finally, the metrics can also be computed at the landscape level, that is, aggregating over all patches of the landscape"
   ]
  },
  {
   "cell_type": "code",
   "execution_count": 8,
   "metadata": {
    "autoscroll": false,
    "ein.hycell": false,
    "ein.tags": "worksheet-0",
    "slideshow": {
     "slide_type": "-"
    }
   },
   "outputs": [
    {
     "data": {
      "text/html": [
       "<div>\n",
       "<style scoped>\n",
       "    .dataframe tbody tr th:only-of-type {\n",
       "        vertical-align: middle;\n",
       "    }\n",
       "\n",
       "    .dataframe tbody tr th {\n",
       "        vertical-align: top;\n",
       "    }\n",
       "\n",
       "    .dataframe thead th {\n",
       "        text-align: right;\n",
       "    }\n",
       "</style>\n",
       "<table border=\"1\" class=\"dataframe\">\n",
       "  <thead>\n",
       "    <tr style=\"text-align: right;\">\n",
       "      <th></th>\n",
       "      <th>total_area</th>\n",
       "      <th>number_of_patches</th>\n",
       "      <th>patch_density</th>\n",
       "      <th>largest_patch_index</th>\n",
       "      <th>total_edge</th>\n",
       "      <th>edge_density</th>\n",
       "      <th>landscape_shape_index</th>\n",
       "      <th>area_mn</th>\n",
       "      <th>area_am</th>\n",
       "      <th>area_md</th>\n",
       "      <th>...</th>\n",
       "      <th>fractal_dimension_ra</th>\n",
       "      <th>fractal_dimension_sd</th>\n",
       "      <th>fractal_dimension_cv</th>\n",
       "      <th>euclidean_nearest_neighbor_mn</th>\n",
       "      <th>euclidean_nearest_neighbor_am</th>\n",
       "      <th>euclidean_nearest_neighbor_md</th>\n",
       "      <th>euclidean_nearest_neighbor_ra</th>\n",
       "      <th>euclidean_nearest_neighbor_sd</th>\n",
       "      <th>euclidean_nearest_neighbor_cv</th>\n",
       "      <th>shannon_diversity_index</th>\n",
       "    </tr>\n",
       "  </thead>\n",
       "  <tbody>\n",
       "    <tr>\n",
       "      <th>0</th>\n",
       "      <td>321075.0</td>\n",
       "      <td>206</td>\n",
       "      <td>0.064159</td>\n",
       "      <td>89.451374</td>\n",
       "      <td>1431600.0</td>\n",
       "      <td>4.458771</td>\n",
       "      <td>9.716931</td>\n",
       "      <td>1558.616505</td>\n",
       "      <td>257308.652318</td>\n",
       "      <td>43.0</td>\n",
       "      <td>...</td>\n",
       "      <td>0.206571</td>\n",
       "      <td>0.037678</td>\n",
       "      <td>3.477259</td>\n",
       "      <td>974.33933</td>\n",
       "      <td>241.380151</td>\n",
       "      <td>700.0</td>\n",
       "      <td>6772.087205</td>\n",
       "      <td>872.438139</td>\n",
       "      <td>89.541509</td>\n",
       "      <td>0.271429</td>\n",
       "    </tr>\n",
       "  </tbody>\n",
       "</table>\n",
       "<p>1 rows × 38 columns</p>\n",
       "</div>"
      ],
      "text/plain": [
       "   total_area  number_of_patches  patch_density  largest_patch_index  \\\n",
       "0    321075.0                206       0.064159            89.451374   \n",
       "\n",
       "   total_edge  edge_density  landscape_shape_index      area_mn  \\\n",
       "0   1431600.0      4.458771               9.716931  1558.616505   \n",
       "\n",
       "         area_am  area_md           ...             fractal_dimension_ra  \\\n",
       "0  257308.652318     43.0           ...                         0.206571   \n",
       "\n",
       "   fractal_dimension_sd  fractal_dimension_cv  euclidean_nearest_neighbor_mn  \\\n",
       "0              0.037678              3.477259                      974.33933   \n",
       "\n",
       "   euclidean_nearest_neighbor_am  euclidean_nearest_neighbor_md  \\\n",
       "0                     241.380151                          700.0   \n",
       "\n",
       "   euclidean_nearest_neighbor_ra  euclidean_nearest_neighbor_sd  \\\n",
       "0                    6772.087205                     872.438139   \n",
       "\n",
       "   euclidean_nearest_neighbor_cv  shannon_diversity_index  \n",
       "0                      89.541509                 0.271429  \n",
       "\n",
       "[1 rows x 38 columns]"
      ]
     },
     "execution_count": 8,
     "metadata": {},
     "output_type": "execute_result"
    }
   ],
   "source": [
    "landscape_metrics_df = ls.compute_landscape_metrics_df()\n",
    "landscape_metrics_df"
   ]
  },
  {
   "cell_type": "markdown",
   "metadata": {
    "ein.tags": "worksheet-0",
    "slideshow": {
     "slide_type": "-"
    }
   },
   "source": [
    "### Choosing your metrics"
   ]
  },
  {
   "cell_type": "markdown",
   "metadata": {
    "ein.tags": "worksheet-0",
    "slideshow": {
     "slide_type": "-"
    }
   },
   "source": [
    "You can see all the implemented metrics through the following constants defined at the `Landscape` class:"
   ]
  },
  {
   "cell_type": "markdown",
   "metadata": {
    "ein.tags": "worksheet-0",
    "slideshow": {
     "slide_type": "-"
    }
   },
   "source": [
    "<a id='available-metrics'></a>"
   ]
  },
  {
   "cell_type": "code",
   "execution_count": 9,
   "metadata": {
    "autoscroll": false,
    "ein.hycell": false,
    "ein.tags": "worksheet-0",
    "slideshow": {
     "slide_type": "-"
    }
   },
   "outputs": [
    {
     "data": {
      "text/plain": [
       "(['area',\n",
       "  'perimeter',\n",
       "  'perimeter_area_ratio',\n",
       "  'shape_index',\n",
       "  'fractal_dimension',\n",
       "  'euclidean_nearest_neighbor'],\n",
       " ['total_area',\n",
       "  'proportion_of_landscape',\n",
       "  'number_of_patches',\n",
       "  'patch_density',\n",
       "  'largest_patch_index',\n",
       "  'total_edge',\n",
       "  'edge_density',\n",
       "  'landscape_shape_index',\n",
       "  'area_mn',\n",
       "  'area_am',\n",
       "  'area_md',\n",
       "  'area_ra',\n",
       "  'area_sd',\n",
       "  'area_cv',\n",
       "  'perimeter_area_ratio_mn',\n",
       "  'perimeter_area_ratio_am',\n",
       "  'perimeter_area_ratio_md',\n",
       "  'perimeter_area_ratio_ra',\n",
       "  'perimeter_area_ratio_sd',\n",
       "  'perimeter_area_ratio_cv',\n",
       "  'shape_index_mn',\n",
       "  'shape_index_am',\n",
       "  'shape_index_md',\n",
       "  'shape_index_ra',\n",
       "  'shape_index_sd',\n",
       "  'shape_index_cv',\n",
       "  'fractal_dimension_mn',\n",
       "  'fractal_dimension_am',\n",
       "  'fractal_dimension_md',\n",
       "  'fractal_dimension_ra',\n",
       "  'fractal_dimension_sd',\n",
       "  'fractal_dimension_cv',\n",
       "  'euclidean_nearest_neighbor_mn',\n",
       "  'euclidean_nearest_neighbor_am',\n",
       "  'euclidean_nearest_neighbor_md',\n",
       "  'euclidean_nearest_neighbor_ra',\n",
       "  'euclidean_nearest_neighbor_sd',\n",
       "  'euclidean_nearest_neighbor_cv'],\n",
       " ['total_area',\n",
       "  'number_of_patches',\n",
       "  'patch_density',\n",
       "  'largest_patch_index',\n",
       "  'total_edge',\n",
       "  'edge_density',\n",
       "  'landscape_shape_index',\n",
       "  'area_mn',\n",
       "  'area_am',\n",
       "  'area_md',\n",
       "  'area_ra',\n",
       "  'area_sd',\n",
       "  'area_cv',\n",
       "  'perimeter_area_ratio_mn',\n",
       "  'perimeter_area_ratio_am',\n",
       "  'perimeter_area_ratio_md',\n",
       "  'perimeter_area_ratio_ra',\n",
       "  'perimeter_area_ratio_sd',\n",
       "  'perimeter_area_ratio_cv',\n",
       "  'shape_index_mn',\n",
       "  'shape_index_am',\n",
       "  'shape_index_md',\n",
       "  'shape_index_ra',\n",
       "  'shape_index_sd',\n",
       "  'shape_index_cv',\n",
       "  'fractal_dimension_mn',\n",
       "  'fractal_dimension_am',\n",
       "  'fractal_dimension_md',\n",
       "  'fractal_dimension_ra',\n",
       "  'fractal_dimension_sd',\n",
       "  'fractal_dimension_cv',\n",
       "  'euclidean_nearest_neighbor_mn',\n",
       "  'euclidean_nearest_neighbor_am',\n",
       "  'euclidean_nearest_neighbor_md',\n",
       "  'euclidean_nearest_neighbor_ra',\n",
       "  'euclidean_nearest_neighbor_sd',\n",
       "  'euclidean_nearest_neighbor_cv',\n",
       "  'shannon_diversity_index'])"
      ]
     },
     "execution_count": 9,
     "metadata": {},
     "output_type": "execute_result"
    }
   ],
   "source": [
    "pls.Landscape.PATCH_METRICS, pls.Landscape.CLASS_METRICS, pls.Landscape.LANDSCAPE_METRICS"
   ]
  },
  {
   "cell_type": "markdown",
   "metadata": {
    "ein.tags": "worksheet-0",
    "slideshow": {
     "slide_type": "-"
    }
   },
   "source": [
    "The names above appear in snake-case since they correspond to the methods that compute them, implemented within the `Landscape` class. If you are only interested in a subset of the metrics above, you can specify it in each respective method, that is, `Landscape.compute_patch_metrics_df`, `Landscape.compute_patch_metrics_df` and/or `Landscape.compute_class_metrics_df`. For instance:"
   ]
  },
  {
   "cell_type": "markdown",
   "metadata": {
    "ein.tags": "worksheet-0",
    "slideshow": {
     "slide_type": "-"
    }
   },
   "source": [
    "<a id='subset-class-metrics-df'></a>"
   ]
  },
  {
   "cell_type": "code",
   "execution_count": 10,
   "metadata": {
    "autoscroll": false,
    "ein.hycell": false,
    "ein.tags": "worksheet-0",
    "slideshow": {
     "slide_type": "-"
    }
   },
   "outputs": [
    {
     "data": {
      "text/html": [
       "<div>\n",
       "<style scoped>\n",
       "    .dataframe tbody tr th:only-of-type {\n",
       "        vertical-align: middle;\n",
       "    }\n",
       "\n",
       "    .dataframe tbody tr th {\n",
       "        vertical-align: top;\n",
       "    }\n",
       "\n",
       "    .dataframe thead th {\n",
       "        text-align: right;\n",
       "    }\n",
       "</style>\n",
       "<table border=\"1\" class=\"dataframe\">\n",
       "  <thead>\n",
       "    <tr style=\"text-align: right;\">\n",
       "      <th></th>\n",
       "      <th>proportion_of_landscape</th>\n",
       "      <th>edge_density</th>\n",
       "    </tr>\n",
       "    <tr>\n",
       "      <th>class_val</th>\n",
       "      <th></th>\n",
       "      <th></th>\n",
       "    </tr>\n",
       "  </thead>\n",
       "  <tbody>\n",
       "    <tr>\n",
       "      <th>1</th>\n",
       "      <td>7.701939</td>\n",
       "      <td>4.458771</td>\n",
       "    </tr>\n",
       "    <tr>\n",
       "      <th>2</th>\n",
       "      <td>92.298061</td>\n",
       "      <td>4.458771</td>\n",
       "    </tr>\n",
       "  </tbody>\n",
       "</table>\n",
       "</div>"
      ],
      "text/plain": [
       "           proportion_of_landscape  edge_density\n",
       "class_val                                       \n",
       "1                         7.701939      4.458771\n",
       "2                        92.298061      4.458771"
      ]
     },
     "execution_count": 10,
     "metadata": {},
     "output_type": "execute_result"
    }
   ],
   "source": [
    "subset_class_metrics_df = ls.compute_class_metrics_df(\n",
    "    metrics=['proportion_of_landscape', 'edge_density'])\n",
    "subset_class_metrics_df"
   ]
  },
  {
   "cell_type": "markdown",
   "metadata": {
    "ein.tags": "worksheet-0",
    "slideshow": {
     "slide_type": "-"
    }
   },
   "source": [
    "#### Documentation about the metrics"
   ]
  },
  {
   "cell_type": "markdown",
   "metadata": {
    "ein.tags": "worksheet-0",
    "slideshow": {
     "slide_type": "-"
    }
   },
   "source": [
    "Each method is documented to provide a description of its arguments as well as information concerning its respective metric, e.g.:"
   ]
  },
  {
   "cell_type": "code",
   "execution_count": 11,
   "metadata": {
    "autoscroll": false,
    "ein.hycell": false,
    "ein.tags": "worksheet-0",
    "slideshow": {
     "slide_type": "-"
    }
   },
   "outputs": [
    {
     "name": "stdout",
     "output_type": "stream",
     "text": [
      "Help on function edge_density in module pylandstats.landscape:\n",
      "\n",
      "edge_density(self, class_val=None, count_boundary=False, hectares=True)\n",
      "    Measure of edge length per area unit, which facilitates comparison\n",
      "    among landscapes of different sizes (of a particular class if provided,\n",
      "    otherwise for the whole landscape)\n",
      "    \n",
      "    Parameters\n",
      "    ----------\n",
      "    class_val : int, optional\n",
      "        If provided, the metric will be computed at the level of the\n",
      "        corresponding class, otherwise it will be computed at the\n",
      "        landscape level\n",
      "    count_boundary : bool, default False\n",
      "        Whether the boundary of the landscape should be considered\n",
      "    hectares : bool, default True\n",
      "        Whether the landscape area should be converted to hectares (tends\n",
      "        to yield more legible values for the metric)\n",
      "    \n",
      "    Returns\n",
      "    -------\n",
      "    ed : float\n",
      "        ed >= 0, without limit ; ed equals 0 when the entire landscape and\n",
      "        its border consist of the corresponding patch class.\n",
      "        Units: meters of edge per hectare/square meter.\n",
      "\n"
     ]
    }
   ],
   "source": [
    "help(pls.Landscape.edge_density)"
   ]
  },
  {
   "cell_type": "markdown",
   "metadata": {
    "ein.tags": "worksheet-0",
    "slideshow": {
     "slide_type": "-"
    }
   },
   "source": [
    "#### Custom metric arguments"
   ]
  },
  {
   "cell_type": "markdown",
   "metadata": {
    "ein.tags": "worksheet-0",
    "slideshow": {
     "slide_type": "-"
    }
   },
   "source": [
    "The default arguments correspond to how the metrics are defined within FRAGSTATS. Nevertheless, some metrics allow some variations in their definition. For instance, the `edge_density` above allows us to choose whether we consider the landscape boundary to be an edge (by default, as in FRAGSTATS, we do not, since we only consider edges between land use/cover classes), or whether we want the area to be converted to hectares (by default, as in FRAGSTATS, we do)."
   ]
  },
  {
   "cell_type": "code",
   "execution_count": 12,
   "metadata": {
    "autoscroll": false,
    "ein.hycell": false,
    "ein.tags": "worksheet-0",
    "slideshow": {
     "slide_type": "-"
    }
   },
   "outputs": [
    {
     "name": "stdout",
     "output_type": "stream",
     "text": [
      "Edge density (without boundary, meters of edge per hectare):\n",
      "4.4587713151132915\n",
      "\n",
      "Edge density (with boundary, meters of edge per hectare):\n",
      "6.863816865218407\n",
      "\n",
      "Edge density (with boundary, meters of edge per square meter):\n",
      "0.0006863816865218407\n"
     ]
    }
   ],
   "source": [
    "print(\"Edge density (without boundary, meters of edge per hectare):\\n{}\\n\".format(\n",
    "    ls.edge_density()))\n",
    "print(\"Edge density (with boundary, meters of edge per hectare):\\n{}\\n\".format(\n",
    "    ls.edge_density(count_boundary=True)))\n",
    "print(\"Edge density (with boundary, meters of edge per square meter):\\n{}\".format(\n",
    "    ls.edge_density(count_boundary=True, hectares=False)))"
   ]
  },
  {
   "cell_type": "markdown",
   "metadata": {
    "ein.tags": "worksheet-0",
    "slideshow": {
     "slide_type": "-"
    }
   },
   "source": [
    "For more details, see the documentation for each metric's method.\n",
    "\n",
    "If we want to obtain a patch, class or landscape-level DataFrame with some customized metrics, instead of manually calling each metric's method with its respective parameters, we can use the `metrics_kws` argument of the `Landscape.compute_patch_metrics_df`, `Landscape.compute_patch_metrics_df` and/or `Landscape.compute_class_metrics_df` to set the keyword arguments to be passed to the some metric methods. For instance, if we wanted `proportion_of_landscape` as a fraction instead of a percentage and `edge_density` to include the boundary, we can do it as follows:"
   ]
  },
  {
   "cell_type": "code",
   "execution_count": 13,
   "metadata": {
    "autoscroll": false,
    "ein.hycell": false,
    "ein.tags": "worksheet-0",
    "slideshow": {
     "slide_type": "-"
    }
   },
   "outputs": [
    {
     "data": {
      "text/html": [
       "<div>\n",
       "<style scoped>\n",
       "    .dataframe tbody tr th:only-of-type {\n",
       "        vertical-align: middle;\n",
       "    }\n",
       "\n",
       "    .dataframe tbody tr th {\n",
       "        vertical-align: top;\n",
       "    }\n",
       "\n",
       "    .dataframe thead th {\n",
       "        text-align: right;\n",
       "    }\n",
       "</style>\n",
       "<table border=\"1\" class=\"dataframe\">\n",
       "  <thead>\n",
       "    <tr style=\"text-align: right;\">\n",
       "      <th></th>\n",
       "      <th>total_area</th>\n",
       "      <th>proportion_of_landscape</th>\n",
       "      <th>number_of_patches</th>\n",
       "      <th>patch_density</th>\n",
       "      <th>largest_patch_index</th>\n",
       "      <th>total_edge</th>\n",
       "      <th>edge_density</th>\n",
       "      <th>landscape_shape_index</th>\n",
       "      <th>area_mn</th>\n",
       "      <th>area_am</th>\n",
       "      <th>...</th>\n",
       "      <th>fractal_dimension_md</th>\n",
       "      <th>fractal_dimension_ra</th>\n",
       "      <th>fractal_dimension_sd</th>\n",
       "      <th>fractal_dimension_cv</th>\n",
       "      <th>euclidean_nearest_neighbor_mn</th>\n",
       "      <th>euclidean_nearest_neighbor_am</th>\n",
       "      <th>euclidean_nearest_neighbor_md</th>\n",
       "      <th>euclidean_nearest_neighbor_ra</th>\n",
       "      <th>euclidean_nearest_neighbor_sd</th>\n",
       "      <th>euclidean_nearest_neighbor_cv</th>\n",
       "    </tr>\n",
       "    <tr>\n",
       "      <th>class_val</th>\n",
       "      <th></th>\n",
       "      <th></th>\n",
       "      <th></th>\n",
       "      <th></th>\n",
       "      <th></th>\n",
       "      <th></th>\n",
       "      <th></th>\n",
       "      <th></th>\n",
       "      <th></th>\n",
       "      <th></th>\n",
       "      <th></th>\n",
       "      <th></th>\n",
       "      <th></th>\n",
       "      <th></th>\n",
       "      <th></th>\n",
       "      <th></th>\n",
       "      <th></th>\n",
       "      <th></th>\n",
       "      <th></th>\n",
       "      <th></th>\n",
       "      <th></th>\n",
       "    </tr>\n",
       "  </thead>\n",
       "  <tbody>\n",
       "    <tr>\n",
       "      <th>1</th>\n",
       "      <td>24729.0</td>\n",
       "      <td>0.077019</td>\n",
       "      <td>193</td>\n",
       "      <td>0.060111</td>\n",
       "      <td>2.069921</td>\n",
       "      <td>1431600.0</td>\n",
       "      <td>4.502998</td>\n",
       "      <td>22.949206</td>\n",
       "      <td>128.129534</td>\n",
       "      <td>2201.712038</td>\n",
       "      <td>...</td>\n",
       "      <td>1.081665</td>\n",
       "      <td>0.200096</td>\n",
       "      <td>0.035772</td>\n",
       "      <td>3.298134</td>\n",
       "      <td>1023.354950</td>\n",
       "      <td>707.998485</td>\n",
       "      <td>781.024968</td>\n",
       "      <td>6772.087205</td>\n",
       "      <td>879.913199</td>\n",
       "      <td>85.983187</td>\n",
       "    </tr>\n",
       "    <tr>\n",
       "      <th>2</th>\n",
       "      <td>296346.0</td>\n",
       "      <td>0.922981</td>\n",
       "      <td>13</td>\n",
       "      <td>0.004049</td>\n",
       "      <td>89.451374</td>\n",
       "      <td>1431600.0</td>\n",
       "      <td>6.819590</td>\n",
       "      <td>10.053260</td>\n",
       "      <td>22795.846154</td>\n",
       "      <td>278596.402199</td>\n",
       "      <td>...</td>\n",
       "      <td>1.069990</td>\n",
       "      <td>0.206571</td>\n",
       "      <td>0.056823</td>\n",
       "      <td>5.322120</td>\n",
       "      <td>246.645899</td>\n",
       "      <td>202.442542</td>\n",
       "      <td>223.606798</td>\n",
       "      <td>116.227766</td>\n",
       "      <td>38.386100</td>\n",
       "      <td>15.563243</td>\n",
       "    </tr>\n",
       "  </tbody>\n",
       "</table>\n",
       "<p>2 rows × 38 columns</p>\n",
       "</div>"
      ],
      "text/plain": [
       "           total_area  proportion_of_landscape  number_of_patches  \\\n",
       "class_val                                                           \n",
       "1             24729.0                 0.077019                193   \n",
       "2            296346.0                 0.922981                 13   \n",
       "\n",
       "           patch_density  largest_patch_index  total_edge  edge_density  \\\n",
       "class_val                                                                 \n",
       "1               0.060111             2.069921   1431600.0      4.502998   \n",
       "2               0.004049            89.451374   1431600.0      6.819590   \n",
       "\n",
       "           landscape_shape_index       area_mn        area_am  \\\n",
       "class_val                                                       \n",
       "1                      22.949206    128.129534    2201.712038   \n",
       "2                      10.053260  22795.846154  278596.402199   \n",
       "\n",
       "                       ...                fractal_dimension_md  \\\n",
       "class_val              ...                                       \n",
       "1                      ...                            1.081665   \n",
       "2                      ...                            1.069990   \n",
       "\n",
       "           fractal_dimension_ra  fractal_dimension_sd  fractal_dimension_cv  \\\n",
       "class_val                                                                     \n",
       "1                      0.200096              0.035772              3.298134   \n",
       "2                      0.206571              0.056823              5.322120   \n",
       "\n",
       "           euclidean_nearest_neighbor_mn  euclidean_nearest_neighbor_am  \\\n",
       "class_val                                                                 \n",
       "1                            1023.354950                     707.998485   \n",
       "2                             246.645899                     202.442542   \n",
       "\n",
       "           euclidean_nearest_neighbor_md  euclidean_nearest_neighbor_ra  \\\n",
       "class_val                                                                 \n",
       "1                             781.024968                    6772.087205   \n",
       "2                             223.606798                     116.227766   \n",
       "\n",
       "           euclidean_nearest_neighbor_sd  euclidean_nearest_neighbor_cv  \n",
       "class_val                                                                \n",
       "1                             879.913199                      85.983187  \n",
       "2                              38.386100                      15.563243  \n",
       "\n",
       "[2 rows x 38 columns]"
      ]
     },
     "execution_count": 13,
     "metadata": {},
     "output_type": "execute_result"
    }
   ],
   "source": [
    "custom_class_metrics_df = ls.compute_class_metrics_df(\n",
    "    metrics_kws={\n",
    "        'proportion_of_landscape': {'percent': False},\n",
    "        'edge_density': {'count_boundary': True}\n",
    "    })\n",
    "custom_class_metrics_df"
   ]
  },
  {
   "cell_type": "markdown",
   "metadata": {
    "ein.tags": "worksheet-0",
    "slideshow": {
     "slide_type": "-"
    }
   },
   "source": [
    "Note that the values for `proportion_of_landscape` and `edge_density` are different now than when we computed them with the default arguments for their respective methods (in the [class_metrics_df](#class-metrics-df) and [subset_class_metrics_df](#subset-class-metrics-df) above).\n",
    "\n",
    "Note also that the `custom_class_metrics_df` does not only feature `proportion_of_landscape` and `edge_density` but features all the available metrics instead. This is because the `metrics_kws` argument does not imply that only the the metrics defined on it will be computed, only that the metrics defined on it will be computed with the specified arguments.\n",
    "\n",
    "We might choose to only compute a reduced set of metrics, some of which with non-default arguments, by setting both the `metrics` and `metric_kws` arguments:"
   ]
  },
  {
   "cell_type": "code",
   "execution_count": 14,
   "metadata": {
    "autoscroll": false,
    "ein.hycell": false,
    "ein.tags": "worksheet-0",
    "slideshow": {
     "slide_type": "-"
    }
   },
   "outputs": [
    {
     "data": {
      "text/html": [
       "<div>\n",
       "<style scoped>\n",
       "    .dataframe tbody tr th:only-of-type {\n",
       "        vertical-align: middle;\n",
       "    }\n",
       "\n",
       "    .dataframe tbody tr th {\n",
       "        vertical-align: top;\n",
       "    }\n",
       "\n",
       "    .dataframe thead th {\n",
       "        text-align: right;\n",
       "    }\n",
       "</style>\n",
       "<table border=\"1\" class=\"dataframe\">\n",
       "  <thead>\n",
       "    <tr style=\"text-align: right;\">\n",
       "      <th></th>\n",
       "      <th>proportion_of_landscape</th>\n",
       "      <th>edge_density</th>\n",
       "      <th>fractal_dimension_am</th>\n",
       "    </tr>\n",
       "    <tr>\n",
       "      <th>class_val</th>\n",
       "      <th></th>\n",
       "      <th></th>\n",
       "      <th></th>\n",
       "    </tr>\n",
       "  </thead>\n",
       "  <tbody>\n",
       "    <tr>\n",
       "      <th>1</th>\n",
       "      <td>0.077019</td>\n",
       "      <td>4.502998</td>\n",
       "      <td>1.129561</td>\n",
       "    </tr>\n",
       "    <tr>\n",
       "      <th>2</th>\n",
       "      <td>0.922981</td>\n",
       "      <td>6.819590</td>\n",
       "      <td>1.204003</td>\n",
       "    </tr>\n",
       "  </tbody>\n",
       "</table>\n",
       "</div>"
      ],
      "text/plain": [
       "           proportion_of_landscape  edge_density  fractal_dimension_am\n",
       "class_val                                                             \n",
       "1                         0.077019      4.502998              1.129561\n",
       "2                         0.922981      6.819590              1.204003"
      ]
     },
     "execution_count": 14,
     "metadata": {},
     "output_type": "execute_result"
    }
   ],
   "source": [
    "custom_subset_class_metrics_df = ls.compute_class_metrics_df(\n",
    "    metrics=['proportion_of_landscape', 'edge_density', 'fractal_dimension_am'],\n",
    "    metrics_kws={\n",
    "        'proportion_of_landscape': {'percent': False}, \n",
    "        'edge_density': {'count_boundary': True}\n",
    "    })\n",
    "custom_subset_class_metrics_df"
   ]
  },
  {
   "cell_type": "markdown",
   "metadata": {
    "ein.tags": "worksheet-0",
    "slideshow": {
     "slide_type": "-"
    }
   },
   "source": [
    "The same could be done for the `Landscape.compute_patch_metrics_df` or `Landscape.compute_landscape_metrics_df` methods. Check the documentation of each metric's method for more details on how they might be customized through their arguments."
   ]
  },
  {
   "cell_type": "markdown",
   "metadata": {
    "ein.tags": "worksheet-0",
    "slideshow": {
     "slide_type": "-"
    }
   },
   "source": [
    "## Spatio-temporal analysis"
   ]
  },
  {
   "cell_type": "markdown",
   "metadata": {
    "ein.tags": "worksheet-0",
    "slideshow": {
     "slide_type": "-"
    }
   },
   "source": [
    "We are often interested in the analysis of the temporal evolution of the configuration and composition of a particular landscape. To this end, we can use the class `SpatioTemporalAnalysis`, which we can instantiate with a temporally-ordered sequence of landscape snapshots.\n",
    "\n",
    "In this case, we will use the three extracts of the Canton of Vaud from the [CORINE Land Cover datasets](https://land.copernicus.eu/pan-european/corine-land-cover) for the years 2000, 2006 and 2012."
   ]
  },
  {
   "cell_type": "code",
   "execution_count": 15,
   "metadata": {
    "autoscroll": false,
    "ein.hycell": false,
    "ein.tags": "worksheet-0",
    "slideshow": {
     "slide_type": "-"
    }
   },
   "outputs": [],
   "source": [
    "input_fnames = [\n",
    "    'data/vaud_g100_clc00_V18_5.tif',\n",
    "    'data/vaud_g100_clc06_V18_5a.tif',\n",
    "    'data/vaud_g100_clc12_V18_5a.tif'\n",
    "]\n",
    "\n",
    "sta = pls.SpatioTemporalAnalysis(input_fnames, dates=[2000, 2006, 2012])"
   ]
  },
  {
   "cell_type": "markdown",
   "metadata": {
    "ein.tags": "worksheet-0",
    "slideshow": {
     "slide_type": "-"
    }
   },
   "source": [
    "### Spatio-temporal DataFrames"
   ]
  },
  {
   "cell_type": "markdown",
   "metadata": {
    "ein.tags": "worksheet-0",
    "slideshow": {
     "slide_type": "-"
    }
   },
   "source": [
    "By now, `SpatioTemporalAnalysis` only supports class and landscape-level metrics, which are available as [properties](https://docs.python.org/3/howto/descriptor.html#properties) of our `SpatioTemporalAnalysis` instance. For instance, a DataFrame of the class-level metrics can be obtained as follows:"
   ]
  },
  {
   "cell_type": "code",
   "execution_count": 16,
   "metadata": {
    "autoscroll": false,
    "ein.hycell": false,
    "ein.tags": "worksheet-0",
    "slideshow": {
     "slide_type": "-"
    }
   },
   "outputs": [
    {
     "data": {
      "text/html": [
       "<div>\n",
       "<style scoped>\n",
       "    .dataframe tbody tr th:only-of-type {\n",
       "        vertical-align: middle;\n",
       "    }\n",
       "\n",
       "    .dataframe tbody tr th {\n",
       "        vertical-align: top;\n",
       "    }\n",
       "\n",
       "    .dataframe thead th {\n",
       "        text-align: right;\n",
       "    }\n",
       "</style>\n",
       "<table border=\"1\" class=\"dataframe\">\n",
       "  <thead>\n",
       "    <tr style=\"text-align: right;\">\n",
       "      <th></th>\n",
       "      <th>metric</th>\n",
       "      <th>total_area</th>\n",
       "      <th>proportion_of_landscape</th>\n",
       "      <th>number_of_patches</th>\n",
       "      <th>patch_density</th>\n",
       "      <th>largest_patch_index</th>\n",
       "      <th>total_edge</th>\n",
       "      <th>edge_density</th>\n",
       "      <th>landscape_shape_index</th>\n",
       "      <th>area_mn</th>\n",
       "      <th>area_am</th>\n",
       "      <th>...</th>\n",
       "      <th>fractal_dimension_md</th>\n",
       "      <th>fractal_dimension_ra</th>\n",
       "      <th>fractal_dimension_sd</th>\n",
       "      <th>fractal_dimension_cv</th>\n",
       "      <th>euclidean_nearest_neighbor_mn</th>\n",
       "      <th>euclidean_nearest_neighbor_am</th>\n",
       "      <th>euclidean_nearest_neighbor_md</th>\n",
       "      <th>euclidean_nearest_neighbor_ra</th>\n",
       "      <th>euclidean_nearest_neighbor_sd</th>\n",
       "      <th>euclidean_nearest_neighbor_cv</th>\n",
       "    </tr>\n",
       "    <tr>\n",
       "      <th>class_val</th>\n",
       "      <th>date</th>\n",
       "      <th></th>\n",
       "      <th></th>\n",
       "      <th></th>\n",
       "      <th></th>\n",
       "      <th></th>\n",
       "      <th></th>\n",
       "      <th></th>\n",
       "      <th></th>\n",
       "      <th></th>\n",
       "      <th></th>\n",
       "      <th></th>\n",
       "      <th></th>\n",
       "      <th></th>\n",
       "      <th></th>\n",
       "      <th></th>\n",
       "      <th></th>\n",
       "      <th></th>\n",
       "      <th></th>\n",
       "      <th></th>\n",
       "      <th></th>\n",
       "      <th></th>\n",
       "    </tr>\n",
       "  </thead>\n",
       "  <tbody>\n",
       "    <tr>\n",
       "      <th rowspan=\"3\" valign=\"top\">1</th>\n",
       "      <th>2000</th>\n",
       "      <td>24729</td>\n",
       "      <td>7.70194</td>\n",
       "      <td>193</td>\n",
       "      <td>0.0601106</td>\n",
       "      <td>2.06992</td>\n",
       "      <td>1.4316e+06</td>\n",
       "      <td>4.45877</td>\n",
       "      <td>22.9492</td>\n",
       "      <td>128.13</td>\n",
       "      <td>2201.71</td>\n",
       "      <td>...</td>\n",
       "      <td>1.08167</td>\n",
       "      <td>0.200096</td>\n",
       "      <td>0.0357722</td>\n",
       "      <td>3.29813</td>\n",
       "      <td>1023.35</td>\n",
       "      <td>707.998</td>\n",
       "      <td>781.025</td>\n",
       "      <td>6772.09</td>\n",
       "      <td>879.913</td>\n",
       "      <td>85.9832</td>\n",
       "    </tr>\n",
       "    <tr>\n",
       "      <th>2006</th>\n",
       "      <td>24599</td>\n",
       "      <td>7.66145</td>\n",
       "      <td>200</td>\n",
       "      <td>0.0622907</td>\n",
       "      <td>2.02227</td>\n",
       "      <td>1.436e+06</td>\n",
       "      <td>4.47248</td>\n",
       "      <td>23.0892</td>\n",
       "      <td>122.995</td>\n",
       "      <td>2031.22</td>\n",
       "      <td>...</td>\n",
       "      <td>1.08076</td>\n",
       "      <td>0.195545</td>\n",
       "      <td>0.03525</td>\n",
       "      <td>3.25178</td>\n",
       "      <td>1003.28</td>\n",
       "      <td>703.96</td>\n",
       "      <td>721.11</td>\n",
       "      <td>6772.09</td>\n",
       "      <td>883.732</td>\n",
       "      <td>88.0845</td>\n",
       "    </tr>\n",
       "    <tr>\n",
       "      <th>2012</th>\n",
       "      <td>24766</td>\n",
       "      <td>7.71346</td>\n",
       "      <td>201</td>\n",
       "      <td>0.0626022</td>\n",
       "      <td>2.02227</td>\n",
       "      <td>1.4459e+06</td>\n",
       "      <td>4.50331</td>\n",
       "      <td>23.181</td>\n",
       "      <td>123.214</td>\n",
       "      <td>2019.46</td>\n",
       "      <td>...</td>\n",
       "      <td>1.07917</td>\n",
       "      <td>0.195545</td>\n",
       "      <td>0.0347995</td>\n",
       "      <td>3.20964</td>\n",
       "      <td>1005.07</td>\n",
       "      <td>703.368</td>\n",
       "      <td>728.011</td>\n",
       "      <td>6772.09</td>\n",
       "      <td>877.435</td>\n",
       "      <td>87.3013</td>\n",
       "    </tr>\n",
       "    <tr>\n",
       "      <th rowspan=\"3\" valign=\"top\">2</th>\n",
       "      <th>2000</th>\n",
       "      <td>296346</td>\n",
       "      <td>92.2981</td>\n",
       "      <td>13</td>\n",
       "      <td>0.0040489</td>\n",
       "      <td>89.4514</td>\n",
       "      <td>1.4316e+06</td>\n",
       "      <td>4.45877</td>\n",
       "      <td>10.0533</td>\n",
       "      <td>22795.8</td>\n",
       "      <td>278596</td>\n",
       "      <td>...</td>\n",
       "      <td>1.06999</td>\n",
       "      <td>0.206571</td>\n",
       "      <td>0.0568234</td>\n",
       "      <td>5.32212</td>\n",
       "      <td>246.646</td>\n",
       "      <td>202.443</td>\n",
       "      <td>223.607</td>\n",
       "      <td>116.228</td>\n",
       "      <td>38.3861</td>\n",
       "      <td>15.5632</td>\n",
       "    </tr>\n",
       "    <tr>\n",
       "      <th>2006</th>\n",
       "      <td>296476</td>\n",
       "      <td>92.3386</td>\n",
       "      <td>8</td>\n",
       "      <td>0.00249163</td>\n",
       "      <td>89.1318</td>\n",
       "      <td>1.436e+06</td>\n",
       "      <td>4.47248</td>\n",
       "      <td>10.0744</td>\n",
       "      <td>37059.5</td>\n",
       "      <td>276495</td>\n",
       "      <td>...</td>\n",
       "      <td>1.08792</td>\n",
       "      <td>0.194132</td>\n",
       "      <td>0.0548953</td>\n",
       "      <td>5.01883</td>\n",
       "      <td>239.112</td>\n",
       "      <td>202.436</td>\n",
       "      <td>223.607</td>\n",
       "      <td>100</td>\n",
       "      <td>39.6897</td>\n",
       "      <td>16.5988</td>\n",
       "    </tr>\n",
       "    <tr>\n",
       "      <th>2012</th>\n",
       "      <td>296309</td>\n",
       "      <td>92.2865</td>\n",
       "      <td>8</td>\n",
       "      <td>0.00249163</td>\n",
       "      <td>89.0916</td>\n",
       "      <td>1.4459e+06</td>\n",
       "      <td>4.50331</td>\n",
       "      <td>10.1175</td>\n",
       "      <td>37038.6</td>\n",
       "      <td>276399</td>\n",
       "      <td>...</td>\n",
       "      <td>1.08792</td>\n",
       "      <td>0.194539</td>\n",
       "      <td>0.0550874</td>\n",
       "      <td>5.03546</td>\n",
       "      <td>239.112</td>\n",
       "      <td>202.426</td>\n",
       "      <td>223.607</td>\n",
       "      <td>100</td>\n",
       "      <td>39.6897</td>\n",
       "      <td>16.5988</td>\n",
       "    </tr>\n",
       "  </tbody>\n",
       "</table>\n",
       "<p>6 rows × 38 columns</p>\n",
       "</div>"
      ],
      "text/plain": [
       "metric         total_area proportion_of_landscape number_of_patches  \\\n",
       "class_val date                                                        \n",
       "1         2000      24729                 7.70194               193   \n",
       "          2006      24599                 7.66145               200   \n",
       "          2012      24766                 7.71346               201   \n",
       "2         2000     296346                 92.2981                13   \n",
       "          2006     296476                 92.3386                 8   \n",
       "          2012     296309                 92.2865                 8   \n",
       "\n",
       "metric         patch_density largest_patch_index  total_edge edge_density  \\\n",
       "class_val date                                                              \n",
       "1         2000     0.0601106             2.06992  1.4316e+06      4.45877   \n",
       "          2006     0.0622907             2.02227   1.436e+06      4.47248   \n",
       "          2012     0.0626022             2.02227  1.4459e+06      4.50331   \n",
       "2         2000     0.0040489             89.4514  1.4316e+06      4.45877   \n",
       "          2006    0.00249163             89.1318   1.436e+06      4.47248   \n",
       "          2012    0.00249163             89.0916  1.4459e+06      4.50331   \n",
       "\n",
       "metric         landscape_shape_index  area_mn  area_am  \\\n",
       "class_val date                                           \n",
       "1         2000               22.9492   128.13  2201.71   \n",
       "          2006               23.0892  122.995  2031.22   \n",
       "          2012                23.181  123.214  2019.46   \n",
       "2         2000               10.0533  22795.8   278596   \n",
       "          2006               10.0744  37059.5   276495   \n",
       "          2012               10.1175  37038.6   276399   \n",
       "\n",
       "metric                      ...              fractal_dimension_md  \\\n",
       "class_val date              ...                                     \n",
       "1         2000              ...                           1.08167   \n",
       "          2006              ...                           1.08076   \n",
       "          2012              ...                           1.07917   \n",
       "2         2000              ...                           1.06999   \n",
       "          2006              ...                           1.08792   \n",
       "          2012              ...                           1.08792   \n",
       "\n",
       "metric         fractal_dimension_ra fractal_dimension_sd fractal_dimension_cv  \\\n",
       "class_val date                                                                  \n",
       "1         2000             0.200096            0.0357722              3.29813   \n",
       "          2006             0.195545              0.03525              3.25178   \n",
       "          2012             0.195545            0.0347995              3.20964   \n",
       "2         2000             0.206571            0.0568234              5.32212   \n",
       "          2006             0.194132            0.0548953              5.01883   \n",
       "          2012             0.194539            0.0550874              5.03546   \n",
       "\n",
       "metric         euclidean_nearest_neighbor_mn euclidean_nearest_neighbor_am  \\\n",
       "class_val date                                                               \n",
       "1         2000                       1023.35                       707.998   \n",
       "          2006                       1003.28                        703.96   \n",
       "          2012                       1005.07                       703.368   \n",
       "2         2000                       246.646                       202.443   \n",
       "          2006                       239.112                       202.436   \n",
       "          2012                       239.112                       202.426   \n",
       "\n",
       "metric         euclidean_nearest_neighbor_md euclidean_nearest_neighbor_ra  \\\n",
       "class_val date                                                               \n",
       "1         2000                       781.025                       6772.09   \n",
       "          2006                        721.11                       6772.09   \n",
       "          2012                       728.011                       6772.09   \n",
       "2         2000                       223.607                       116.228   \n",
       "          2006                       223.607                           100   \n",
       "          2012                       223.607                           100   \n",
       "\n",
       "metric         euclidean_nearest_neighbor_sd euclidean_nearest_neighbor_cv  \n",
       "class_val date                                                              \n",
       "1         2000                       879.913                       85.9832  \n",
       "          2006                       883.732                       88.0845  \n",
       "          2012                       877.435                       87.3013  \n",
       "2         2000                       38.3861                       15.5632  \n",
       "          2006                       39.6897                       16.5988  \n",
       "          2012                       39.6897                       16.5988  \n",
       "\n",
       "[6 rows x 38 columns]"
      ]
     },
     "execution_count": 16,
     "metadata": {},
     "output_type": "execute_result"
    }
   ],
   "source": [
    "sta.class_metrics_df"
   ]
  },
  {
   "cell_type": "markdown",
   "metadata": {
    "ein.tags": "worksheet-0",
    "slideshow": {
     "slide_type": "-"
    }
   },
   "source": [
    "Again, we can use the operations of any pandas DataFrame. For instance, we can get all the metrics for the *urban* class (`class_val` of 1) in 2000"
   ]
  },
  {
   "cell_type": "code",
   "execution_count": 17,
   "metadata": {
    "autoscroll": false,
    "ein.hycell": false,
    "ein.tags": "worksheet-0",
    "slideshow": {
     "slide_type": "-"
    }
   },
   "outputs": [
    {
     "data": {
      "text/plain": [
       "metric\n",
       "total_area                            24729\n",
       "proportion_of_landscape             7.70194\n",
       "number_of_patches                       193\n",
       "patch_density                     0.0601106\n",
       "largest_patch_index                 2.06992\n",
       "total_edge                       1.4316e+06\n",
       "edge_density                        4.45877\n",
       "landscape_shape_index               22.9492\n",
       "area_mn                              128.13\n",
       "area_am                             2201.71\n",
       "area_md                                  43\n",
       "area_ra                                6645\n",
       "area_sd                             515.449\n",
       "area_cv                             402.287\n",
       "perimeter_area_ratio_mn             107.149\n",
       "perimeter_area_ratio_am             58.4658\n",
       "perimeter_area_ratio_md             102.222\n",
       "perimeter_area_ratio_ra             377.761\n",
       "perimeter_area_ratio_sd             50.9116\n",
       "perimeter_area_ratio_cv             47.5146\n",
       "shape_index_mn                      1.77764\n",
       "shape_index_am                      3.07474\n",
       "shape_index_md                      1.63636\n",
       "shape_index_ra                      3.80392\n",
       "shape_index_sd                     0.585527\n",
       "shape_index_cv                      32.9384\n",
       "fractal_dimension_mn                1.08462\n",
       "fractal_dimension_am                1.12956\n",
       "fractal_dimension_md                1.08167\n",
       "fractal_dimension_ra               0.200096\n",
       "fractal_dimension_sd              0.0357722\n",
       "fractal_dimension_cv                3.29813\n",
       "euclidean_nearest_neighbor_mn       1023.35\n",
       "euclidean_nearest_neighbor_am       707.998\n",
       "euclidean_nearest_neighbor_md       781.025\n",
       "euclidean_nearest_neighbor_ra       6772.09\n",
       "euclidean_nearest_neighbor_sd       879.913\n",
       "euclidean_nearest_neighbor_cv       85.9832\n",
       "Name: (1, 2000), dtype: object"
      ]
     },
     "execution_count": 17,
     "metadata": {},
     "output_type": "execute_result"
    }
   ],
   "source": [
    "sta.class_metrics_df.loc[(1, 2000)]"
   ]
  },
  {
   "cell_type": "markdown",
   "metadata": {
    "ein.tags": "worksheet-0",
    "slideshow": {
     "slide_type": "-"
    }
   },
   "source": [
    "Similarly, the DataFrame of landscape metrics can be obtained as follows:"
   ]
  },
  {
   "cell_type": "code",
   "execution_count": 18,
   "metadata": {
    "autoscroll": false,
    "ein.hycell": false,
    "ein.tags": "worksheet-0",
    "slideshow": {
     "slide_type": "-"
    }
   },
   "outputs": [
    {
     "data": {
      "text/html": [
       "<div>\n",
       "<style scoped>\n",
       "    .dataframe tbody tr th:only-of-type {\n",
       "        vertical-align: middle;\n",
       "    }\n",
       "\n",
       "    .dataframe tbody tr th {\n",
       "        vertical-align: top;\n",
       "    }\n",
       "\n",
       "    .dataframe thead th {\n",
       "        text-align: right;\n",
       "    }\n",
       "</style>\n",
       "<table border=\"1\" class=\"dataframe\">\n",
       "  <thead>\n",
       "    <tr style=\"text-align: right;\">\n",
       "      <th>metric</th>\n",
       "      <th>total_area</th>\n",
       "      <th>number_of_patches</th>\n",
       "      <th>patch_density</th>\n",
       "      <th>largest_patch_index</th>\n",
       "      <th>total_edge</th>\n",
       "      <th>edge_density</th>\n",
       "      <th>landscape_shape_index</th>\n",
       "      <th>area_mn</th>\n",
       "      <th>area_am</th>\n",
       "      <th>area_md</th>\n",
       "      <th>...</th>\n",
       "      <th>fractal_dimension_ra</th>\n",
       "      <th>fractal_dimension_sd</th>\n",
       "      <th>fractal_dimension_cv</th>\n",
       "      <th>euclidean_nearest_neighbor_mn</th>\n",
       "      <th>euclidean_nearest_neighbor_am</th>\n",
       "      <th>euclidean_nearest_neighbor_md</th>\n",
       "      <th>euclidean_nearest_neighbor_ra</th>\n",
       "      <th>euclidean_nearest_neighbor_sd</th>\n",
       "      <th>euclidean_nearest_neighbor_cv</th>\n",
       "      <th>shannon_diversity_index</th>\n",
       "    </tr>\n",
       "    <tr>\n",
       "      <th>date</th>\n",
       "      <th></th>\n",
       "      <th></th>\n",
       "      <th></th>\n",
       "      <th></th>\n",
       "      <th></th>\n",
       "      <th></th>\n",
       "      <th></th>\n",
       "      <th></th>\n",
       "      <th></th>\n",
       "      <th></th>\n",
       "      <th></th>\n",
       "      <th></th>\n",
       "      <th></th>\n",
       "      <th></th>\n",
       "      <th></th>\n",
       "      <th></th>\n",
       "      <th></th>\n",
       "      <th></th>\n",
       "      <th></th>\n",
       "      <th></th>\n",
       "      <th></th>\n",
       "    </tr>\n",
       "  </thead>\n",
       "  <tbody>\n",
       "    <tr>\n",
       "      <th>2000</th>\n",
       "      <td>321075</td>\n",
       "      <td>206</td>\n",
       "      <td>0.0641595</td>\n",
       "      <td>89.4514</td>\n",
       "      <td>1.4316e+06</td>\n",
       "      <td>4.45877</td>\n",
       "      <td>9.71693</td>\n",
       "      <td>1558.62</td>\n",
       "      <td>257309</td>\n",
       "      <td>43</td>\n",
       "      <td>...</td>\n",
       "      <td>0.206571</td>\n",
       "      <td>0.0376779</td>\n",
       "      <td>3.47726</td>\n",
       "      <td>974.339</td>\n",
       "      <td>241.38</td>\n",
       "      <td>700</td>\n",
       "      <td>6772.09</td>\n",
       "      <td>872.438</td>\n",
       "      <td>89.5415</td>\n",
       "      <td>0.271429</td>\n",
       "    </tr>\n",
       "    <tr>\n",
       "      <th>2006</th>\n",
       "      <td>321075</td>\n",
       "      <td>208</td>\n",
       "      <td>0.0647824</td>\n",
       "      <td>89.1318</td>\n",
       "      <td>1.436e+06</td>\n",
       "      <td>4.47248</td>\n",
       "      <td>9.73633</td>\n",
       "      <td>1543.63</td>\n",
       "      <td>255467</td>\n",
       "      <td>45</td>\n",
       "      <td>...</td>\n",
       "      <td>0.206025</td>\n",
       "      <td>0.0362519</td>\n",
       "      <td>3.34304</td>\n",
       "      <td>973.887</td>\n",
       "      <td>240.86</td>\n",
       "      <td>714.109</td>\n",
       "      <td>6772.09</td>\n",
       "      <td>878.977</td>\n",
       "      <td>90.2545</td>\n",
       "      <td>0.270422</td>\n",
       "    </tr>\n",
       "    <tr>\n",
       "      <th>2012</th>\n",
       "      <td>321075</td>\n",
       "      <td>209</td>\n",
       "      <td>0.0650938</td>\n",
       "      <td>89.0916</td>\n",
       "      <td>1.4459e+06</td>\n",
       "      <td>4.50331</td>\n",
       "      <td>9.77998</td>\n",
       "      <td>1536.24</td>\n",
       "      <td>255235</td>\n",
       "      <td>45</td>\n",
       "      <td>...</td>\n",
       "      <td>0.206432</td>\n",
       "      <td>0.0358375</td>\n",
       "      <td>3.30423</td>\n",
       "      <td>975.747</td>\n",
       "      <td>241.066</td>\n",
       "      <td>721.11</td>\n",
       "      <td>6772.09</td>\n",
       "      <td>872.972</td>\n",
       "      <td>89.4671</td>\n",
       "      <td>0.271715</td>\n",
       "    </tr>\n",
       "  </tbody>\n",
       "</table>\n",
       "<p>3 rows × 38 columns</p>\n",
       "</div>"
      ],
      "text/plain": [
       "metric total_area number_of_patches patch_density largest_patch_index  \\\n",
       "date                                                                    \n",
       "2000       321075               206     0.0641595             89.4514   \n",
       "2006       321075               208     0.0647824             89.1318   \n",
       "2012       321075               209     0.0650938             89.0916   \n",
       "\n",
       "metric  total_edge edge_density landscape_shape_index  area_mn area_am  \\\n",
       "date                                                                     \n",
       "2000    1.4316e+06      4.45877               9.71693  1558.62  257309   \n",
       "2006     1.436e+06      4.47248               9.73633  1543.63  255467   \n",
       "2012    1.4459e+06      4.50331               9.77998  1536.24  255235   \n",
       "\n",
       "metric area_md           ...           fractal_dimension_ra  \\\n",
       "date                     ...                                  \n",
       "2000        43           ...                       0.206571   \n",
       "2006        45           ...                       0.206025   \n",
       "2012        45           ...                       0.206432   \n",
       "\n",
       "metric fractal_dimension_sd fractal_dimension_cv  \\\n",
       "date                                               \n",
       "2000              0.0376779              3.47726   \n",
       "2006              0.0362519              3.34304   \n",
       "2012              0.0358375              3.30423   \n",
       "\n",
       "metric euclidean_nearest_neighbor_mn euclidean_nearest_neighbor_am  \\\n",
       "date                                                                 \n",
       "2000                         974.339                        241.38   \n",
       "2006                         973.887                        240.86   \n",
       "2012                         975.747                       241.066   \n",
       "\n",
       "metric euclidean_nearest_neighbor_md euclidean_nearest_neighbor_ra  \\\n",
       "date                                                                 \n",
       "2000                             700                       6772.09   \n",
       "2006                         714.109                       6772.09   \n",
       "2012                          721.11                       6772.09   \n",
       "\n",
       "metric euclidean_nearest_neighbor_sd euclidean_nearest_neighbor_cv  \\\n",
       "date                                                                 \n",
       "2000                         872.438                       89.5415   \n",
       "2006                         878.977                       90.2545   \n",
       "2012                         872.972                       89.4671   \n",
       "\n",
       "metric shannon_diversity_index  \n",
       "date                            \n",
       "2000                  0.271429  \n",
       "2006                  0.270422  \n",
       "2012                  0.271715  \n",
       "\n",
       "[3 rows x 38 columns]"
      ]
     },
     "execution_count": 18,
     "metadata": {},
     "output_type": "execute_result"
    }
   ],
   "source": [
    "sta.landscape_metrics_df"
   ]
  },
  {
   "cell_type": "markdown",
   "metadata": {
    "ein.tags": "worksheet-0",
    "slideshow": {
     "slide_type": "-"
    }
   },
   "source": [
    "### Customizing your spatio-temporal analysis"
   ]
  },
  {
   "cell_type": "markdown",
   "metadata": {
    "ein.tags": "worksheet-0",
    "slideshow": {
     "slide_type": "-"
    }
   },
   "source": [
    "As within the `Landscape` analysis, we can also choose to compute a subset of metrics only with the `metrics` argument, however, for `SpatioTemporalAnalysis` instances, we must pass it to the initialization method as in:"
   ]
  },
  {
   "cell_type": "code",
   "execution_count": 19,
   "metadata": {
    "autoscroll": false,
    "ein.hycell": false,
    "ein.tags": "worksheet-0",
    "slideshow": {
     "slide_type": "-"
    }
   },
   "outputs": [
    {
     "data": {
      "text/html": [
       "<div>\n",
       "<style scoped>\n",
       "    .dataframe tbody tr th:only-of-type {\n",
       "        vertical-align: middle;\n",
       "    }\n",
       "\n",
       "    .dataframe tbody tr th {\n",
       "        vertical-align: top;\n",
       "    }\n",
       "\n",
       "    .dataframe thead th {\n",
       "        text-align: right;\n",
       "    }\n",
       "</style>\n",
       "<table border=\"1\" class=\"dataframe\">\n",
       "  <thead>\n",
       "    <tr style=\"text-align: right;\">\n",
       "      <th></th>\n",
       "      <th>metric</th>\n",
       "      <th>edge_density</th>\n",
       "      <th>fractal_dimension_am</th>\n",
       "      <th>proportion_of_landscape</th>\n",
       "    </tr>\n",
       "    <tr>\n",
       "      <th>class_val</th>\n",
       "      <th>date</th>\n",
       "      <th></th>\n",
       "      <th></th>\n",
       "      <th></th>\n",
       "    </tr>\n",
       "  </thead>\n",
       "  <tbody>\n",
       "    <tr>\n",
       "      <th rowspan=\"3\" valign=\"top\">1</th>\n",
       "      <th>2000</th>\n",
       "      <td>4.45877</td>\n",
       "      <td>1.12956</td>\n",
       "      <td>7.70194</td>\n",
       "    </tr>\n",
       "    <tr>\n",
       "      <th>2006</th>\n",
       "      <td>4.47248</td>\n",
       "      <td>1.12336</td>\n",
       "      <td>7.66145</td>\n",
       "    </tr>\n",
       "    <tr>\n",
       "      <th>2012</th>\n",
       "      <td>4.50331</td>\n",
       "      <td>1.12347</td>\n",
       "      <td>7.71346</td>\n",
       "    </tr>\n",
       "    <tr>\n",
       "      <th rowspan=\"3\" valign=\"top\">2</th>\n",
       "      <th>2000</th>\n",
       "      <td>4.45877</td>\n",
       "      <td>1.204</td>\n",
       "      <td>92.2981</td>\n",
       "    </tr>\n",
       "    <tr>\n",
       "      <th>2006</th>\n",
       "      <td>4.47248</td>\n",
       "      <td>1.203</td>\n",
       "      <td>92.3386</td>\n",
       "    </tr>\n",
       "    <tr>\n",
       "      <th>2012</th>\n",
       "      <td>4.50331</td>\n",
       "      <td>1.20344</td>\n",
       "      <td>92.2865</td>\n",
       "    </tr>\n",
       "  </tbody>\n",
       "</table>\n",
       "</div>"
      ],
      "text/plain": [
       "metric         edge_density fractal_dimension_am proportion_of_landscape\n",
       "class_val date                                                          \n",
       "1         2000      4.45877              1.12956                 7.70194\n",
       "          2006      4.47248              1.12336                 7.66145\n",
       "          2012      4.50331              1.12347                 7.71346\n",
       "2         2000      4.45877                1.204                 92.2981\n",
       "          2006      4.47248                1.203                 92.3386\n",
       "          2012      4.50331              1.20344                 92.2865"
      ]
     },
     "execution_count": 19,
     "metadata": {},
     "output_type": "execute_result"
    }
   ],
   "source": [
    "sta = pls.SpatioTemporalAnalysis(\n",
    "    input_fnames, \n",
    "    metrics=['proportion_of_landscape', 'edge_density', 'fractal_dimension_am'], \n",
    "    dates=[2000, 2006, 2012])\n",
    "sta.class_metrics_df"
   ]
  },
  {
   "cell_type": "markdown",
   "metadata": {
    "ein.tags": "worksheet-0",
    "slideshow": {
     "slide_type": "-"
    }
   },
   "source": [
    "Similarly, we can choose to compute them only for a subset of classes through the `classes` argument. We can simoultaneously choose a subset of metrics as well as a subset of classes by specifying both the `metrics` and `classes` arguments. For instance, we can choose to only compute the above metrics and only for the *urban* class (value of 1):"
   ]
  },
  {
   "cell_type": "code",
   "execution_count": 20,
   "metadata": {
    "autoscroll": false,
    "ein.hycell": false,
    "ein.tags": "worksheet-0",
    "slideshow": {
     "slide_type": "-"
    }
   },
   "outputs": [
    {
     "data": {
      "text/html": [
       "<div>\n",
       "<style scoped>\n",
       "    .dataframe tbody tr th:only-of-type {\n",
       "        vertical-align: middle;\n",
       "    }\n",
       "\n",
       "    .dataframe tbody tr th {\n",
       "        vertical-align: top;\n",
       "    }\n",
       "\n",
       "    .dataframe thead th {\n",
       "        text-align: right;\n",
       "    }\n",
       "</style>\n",
       "<table border=\"1\" class=\"dataframe\">\n",
       "  <thead>\n",
       "    <tr style=\"text-align: right;\">\n",
       "      <th></th>\n",
       "      <th>metric</th>\n",
       "      <th>edge_density</th>\n",
       "      <th>fractal_dimension_am</th>\n",
       "      <th>landscape_shape_index</th>\n",
       "      <th>proportion_of_landscape</th>\n",
       "    </tr>\n",
       "    <tr>\n",
       "      <th>class_val</th>\n",
       "      <th>date</th>\n",
       "      <th></th>\n",
       "      <th></th>\n",
       "      <th></th>\n",
       "      <th></th>\n",
       "    </tr>\n",
       "  </thead>\n",
       "  <tbody>\n",
       "    <tr>\n",
       "      <th rowspan=\"3\" valign=\"top\">1</th>\n",
       "      <th>2000</th>\n",
       "      <td>4.45877</td>\n",
       "      <td>1.12956</td>\n",
       "      <td>22.9492</td>\n",
       "      <td>7.70194</td>\n",
       "    </tr>\n",
       "    <tr>\n",
       "      <th>2006</th>\n",
       "      <td>4.47248</td>\n",
       "      <td>1.12336</td>\n",
       "      <td>23.0892</td>\n",
       "      <td>7.66145</td>\n",
       "    </tr>\n",
       "    <tr>\n",
       "      <th>2012</th>\n",
       "      <td>4.50331</td>\n",
       "      <td>1.12347</td>\n",
       "      <td>23.181</td>\n",
       "      <td>7.71346</td>\n",
       "    </tr>\n",
       "  </tbody>\n",
       "</table>\n",
       "</div>"
      ],
      "text/plain": [
       "metric         edge_density fractal_dimension_am landscape_shape_index  \\\n",
       "class_val date                                                           \n",
       "1         2000      4.45877              1.12956               22.9492   \n",
       "          2006      4.47248              1.12336               23.0892   \n",
       "          2012      4.50331              1.12347                23.181   \n",
       "\n",
       "metric         proportion_of_landscape  \n",
       "class_val date                          \n",
       "1         2000                 7.70194  \n",
       "          2006                 7.66145  \n",
       "          2012                 7.71346  "
      ]
     },
     "execution_count": 20,
     "metadata": {},
     "output_type": "execute_result"
    }
   ],
   "source": [
    "sta = pls.SpatioTemporalAnalysis(\n",
    "    input_fnames, metrics=[\n",
    "        'proportion_of_landscape',\n",
    "        'edge_density',\n",
    "        'fractal_dimension_am',\n",
    "        'landscape_shape_index',\n",
    "        'shannon_diversity_index'\n",
    "    ], classes=[1], dates=[2000, 2006, 2012])\n",
    "sta.class_metrics_df"
   ]
  },
  {
   "cell_type": "markdown",
   "metadata": {
    "ein.tags": "worksheet-0",
    "slideshow": {
     "slide_type": "-"
    }
   },
   "source": [
    "Finally, we can also customize how some metrics are computed through the `metrics_kws` argument. Again, for `SpatioTemporalAnalysis`, we must pass it to the initialization method."
   ]
  },
  {
   "cell_type": "code",
   "execution_count": 21,
   "metadata": {
    "autoscroll": false,
    "ein.hycell": false,
    "ein.tags": "worksheet-0",
    "slideshow": {
     "slide_type": "-"
    }
   },
   "outputs": [
    {
     "data": {
      "text/html": [
       "<div>\n",
       "<style scoped>\n",
       "    .dataframe tbody tr th:only-of-type {\n",
       "        vertical-align: middle;\n",
       "    }\n",
       "\n",
       "    .dataframe tbody tr th {\n",
       "        vertical-align: top;\n",
       "    }\n",
       "\n",
       "    .dataframe thead th {\n",
       "        text-align: right;\n",
       "    }\n",
       "</style>\n",
       "<table border=\"1\" class=\"dataframe\">\n",
       "  <thead>\n",
       "    <tr style=\"text-align: right;\">\n",
       "      <th></th>\n",
       "      <th>metric</th>\n",
       "      <th>edge_density</th>\n",
       "      <th>fractal_dimension_am</th>\n",
       "      <th>landscape_shape_index</th>\n",
       "      <th>proportion_of_landscape</th>\n",
       "    </tr>\n",
       "    <tr>\n",
       "      <th>class_val</th>\n",
       "      <th>date</th>\n",
       "      <th></th>\n",
       "      <th></th>\n",
       "      <th></th>\n",
       "      <th></th>\n",
       "    </tr>\n",
       "  </thead>\n",
       "  <tbody>\n",
       "    <tr>\n",
       "      <th rowspan=\"3\" valign=\"top\">1</th>\n",
       "      <th>2000</th>\n",
       "      <td>4.503</td>\n",
       "      <td>1.12956</td>\n",
       "      <td>22.9492</td>\n",
       "      <td>0.0770194</td>\n",
       "    </tr>\n",
       "    <tr>\n",
       "      <th>2006</th>\n",
       "      <td>4.51608</td>\n",
       "      <td>1.12336</td>\n",
       "      <td>23.0892</td>\n",
       "      <td>0.0766145</td>\n",
       "    </tr>\n",
       "    <tr>\n",
       "      <th>2012</th>\n",
       "      <td>4.54847</td>\n",
       "      <td>1.12347</td>\n",
       "      <td>23.181</td>\n",
       "      <td>0.0771346</td>\n",
       "    </tr>\n",
       "  </tbody>\n",
       "</table>\n",
       "</div>"
      ],
      "text/plain": [
       "metric         edge_density fractal_dimension_am landscape_shape_index  \\\n",
       "class_val date                                                           \n",
       "1         2000        4.503              1.12956               22.9492   \n",
       "          2006      4.51608              1.12336               23.0892   \n",
       "          2012      4.54847              1.12347                23.181   \n",
       "\n",
       "metric         proportion_of_landscape  \n",
       "class_val date                          \n",
       "1         2000               0.0770194  \n",
       "          2006               0.0766145  \n",
       "          2012               0.0771346  "
      ]
     },
     "execution_count": 21,
     "metadata": {},
     "output_type": "execute_result"
    }
   ],
   "source": [
    "sta = pls.SpatioTemporalAnalysis(\n",
    "    input_fnames, metrics=[\n",
    "        'proportion_of_landscape',\n",
    "        'edge_density',\n",
    "        'fractal_dimension_am',\n",
    "        'landscape_shape_index',\n",
    "        'shannon_diversity_index'\n",
    "    ], classes=[1], dates=[2000, 2006, 2012], \n",
    "    metrics_kws={\n",
    "        'proportion_of_landscape': {'percent': False},\n",
    "        'edge_density': {'count_boundary': True}\n",
    "    })\n",
    "sta.class_metrics_df"
   ]
  },
  {
   "cell_type": "markdown",
   "metadata": {
    "ein.tags": "worksheet-0",
    "slideshow": {
     "slide_type": "-"
    }
   },
   "source": [
    "The fact that all the above arguments are passed to `SpatioTemporalAnalysis` initialization method means that once we have chosen a subset of metrics, classes or customized some metrics, we will not be able to modify such choices without having to re-initialize a `SpatioTemporalAnalysis` instance. Therefore, if you do not know which metrics or classes you will need, just compute them all and filter the DataFrames later if needed."
   ]
  },
  {
   "cell_type": "markdown",
   "metadata": {
    "ein.tags": "worksheet-0",
    "slideshow": {
     "slide_type": "-"
    }
   },
   "source": [
    "### Plots"
   ]
  },
  {
   "cell_type": "markdown",
   "metadata": {
    "ein.tags": "worksheet-0",
    "slideshow": {
     "slide_type": "-"
    }
   },
   "source": [
    "One of the most important features of `SpatioTemporalAnalysis` is to plot the evolution of the metrics."
   ]
  },
  {
   "cell_type": "markdown",
   "metadata": {
    "ein.tags": "worksheet-0",
    "slideshow": {
     "slide_type": "-"
    }
   },
   "source": [
    "#### Plotting a single metric"
   ]
  },
  {
   "cell_type": "markdown",
   "metadata": {
    "autoscroll": false,
    "ein.hycell": false,
    "ein.tags": "worksheet-0",
    "slideshow": {
     "slide_type": "-"
    }
   },
   "source": [
    "We can plot the `proportion_of_landscape` occupied by the *urban* class (`class_val` of 1) as in:"
   ]
  },
  {
   "cell_type": "code",
   "execution_count": 22,
   "metadata": {
    "autoscroll": false,
    "ein.hycell": false,
    "ein.tags": "worksheet-0",
    "slideshow": {
     "slide_type": "-"
    }
   },
   "outputs": [
    {
     "data": {
      "text/plain": [
       "<matplotlib.axes._subplots.AxesSubplot at 0x7fcb5bb6eac8>"
      ]
     },
     "execution_count": 22,
     "metadata": {},
     "output_type": "execute_result"
    },
    {
     "data": {
      "image/png": "[encoded data removed]",
      "text/plain": [
       "<Figure size 432x288 with 1 Axes>"
      ]
     },
     "metadata": {
      "needs_background": "light"
     },
     "output_type": "display_data"
    }
   ],
   "source": [
    "sta.plot_metric('proportion_of_landscape', class_val=1)"
   ]
  },
  {
   "cell_type": "markdown",
   "metadata": {
    "ein.tags": "worksheet-0",
    "slideshow": {
     "slide_type": "-"
    }
   },
   "source": [
    "If we want to plot the evolution of a metric at the landscape level, we can do so by using the same `plot_metric` method, but without setting the `class_val` argument. Note however that we cannot compute the `proportion_of_landscape` at the landscape level (we could but it makes no sense, the landscape always occupies 100% of the landscape). Similarly, some metrics such as `shannon_diversity_index` cannot be computed at the class level but only at the landscape level. See the documentation of each metric for more details, or [see above](available-metrics) the metrics that can be at each level.\n",
    "\n",
    "Let's then plot the area-weighted fractal dimension, that is `fractal_dimension_am`, at both the class and landscape level:"
   ]
  },
  {
   "cell_type": "code",
   "execution_count": 23,
   "metadata": {
    "autoscroll": false,
    "ein.hycell": false,
    "ein.tags": "worksheet-0",
    "slideshow": {
     "slide_type": "-"
    }
   },
   "outputs": [
    {
     "data": {
      "text/plain": [
       "<matplotlib.legend.Legend at 0x7fcb5ba502b0>"
      ]
     },
     "execution_count": 23,
     "metadata": {},
     "output_type": "execute_result"
    },
    {
     "data": {
      "image/png": "[encoded data removed]",
      "text/plain": [
       "<Figure size 432x288 with 1 Axes>"
      ]
     },
     "metadata": {
      "needs_background": "light"
     },
     "output_type": "display_data"
    }
   ],
   "source": [
    "ax = sta.plot_metric('fractal_dimension_am', class_val=1, \n",
    "                     plt_kws={'label': 'class level (urban)'})\n",
    "sta.plot_metric('fractal_dimension_am', ax=ax, plt_kws={'label': 'landscape level'})\n",
    "ax.legend()"
   ]
  },
  {
   "cell_type": "markdown",
   "metadata": {
    "ein.tags": "worksheet-0",
    "slideshow": {
     "slide_type": "-"
    }
   },
   "source": [
    "Note that we can pass keyword arguments to matplotlib's `plot` method through the `plt_kws` argument of `plot_metric`. See the documentation of  `SpatioTemporalAnalysis.plot_metric` for more details."
   ]
  },
  {
   "cell_type": "markdown",
   "metadata": {
    "ein.tags": "worksheet-0",
    "slideshow": {
     "slide_type": "-"
    }
   },
   "source": [
    "#### Plotting multiple metrics"
   ]
  },
  {
   "cell_type": "markdown",
   "metadata": {
    "ein.tags": "worksheet-0",
    "slideshow": {
     "slide_type": "-"
    }
   },
   "source": [
    "We can plot multiple metrics in a matplotlib axis grid through the `plot_metrics` method. For instance, we can plot all the metrics at the *urban* class level (`class_val` of 1) as in:"
   ]
  },
  {
   "cell_type": "code",
   "execution_count": 24,
   "metadata": {
    "autoscroll": false,
    "ein.hycell": false,
    "ein.tags": "worksheet-0",
    "slideshow": {
     "slide_type": "-"
    }
   },
   "outputs": [
    {
     "data": {
      "text/plain": [
       "Text(0.5, 0.98, 'Class-level metrics (urban)')"
      ]
     },
     "execution_count": 24,
     "metadata": {},
     "output_type": "execute_result"
    },
    {
     "data": {
      "image/png": "[encoded data removed]",
      "text/plain": [
       "<Figure size 864x576 with 4 Axes>"
      ]
     },
     "metadata": {
      "needs_background": "light"
     },
     "output_type": "display_data"
    }
   ],
   "source": [
    "fig, axes = sta.plot_metrics(class_val=1, num_cols=2)\n",
    "fig.suptitle('Class-level metrics (urban)')"
   ]
  },
  {
   "cell_type": "markdown",
   "metadata": {
    "ein.tags": "worksheet-0",
    "slideshow": {
     "slide_type": "-"
    }
   },
   "source": [
    "We might also choose to plot only a subset of metrics by setting the `metrics` argument as in:"
   ]
  },
  {
   "cell_type": "code",
   "execution_count": 25,
   "metadata": {
    "autoscroll": false,
    "ein.hycell": false,
    "ein.tags": "worksheet-0",
    "slideshow": {
     "slide_type": "-"
    }
   },
   "outputs": [
    {
     "data": {
      "text/plain": [
       "Text(0.5, 0.98, 'Class-level metrics (urban)')"
      ]
     },
     "execution_count": 25,
     "metadata": {},
     "output_type": "execute_result"
    },
    {
     "data": {
      "image/png": "[encoded data removed]",
      "text/plain": [
       "<Figure size 1296x288 with 3 Axes>"
      ]
     },
     "metadata": {
      "needs_background": "light"
     },
     "output_type": "display_data"
    }
   ],
   "source": [
    "fig, axes = sta.plot_metrics(\n",
    "    class_val=1,\n",
    "    metrics=['proportion_of_landscape', 'edge_density', 'fractal_dimension_am'],\n",
    "    num_cols=3)\n",
    "fig.suptitle('Class-level metrics (urban)')"
   ]
  },
  {
   "cell_type": "markdown",
   "metadata": {
    "ein.tags": "worksheet-0",
    "slideshow": {
     "slide_type": "-"
    }
   },
   "source": [
    "In order to compute the metrics at the landscape level, we can still use `plot_metrics` but without setting the `class_val` argument:"
   ]
  },
  {
   "cell_type": "code",
   "execution_count": 26,
   "metadata": {
    "autoscroll": false,
    "ein.hycell": false,
    "ein.tags": "worksheet-0",
    "slideshow": {
     "slide_type": "-"
    }
   },
   "outputs": [
    {
     "data": {
      "text/plain": [
       "Text(0.5, 0.98, 'Landscape-level metrics')"
      ]
     },
     "execution_count": 26,
     "metadata": {},
     "output_type": "execute_result"
    },
    {
     "data": {
      "image/png": "[encoded data removed]",
      "text/plain": [
       "<Figure size 864x576 with 4 Axes>"
      ]
     },
     "metadata": {
      "needs_background": "light"
     },
     "output_type": "display_data"
    }
   ],
   "source": [
    "fig, axes = sta.plot_metrics(num_cols=2)\n",
    "fig.suptitle('Landscape-level metrics')"
   ]
  },
  {
   "cell_type": "markdown",
   "metadata": {
    "ein.tags": "worksheet-0",
    "slideshow": {
     "slide_type": "-"
    }
   },
   "source": [
    "See the documentation of `SpatioTemporalAnalysis.plot_metrics` for more details."
   ]
  }
 ],
 "metadata": {
  "kernelspec": {
   "display_name": "Python (pylandstats)",
   "language": "python",
   "name": "pylandstats"
  },
  "language_info": {
   "codemirror_mode": {
    "name": "ipython",
    "version": 3
   },
   "file_extension": ".py",
   "mimetype": "text/x-python",
   "name": "python",
   "nbconvert_exporter": "python",
   "pygments_lexer": "ipython3",
   "version": "3.6.7"
  },
  "name": "overview.ipynb"
 },
 "nbformat": 4,
 "nbformat_minor": 2
}
