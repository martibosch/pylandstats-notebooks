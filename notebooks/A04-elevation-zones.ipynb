{
 "cells": [
  {
   "cell_type": "code",
   "execution_count": null,
   "id": "4b6f84d0",
   "metadata": {},
   "outputs": [],
   "source": [
    "import io\n",
    "import tempfile\n",
    "import zipfile\n",
    "from os import path\n",
    "from urllib import request\n",
    "\n",
    "import geopandas as gpd\n",
    "import numpy as np\n",
    "import osmnx as ox\n",
    "import rasterio as rio\n",
    "from rasterio import features, mask\n",
    "from shapely import geometry\n",
    "\n",
    "EPSG = 21781\n",
    "DEM_URL = \"https://data.geo.admin.ch/ch.swisstopo.digitales-hoehenmodell_25/data.zip\"\n",
    "ELEV_ZONES = [0, 1000, 1500]  # lower than 1000, between 1000 and 1500, higher than 1500"
   ]
  },
  {
   "cell_type": "code",
   "execution_count": null,
   "id": "f1c7bcf5",
   "metadata": {
    "tags": [
     "parameters"
    ]
   },
   "outputs": [],
   "source": [
    "nominatim_query = \"District de la Veveyse, Fribourg, Switzerland\"\n",
    "dst_filepath = \"../data/processed/elev-zones.gpkg\""
   ]
  },
  {
   "cell_type": "code",
   "execution_count": null,
   "id": "8d3be354",
   "metadata": {},
   "outputs": [],
   "source": [
    "# open the elevation data from the zip url\n",
    "resp = request.urlopen(DEM_URL)\n",
    "with zipfile.ZipFile(io.BytesIO(resp.read())) as zip_ref:\n",
    "    with tempfile.TemporaryDirectory() as tmpdirname:\n",
    "        zip_ref.extractall(tmpdirname)\n",
    "        dem_filepath = path.join(tmpdirname, \"DHM200.xyz\")\n",
    "        # create a vector layer with the elevation zones of the nominatim query extent\n",
    "        with rio.open(dem_filepath) as src:\n",
    "            # get the extent from nominatim\n",
    "            extent_gdf = ox.geocode_to_gdf(nominatim_query).to_crs(epsg=EPSG)\n",
    "            # read the elevation data for the extent\n",
    "            dem_arr, dem_transform = mask.mask(src, extent_gdf.geometry, crop=True)\n",
    "            # create a vector layer with the elevation zones\n",
    "            zones = np.digitize(dem_arr[0], ELEV_ZONES, right=True).astype(np.uint8)\n",
    "            print(zones)\n",
    "            # vectorize raster features into a geo-dataframe\n",
    "            zones = (\n",
    "                gpd.GeoDataFrame(\n",
    "                    [\n",
    "                        (val, geometry.shape(geom))\n",
    "                        for geom, val in features.shapes(zones, transform=dem_transform)\n",
    "                        if val != 0\n",
    "                    ],\n",
    "                    columns=[\"elev-zone\", \"geometry\"],\n",
    "                    crs=extent_gdf.crs,\n",
    "                )\n",
    "                .dissolve(by=\"elev-zone\")\n",
    "                .rename(index={1: \"<1000\", 2: \"1000-1500\", 3: \">1500\"})\n",
    "            )\n",
    "# dump to a file\n",
    "zones.to_file(dst_filepath)"
   ]
  }
 ],
 "metadata": {
  "celltoolbar": "Tags",
  "jupytext": {
   "cell_metadata_filter": "tags,-all"
  },
  "kernelspec": {
   "display_name": "Python (pylandstats)",
   "language": "python",
   "name": "pylandstats"
  },
  "language_info": {
   "codemirror_mode": {
    "name": "ipython",
    "version": 3
   },
   "file_extension": ".py",
   "mimetype": "text/x-python",
   "name": "python",
   "nbconvert_exporter": "python",
   "pygments_lexer": "ipython3",
   "version": "3.11.4"
  }
 },
 "nbformat": 4,
 "nbformat_minor": 5
}
