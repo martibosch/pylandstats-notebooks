{
 "cells": [
  {
   "cell_type": "markdown",
   "metadata": {
    "ein.tags": "worksheet-0",
    "slideshow": {
     "slide_type": "-"
    }
   },
   "source": [
    "# Spatio-temporal analysis"
   ]
  },
  {
   "cell_type": "code",
   "execution_count": null,
   "metadata": {
    "autoscroll": false,
    "ein.hycell": false,
    "ein.tags": "worksheet-0",
    "slideshow": {
     "slide_type": "-"
    }
   },
   "outputs": [],
   "source": [
    "import datetime\n",
    "\n",
    "import pylandstats as pls"
   ]
  },
  {
   "cell_type": "markdown",
   "metadata": {
    "ein.tags": "worksheet-0",
    "slideshow": {
     "slide_type": "-"
    }
   },
   "source": [
    "We are often interested in the analysis of the temporal evolution of the configuration and composition of a particular landscape. To that end, we will use the three extracts of [Veveyse district](https://en.wikipedia.org/wiki/Veveyse_District) from the [Swiss Land Statistics (SLS) datasets from the Swiss Federal Statistical Office](https://www.bfs.admin.ch/bfs/en/home/services/geostat/swiss-federal-statistics-geodata/land-use-cover-suitability/swiss-land-use-statistics.html) for the years 1992, 2004 and 2012.\n",
    "\n",
    "We first need to run the cell below so that the land use/land cover (LULC) data is downloaded and preprocessed (see [A03-swisslandstats-preprocessing.ipynb](https://github.com/martibosch/pylandstats-notebooks/blob/master/notebooks/A03-swisslandstats-preprocessing.ipynb) for more details)."
   ]
  },
  {
   "cell_type": "code",
   "execution_count": null,
   "metadata": {},
   "outputs": [
    {
     "name": "stdout",
     "output_type": "stream",
     "text": [
      "make: Entering directory '/home/martibosch/data-science/pylandstats-notebooks'\r\n",
      "make: Nothing to be done for 'lulc_rasters'.\r\n",
      "make: Leaving directory '/home/martibosch/data-science/pylandstats-notebooks'\r\n"
     ]
    }
   ],
   "source": [
    "!make -C .. lulc_rasters"
   ]
  },
  {
   "cell_type": "markdown",
   "metadata": {},
   "source": [
    "We can now use the class `SpatioTemporalAnalysis`, which we can instantiate with a temporally-ordered sequence of landscape snapshots."
   ]
  },
  {
   "cell_type": "code",
   "execution_count": null,
   "metadata": {
    "autoscroll": false,
    "ein.hycell": false,
    "ein.tags": "worksheet-0",
    "slideshow": {
     "slide_type": "-"
    }
   },
   "outputs": [],
   "source": [
    "URBAN_CLASS_VAL = 1\n",
    "input_filepaths = [\n",
    "    \"../data/processed/veveyse-AS97R_4.tif\",\n",
    "    \"../data/processed/veveyse-AS09R_4.tif\",\n",
    "    \"../data/processed/veveyse-AS18_4.tif\",\n",
    "]\n",
    "years = [\"1992\", \"2004\", \"2012\"]\n",
    "\n",
    "sta = pls.SpatioTemporalAnalysis(input_filepaths, dates=years)\n",
    "class_metrics_df = sta.compute_class_metrics_df()"
   ]
  },
  {
   "cell_type": "markdown",
   "metadata": {
    "ein.tags": "worksheet-0",
    "slideshow": {
     "slide_type": "-"
    }
   },
   "source": [
    "## Spatio-temporal data frames\n",
    "\n",
    "By now, `SpatioTemporalAnalysis` only supports class and landscape-level metrics, which can be computed by means of its methods `compute_class_metrics_df` and `compute_landscape_metrics_df` respectively. For instance, a data frame of the class-level metrics can be obtained as follows:"
   ]
  },
  {
   "cell_type": "code",
   "execution_count": null,
   "metadata": {
    "autoscroll": false,
    "ein.hycell": false,
    "ein.tags": "worksheet-0",
    "slideshow": {
     "slide_type": "-"
    }
   },
   "outputs": [
    {
     "data": {
      "text/html": [
       "<div>\n",
       "<style scoped>\n",
       "    .dataframe tbody tr th:only-of-type {\n",
       "        vertical-align: middle;\n",
       "    }\n",
       "\n",
       "    .dataframe tbody tr th {\n",
       "        vertical-align: top;\n",
       "    }\n",
       "\n",
       "    .dataframe thead th {\n",
       "        text-align: right;\n",
       "    }\n",
       "</style>\n",
       "<table border=\"1\" class=\"dataframe\">\n",
       "  <thead>\n",
       "    <tr style=\"text-align: right;\">\n",
       "      <th></th>\n",
       "      <th>metric</th>\n",
       "      <th>total_area</th>\n",
       "      <th>proportion_of_landscape</th>\n",
       "      <th>number_of_patches</th>\n",
       "      <th>patch_density</th>\n",
       "      <th>largest_patch_index</th>\n",
       "      <th>total_edge</th>\n",
       "      <th>edge_density</th>\n",
       "      <th>landscape_shape_index</th>\n",
       "      <th>effective_mesh_size</th>\n",
       "      <th>area_mn</th>\n",
       "      <th>...</th>\n",
       "      <th>fractal_dimension_md</th>\n",
       "      <th>fractal_dimension_ra</th>\n",
       "      <th>fractal_dimension_sd</th>\n",
       "      <th>fractal_dimension_cv</th>\n",
       "      <th>euclidean_nearest_neighbor_mn</th>\n",
       "      <th>euclidean_nearest_neighbor_am</th>\n",
       "      <th>euclidean_nearest_neighbor_md</th>\n",
       "      <th>euclidean_nearest_neighbor_ra</th>\n",
       "      <th>euclidean_nearest_neighbor_sd</th>\n",
       "      <th>euclidean_nearest_neighbor_cv</th>\n",
       "    </tr>\n",
       "    <tr>\n",
       "      <th>class_val</th>\n",
       "      <th>dates</th>\n",
       "      <th></th>\n",
       "      <th></th>\n",
       "      <th></th>\n",
       "      <th></th>\n",
       "      <th></th>\n",
       "      <th></th>\n",
       "      <th></th>\n",
       "      <th></th>\n",
       "      <th></th>\n",
       "      <th></th>\n",
       "      <th></th>\n",
       "      <th></th>\n",
       "      <th></th>\n",
       "      <th></th>\n",
       "      <th></th>\n",
       "      <th></th>\n",
       "      <th></th>\n",
       "      <th></th>\n",
       "      <th></th>\n",
       "      <th></th>\n",
       "      <th></th>\n",
       "    </tr>\n",
       "  </thead>\n",
       "  <tbody>\n",
       "    <tr>\n",
       "      <th rowspan=\"3\" valign=\"top\">1</th>\n",
       "      <th>1992</th>\n",
       "      <td>794.0</td>\n",
       "      <td>5.910817</td>\n",
       "      <td>309.0</td>\n",
       "      <td>2.300305</td>\n",
       "      <td>0.602993</td>\n",
       "      <td>227800.0</td>\n",
       "      <td>16.958237</td>\n",
       "      <td>20.210526</td>\n",
       "      <td>0.994566</td>\n",
       "      <td>2.569579</td>\n",
       "      <td>...</td>\n",
       "      <td>1.000000</td>\n",
       "      <td>0.197592</td>\n",
       "      <td>0.041018</td>\n",
       "      <td>4.015750</td>\n",
       "      <td>299.844593</td>\n",
       "      <td>249.407695</td>\n",
       "      <td>223.606798</td>\n",
       "      <td>940.175425</td>\n",
       "      <td>156.817097</td>\n",
       "      <td>52.299458</td>\n",
       "    </tr>\n",
       "    <tr>\n",
       "      <th>2004</th>\n",
       "      <td>906.0</td>\n",
       "      <td>6.744584</td>\n",
       "      <td>304.0</td>\n",
       "      <td>2.263083</td>\n",
       "      <td>0.699769</td>\n",
       "      <td>242000.0</td>\n",
       "      <td>18.015335</td>\n",
       "      <td>20.065574</td>\n",
       "      <td>1.482617</td>\n",
       "      <td>2.980263</td>\n",
       "      <td>...</td>\n",
       "      <td>1.000000</td>\n",
       "      <td>0.206568</td>\n",
       "      <td>0.042808</td>\n",
       "      <td>4.182610</td>\n",
       "      <td>301.021934</td>\n",
       "      <td>241.167503</td>\n",
       "      <td>223.606798</td>\n",
       "      <td>1100.000000</td>\n",
       "      <td>162.962720</td>\n",
       "      <td>54.136494</td>\n",
       "    </tr>\n",
       "    <tr>\n",
       "      <th>2012</th>\n",
       "      <td>1041.0</td>\n",
       "      <td>7.749572</td>\n",
       "      <td>287.0</td>\n",
       "      <td>2.136529</td>\n",
       "      <td>1.421872</td>\n",
       "      <td>256600.0</td>\n",
       "      <td>19.102211</td>\n",
       "      <td>19.969231</td>\n",
       "      <td>3.877838</td>\n",
       "      <td>3.627178</td>\n",
       "      <td>...</td>\n",
       "      <td>1.000000</td>\n",
       "      <td>0.220343</td>\n",
       "      <td>0.045077</td>\n",
       "      <td>4.402981</td>\n",
       "      <td>309.244705</td>\n",
       "      <td>240.805397</td>\n",
       "      <td>223.606798</td>\n",
       "      <td>1100.000000</td>\n",
       "      <td>168.551251</td>\n",
       "      <td>54.504167</td>\n",
       "    </tr>\n",
       "    <tr>\n",
       "      <th rowspan=\"2\" valign=\"top\">2</th>\n",
       "      <th>1992</th>\n",
       "      <td>7805.0</td>\n",
       "      <td>58.103179</td>\n",
       "      <td>54.0</td>\n",
       "      <td>0.401995</td>\n",
       "      <td>46.460210</td>\n",
       "      <td>661200.0</td>\n",
       "      <td>49.222065</td>\n",
       "      <td>19.943503</td>\n",
       "      <td>2950.532197</td>\n",
       "      <td>144.537037</td>\n",
       "      <td>...</td>\n",
       "      <td>1.027906</td>\n",
       "      <td>0.306079</td>\n",
       "      <td>0.068492</td>\n",
       "      <td>6.477715</td>\n",
       "      <td>233.061438</td>\n",
       "      <td>203.596395</td>\n",
       "      <td>200.000000</td>\n",
       "      <td>561.577311</td>\n",
       "      <td>84.639515</td>\n",
       "      <td>36.316396</td>\n",
       "    </tr>\n",
       "    <tr>\n",
       "      <th>2004</th>\n",
       "      <td>7692.0</td>\n",
       "      <td>57.261967</td>\n",
       "      <td>54.0</td>\n",
       "      <td>0.401995</td>\n",
       "      <td>45.723219</td>\n",
       "      <td>671500.0</td>\n",
       "      <td>49.988833</td>\n",
       "      <td>20.346591</td>\n",
       "      <td>2851.566292</td>\n",
       "      <td>142.444444</td>\n",
       "      <td>...</td>\n",
       "      <td>1.037246</td>\n",
       "      <td>0.309307</td>\n",
       "      <td>0.068840</td>\n",
       "      <td>6.484687</td>\n",
       "      <td>232.748241</td>\n",
       "      <td>203.015103</td>\n",
       "      <td>200.000000</td>\n",
       "      <td>624.621125</td>\n",
       "      <td>90.750558</td>\n",
       "      <td>38.990867</td>\n",
       "    </tr>\n",
       "  </tbody>\n",
       "</table>\n",
       "<p>5 rows × 45 columns</p>\n",
       "</div>"
      ],
      "text/plain": [
       "metric           total_area  proportion_of_landscape  number_of_patches  \\\n",
       "class_val dates                                                           \n",
       "1         1992        794.0                 5.910817              309.0   \n",
       "          2004        906.0                 6.744584              304.0   \n",
       "          2012       1041.0                 7.749572              287.0   \n",
       "2         1992       7805.0                58.103179               54.0   \n",
       "          2004       7692.0                57.261967               54.0   \n",
       "\n",
       "metric           patch_density  largest_patch_index  total_edge  edge_density  \\\n",
       "class_val dates                                                                 \n",
       "1         1992        2.300305             0.602993    227800.0     16.958237   \n",
       "          2004        2.263083             0.699769    242000.0     18.015335   \n",
       "          2012        2.136529             1.421872    256600.0     19.102211   \n",
       "2         1992        0.401995            46.460210    661200.0     49.222065   \n",
       "          2004        0.401995            45.723219    671500.0     49.988833   \n",
       "\n",
       "metric           landscape_shape_index  effective_mesh_size     area_mn  ...  \\\n",
       "class_val dates                                                          ...   \n",
       "1         1992               20.210526             0.994566    2.569579  ...   \n",
       "          2004               20.065574             1.482617    2.980263  ...   \n",
       "          2012               19.969231             3.877838    3.627178  ...   \n",
       "2         1992               19.943503          2950.532197  144.537037  ...   \n",
       "          2004               20.346591          2851.566292  142.444444  ...   \n",
       "\n",
       "metric           fractal_dimension_md  fractal_dimension_ra  \\\n",
       "class_val dates                                               \n",
       "1         1992               1.000000              0.197592   \n",
       "          2004               1.000000              0.206568   \n",
       "          2012               1.000000              0.220343   \n",
       "2         1992               1.027906              0.306079   \n",
       "          2004               1.037246              0.309307   \n",
       "\n",
       "metric           fractal_dimension_sd  fractal_dimension_cv  \\\n",
       "class_val dates                                               \n",
       "1         1992               0.041018              4.015750   \n",
       "          2004               0.042808              4.182610   \n",
       "          2012               0.045077              4.402981   \n",
       "2         1992               0.068492              6.477715   \n",
       "          2004               0.068840              6.484687   \n",
       "\n",
       "metric           euclidean_nearest_neighbor_mn  euclidean_nearest_neighbor_am  \\\n",
       "class_val dates                                                                 \n",
       "1         1992                      299.844593                     249.407695   \n",
       "          2004                      301.021934                     241.167503   \n",
       "          2012                      309.244705                     240.805397   \n",
       "2         1992                      233.061438                     203.596395   \n",
       "          2004                      232.748241                     203.015103   \n",
       "\n",
       "metric           euclidean_nearest_neighbor_md  euclidean_nearest_neighbor_ra  \\\n",
       "class_val dates                                                                 \n",
       "1         1992                      223.606798                     940.175425   \n",
       "          2004                      223.606798                    1100.000000   \n",
       "          2012                      223.606798                    1100.000000   \n",
       "2         1992                      200.000000                     561.577311   \n",
       "          2004                      200.000000                     624.621125   \n",
       "\n",
       "metric           euclidean_nearest_neighbor_sd  euclidean_nearest_neighbor_cv  \n",
       "class_val dates                                                                \n",
       "1         1992                      156.817097                      52.299458  \n",
       "          2004                      162.962720                      54.136494  \n",
       "          2012                      168.551251                      54.504167  \n",
       "2         1992                       84.639515                      36.316396  \n",
       "          2004                       90.750558                      38.990867  \n",
       "\n",
       "[5 rows x 45 columns]"
      ]
     },
     "execution_count": null,
     "metadata": {},
     "output_type": "execute_result"
    }
   ],
   "source": [
    "class_metrics_df = sta.compute_class_metrics_df()\n",
    "class_metrics_df.head()"
   ]
  },
  {
   "cell_type": "markdown",
   "metadata": {
    "ein.tags": "worksheet-0",
    "slideshow": {
     "slide_type": "-"
    }
   },
   "source": [
    "Again, we can use the operations of any pandas data frame. For instance, we can get all the metrics for the *urban* class (`class_val` of 1) in 1992:"
   ]
  },
  {
   "cell_type": "code",
   "execution_count": null,
   "metadata": {
    "autoscroll": false,
    "ein.hycell": false,
    "ein.tags": "worksheet-0",
    "slideshow": {
     "slide_type": "-"
    }
   },
   "outputs": [
    {
     "data": {
      "text/plain": [
       "metric\n",
       "total_area                          794.000000\n",
       "proportion_of_landscape               5.910817\n",
       "number_of_patches                   309.000000\n",
       "patch_density                         2.300305\n",
       "largest_patch_index                   0.602993\n",
       "total_edge                       227800.000000\n",
       "edge_density                         16.958237\n",
       "landscape_shape_index                20.210526\n",
       "effective_mesh_size                   0.994566\n",
       "area_mn                               2.569579\n",
       "area_am                              16.826196\n",
       "area_md                               1.000000\n",
       "area_ra                              80.000000\n",
       "area_sd                               6.052562\n",
       "area_cv                             235.546813\n",
       "perimeter_mn                        745.631068\n",
       "perimeter_am                       3215.617128\n",
       "perimeter_md                        400.000000\n",
       "perimeter_ra                      12200.000000\n",
       "perimeter_sd                       1077.283233\n",
       "perimeter_cv                        144.479392\n",
       "perimeter_area_ratio_mn             369.626930\n",
       "perimeter_area_ratio_am             290.176322\n",
       "perimeter_area_ratio_md             400.000000\n",
       "perimeter_area_ratio_ra             244.444444\n",
       "perimeter_area_ratio_sd              57.837874\n",
       "perimeter_area_ratio_cv              15.647635\n",
       "shape_index_mn                        1.130628\n",
       "shape_index_am                        1.783543\n",
       "shape_index_md                        1.000000\n",
       "shape_index_ra                        2.500000\n",
       "shape_index_sd                        0.347558\n",
       "shape_index_cv                       30.740269\n",
       "fractal_dimension_mn                  1.021428\n",
       "fractal_dimension_am                  1.083145\n",
       "fractal_dimension_md                  1.000000\n",
       "fractal_dimension_ra                  0.197592\n",
       "fractal_dimension_sd                  0.041018\n",
       "fractal_dimension_cv                  4.015750\n",
       "euclidean_nearest_neighbor_mn       299.844593\n",
       "euclidean_nearest_neighbor_am       249.407695\n",
       "euclidean_nearest_neighbor_md       223.606798\n",
       "euclidean_nearest_neighbor_ra       940.175425\n",
       "euclidean_nearest_neighbor_sd       156.817097\n",
       "euclidean_nearest_neighbor_cv        52.299458\n",
       "Name: (1, 1992), dtype: float64"
      ]
     },
     "execution_count": null,
     "metadata": {},
     "output_type": "execute_result"
    }
   ],
   "source": [
    "class_metrics_df.loc[(1, \"1992\")]"
   ]
  },
  {
   "cell_type": "markdown",
   "metadata": {
    "ein.tags": "worksheet-0",
    "slideshow": {
     "slide_type": "-"
    }
   },
   "source": [
    "Similarly, the data frame of landscape metrics can be obtained as follows:"
   ]
  },
  {
   "cell_type": "code",
   "execution_count": null,
   "metadata": {
    "autoscroll": false,
    "ein.hycell": false,
    "ein.tags": "worksheet-0",
    "slideshow": {
     "slide_type": "-"
    }
   },
   "outputs": [
    {
     "data": {
      "text/html": [
       "<div>\n",
       "<style scoped>\n",
       "    .dataframe tbody tr th:only-of-type {\n",
       "        vertical-align: middle;\n",
       "    }\n",
       "\n",
       "    .dataframe tbody tr th {\n",
       "        vertical-align: top;\n",
       "    }\n",
       "\n",
       "    .dataframe thead th {\n",
       "        text-align: right;\n",
       "    }\n",
       "</style>\n",
       "<table border=\"1\" class=\"dataframe\">\n",
       "  <thead>\n",
       "    <tr style=\"text-align: right;\">\n",
       "      <th>metric</th>\n",
       "      <th>total_area</th>\n",
       "      <th>number_of_patches</th>\n",
       "      <th>patch_density</th>\n",
       "      <th>largest_patch_index</th>\n",
       "      <th>total_edge</th>\n",
       "      <th>edge_density</th>\n",
       "      <th>landscape_shape_index</th>\n",
       "      <th>effective_mesh_size</th>\n",
       "      <th>entropy</th>\n",
       "      <th>shannon_diversity_index</th>\n",
       "      <th>...</th>\n",
       "      <th>fractal_dimension_md</th>\n",
       "      <th>fractal_dimension_ra</th>\n",
       "      <th>fractal_dimension_sd</th>\n",
       "      <th>fractal_dimension_cv</th>\n",
       "      <th>euclidean_nearest_neighbor_mn</th>\n",
       "      <th>euclidean_nearest_neighbor_am</th>\n",
       "      <th>euclidean_nearest_neighbor_md</th>\n",
       "      <th>euclidean_nearest_neighbor_ra</th>\n",
       "      <th>euclidean_nearest_neighbor_sd</th>\n",
       "      <th>euclidean_nearest_neighbor_cv</th>\n",
       "    </tr>\n",
       "    <tr>\n",
       "      <th>dates</th>\n",
       "      <th></th>\n",
       "      <th></th>\n",
       "      <th></th>\n",
       "      <th></th>\n",
       "      <th></th>\n",
       "      <th></th>\n",
       "      <th></th>\n",
       "      <th></th>\n",
       "      <th></th>\n",
       "      <th></th>\n",
       "      <th></th>\n",
       "      <th></th>\n",
       "      <th></th>\n",
       "      <th></th>\n",
       "      <th></th>\n",
       "      <th></th>\n",
       "      <th></th>\n",
       "      <th></th>\n",
       "      <th></th>\n",
       "      <th></th>\n",
       "      <th></th>\n",
       "    </tr>\n",
       "  </thead>\n",
       "  <tbody>\n",
       "    <tr>\n",
       "      <th>1992</th>\n",
       "      <td>13433.0</td>\n",
       "      <td>687.0</td>\n",
       "      <td>5.114271</td>\n",
       "      <td>46.460210</td>\n",
       "      <td>730800.0</td>\n",
       "      <td>54.403335</td>\n",
       "      <td>17.870690</td>\n",
       "      <td>3670.101913</td>\n",
       "      <td>1.343467</td>\n",
       "      <td>0.931221</td>\n",
       "      <td>...</td>\n",
       "      <td>1.0</td>\n",
       "      <td>0.306079</td>\n",
       "      <td>0.048155</td>\n",
       "      <td>4.684560</td>\n",
       "      <td>308.379611</td>\n",
       "      <td>212.349764</td>\n",
       "      <td>223.606798</td>\n",
       "      <td>3124.154028</td>\n",
       "      <td>219.194252</td>\n",
       "      <td>71.079359</td>\n",
       "    </tr>\n",
       "    <tr>\n",
       "      <th>2004</th>\n",
       "      <td>13433.0</td>\n",
       "      <td>689.0</td>\n",
       "      <td>5.129160</td>\n",
       "      <td>45.723219</td>\n",
       "      <td>739700.0</td>\n",
       "      <td>55.065883</td>\n",
       "      <td>18.062500</td>\n",
       "      <td>3574.739894</td>\n",
       "      <td>1.363540</td>\n",
       "      <td>0.945134</td>\n",
       "      <td>...</td>\n",
       "      <td>1.0</td>\n",
       "      <td>0.309307</td>\n",
       "      <td>0.048268</td>\n",
       "      <td>4.693809</td>\n",
       "      <td>309.626880</td>\n",
       "      <td>211.870371</td>\n",
       "      <td>223.606798</td>\n",
       "      <td>3124.154028</td>\n",
       "      <td>227.583997</td>\n",
       "      <td>73.502661</td>\n",
       "    </tr>\n",
       "    <tr>\n",
       "      <th>2012</th>\n",
       "      <td>13433.0</td>\n",
       "      <td>665.0</td>\n",
       "      <td>4.950495</td>\n",
       "      <td>44.807563</td>\n",
       "      <td>749500.0</td>\n",
       "      <td>55.795429</td>\n",
       "      <td>18.273707</td>\n",
       "      <td>3461.884836</td>\n",
       "      <td>1.391901</td>\n",
       "      <td>0.964792</td>\n",
       "      <td>...</td>\n",
       "      <td>1.0</td>\n",
       "      <td>0.311892</td>\n",
       "      <td>0.049667</td>\n",
       "      <td>4.822265</td>\n",
       "      <td>309.041400</td>\n",
       "      <td>213.949783</td>\n",
       "      <td>223.606798</td>\n",
       "      <td>3124.154028</td>\n",
       "      <td>225.342246</td>\n",
       "      <td>72.916524</td>\n",
       "    </tr>\n",
       "  </tbody>\n",
       "</table>\n",
       "<p>3 rows × 51 columns</p>\n",
       "</div>"
      ],
      "text/plain": [
       "metric  total_area  number_of_patches  patch_density  largest_patch_index  \\\n",
       "dates                                                                       \n",
       "1992       13433.0              687.0       5.114271            46.460210   \n",
       "2004       13433.0              689.0       5.129160            45.723219   \n",
       "2012       13433.0              665.0       4.950495            44.807563   \n",
       "\n",
       "metric  total_edge  edge_density  landscape_shape_index  effective_mesh_size  \\\n",
       "dates                                                                          \n",
       "1992      730800.0     54.403335              17.870690          3670.101913   \n",
       "2004      739700.0     55.065883              18.062500          3574.739894   \n",
       "2012      749500.0     55.795429              18.273707          3461.884836   \n",
       "\n",
       "metric   entropy  shannon_diversity_index  ...  fractal_dimension_md  \\\n",
       "dates                                      ...                         \n",
       "1992    1.343467                 0.931221  ...                   1.0   \n",
       "2004    1.363540                 0.945134  ...                   1.0   \n",
       "2012    1.391901                 0.964792  ...                   1.0   \n",
       "\n",
       "metric  fractal_dimension_ra  fractal_dimension_sd  fractal_dimension_cv  \\\n",
       "dates                                                                      \n",
       "1992                0.306079              0.048155              4.684560   \n",
       "2004                0.309307              0.048268              4.693809   \n",
       "2012                0.311892              0.049667              4.822265   \n",
       "\n",
       "metric  euclidean_nearest_neighbor_mn  euclidean_nearest_neighbor_am  \\\n",
       "dates                                                                  \n",
       "1992                       308.379611                     212.349764   \n",
       "2004                       309.626880                     211.870371   \n",
       "2012                       309.041400                     213.949783   \n",
       "\n",
       "metric  euclidean_nearest_neighbor_md  euclidean_nearest_neighbor_ra  \\\n",
       "dates                                                                  \n",
       "1992                       223.606798                    3124.154028   \n",
       "2004                       223.606798                    3124.154028   \n",
       "2012                       223.606798                    3124.154028   \n",
       "\n",
       "metric  euclidean_nearest_neighbor_sd  euclidean_nearest_neighbor_cv  \n",
       "dates                                                                 \n",
       "1992                       219.194252                      71.079359  \n",
       "2004                       227.583997                      73.502661  \n",
       "2012                       225.342246                      72.916524  \n",
       "\n",
       "[3 rows x 51 columns]"
      ]
     },
     "execution_count": null,
     "metadata": {},
     "output_type": "execute_result"
    }
   ],
   "source": [
    "sta.compute_landscape_metrics_df()"
   ]
  },
  {
   "cell_type": "markdown",
   "metadata": {
    "ein.tags": "worksheet-0",
    "slideshow": {
     "slide_type": "-"
    }
   },
   "source": [
    "### Customizing your spatio-temporal analysis\n",
    "\n",
    "As within the `Landscape` analysis, we can also choose to compute a subset of metrics by passing them to the `metrics` keyword argument of the `compute_class_metrics_df` and `compute_landscape_metrics_df` methods, as in:"
   ]
  },
  {
   "cell_type": "code",
   "execution_count": null,
   "metadata": {
    "autoscroll": false,
    "ein.hycell": false,
    "ein.tags": "worksheet-0",
    "slideshow": {
     "slide_type": "-"
    }
   },
   "outputs": [
    {
     "data": {
      "text/html": [
       "<div>\n",
       "<style scoped>\n",
       "    .dataframe tbody tr th:only-of-type {\n",
       "        vertical-align: middle;\n",
       "    }\n",
       "\n",
       "    .dataframe tbody tr th {\n",
       "        vertical-align: top;\n",
       "    }\n",
       "\n",
       "    .dataframe thead th {\n",
       "        text-align: right;\n",
       "    }\n",
       "</style>\n",
       "<table border=\"1\" class=\"dataframe\">\n",
       "  <thead>\n",
       "    <tr style=\"text-align: right;\">\n",
       "      <th></th>\n",
       "      <th>metric</th>\n",
       "      <th>proportion_of_landscape</th>\n",
       "      <th>edge_density</th>\n",
       "      <th>fractal_dimension_am</th>\n",
       "    </tr>\n",
       "    <tr>\n",
       "      <th>class_val</th>\n",
       "      <th>dates</th>\n",
       "      <th></th>\n",
       "      <th></th>\n",
       "      <th></th>\n",
       "    </tr>\n",
       "  </thead>\n",
       "  <tbody>\n",
       "    <tr>\n",
       "      <th rowspan=\"3\" valign=\"top\">1</th>\n",
       "      <th>1992</th>\n",
       "      <td>5.910817</td>\n",
       "      <td>16.958237</td>\n",
       "      <td>1.083145</td>\n",
       "    </tr>\n",
       "    <tr>\n",
       "      <th>2004</th>\n",
       "      <td>6.744584</td>\n",
       "      <td>18.015335</td>\n",
       "      <td>1.089937</td>\n",
       "    </tr>\n",
       "    <tr>\n",
       "      <th>2012</th>\n",
       "      <td>7.749572</td>\n",
       "      <td>19.102211</td>\n",
       "      <td>1.113777</td>\n",
       "    </tr>\n",
       "    <tr>\n",
       "      <th rowspan=\"3\" valign=\"top\">2</th>\n",
       "      <th>1992</th>\n",
       "      <td>58.103179</td>\n",
       "      <td>49.222065</td>\n",
       "      <td>1.285986</td>\n",
       "    </tr>\n",
       "    <tr>\n",
       "      <th>2004</th>\n",
       "      <td>57.261967</td>\n",
       "      <td>49.988833</td>\n",
       "      <td>1.287143</td>\n",
       "    </tr>\n",
       "    <tr>\n",
       "      <th>2012</th>\n",
       "      <td>56.271868</td>\n",
       "      <td>50.599270</td>\n",
       "      <td>1.287897</td>\n",
       "    </tr>\n",
       "    <tr>\n",
       "      <th rowspan=\"3\" valign=\"top\">3</th>\n",
       "      <th>1992</th>\n",
       "      <td>33.715477</td>\n",
       "      <td>38.338420</td>\n",
       "      <td>1.235716</td>\n",
       "    </tr>\n",
       "    <tr>\n",
       "      <th>2004</th>\n",
       "      <td>33.894141</td>\n",
       "      <td>38.286310</td>\n",
       "      <td>1.233035</td>\n",
       "    </tr>\n",
       "    <tr>\n",
       "      <th>2012</th>\n",
       "      <td>33.946252</td>\n",
       "      <td>38.167200</td>\n",
       "      <td>1.232546</td>\n",
       "    </tr>\n",
       "    <tr>\n",
       "      <th rowspan=\"3\" valign=\"top\">4</th>\n",
       "      <th>1992</th>\n",
       "      <td>2.270528</td>\n",
       "      <td>4.287948</td>\n",
       "      <td>1.069879</td>\n",
       "    </tr>\n",
       "    <tr>\n",
       "      <th>2004</th>\n",
       "      <td>2.099308</td>\n",
       "      <td>3.841286</td>\n",
       "      <td>1.069110</td>\n",
       "    </tr>\n",
       "    <tr>\n",
       "      <th>2012</th>\n",
       "      <td>2.032308</td>\n",
       "      <td>3.722177</td>\n",
       "      <td>1.073387</td>\n",
       "    </tr>\n",
       "  </tbody>\n",
       "</table>\n",
       "</div>"
      ],
      "text/plain": [
       "metric           proportion_of_landscape  edge_density  fractal_dimension_am\n",
       "class_val dates                                                             \n",
       "1         1992                  5.910817     16.958237              1.083145\n",
       "          2004                  6.744584     18.015335              1.089937\n",
       "          2012                  7.749572     19.102211              1.113777\n",
       "2         1992                 58.103179     49.222065              1.285986\n",
       "          2004                 57.261967     49.988833              1.287143\n",
       "          2012                 56.271868     50.599270              1.287897\n",
       "3         1992                 33.715477     38.338420              1.235716\n",
       "          2004                 33.894141     38.286310              1.233035\n",
       "          2012                 33.946252     38.167200              1.232546\n",
       "4         1992                  2.270528      4.287948              1.069879\n",
       "          2004                  2.099308      3.841286              1.069110\n",
       "          2012                  2.032308      3.722177              1.073387"
      ]
     },
     "execution_count": null,
     "metadata": {},
     "output_type": "execute_result"
    }
   ],
   "source": [
    "metrics = [\"proportion_of_landscape\", \"edge_density\", \"fractal_dimension_am\"]\n",
    "sta.compute_class_metrics_df(metrics=metrics)"
   ]
  },
  {
   "cell_type": "markdown",
   "metadata": {
    "ein.tags": "worksheet-0",
    "slideshow": {
     "slide_type": "-"
    }
   },
   "source": [
    "At the class-level, we can choose to compute the metrics only for a subset of classes through the `classes` argument. We can simoultaneously choose a subset of metrics as well as a subset of classes by specifying both the `metrics` and `classes` arguments. For instance, we can choose to only compute the above metrics and only for the *urban* class (value of 1):"
   ]
  },
  {
   "cell_type": "code",
   "execution_count": null,
   "metadata": {
    "autoscroll": false,
    "ein.hycell": false,
    "ein.tags": "worksheet-0",
    "slideshow": {
     "slide_type": "-"
    }
   },
   "outputs": [
    {
     "data": {
      "text/html": [
       "<div>\n",
       "<style scoped>\n",
       "    .dataframe tbody tr th:only-of-type {\n",
       "        vertical-align: middle;\n",
       "    }\n",
       "\n",
       "    .dataframe tbody tr th {\n",
       "        vertical-align: top;\n",
       "    }\n",
       "\n",
       "    .dataframe thead th {\n",
       "        text-align: right;\n",
       "    }\n",
       "</style>\n",
       "<table border=\"1\" class=\"dataframe\">\n",
       "  <thead>\n",
       "    <tr style=\"text-align: right;\">\n",
       "      <th></th>\n",
       "      <th>metric</th>\n",
       "      <th>proportion_of_landscape</th>\n",
       "      <th>edge_density</th>\n",
       "      <th>fractal_dimension_am</th>\n",
       "    </tr>\n",
       "    <tr>\n",
       "      <th>class_val</th>\n",
       "      <th>dates</th>\n",
       "      <th></th>\n",
       "      <th></th>\n",
       "      <th></th>\n",
       "    </tr>\n",
       "  </thead>\n",
       "  <tbody>\n",
       "    <tr>\n",
       "      <th rowspan=\"3\" valign=\"top\">1</th>\n",
       "      <th>1992</th>\n",
       "      <td>5.910817</td>\n",
       "      <td>16.958237</td>\n",
       "      <td>1.083145</td>\n",
       "    </tr>\n",
       "    <tr>\n",
       "      <th>2004</th>\n",
       "      <td>6.744584</td>\n",
       "      <td>18.015335</td>\n",
       "      <td>1.089937</td>\n",
       "    </tr>\n",
       "    <tr>\n",
       "      <th>2012</th>\n",
       "      <td>7.749572</td>\n",
       "      <td>19.102211</td>\n",
       "      <td>1.113777</td>\n",
       "    </tr>\n",
       "  </tbody>\n",
       "</table>\n",
       "</div>"
      ],
      "text/plain": [
       "metric           proportion_of_landscape  edge_density  fractal_dimension_am\n",
       "class_val dates                                                             \n",
       "1         1992                  5.910817     16.958237              1.083145\n",
       "          2004                  6.744584     18.015335              1.089937\n",
       "          2012                  7.749572     19.102211              1.113777"
      ]
     },
     "execution_count": null,
     "metadata": {},
     "output_type": "execute_result"
    }
   ],
   "source": [
    "sta.compute_class_metrics_df(metrics=metrics, classes=[URBAN_CLASS_VAL])"
   ]
  },
  {
   "cell_type": "markdown",
   "metadata": {
    "ein.tags": "worksheet-0",
    "slideshow": {
     "slide_type": "-"
    }
   },
   "source": [
    "In both the `compute_class_metrics_df` and `compute_landscape_metrics_df` methods, we can also customize how some metrics are computed through the `metrics_kws` argument:"
   ]
  },
  {
   "cell_type": "code",
   "execution_count": null,
   "metadata": {
    "autoscroll": false,
    "ein.hycell": false,
    "ein.tags": "worksheet-0",
    "slideshow": {
     "slide_type": "-"
    }
   },
   "outputs": [
    {
     "data": {
      "text/html": [
       "<div>\n",
       "<style scoped>\n",
       "    .dataframe tbody tr th:only-of-type {\n",
       "        vertical-align: middle;\n",
       "    }\n",
       "\n",
       "    .dataframe tbody tr th {\n",
       "        vertical-align: top;\n",
       "    }\n",
       "\n",
       "    .dataframe thead th {\n",
       "        text-align: right;\n",
       "    }\n",
       "</style>\n",
       "<table border=\"1\" class=\"dataframe\">\n",
       "  <thead>\n",
       "    <tr style=\"text-align: right;\">\n",
       "      <th></th>\n",
       "      <th>metric</th>\n",
       "      <th>proportion_of_landscape</th>\n",
       "      <th>edge_density</th>\n",
       "      <th>fractal_dimension_am</th>\n",
       "    </tr>\n",
       "    <tr>\n",
       "      <th>class_val</th>\n",
       "      <th>dates</th>\n",
       "      <th></th>\n",
       "      <th></th>\n",
       "      <th></th>\n",
       "    </tr>\n",
       "  </thead>\n",
       "  <tbody>\n",
       "    <tr>\n",
       "      <th rowspan=\"3\" valign=\"top\">1</th>\n",
       "      <th>1992</th>\n",
       "      <td>0.059108</td>\n",
       "      <td>17.151790</td>\n",
       "      <td>1.083145</td>\n",
       "    </tr>\n",
       "    <tr>\n",
       "      <th>2004</th>\n",
       "      <td>0.067446</td>\n",
       "      <td>18.223777</td>\n",
       "      <td>1.089937</td>\n",
       "    </tr>\n",
       "    <tr>\n",
       "      <th>2012</th>\n",
       "      <td>0.077496</td>\n",
       "      <td>19.325542</td>\n",
       "      <td>1.113777</td>\n",
       "    </tr>\n",
       "  </tbody>\n",
       "</table>\n",
       "</div>"
      ],
      "text/plain": [
       "metric           proportion_of_landscape  edge_density  fractal_dimension_am\n",
       "class_val dates                                                             \n",
       "1         1992                  0.059108     17.151790              1.083145\n",
       "          2004                  0.067446     18.223777              1.089937\n",
       "          2012                  0.077496     19.325542              1.113777"
      ]
     },
     "execution_count": null,
     "metadata": {},
     "output_type": "execute_result"
    }
   ],
   "source": [
    "metrics_kws = {\n",
    "    \"proportion_of_landscape\": {\"percent\": False},\n",
    "    \"edge_density\": {\"count_boundary\": True},\n",
    "}\n",
    "sta.compute_class_metrics_df(\n",
    "    metrics=metrics, classes=[URBAN_CLASS_VAL], metrics_kws=metrics_kws\n",
    ")"
   ]
  },
  {
   "cell_type": "markdown",
   "metadata": {},
   "source": [
    "On the other hand, the `dates` keyword argument might also be provided as string or `datetime` objects, e.g.:"
   ]
  },
  {
   "cell_type": "code",
   "execution_count": null,
   "metadata": {},
   "outputs": [
    {
     "data": {
      "text/html": [
       "<div>\n",
       "<style scoped>\n",
       "    .dataframe tbody tr th:only-of-type {\n",
       "        vertical-align: middle;\n",
       "    }\n",
       "\n",
       "    .dataframe tbody tr th {\n",
       "        vertical-align: top;\n",
       "    }\n",
       "\n",
       "    .dataframe thead th {\n",
       "        text-align: right;\n",
       "    }\n",
       "</style>\n",
       "<table border=\"1\" class=\"dataframe\">\n",
       "  <thead>\n",
       "    <tr style=\"text-align: right;\">\n",
       "      <th>metric</th>\n",
       "      <th>total_area</th>\n",
       "      <th>number_of_patches</th>\n",
       "      <th>patch_density</th>\n",
       "      <th>largest_patch_index</th>\n",
       "      <th>total_edge</th>\n",
       "      <th>edge_density</th>\n",
       "      <th>landscape_shape_index</th>\n",
       "      <th>effective_mesh_size</th>\n",
       "      <th>entropy</th>\n",
       "      <th>shannon_diversity_index</th>\n",
       "      <th>...</th>\n",
       "      <th>fractal_dimension_md</th>\n",
       "      <th>fractal_dimension_ra</th>\n",
       "      <th>fractal_dimension_sd</th>\n",
       "      <th>fractal_dimension_cv</th>\n",
       "      <th>euclidean_nearest_neighbor_mn</th>\n",
       "      <th>euclidean_nearest_neighbor_am</th>\n",
       "      <th>euclidean_nearest_neighbor_md</th>\n",
       "      <th>euclidean_nearest_neighbor_ra</th>\n",
       "      <th>euclidean_nearest_neighbor_sd</th>\n",
       "      <th>euclidean_nearest_neighbor_cv</th>\n",
       "    </tr>\n",
       "    <tr>\n",
       "      <th>dates</th>\n",
       "      <th></th>\n",
       "      <th></th>\n",
       "      <th></th>\n",
       "      <th></th>\n",
       "      <th></th>\n",
       "      <th></th>\n",
       "      <th></th>\n",
       "      <th></th>\n",
       "      <th></th>\n",
       "      <th></th>\n",
       "      <th></th>\n",
       "      <th></th>\n",
       "      <th></th>\n",
       "      <th></th>\n",
       "      <th></th>\n",
       "      <th></th>\n",
       "      <th></th>\n",
       "      <th></th>\n",
       "      <th></th>\n",
       "      <th></th>\n",
       "      <th></th>\n",
       "    </tr>\n",
       "  </thead>\n",
       "  <tbody>\n",
       "    <tr>\n",
       "      <th>1992-01-01</th>\n",
       "      <td>13433.0</td>\n",
       "      <td>687.0</td>\n",
       "      <td>5.114271</td>\n",
       "      <td>46.460210</td>\n",
       "      <td>730800.0</td>\n",
       "      <td>54.403335</td>\n",
       "      <td>17.870690</td>\n",
       "      <td>3670.101913</td>\n",
       "      <td>1.343467</td>\n",
       "      <td>0.931221</td>\n",
       "      <td>...</td>\n",
       "      <td>1.0</td>\n",
       "      <td>0.306079</td>\n",
       "      <td>0.048155</td>\n",
       "      <td>4.684560</td>\n",
       "      <td>308.379611</td>\n",
       "      <td>212.349764</td>\n",
       "      <td>223.606798</td>\n",
       "      <td>3124.154028</td>\n",
       "      <td>219.194252</td>\n",
       "      <td>71.079359</td>\n",
       "    </tr>\n",
       "    <tr>\n",
       "      <th>2004-01-01</th>\n",
       "      <td>13433.0</td>\n",
       "      <td>689.0</td>\n",
       "      <td>5.129160</td>\n",
       "      <td>45.723219</td>\n",
       "      <td>739700.0</td>\n",
       "      <td>55.065883</td>\n",
       "      <td>18.062500</td>\n",
       "      <td>3574.739894</td>\n",
       "      <td>1.363540</td>\n",
       "      <td>0.945134</td>\n",
       "      <td>...</td>\n",
       "      <td>1.0</td>\n",
       "      <td>0.309307</td>\n",
       "      <td>0.048268</td>\n",
       "      <td>4.693809</td>\n",
       "      <td>309.626880</td>\n",
       "      <td>211.870371</td>\n",
       "      <td>223.606798</td>\n",
       "      <td>3124.154028</td>\n",
       "      <td>227.583997</td>\n",
       "      <td>73.502661</td>\n",
       "    </tr>\n",
       "    <tr>\n",
       "      <th>2012-01-01</th>\n",
       "      <td>13433.0</td>\n",
       "      <td>665.0</td>\n",
       "      <td>4.950495</td>\n",
       "      <td>44.807563</td>\n",
       "      <td>749500.0</td>\n",
       "      <td>55.795429</td>\n",
       "      <td>18.273707</td>\n",
       "      <td>3461.884836</td>\n",
       "      <td>1.391901</td>\n",
       "      <td>0.964792</td>\n",
       "      <td>...</td>\n",
       "      <td>1.0</td>\n",
       "      <td>0.311892</td>\n",
       "      <td>0.049667</td>\n",
       "      <td>4.822265</td>\n",
       "      <td>309.041400</td>\n",
       "      <td>213.949783</td>\n",
       "      <td>223.606798</td>\n",
       "      <td>3124.154028</td>\n",
       "      <td>225.342246</td>\n",
       "      <td>72.916524</td>\n",
       "    </tr>\n",
       "  </tbody>\n",
       "</table>\n",
       "<p>3 rows × 51 columns</p>\n",
       "</div>"
      ],
      "text/plain": [
       "metric      total_area  number_of_patches  patch_density  largest_patch_index  \\\n",
       "dates                                                                           \n",
       "1992-01-01     13433.0              687.0       5.114271            46.460210   \n",
       "2004-01-01     13433.0              689.0       5.129160            45.723219   \n",
       "2012-01-01     13433.0              665.0       4.950495            44.807563   \n",
       "\n",
       "metric      total_edge  edge_density  landscape_shape_index  \\\n",
       "dates                                                         \n",
       "1992-01-01    730800.0     54.403335              17.870690   \n",
       "2004-01-01    739700.0     55.065883              18.062500   \n",
       "2012-01-01    749500.0     55.795429              18.273707   \n",
       "\n",
       "metric      effective_mesh_size   entropy  shannon_diversity_index  ...  \\\n",
       "dates                                                               ...   \n",
       "1992-01-01          3670.101913  1.343467                 0.931221  ...   \n",
       "2004-01-01          3574.739894  1.363540                 0.945134  ...   \n",
       "2012-01-01          3461.884836  1.391901                 0.964792  ...   \n",
       "\n",
       "metric      fractal_dimension_md  fractal_dimension_ra  fractal_dimension_sd  \\\n",
       "dates                                                                          \n",
       "1992-01-01                   1.0              0.306079              0.048155   \n",
       "2004-01-01                   1.0              0.309307              0.048268   \n",
       "2012-01-01                   1.0              0.311892              0.049667   \n",
       "\n",
       "metric      fractal_dimension_cv  euclidean_nearest_neighbor_mn  \\\n",
       "dates                                                             \n",
       "1992-01-01              4.684560                     308.379611   \n",
       "2004-01-01              4.693809                     309.626880   \n",
       "2012-01-01              4.822265                     309.041400   \n",
       "\n",
       "metric      euclidean_nearest_neighbor_am  euclidean_nearest_neighbor_md  \\\n",
       "dates                                                                      \n",
       "1992-01-01                     212.349764                     223.606798   \n",
       "2004-01-01                     211.870371                     223.606798   \n",
       "2012-01-01                     213.949783                     223.606798   \n",
       "\n",
       "metric      euclidean_nearest_neighbor_ra  euclidean_nearest_neighbor_sd  \\\n",
       "dates                                                                      \n",
       "1992-01-01                    3124.154028                     219.194252   \n",
       "2004-01-01                    3124.154028                     227.583997   \n",
       "2012-01-01                    3124.154028                     225.342246   \n",
       "\n",
       "metric      euclidean_nearest_neighbor_cv  \n",
       "dates                                      \n",
       "1992-01-01                      71.079359  \n",
       "2004-01-01                      73.502661  \n",
       "2012-01-01                      72.916524  \n",
       "\n",
       "[3 rows x 51 columns]"
      ]
     },
     "execution_count": null,
     "metadata": {},
     "output_type": "execute_result"
    }
   ],
   "source": [
    "dates = [datetime.date(int(year), 1, 1) for year in years]\n",
    "sta = pls.SpatioTemporalAnalysis(input_filepaths, dates=dates)\n",
    "sta.compute_landscape_metrics_df()"
   ]
  },
  {
   "cell_type": "markdown",
   "metadata": {
    "ein.tags": "worksheet-0",
    "slideshow": {
     "slide_type": "-"
    }
   },
   "source": [
    "## Plots\n",
    "\n",
    "One of the most important features of `SpatioTemporalAnalysis` is to plot the evolution of the metrics. We can plot the proportion o landscape occupied by the *urban* class (`class_val` of 1) as in:"
   ]
  },
  {
   "cell_type": "code",
   "execution_count": null,
   "metadata": {
    "autoscroll": false,
    "ein.hycell": false,
    "ein.tags": "worksheet-0",
    "slideshow": {
     "slide_type": "-"
    }
   },
   "outputs": [
    {
     "data": {
      "text/plain": [
       "<AxesSubplot:ylabel='PLAND'>"
      ]
     },
     "execution_count": null,
     "metadata": {},
     "output_type": "execute_result"
    },
    {
     "data": {
      "image/png": "[encoded data removed]",
      "text/plain": [
       "<Figure size 432x288 with 1 Axes>"
      ]
     },
     "metadata": {
      "needs_background": "light"
     },
     "output_type": "display_data"
    }
   ],
   "source": [
    "sta.plot_metric(\"proportion_of_landscape\", class_val=URBAN_CLASS_VAL)"
   ]
  },
  {
   "cell_type": "markdown",
   "metadata": {
    "ein.tags": "worksheet-0",
    "slideshow": {
     "slide_type": "-"
    }
   },
   "source": [
    "If we want to plot the evolution of a metric at the landscape level, we can do so by using the same `plot_metric` method, but without setting the `class_val` argument. Note however that we cannot compute the `proportion_of_landscape` at the landscape level (we could but it makes no sense, the landscape always occupies 100% of the landscape). Similarly, some metrics such as `shannon_diversity_index` cannot be computed at the class level but only at the landscape level. See the documentation of each metric for more details.\n",
    "\n",
    "Let's then plot the area-weighted fractal dimension, that is `fractal_dimension_am`, at both the class and landscape level:"
   ]
  },
  {
   "cell_type": "code",
   "execution_count": null,
   "metadata": {
    "autoscroll": false,
    "ein.hycell": false,
    "ein.tags": "worksheet-0",
    "slideshow": {
     "slide_type": "-"
    }
   },
   "outputs": [
    {
     "data": {
      "text/plain": [
       "<matplotlib.legend.Legend at 0x7f1e23b3ca60>"
      ]
     },
     "execution_count": null,
     "metadata": {},
     "output_type": "execute_result"
    },
    {
     "data": {
      "image/png": "[encoded data removed]",
      "text/plain": [
       "<Figure size 432x288 with 1 Axes>"
      ]
     },
     "metadata": {
      "needs_background": "light"
     },
     "output_type": "display_data"
    }
   ],
   "source": [
    "ax = sta.plot_metric(\n",
    "    \"fractal_dimension_am\",\n",
    "    class_val=URBAN_CLASS_VAL,\n",
    "    plot_kws={\"label\": \"class level (urban)\"},\n",
    ")\n",
    "_ = sta.plot_metric(\n",
    "    \"fractal_dimension_am\", ax=ax, plot_kws={\"label\": \"landscape level\"}\n",
    ")\n",
    "ax.legend()"
   ]
  },
  {
   "cell_type": "markdown",
   "metadata": {
    "ein.tags": "worksheet-0",
    "slideshow": {
     "slide_type": "-"
    }
   },
   "source": [
    "Note that we can pass keyword arguments to matplotlib's `plot` method through the `plt_kws` argument of `plot_metric`. See the documentation of  [SpatioTemporalAnalysis.plot_metric](https://pylandstats.readthedocs.io/en/latest/spatiotemporal.html#pylandstats.SpatioTemporalAnalysis.plot_metric) for more details.\n",
    "\n",
    "## See also\n",
    "\n",
    "* [SpatioTemporalBufferAnalysis](https://github.com/martibosch/pylandstats-notebooks/blob/master/notebooks/04-spatiotemporal-buffer-analysis.ipynb)"
   ]
  }
 ],
 "metadata": {
  "kernelspec": {
   "argv": [
    "/home/martibosch/anaconda3/envs/pylandstats/bin/python",
    "-m",
    "ipykernel_launcher",
    "-f",
    "{connection_file}"
   ],
   "display_name": "Python (pylandstats)",
   "env": null,
   "interrupt_mode": "signal",
   "language": "python",
   "metadata": null,
   "name": "pylandstats"
  },
  "language_info": {
   "codemirror_mode": {
    "name": "ipython",
    "version": 3
   },
   "file_extension": ".py",
   "mimetype": "text/x-python",
   "name": "python",
   "nbconvert_exporter": "python",
   "pygments_lexer": "ipython3",
   "version": "3.8.12"
  },
  "name": "02-spatiotemporal-analysis.ipynb"
 },
 "nbformat": 4,
 "nbformat_minor": 2
}
