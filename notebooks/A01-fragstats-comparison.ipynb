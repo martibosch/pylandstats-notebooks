{
 "cells": [
  {
   "cell_type": "code",
   "execution_count": 1,
   "metadata": {
    "autoscroll": false,
    "ein.hycell": false,
    "ein.tags": "worksheet-0",
    "slideshow": {
     "slide_type": "-"
    }
   },
   "outputs": [],
   "source": [
    "import numpy as np\n",
    "import pandas as pd\n",
    "\n",
    "import pylandstats as pls"
   ]
  },
  {
   "cell_type": "code",
   "execution_count": 2,
   "metadata": {
    "autoscroll": false,
    "ein.hycell": false,
    "ein.tags": "worksheet-0",
    "slideshow": {
     "slide_type": "-"
    }
   },
   "outputs": [],
   "source": [
    "# definitions\n",
    "\n",
    "fragstats_abbrev_dict = pls.settings.fragstats_abbrev_dict\n",
    "tol = 1e-3"
   ]
  },
  {
   "cell_type": "code",
   "execution_count": 3,
   "metadata": {
    "autoscroll": false,
    "ein.hycell": false,
    "ein.tags": "worksheet-0",
    "slideshow": {
     "slide_type": "-"
    }
   },
   "outputs": [],
   "source": [
    "# utils\n",
    "\n",
    "def read_fragstats_csv(csv_filepath):\n",
    "    # `na_values` is required because of the leading whitespaces that FRAGSTATS\n",
    "    # leaves when saving CSV files\n",
    "    fragstats_df = pd.read_csv(csv_filepath, na_values=[' N/A'])\n",
    "    fragstats_df.columns = fragstats_df.columns.str.strip()\n",
    "    try:\n",
    "        fragstats_df['TYPE'] = fragstats_df['TYPE'].str.strip().str.replace(\n",
    "            'cls_', '').astype(int)\n",
    "    except KeyError:\n",
    "        pass\n",
    "    \n",
    "    return fragstats_df\n",
    "\n",
    "def endswith_or(string, suffixes):\n",
    "    for suffix in suffixes:\n",
    "        if string.endswith(suffix):\n",
    "            return True\n",
    "\n",
    "    return False"
   ]
  },
  {
   "cell_type": "code",
   "execution_count": 4,
   "metadata": {
    "autoscroll": false,
    "ein.hycell": false,
    "ein.tags": "worksheet-0",
    "slideshow": {
     "slide_type": "-"
    }
   },
   "outputs": [],
   "source": [
    "basename = 'vaud_g100_clc00_V18_5'"
   ]
  },
  {
   "cell_type": "code",
   "execution_count": 5,
   "metadata": {
    "autoscroll": false,
    "ein.hycell": false,
    "ein.tags": "worksheet-0",
    "slideshow": {
     "slide_type": "-"
    }
   },
   "outputs": [],
   "source": [
    "ls = pls.Landscape('../data/clc/{}.tif'.format(basename), res=(100, 100))"
   ]
  },
  {
   "cell_type": "code",
   "execution_count": 6,
   "metadata": {
    "autoscroll": false,
    "ein.hycell": false,
    "ein.tags": "worksheet-0",
    "slideshow": {
     "slide_type": "-"
    }
   },
   "outputs": [],
   "source": [
    "patch_df = read_fragstats_csv('../data/fragstats/{}.patch'.format(basename))"
   ]
  },
  {
   "cell_type": "code",
   "execution_count": 7,
   "metadata": {
    "autoscroll": false,
    "ein.hycell": false,
    "ein.tags": "worksheet-0",
    "slideshow": {
     "slide_type": "-"
    }
   },
   "outputs": [
    {
     "name": "stdout",
     "output_type": "stream",
     "text": [
      "area: OK\n",
      "perimeter: OK\n",
      "perimeter_area_ratio: OK\n",
      "shape_index: OK\n",
      "fractal_dimension: OK\n",
      "euclidean_nearest_neighbor: OK\n"
     ]
    }
   ],
   "source": [
    "for patch_metric in pls.Landscape.PATCH_METRICS:\n",
    "    fragstats_abbrev = fragstats_abbrev_dict[patch_metric]\n",
    "    for class_val in ls.classes:\n",
    "        fragstats_ser = patch_df[fragstats_abbrev][\n",
    "            patch_df['TYPE'] == class_val]\n",
    "        pls_ser = getattr(ls, patch_metric)(class_val=class_val)\n",
    "        if not np.allclose(fragstats_ser, pls_ser, tol, equal_nan=True):\n",
    "            raise RuntimeError(patch_metric, class_val, fragstats_ser, pls_ser)\n",
    "    print('{}: OK'.format(patch_metric))"
   ]
  },
  {
   "cell_type": "code",
   "execution_count": 8,
   "metadata": {
    "autoscroll": false,
    "ein.hycell": false,
    "ein.tags": "worksheet-0",
    "slideshow": {
     "slide_type": "-"
    }
   },
   "outputs": [],
   "source": [
    "class_df = read_fragstats_csv('../data/fragstats/{}.class'.format(basename))"
   ]
  },
  {
   "cell_type": "code",
   "execution_count": 9,
   "metadata": {
    "autoscroll": false,
    "ein.hycell": false,
    "ein.tags": "worksheet-0",
    "slideshow": {
     "slide_type": "-"
    }
   },
   "outputs": [
    {
     "name": "stdout",
     "output_type": "stream",
     "text": [
      "total_area (class 1): OK\n",
      "total_area (class 2): OK\n",
      "proportion_of_landscape (class 1): OK\n",
      "proportion_of_landscape (class 2): OK\n",
      "number_of_patches (class 1): OK\n",
      "number_of_patches (class 2): OK\n",
      "patch_density (class 1): OK\n",
      "patch_density (class 2): OK\n",
      "largest_patch_index (class 1): OK\n",
      "largest_patch_index (class 2): OK\n",
      "total_edge (class 1): OK\n",
      "total_edge (class 2): OK\n",
      "edge_density (class 1): OK\n",
      "edge_density (class 2): OK\n",
      "landscape_shape_index (class 1): OK\n",
      "landscape_shape_index (class 2): OK\n"
     ]
    }
   ],
   "source": [
    "for class_metric in pls.Landscape.CLASS_METRICS:\n",
    "    if class_metric == 'total_area':\n",
    "        fragstats_abbrev = 'CA'\n",
    "    else:\n",
    "        fragstats_abbrev = fragstats_abbrev_dict[class_metric]\n",
    "    if not endswith_or(class_metric, pls.Landscape._suffixes):\n",
    "        for class_val in ls.classes:\n",
    "            fragstats_val = class_df[fragstats_abbrev][\n",
    "                class_df['TYPE'] == class_val].iloc[0]\n",
    "            pls_val = getattr(ls, class_metric)(class_val=class_val)\n",
    "            if not (np.isclose(fragstats_val, pls_val, tol) or\n",
    "                    np.isclose(fragstats_val, pls_val, atol=tol)):\n",
    "                raise RuntimeError(\n",
    "                    '{} (class {}): fragstats {}, pylandstats {}'.format(\n",
    "                        class_metric, class_val, fragstats_val, pls_val))\n",
    "\n",
    "            print('{} (class {}): OK'.format(class_metric, class_val))"
   ]
  },
  {
   "cell_type": "code",
   "execution_count": 10,
   "metadata": {
    "autoscroll": false,
    "ein.hycell": false,
    "ein.tags": "worksheet-0",
    "slideshow": {
     "slide_type": "-"
    }
   },
   "outputs": [],
   "source": [
    "landscape_df = read_fragstats_csv('../data/fragstats/{}.land'.format(basename))"
   ]
  },
  {
   "cell_type": "code",
   "execution_count": 11,
   "metadata": {
    "autoscroll": false,
    "ein.hycell": false,
    "ein.tags": "worksheet-0",
    "slideshow": {
     "slide_type": "-"
    }
   },
   "outputs": [
    {
     "name": "stdout",
     "output_type": "stream",
     "text": [
      "total_area: OK\n",
      "number_of_patches: OK\n",
      "patch_density: OK\n",
      "largest_patch_index: OK\n",
      "total_edge: OK\n",
      "edge_density: OK\n",
      "landscape_shape_index: OK\n",
      "contagion: OK\n",
      "shannon_diversity_index: OK\n",
      "contagion: OK (fragstats: 73.7483, pylandstats: 73.40177013078969)\n"
     ]
    }
   ],
   "source": [
    "for landscape_metric in pls.Landscape.LANDSCAPE_METRICS:\n",
    "    fragstats_abbrev = fragstats_abbrev_dict[landscape_metric]\n",
    "    # contagion is treated differently (see below)\n",
    "    if not endswith_or(landscape_metric, pls.Landscape._suffixes) \\\n",
    "       or landscape_metric == 'contagion':\n",
    "        fragstats_val = landscape_df[fragstats_abbrev].iloc[0]\n",
    "        pls_val = getattr(ls, landscape_metric)()\n",
    "        if not np.isclose(fragstats_val, pls_val, rtol=.01):\n",
    "            raise RuntimeError('{}: fragstats {}, pylandstats {}'.format(\n",
    "                landscape_metric, fragstats_val, pls_val))\n",
    "        \n",
    "        print('{}: OK'.format(landscape_metric))\n",
    "\n",
    "# Treat contagion differently: here we use a relative tolerance of .01 (1%\n",
    "# relative error) because the computed contagion might have greater divergence\n",
    "# with FRAGSTATS\n",
    "landscape_metric = 'contagion'\n",
    "fragstats_abbrev = fragstats_abbrev_dict[landscape_metric]\n",
    "fragstats_val = landscape_df[fragstats_abbrev].iloc[0]\n",
    "pls_val = getattr(ls, landscape_metric)()\n",
    "\n",
    "if not np.isclose(fragstats_val, pls_val, rtol=.01):\n",
    "    raise RuntimeError('{}: fragstats {}, pylandstats {}'.format(\n",
    "        landscape_metric, fragstats_val, pls_val))\n",
    "print('{}: OK (fragstats: {}, pylandstats: {})'.format(\n",
    "    landscape_metric, fragstats_val, pls_val))"
   ]
  }
 ],
 "metadata": {
  "kernelspec": {
   "display_name": "Python (pylandstats)",
   "language": "python",
   "name": "pylandstats"
  },
  "language_info": {
   "codemirror_mode": {
    "name": "ipython",
    "version": 3
   },
   "file_extension": ".py",
   "mimetype": "text/x-python",
   "name": "python",
   "nbconvert_exporter": "python",
   "pygments_lexer": "ipython3",
   "version": "3.6.7"
  },
  "name": "A01-fragstats-comparison.ipynb"
 },
 "nbformat": 4,
 "nbformat_minor": 2
}
