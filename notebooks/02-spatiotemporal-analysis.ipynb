{
 "cells": [
  {
   "cell_type": "markdown",
   "metadata": {
    "ein.tags": "worksheet-0",
    "slideshow": {
     "slide_type": "-"
    }
   },
   "source": [
    "# Spatio-temporal analysis"
   ]
  },
  {
   "cell_type": "code",
   "execution_count": 1,
   "metadata": {
    "autoscroll": false,
    "ein.hycell": false,
    "ein.tags": "worksheet-0",
    "slideshow": {
     "slide_type": "-"
    }
   },
   "outputs": [],
   "source": [
    "import pylandstats as pls"
   ]
  },
  {
   "cell_type": "markdown",
   "metadata": {
    "ein.tags": "worksheet-0",
    "slideshow": {
     "slide_type": "-"
    }
   },
   "source": [
    "We are often interested in the analysis of the temporal evolution of the configuration and composition of a particular landscape. To this end, we can use the class `SpatioTemporalAnalysis`, which we can instantiate with a temporally-ordered sequence of landscape snapshots.\n",
    "\n",
    "In this case, we will use the three extracts of the Canton of Vaud from the [CORINE Land Cover datasets](https://land.copernicus.eu/pan-european/corine-land-cover) for the years 2000, 2006 and 2012."
   ]
  },
  {
   "cell_type": "code",
   "execution_count": 2,
   "metadata": {
    "autoscroll": false,
    "ein.hycell": false,
    "ein.tags": "worksheet-0",
    "slideshow": {
     "slide_type": "-"
    }
   },
   "outputs": [],
   "source": [
    "input_filepaths = [\n",
    "    '../data/clc/vaud_g100_clc00_V18_5.tif',\n",
    "    '../data/clc/vaud_g100_clc06_V18_5a.tif',\n",
    "    '../data/clc/vaud_g100_clc12_V18_5a.tif'\n",
    "]\n",
    "\n",
    "sta = pls.SpatioTemporalAnalysis(input_filepaths, dates=[2000, 2006, 2012])"
   ]
  },
  {
   "cell_type": "markdown",
   "metadata": {
    "ein.tags": "worksheet-0",
    "slideshow": {
     "slide_type": "-"
    }
   },
   "source": [
    "## Spatio-temporal data frames"
   ]
  },
  {
   "cell_type": "markdown",
   "metadata": {
    "ein.tags": "worksheet-0",
    "slideshow": {
     "slide_type": "-"
    }
   },
   "source": [
    "By now, `SpatioTemporalAnalysis` only supports class and landscape-level metrics, which can be computed by means of its methods `compute_class_metrics_df` and `compute_landscape_metrics_df` respectively. For instance, a data frame of the class-level metrics can be obtained as follows:"
   ]
  },
  {
   "cell_type": "code",
   "execution_count": 3,
   "metadata": {
    "autoscroll": false,
    "ein.hycell": false,
    "ein.tags": "worksheet-0",
    "slideshow": {
     "slide_type": "-"
    }
   },
   "outputs": [
    {
     "data": {
      "text/html": [
       "<div>\n",
       "<style scoped>\n",
       "    .dataframe tbody tr th:only-of-type {\n",
       "        vertical-align: middle;\n",
       "    }\n",
       "\n",
       "    .dataframe tbody tr th {\n",
       "        vertical-align: top;\n",
       "    }\n",
       "\n",
       "    .dataframe thead th {\n",
       "        text-align: right;\n",
       "    }\n",
       "</style>\n",
       "<table border=\"1\" class=\"dataframe\">\n",
       "  <thead>\n",
       "    <tr style=\"text-align: right;\">\n",
       "      <th></th>\n",
       "      <th>metric</th>\n",
       "      <th>total_area</th>\n",
       "      <th>proportion_of_landscape</th>\n",
       "      <th>number_of_patches</th>\n",
       "      <th>patch_density</th>\n",
       "      <th>largest_patch_index</th>\n",
       "      <th>total_edge</th>\n",
       "      <th>edge_density</th>\n",
       "      <th>landscape_shape_index</th>\n",
       "      <th>effective_mesh_size</th>\n",
       "      <th>area_mn</th>\n",
       "      <th>...</th>\n",
       "      <th>fractal_dimension_md</th>\n",
       "      <th>fractal_dimension_ra</th>\n",
       "      <th>fractal_dimension_sd</th>\n",
       "      <th>fractal_dimension_cv</th>\n",
       "      <th>euclidean_nearest_neighbor_mn</th>\n",
       "      <th>euclidean_nearest_neighbor_am</th>\n",
       "      <th>euclidean_nearest_neighbor_md</th>\n",
       "      <th>euclidean_nearest_neighbor_ra</th>\n",
       "      <th>euclidean_nearest_neighbor_sd</th>\n",
       "      <th>euclidean_nearest_neighbor_cv</th>\n",
       "    </tr>\n",
       "    <tr>\n",
       "      <th>class_val</th>\n",
       "      <th>dates</th>\n",
       "      <th></th>\n",
       "      <th></th>\n",
       "      <th></th>\n",
       "      <th></th>\n",
       "      <th></th>\n",
       "      <th></th>\n",
       "      <th></th>\n",
       "      <th></th>\n",
       "      <th></th>\n",
       "      <th></th>\n",
       "      <th></th>\n",
       "      <th></th>\n",
       "      <th></th>\n",
       "      <th></th>\n",
       "      <th></th>\n",
       "      <th></th>\n",
       "      <th></th>\n",
       "      <th></th>\n",
       "      <th></th>\n",
       "      <th></th>\n",
       "      <th></th>\n",
       "    </tr>\n",
       "  </thead>\n",
       "  <tbody>\n",
       "    <tr>\n",
       "      <th rowspan=\"3\" valign=\"top\">1</th>\n",
       "      <th>2000</th>\n",
       "      <td>24729.0</td>\n",
       "      <td>7.701939</td>\n",
       "      <td>193.0</td>\n",
       "      <td>0.060111</td>\n",
       "      <td>2.069921</td>\n",
       "      <td>1431600.0</td>\n",
       "      <td>4.458771</td>\n",
       "      <td>22.949206</td>\n",
       "      <td>169.574514</td>\n",
       "      <td>128.129534</td>\n",
       "      <td>...</td>\n",
       "      <td>1.081665</td>\n",
       "      <td>0.200096</td>\n",
       "      <td>0.035772</td>\n",
       "      <td>3.298134</td>\n",
       "      <td>1023.354950</td>\n",
       "      <td>707.998485</td>\n",
       "      <td>781.024968</td>\n",
       "      <td>6772.087205</td>\n",
       "      <td>879.913199</td>\n",
       "      <td>85.983187</td>\n",
       "    </tr>\n",
       "    <tr>\n",
       "      <th>2006</th>\n",
       "      <td>24599.0</td>\n",
       "      <td>7.661450</td>\n",
       "      <td>200.0</td>\n",
       "      <td>0.062291</td>\n",
       "      <td>2.022269</td>\n",
       "      <td>1436000.0</td>\n",
       "      <td>4.472475</td>\n",
       "      <td>23.089172</td>\n",
       "      <td>155.620852</td>\n",
       "      <td>122.995000</td>\n",
       "      <td>...</td>\n",
       "      <td>1.080760</td>\n",
       "      <td>0.195545</td>\n",
       "      <td>0.035250</td>\n",
       "      <td>3.251775</td>\n",
       "      <td>1003.278185</td>\n",
       "      <td>703.960301</td>\n",
       "      <td>721.110255</td>\n",
       "      <td>6772.087205</td>\n",
       "      <td>883.732360</td>\n",
       "      <td>88.084479</td>\n",
       "    </tr>\n",
       "    <tr>\n",
       "      <th>2012</th>\n",
       "      <td>24766.0</td>\n",
       "      <td>7.713463</td>\n",
       "      <td>201.0</td>\n",
       "      <td>0.062602</td>\n",
       "      <td>2.022269</td>\n",
       "      <td>1445900.0</td>\n",
       "      <td>4.503309</td>\n",
       "      <td>23.180952</td>\n",
       "      <td>155.770004</td>\n",
       "      <td>123.213930</td>\n",
       "      <td>...</td>\n",
       "      <td>1.079173</td>\n",
       "      <td>0.195545</td>\n",
       "      <td>0.034800</td>\n",
       "      <td>3.209637</td>\n",
       "      <td>1005.065677</td>\n",
       "      <td>703.368299</td>\n",
       "      <td>728.010989</td>\n",
       "      <td>6772.087205</td>\n",
       "      <td>877.435317</td>\n",
       "      <td>87.301292</td>\n",
       "    </tr>\n",
       "    <tr>\n",
       "      <th rowspan=\"2\" valign=\"top\">2</th>\n",
       "      <th>2000</th>\n",
       "      <td>296346.0</td>\n",
       "      <td>92.298061</td>\n",
       "      <td>13.0</td>\n",
       "      <td>0.004049</td>\n",
       "      <td>89.451374</td>\n",
       "      <td>1431600.0</td>\n",
       "      <td>4.458771</td>\n",
       "      <td>10.053260</td>\n",
       "      <td>257139.077804</td>\n",
       "      <td>22795.846154</td>\n",
       "      <td>...</td>\n",
       "      <td>1.069990</td>\n",
       "      <td>0.206571</td>\n",
       "      <td>0.056823</td>\n",
       "      <td>5.322120</td>\n",
       "      <td>246.645899</td>\n",
       "      <td>202.442542</td>\n",
       "      <td>223.606798</td>\n",
       "      <td>116.227766</td>\n",
       "      <td>38.386100</td>\n",
       "      <td>15.563243</td>\n",
       "    </tr>\n",
       "    <tr>\n",
       "      <th>2006</th>\n",
       "      <td>296476.0</td>\n",
       "      <td>92.338550</td>\n",
       "      <td>8.0</td>\n",
       "      <td>0.002492</td>\n",
       "      <td>89.131823</td>\n",
       "      <td>1436000.0</td>\n",
       "      <td>4.472475</td>\n",
       "      <td>10.074380</td>\n",
       "      <td>255311.195671</td>\n",
       "      <td>37059.500000</td>\n",
       "      <td>...</td>\n",
       "      <td>1.087916</td>\n",
       "      <td>0.194132</td>\n",
       "      <td>0.054895</td>\n",
       "      <td>5.018827</td>\n",
       "      <td>239.112378</td>\n",
       "      <td>202.435580</td>\n",
       "      <td>223.606798</td>\n",
       "      <td>100.000000</td>\n",
       "      <td>39.689683</td>\n",
       "      <td>16.598757</td>\n",
       "    </tr>\n",
       "  </tbody>\n",
       "</table>\n",
       "<p>5 rows × 45 columns</p>\n",
       "</div>"
      ],
      "text/plain": [
       "metric           total_area  proportion_of_landscape  number_of_patches  \\\n",
       "class_val dates                                                           \n",
       "1         2000      24729.0                 7.701939              193.0   \n",
       "          2006      24599.0                 7.661450              200.0   \n",
       "          2012      24766.0                 7.713463              201.0   \n",
       "2         2000     296346.0                92.298061               13.0   \n",
       "          2006     296476.0                92.338550                8.0   \n",
       "\n",
       "metric           patch_density  largest_patch_index  total_edge  edge_density  \\\n",
       "class_val dates                                                                 \n",
       "1         2000        0.060111             2.069921   1431600.0      4.458771   \n",
       "          2006        0.062291             2.022269   1436000.0      4.472475   \n",
       "          2012        0.062602             2.022269   1445900.0      4.503309   \n",
       "2         2000        0.004049            89.451374   1431600.0      4.458771   \n",
       "          2006        0.002492            89.131823   1436000.0      4.472475   \n",
       "\n",
       "metric           landscape_shape_index  effective_mesh_size       area_mn  \\\n",
       "class_val dates                                                             \n",
       "1         2000               22.949206           169.574514    128.129534   \n",
       "          2006               23.089172           155.620852    122.995000   \n",
       "          2012               23.180952           155.770004    123.213930   \n",
       "2         2000               10.053260        257139.077804  22795.846154   \n",
       "          2006               10.074380        255311.195671  37059.500000   \n",
       "\n",
       "metric           ...  fractal_dimension_md  fractal_dimension_ra  \\\n",
       "class_val dates  ...                                               \n",
       "1         2000   ...              1.081665              0.200096   \n",
       "          2006   ...              1.080760              0.195545   \n",
       "          2012   ...              1.079173              0.195545   \n",
       "2         2000   ...              1.069990              0.206571   \n",
       "          2006   ...              1.087916              0.194132   \n",
       "\n",
       "metric           fractal_dimension_sd  fractal_dimension_cv  \\\n",
       "class_val dates                                               \n",
       "1         2000               0.035772              3.298134   \n",
       "          2006               0.035250              3.251775   \n",
       "          2012               0.034800              3.209637   \n",
       "2         2000               0.056823              5.322120   \n",
       "          2006               0.054895              5.018827   \n",
       "\n",
       "metric           euclidean_nearest_neighbor_mn  euclidean_nearest_neighbor_am  \\\n",
       "class_val dates                                                                 \n",
       "1         2000                     1023.354950                     707.998485   \n",
       "          2006                     1003.278185                     703.960301   \n",
       "          2012                     1005.065677                     703.368299   \n",
       "2         2000                      246.645899                     202.442542   \n",
       "          2006                      239.112378                     202.435580   \n",
       "\n",
       "metric           euclidean_nearest_neighbor_md  euclidean_nearest_neighbor_ra  \\\n",
       "class_val dates                                                                 \n",
       "1         2000                      781.024968                    6772.087205   \n",
       "          2006                      721.110255                    6772.087205   \n",
       "          2012                      728.010989                    6772.087205   \n",
       "2         2000                      223.606798                     116.227766   \n",
       "          2006                      223.606798                     100.000000   \n",
       "\n",
       "metric           euclidean_nearest_neighbor_sd  euclidean_nearest_neighbor_cv  \n",
       "class_val dates                                                                \n",
       "1         2000                      879.913199                      85.983187  \n",
       "          2006                      883.732360                      88.084479  \n",
       "          2012                      877.435317                      87.301292  \n",
       "2         2000                       38.386100                      15.563243  \n",
       "          2006                       39.689683                      16.598757  \n",
       "\n",
       "[5 rows x 45 columns]"
      ]
     },
     "execution_count": 3,
     "metadata": {},
     "output_type": "execute_result"
    }
   ],
   "source": [
    "class_metrics_df = sta.compute_class_metrics_df()\n",
    "class_metrics_df.head()"
   ]
  },
  {
   "cell_type": "markdown",
   "metadata": {
    "ein.tags": "worksheet-0",
    "slideshow": {
     "slide_type": "-"
    }
   },
   "source": [
    "Again, we can use the operations of any pandas data frame. For instance, we can get all the metrics for the *urban* class (`class_val` of 1) in 2000"
   ]
  },
  {
   "cell_type": "code",
   "execution_count": 4,
   "metadata": {
    "autoscroll": false,
    "ein.hycell": false,
    "ein.tags": "worksheet-0",
    "slideshow": {
     "slide_type": "-"
    }
   },
   "outputs": [
    {
     "data": {
      "text/plain": [
       "metric\n",
       "total_area                       2.472900e+04\n",
       "proportion_of_landscape          7.701939e+00\n",
       "number_of_patches                1.930000e+02\n",
       "patch_density                    6.011057e-02\n",
       "largest_patch_index              2.069921e+00\n",
       "total_edge                       1.431600e+06\n",
       "edge_density                     4.458771e+00\n",
       "landscape_shape_index            2.294921e+01\n",
       "effective_mesh_size              1.695745e+02\n",
       "area_mn                          1.281295e+02\n",
       "area_am                          2.201712e+03\n",
       "area_md                          4.300000e+01\n",
       "area_ra                          6.645000e+03\n",
       "area_sd                          5.154485e+02\n",
       "area_cv                          4.022870e+02\n",
       "perimeter_mn                     7.491192e+03\n",
       "perimeter_am                     5.835938e+04\n",
       "perimeter_md                     4.400000e+03\n",
       "perimeter_ra                     1.474000e+05\n",
       "perimeter_sd                     1.329800e+04\n",
       "perimeter_cv                     1.775152e+02\n",
       "perimeter_area_ratio_mn          1.071493e+02\n",
       "perimeter_area_ratio_am          5.846577e+01\n",
       "perimeter_area_ratio_md          1.022222e+02\n",
       "perimeter_area_ratio_ra          3.777611e+02\n",
       "perimeter_area_ratio_sd          5.091157e+01\n",
       "perimeter_area_ratio_cv          4.751463e+01\n",
       "shape_index_mn                   1.777642e+00\n",
       "shape_index_am                   3.074739e+00\n",
       "shape_index_md                   1.636364e+00\n",
       "shape_index_ra                   3.803922e+00\n",
       "shape_index_sd                   5.855270e-01\n",
       "shape_index_cv                   3.293842e+01\n",
       "fractal_dimension_mn             1.084621e+00\n",
       "fractal_dimension_am             1.129561e+00\n",
       "fractal_dimension_md             1.081665e+00\n",
       "fractal_dimension_ra             2.000962e-01\n",
       "fractal_dimension_sd             3.577225e-02\n",
       "fractal_dimension_cv             3.298134e+00\n",
       "euclidean_nearest_neighbor_mn    1.023355e+03\n",
       "euclidean_nearest_neighbor_am    7.079985e+02\n",
       "euclidean_nearest_neighbor_md    7.810250e+02\n",
       "euclidean_nearest_neighbor_ra    6.772087e+03\n",
       "euclidean_nearest_neighbor_sd    8.799132e+02\n",
       "euclidean_nearest_neighbor_cv    8.598319e+01\n",
       "Name: (1, 2000), dtype: float64"
      ]
     },
     "execution_count": 4,
     "metadata": {},
     "output_type": "execute_result"
    }
   ],
   "source": [
    "class_metrics_df.loc[(1, 2000)]"
   ]
  },
  {
   "cell_type": "markdown",
   "metadata": {
    "ein.tags": "worksheet-0",
    "slideshow": {
     "slide_type": "-"
    }
   },
   "source": [
    "Similarly, the data frame of landscape metrics can be obtained as follows:"
   ]
  },
  {
   "cell_type": "code",
   "execution_count": 5,
   "metadata": {
    "autoscroll": false,
    "ein.hycell": false,
    "ein.tags": "worksheet-0",
    "slideshow": {
     "slide_type": "-"
    }
   },
   "outputs": [
    {
     "data": {
      "text/html": [
       "<div>\n",
       "<style scoped>\n",
       "    .dataframe tbody tr th:only-of-type {\n",
       "        vertical-align: middle;\n",
       "    }\n",
       "\n",
       "    .dataframe tbody tr th {\n",
       "        vertical-align: top;\n",
       "    }\n",
       "\n",
       "    .dataframe thead th {\n",
       "        text-align: right;\n",
       "    }\n",
       "</style>\n",
       "<table border=\"1\" class=\"dataframe\">\n",
       "  <thead>\n",
       "    <tr style=\"text-align: right;\">\n",
       "      <th>metric</th>\n",
       "      <th>total_area</th>\n",
       "      <th>number_of_patches</th>\n",
       "      <th>patch_density</th>\n",
       "      <th>largest_patch_index</th>\n",
       "      <th>total_edge</th>\n",
       "      <th>edge_density</th>\n",
       "      <th>landscape_shape_index</th>\n",
       "      <th>effective_mesh_size</th>\n",
       "      <th>area_mn</th>\n",
       "      <th>area_am</th>\n",
       "      <th>...</th>\n",
       "      <th>fractal_dimension_sd</th>\n",
       "      <th>fractal_dimension_cv</th>\n",
       "      <th>euclidean_nearest_neighbor_mn</th>\n",
       "      <th>euclidean_nearest_neighbor_am</th>\n",
       "      <th>euclidean_nearest_neighbor_md</th>\n",
       "      <th>euclidean_nearest_neighbor_ra</th>\n",
       "      <th>euclidean_nearest_neighbor_sd</th>\n",
       "      <th>euclidean_nearest_neighbor_cv</th>\n",
       "      <th>contagion</th>\n",
       "      <th>shannon_diversity_index</th>\n",
       "    </tr>\n",
       "    <tr>\n",
       "      <th>dates</th>\n",
       "      <th></th>\n",
       "      <th></th>\n",
       "      <th></th>\n",
       "      <th></th>\n",
       "      <th></th>\n",
       "      <th></th>\n",
       "      <th></th>\n",
       "      <th></th>\n",
       "      <th></th>\n",
       "      <th></th>\n",
       "      <th></th>\n",
       "      <th></th>\n",
       "      <th></th>\n",
       "      <th></th>\n",
       "      <th></th>\n",
       "      <th></th>\n",
       "      <th></th>\n",
       "      <th></th>\n",
       "      <th></th>\n",
       "      <th></th>\n",
       "      <th></th>\n",
       "    </tr>\n",
       "  </thead>\n",
       "  <tbody>\n",
       "    <tr>\n",
       "      <th>2000</th>\n",
       "      <td>321075.0</td>\n",
       "      <td>206.0</td>\n",
       "      <td>0.064159</td>\n",
       "      <td>89.451374</td>\n",
       "      <td>1431600.0</td>\n",
       "      <td>4.458771</td>\n",
       "      <td>9.716931</td>\n",
       "      <td>257308.652318</td>\n",
       "      <td>1558.616505</td>\n",
       "      <td>257308.652318</td>\n",
       "      <td>...</td>\n",
       "      <td>0.037678</td>\n",
       "      <td>3.477259</td>\n",
       "      <td>974.339330</td>\n",
       "      <td>241.380151</td>\n",
       "      <td>700.000000</td>\n",
       "      <td>6772.087205</td>\n",
       "      <td>872.438139</td>\n",
       "      <td>89.541509</td>\n",
       "      <td>73.401770</td>\n",
       "      <td>0.271429</td>\n",
       "    </tr>\n",
       "    <tr>\n",
       "      <th>2006</th>\n",
       "      <td>321075.0</td>\n",
       "      <td>208.0</td>\n",
       "      <td>0.064782</td>\n",
       "      <td>89.131823</td>\n",
       "      <td>1436000.0</td>\n",
       "      <td>4.472475</td>\n",
       "      <td>9.736332</td>\n",
       "      <td>255466.816523</td>\n",
       "      <td>1543.629808</td>\n",
       "      <td>255466.816523</td>\n",
       "      <td>...</td>\n",
       "      <td>0.036252</td>\n",
       "      <td>3.343042</td>\n",
       "      <td>973.887192</td>\n",
       "      <td>240.859645</td>\n",
       "      <td>714.108518</td>\n",
       "      <td>6772.087205</td>\n",
       "      <td>878.977491</td>\n",
       "      <td>90.254549</td>\n",
       "      <td>73.462946</td>\n",
       "      <td>0.270422</td>\n",
       "    </tr>\n",
       "    <tr>\n",
       "      <th>2012</th>\n",
       "      <td>321075.0</td>\n",
       "      <td>209.0</td>\n",
       "      <td>0.065094</td>\n",
       "      <td>89.091645</td>\n",
       "      <td>1445900.0</td>\n",
       "      <td>4.503309</td>\n",
       "      <td>9.779982</td>\n",
       "      <td>255235.031918</td>\n",
       "      <td>1536.244019</td>\n",
       "      <td>255235.031918</td>\n",
       "      <td>...</td>\n",
       "      <td>0.035837</td>\n",
       "      <td>3.304230</td>\n",
       "      <td>975.746891</td>\n",
       "      <td>241.066300</td>\n",
       "      <td>721.110255</td>\n",
       "      <td>6772.087205</td>\n",
       "      <td>872.972328</td>\n",
       "      <td>89.467088</td>\n",
       "      <td>73.330913</td>\n",
       "      <td>0.271715</td>\n",
       "    </tr>\n",
       "  </tbody>\n",
       "</table>\n",
       "<p>3 rows × 46 columns</p>\n",
       "</div>"
      ],
      "text/plain": [
       "metric  total_area  number_of_patches  patch_density  largest_patch_index  \\\n",
       "dates                                                                       \n",
       "2000      321075.0              206.0       0.064159            89.451374   \n",
       "2006      321075.0              208.0       0.064782            89.131823   \n",
       "2012      321075.0              209.0       0.065094            89.091645   \n",
       "\n",
       "metric  total_edge  edge_density  landscape_shape_index  effective_mesh_size  \\\n",
       "dates                                                                          \n",
       "2000     1431600.0      4.458771               9.716931        257308.652318   \n",
       "2006     1436000.0      4.472475               9.736332        255466.816523   \n",
       "2012     1445900.0      4.503309               9.779982        255235.031918   \n",
       "\n",
       "metric      area_mn        area_am  ...  fractal_dimension_sd  \\\n",
       "dates                               ...                         \n",
       "2000    1558.616505  257308.652318  ...              0.037678   \n",
       "2006    1543.629808  255466.816523  ...              0.036252   \n",
       "2012    1536.244019  255235.031918  ...              0.035837   \n",
       "\n",
       "metric  fractal_dimension_cv  euclidean_nearest_neighbor_mn  \\\n",
       "dates                                                         \n",
       "2000                3.477259                     974.339330   \n",
       "2006                3.343042                     973.887192   \n",
       "2012                3.304230                     975.746891   \n",
       "\n",
       "metric  euclidean_nearest_neighbor_am  euclidean_nearest_neighbor_md  \\\n",
       "dates                                                                  \n",
       "2000                       241.380151                     700.000000   \n",
       "2006                       240.859645                     714.108518   \n",
       "2012                       241.066300                     721.110255   \n",
       "\n",
       "metric  euclidean_nearest_neighbor_ra  euclidean_nearest_neighbor_sd  \\\n",
       "dates                                                                  \n",
       "2000                      6772.087205                     872.438139   \n",
       "2006                      6772.087205                     878.977491   \n",
       "2012                      6772.087205                     872.972328   \n",
       "\n",
       "metric  euclidean_nearest_neighbor_cv  contagion  shannon_diversity_index  \n",
       "dates                                                                      \n",
       "2000                        89.541509  73.401770                 0.271429  \n",
       "2006                        90.254549  73.462946                 0.270422  \n",
       "2012                        89.467088  73.330913                 0.271715  \n",
       "\n",
       "[3 rows x 46 columns]"
      ]
     },
     "execution_count": 5,
     "metadata": {},
     "output_type": "execute_result"
    }
   ],
   "source": [
    "sta.compute_landscape_metrics_df()"
   ]
  },
  {
   "cell_type": "markdown",
   "metadata": {
    "ein.tags": "worksheet-0",
    "slideshow": {
     "slide_type": "-"
    }
   },
   "source": [
    "### Customizing your spatio-temporal analysis"
   ]
  },
  {
   "cell_type": "markdown",
   "metadata": {
    "ein.tags": "worksheet-0",
    "slideshow": {
     "slide_type": "-"
    }
   },
   "source": [
    "As within the `Landscape` analysis, we can also choose to compute a subset of metrics by passing them to the `metrics` keyword argument of the `compute_class_metrics_df` and `compute_landscape_metrics_df` methods, as in:"
   ]
  },
  {
   "cell_type": "code",
   "execution_count": 6,
   "metadata": {
    "autoscroll": false,
    "ein.hycell": false,
    "ein.tags": "worksheet-0",
    "slideshow": {
     "slide_type": "-"
    }
   },
   "outputs": [
    {
     "data": {
      "text/html": [
       "<div>\n",
       "<style scoped>\n",
       "    .dataframe tbody tr th:only-of-type {\n",
       "        vertical-align: middle;\n",
       "    }\n",
       "\n",
       "    .dataframe tbody tr th {\n",
       "        vertical-align: top;\n",
       "    }\n",
       "\n",
       "    .dataframe thead th {\n",
       "        text-align: right;\n",
       "    }\n",
       "</style>\n",
       "<table border=\"1\" class=\"dataframe\">\n",
       "  <thead>\n",
       "    <tr style=\"text-align: right;\">\n",
       "      <th></th>\n",
       "      <th>metric</th>\n",
       "      <th>proportion_of_landscape</th>\n",
       "      <th>edge_density</th>\n",
       "      <th>fractal_dimension_am</th>\n",
       "    </tr>\n",
       "    <tr>\n",
       "      <th>class_val</th>\n",
       "      <th>dates</th>\n",
       "      <th></th>\n",
       "      <th></th>\n",
       "      <th></th>\n",
       "    </tr>\n",
       "  </thead>\n",
       "  <tbody>\n",
       "    <tr>\n",
       "      <th rowspan=\"3\" valign=\"top\">1</th>\n",
       "      <th>2000</th>\n",
       "      <td>7.701939</td>\n",
       "      <td>4.458771</td>\n",
       "      <td>1.129561</td>\n",
       "    </tr>\n",
       "    <tr>\n",
       "      <th>2006</th>\n",
       "      <td>7.661450</td>\n",
       "      <td>4.472475</td>\n",
       "      <td>1.123355</td>\n",
       "    </tr>\n",
       "    <tr>\n",
       "      <th>2012</th>\n",
       "      <td>7.713463</td>\n",
       "      <td>4.503309</td>\n",
       "      <td>1.123473</td>\n",
       "    </tr>\n",
       "    <tr>\n",
       "      <th rowspan=\"3\" valign=\"top\">2</th>\n",
       "      <th>2000</th>\n",
       "      <td>92.298061</td>\n",
       "      <td>4.458771</td>\n",
       "      <td>1.204003</td>\n",
       "    </tr>\n",
       "    <tr>\n",
       "      <th>2006</th>\n",
       "      <td>92.338550</td>\n",
       "      <td>4.472475</td>\n",
       "      <td>1.203001</td>\n",
       "    </tr>\n",
       "    <tr>\n",
       "      <th>2012</th>\n",
       "      <td>92.286537</td>\n",
       "      <td>4.503309</td>\n",
       "      <td>1.203438</td>\n",
       "    </tr>\n",
       "  </tbody>\n",
       "</table>\n",
       "</div>"
      ],
      "text/plain": [
       "metric           proportion_of_landscape  edge_density  fractal_dimension_am\n",
       "class_val dates                                                             \n",
       "1         2000                  7.701939      4.458771              1.129561\n",
       "          2006                  7.661450      4.472475              1.123355\n",
       "          2012                  7.713463      4.503309              1.123473\n",
       "2         2000                 92.298061      4.458771              1.204003\n",
       "          2006                 92.338550      4.472475              1.203001\n",
       "          2012                 92.286537      4.503309              1.203438"
      ]
     },
     "execution_count": 6,
     "metadata": {},
     "output_type": "execute_result"
    }
   ],
   "source": [
    "metrics=['proportion_of_landscape', 'edge_density', 'fractal_dimension_am']\n",
    "sta.compute_class_metrics_df(metrics=metrics)"
   ]
  },
  {
   "cell_type": "markdown",
   "metadata": {
    "ein.tags": "worksheet-0",
    "slideshow": {
     "slide_type": "-"
    }
   },
   "source": [
    "At the class-level, we can choose to compute the metrics only for a subset of classes through the `classes` argument. We can simoultaneously choose a subset of metrics as well as a subset of classes by specifying both the `metrics` and `classes` arguments. For instance, we can choose to only compute the above metrics and only for the *urban* class (value of 1):"
   ]
  },
  {
   "cell_type": "code",
   "execution_count": 7,
   "metadata": {
    "autoscroll": false,
    "ein.hycell": false,
    "ein.tags": "worksheet-0",
    "slideshow": {
     "slide_type": "-"
    }
   },
   "outputs": [
    {
     "data": {
      "text/html": [
       "<div>\n",
       "<style scoped>\n",
       "    .dataframe tbody tr th:only-of-type {\n",
       "        vertical-align: middle;\n",
       "    }\n",
       "\n",
       "    .dataframe tbody tr th {\n",
       "        vertical-align: top;\n",
       "    }\n",
       "\n",
       "    .dataframe thead th {\n",
       "        text-align: right;\n",
       "    }\n",
       "</style>\n",
       "<table border=\"1\" class=\"dataframe\">\n",
       "  <thead>\n",
       "    <tr style=\"text-align: right;\">\n",
       "      <th></th>\n",
       "      <th>metric</th>\n",
       "      <th>proportion_of_landscape</th>\n",
       "      <th>edge_density</th>\n",
       "      <th>fractal_dimension_am</th>\n",
       "    </tr>\n",
       "    <tr>\n",
       "      <th>class_val</th>\n",
       "      <th>dates</th>\n",
       "      <th></th>\n",
       "      <th></th>\n",
       "      <th></th>\n",
       "    </tr>\n",
       "  </thead>\n",
       "  <tbody>\n",
       "    <tr>\n",
       "      <th rowspan=\"3\" valign=\"top\">1</th>\n",
       "      <th>2000</th>\n",
       "      <td>7.701939</td>\n",
       "      <td>4.458771</td>\n",
       "      <td>1.129561</td>\n",
       "    </tr>\n",
       "    <tr>\n",
       "      <th>2006</th>\n",
       "      <td>7.661450</td>\n",
       "      <td>4.472475</td>\n",
       "      <td>1.123355</td>\n",
       "    </tr>\n",
       "    <tr>\n",
       "      <th>2012</th>\n",
       "      <td>7.713463</td>\n",
       "      <td>4.503309</td>\n",
       "      <td>1.123473</td>\n",
       "    </tr>\n",
       "  </tbody>\n",
       "</table>\n",
       "</div>"
      ],
      "text/plain": [
       "metric           proportion_of_landscape  edge_density  fractal_dimension_am\n",
       "class_val dates                                                             \n",
       "1         2000                  7.701939      4.458771              1.129561\n",
       "          2006                  7.661450      4.472475              1.123355\n",
       "          2012                  7.713463      4.503309              1.123473"
      ]
     },
     "execution_count": 7,
     "metadata": {},
     "output_type": "execute_result"
    }
   ],
   "source": [
    "sta.compute_class_metrics_df(metrics=metrics, classes=[1])"
   ]
  },
  {
   "cell_type": "markdown",
   "metadata": {
    "ein.tags": "worksheet-0",
    "slideshow": {
     "slide_type": "-"
    }
   },
   "source": [
    "In both the `compute_class_metrics_df` and `compute_landscape_metrics_df` methods, we can also customize how some metrics are computed through the `metrics_kws` argument:"
   ]
  },
  {
   "cell_type": "code",
   "execution_count": 8,
   "metadata": {
    "autoscroll": false,
    "ein.hycell": false,
    "ein.tags": "worksheet-0",
    "slideshow": {
     "slide_type": "-"
    }
   },
   "outputs": [
    {
     "data": {
      "text/html": [
       "<div>\n",
       "<style scoped>\n",
       "    .dataframe tbody tr th:only-of-type {\n",
       "        vertical-align: middle;\n",
       "    }\n",
       "\n",
       "    .dataframe tbody tr th {\n",
       "        vertical-align: top;\n",
       "    }\n",
       "\n",
       "    .dataframe thead th {\n",
       "        text-align: right;\n",
       "    }\n",
       "</style>\n",
       "<table border=\"1\" class=\"dataframe\">\n",
       "  <thead>\n",
       "    <tr style=\"text-align: right;\">\n",
       "      <th></th>\n",
       "      <th>metric</th>\n",
       "      <th>proportion_of_landscape</th>\n",
       "      <th>edge_density</th>\n",
       "      <th>fractal_dimension_am</th>\n",
       "    </tr>\n",
       "    <tr>\n",
       "      <th>class_val</th>\n",
       "      <th>dates</th>\n",
       "      <th></th>\n",
       "      <th></th>\n",
       "      <th></th>\n",
       "    </tr>\n",
       "  </thead>\n",
       "  <tbody>\n",
       "    <tr>\n",
       "      <th rowspan=\"3\" valign=\"top\">1</th>\n",
       "      <th>2000</th>\n",
       "      <td>0.077019</td>\n",
       "      <td>4.502998</td>\n",
       "      <td>1.129561</td>\n",
       "    </tr>\n",
       "    <tr>\n",
       "      <th>2006</th>\n",
       "      <td>0.076614</td>\n",
       "      <td>4.516079</td>\n",
       "      <td>1.123355</td>\n",
       "    </tr>\n",
       "    <tr>\n",
       "      <th>2012</th>\n",
       "      <td>0.077135</td>\n",
       "      <td>4.548470</td>\n",
       "      <td>1.123473</td>\n",
       "    </tr>\n",
       "  </tbody>\n",
       "</table>\n",
       "</div>"
      ],
      "text/plain": [
       "metric           proportion_of_landscape  edge_density  fractal_dimension_am\n",
       "class_val dates                                                             \n",
       "1         2000                  0.077019      4.502998              1.129561\n",
       "          2006                  0.076614      4.516079              1.123355\n",
       "          2012                  0.077135      4.548470              1.123473"
      ]
     },
     "execution_count": 8,
     "metadata": {},
     "output_type": "execute_result"
    }
   ],
   "source": [
    "metrics_kws={\n",
    "    'proportion_of_landscape': {'percent': False},\n",
    "    'edge_density': {'count_boundary': True}\n",
    "}\n",
    "sta.compute_class_metrics_df(\n",
    "    metrics=metrics, classes=[1], metrics_kws=metrics_kws)"
   ]
  },
  {
   "cell_type": "markdown",
   "metadata": {},
   "source": [
    "On the other hand, the `dates` keyword argument might also be provided as string or `datetime` objects, e.g.:"
   ]
  },
  {
   "cell_type": "code",
   "execution_count": 9,
   "metadata": {},
   "outputs": [
    {
     "data": {
      "text/html": [
       "<div>\n",
       "<style scoped>\n",
       "    .dataframe tbody tr th:only-of-type {\n",
       "        vertical-align: middle;\n",
       "    }\n",
       "\n",
       "    .dataframe tbody tr th {\n",
       "        vertical-align: top;\n",
       "    }\n",
       "\n",
       "    .dataframe thead th {\n",
       "        text-align: right;\n",
       "    }\n",
       "</style>\n",
       "<table border=\"1\" class=\"dataframe\">\n",
       "  <thead>\n",
       "    <tr style=\"text-align: right;\">\n",
       "      <th>metric</th>\n",
       "      <th>total_area</th>\n",
       "      <th>number_of_patches</th>\n",
       "      <th>patch_density</th>\n",
       "      <th>largest_patch_index</th>\n",
       "      <th>total_edge</th>\n",
       "      <th>edge_density</th>\n",
       "      <th>landscape_shape_index</th>\n",
       "      <th>effective_mesh_size</th>\n",
       "      <th>area_mn</th>\n",
       "      <th>area_am</th>\n",
       "      <th>...</th>\n",
       "      <th>fractal_dimension_sd</th>\n",
       "      <th>fractal_dimension_cv</th>\n",
       "      <th>euclidean_nearest_neighbor_mn</th>\n",
       "      <th>euclidean_nearest_neighbor_am</th>\n",
       "      <th>euclidean_nearest_neighbor_md</th>\n",
       "      <th>euclidean_nearest_neighbor_ra</th>\n",
       "      <th>euclidean_nearest_neighbor_sd</th>\n",
       "      <th>euclidean_nearest_neighbor_cv</th>\n",
       "      <th>contagion</th>\n",
       "      <th>shannon_diversity_index</th>\n",
       "    </tr>\n",
       "    <tr>\n",
       "      <th>dates</th>\n",
       "      <th></th>\n",
       "      <th></th>\n",
       "      <th></th>\n",
       "      <th></th>\n",
       "      <th></th>\n",
       "      <th></th>\n",
       "      <th></th>\n",
       "      <th></th>\n",
       "      <th></th>\n",
       "      <th></th>\n",
       "      <th></th>\n",
       "      <th></th>\n",
       "      <th></th>\n",
       "      <th></th>\n",
       "      <th></th>\n",
       "      <th></th>\n",
       "      <th></th>\n",
       "      <th></th>\n",
       "      <th></th>\n",
       "      <th></th>\n",
       "      <th></th>\n",
       "    </tr>\n",
       "  </thead>\n",
       "  <tbody>\n",
       "    <tr>\n",
       "      <th>2000-01-01</th>\n",
       "      <td>321075.0</td>\n",
       "      <td>206.0</td>\n",
       "      <td>0.064159</td>\n",
       "      <td>89.451374</td>\n",
       "      <td>1431600.0</td>\n",
       "      <td>4.458771</td>\n",
       "      <td>9.716931</td>\n",
       "      <td>257308.652318</td>\n",
       "      <td>1558.616505</td>\n",
       "      <td>257308.652318</td>\n",
       "      <td>...</td>\n",
       "      <td>0.037678</td>\n",
       "      <td>3.477259</td>\n",
       "      <td>974.339330</td>\n",
       "      <td>241.380151</td>\n",
       "      <td>700.000000</td>\n",
       "      <td>6772.087205</td>\n",
       "      <td>872.438139</td>\n",
       "      <td>89.541509</td>\n",
       "      <td>73.401770</td>\n",
       "      <td>0.271429</td>\n",
       "    </tr>\n",
       "    <tr>\n",
       "      <th>2006-01-01</th>\n",
       "      <td>321075.0</td>\n",
       "      <td>208.0</td>\n",
       "      <td>0.064782</td>\n",
       "      <td>89.131823</td>\n",
       "      <td>1436000.0</td>\n",
       "      <td>4.472475</td>\n",
       "      <td>9.736332</td>\n",
       "      <td>255466.816523</td>\n",
       "      <td>1543.629808</td>\n",
       "      <td>255466.816523</td>\n",
       "      <td>...</td>\n",
       "      <td>0.036252</td>\n",
       "      <td>3.343042</td>\n",
       "      <td>973.887192</td>\n",
       "      <td>240.859645</td>\n",
       "      <td>714.108518</td>\n",
       "      <td>6772.087205</td>\n",
       "      <td>878.977491</td>\n",
       "      <td>90.254549</td>\n",
       "      <td>73.462946</td>\n",
       "      <td>0.270422</td>\n",
       "    </tr>\n",
       "    <tr>\n",
       "      <th>2012-01-01</th>\n",
       "      <td>321075.0</td>\n",
       "      <td>209.0</td>\n",
       "      <td>0.065094</td>\n",
       "      <td>89.091645</td>\n",
       "      <td>1445900.0</td>\n",
       "      <td>4.503309</td>\n",
       "      <td>9.779982</td>\n",
       "      <td>255235.031918</td>\n",
       "      <td>1536.244019</td>\n",
       "      <td>255235.031918</td>\n",
       "      <td>...</td>\n",
       "      <td>0.035837</td>\n",
       "      <td>3.304230</td>\n",
       "      <td>975.746891</td>\n",
       "      <td>241.066300</td>\n",
       "      <td>721.110255</td>\n",
       "      <td>6772.087205</td>\n",
       "      <td>872.972328</td>\n",
       "      <td>89.467088</td>\n",
       "      <td>73.330913</td>\n",
       "      <td>0.271715</td>\n",
       "    </tr>\n",
       "  </tbody>\n",
       "</table>\n",
       "<p>3 rows × 46 columns</p>\n",
       "</div>"
      ],
      "text/plain": [
       "metric      total_area  number_of_patches  patch_density  largest_patch_index  \\\n",
       "dates                                                                           \n",
       "2000-01-01    321075.0              206.0       0.064159            89.451374   \n",
       "2006-01-01    321075.0              208.0       0.064782            89.131823   \n",
       "2012-01-01    321075.0              209.0       0.065094            89.091645   \n",
       "\n",
       "metric      total_edge  edge_density  landscape_shape_index  \\\n",
       "dates                                                         \n",
       "2000-01-01   1431600.0      4.458771               9.716931   \n",
       "2006-01-01   1436000.0      4.472475               9.736332   \n",
       "2012-01-01   1445900.0      4.503309               9.779982   \n",
       "\n",
       "metric      effective_mesh_size      area_mn        area_am  ...  \\\n",
       "dates                                                        ...   \n",
       "2000-01-01        257308.652318  1558.616505  257308.652318  ...   \n",
       "2006-01-01        255466.816523  1543.629808  255466.816523  ...   \n",
       "2012-01-01        255235.031918  1536.244019  255235.031918  ...   \n",
       "\n",
       "metric      fractal_dimension_sd  fractal_dimension_cv  \\\n",
       "dates                                                    \n",
       "2000-01-01              0.037678              3.477259   \n",
       "2006-01-01              0.036252              3.343042   \n",
       "2012-01-01              0.035837              3.304230   \n",
       "\n",
       "metric      euclidean_nearest_neighbor_mn  euclidean_nearest_neighbor_am  \\\n",
       "dates                                                                      \n",
       "2000-01-01                     974.339330                     241.380151   \n",
       "2006-01-01                     973.887192                     240.859645   \n",
       "2012-01-01                     975.746891                     241.066300   \n",
       "\n",
       "metric      euclidean_nearest_neighbor_md  euclidean_nearest_neighbor_ra  \\\n",
       "dates                                                                      \n",
       "2000-01-01                     700.000000                    6772.087205   \n",
       "2006-01-01                     714.108518                    6772.087205   \n",
       "2012-01-01                     721.110255                    6772.087205   \n",
       "\n",
       "metric      euclidean_nearest_neighbor_sd  euclidean_nearest_neighbor_cv  \\\n",
       "dates                                                                      \n",
       "2000-01-01                     872.438139                      89.541509   \n",
       "2006-01-01                     878.977491                      90.254549   \n",
       "2012-01-01                     872.972328                      89.467088   \n",
       "\n",
       "metric      contagion  shannon_diversity_index  \n",
       "dates                                           \n",
       "2000-01-01  73.401770                 0.271429  \n",
       "2006-01-01  73.462946                 0.270422  \n",
       "2012-01-01  73.330913                 0.271715  \n",
       "\n",
       "[3 rows x 46 columns]"
      ]
     },
     "execution_count": 9,
     "metadata": {},
     "output_type": "execute_result"
    }
   ],
   "source": [
    "import datetime\n",
    "\n",
    "dates = [datetime.date(year, 1, 1) for year in [2000, 2006, 2012]]\n",
    "sta = pls.SpatioTemporalAnalysis(input_filepaths, dates=dates)\n",
    "sta.compute_landscape_metrics_df()"
   ]
  },
  {
   "cell_type": "markdown",
   "metadata": {
    "ein.tags": "worksheet-0",
    "slideshow": {
     "slide_type": "-"
    }
   },
   "source": [
    "## Plots"
   ]
  },
  {
   "cell_type": "markdown",
   "metadata": {
    "ein.tags": "worksheet-0",
    "slideshow": {
     "slide_type": "-"
    }
   },
   "source": [
    "One of the most important features of `SpatioTemporalAnalysis` is to plot the evolution of the metrics. We can plot the proportion o landscape occupied by the *urban* class (`class_val` of 1) as in:"
   ]
  },
  {
   "cell_type": "code",
   "execution_count": 10,
   "metadata": {
    "autoscroll": false,
    "ein.hycell": false,
    "ein.tags": "worksheet-0",
    "slideshow": {
     "slide_type": "-"
    }
   },
   "outputs": [
    {
     "data": {
      "text/plain": [
       "<AxesSubplot:ylabel='PLAND'>"
      ]
     },
     "execution_count": 10,
     "metadata": {},
     "output_type": "execute_result"
    },
    {
     "data": {
      "image/png": "[encoded data removed]",
      "text/plain": [
       "<Figure size 432x288 with 1 Axes>"
      ]
     },
     "metadata": {
      "needs_background": "light"
     },
     "output_type": "display_data"
    }
   ],
   "source": [
    "sta.plot_metric('proportion_of_landscape', class_val=1)"
   ]
  },
  {
   "cell_type": "markdown",
   "metadata": {
    "ein.tags": "worksheet-0",
    "slideshow": {
     "slide_type": "-"
    }
   },
   "source": [
    "If we want to plot the evolution of a metric at the landscape level, we can do so by using the same `plot_metric` method, but without setting the `class_val` argument. Note however that we cannot compute the `proportion_of_landscape` at the landscape level (we could but it makes no sense, the landscape always occupies 100% of the landscape). Similarly, some metrics such as `shannon_diversity_index` cannot be computed at the class level but only at the landscape level. See the documentation of each metric for more details, or [see above](available-metrics) the metrics that can be at each level.\n",
    "\n",
    "Let's then plot the area-weighted fractal dimension, that is `fractal_dimension_am`, at both the class and landscape level:"
   ]
  },
  {
   "cell_type": "code",
   "execution_count": 11,
   "metadata": {
    "autoscroll": false,
    "ein.hycell": false,
    "ein.tags": "worksheet-0",
    "slideshow": {
     "slide_type": "-"
    }
   },
   "outputs": [
    {
     "data": {
      "text/plain": [
       "<matplotlib.legend.Legend at 0x7fd464580580>"
      ]
     },
     "execution_count": 11,
     "metadata": {},
     "output_type": "execute_result"
    },
    {
     "data": {
      "image/png": "[encoded data removed]",
      "text/plain": [
       "<Figure size 432x288 with 1 Axes>"
      ]
     },
     "metadata": {
      "needs_background": "light"
     },
     "output_type": "display_data"
    }
   ],
   "source": [
    "ax = sta.plot_metric('fractal_dimension_am', class_val=1, \n",
    "                     plot_kws={'label': 'class level (urban)'})\n",
    "sta.plot_metric(\n",
    "    'fractal_dimension_am', ax=ax, plot_kws={'label': 'landscape level'})\n",
    "ax.legend()"
   ]
  },
  {
   "cell_type": "markdown",
   "metadata": {
    "ein.tags": "worksheet-0",
    "slideshow": {
     "slide_type": "-"
    }
   },
   "source": [
    "Note that we can pass keyword arguments to matplotlib's `plot` method through the `plt_kws` argument of `plot_metric`. See the documentation of  [SpatioTemporalAnalysis.plot_metric](https://pylandstats.readthedocs.io/en/latest/spatiotemporal.html#pylandstats.SpatioTemporalAnalysis.plot_metric) for more details."
   ]
  },
  {
   "cell_type": "markdown",
   "metadata": {
    "ein.tags": "worksheet-0",
    "slideshow": {
     "slide_type": "-"
    }
   },
   "source": [
    "## See also"
   ]
  },
  {
   "cell_type": "markdown",
   "metadata": {
    "ein.tags": "worksheet-0",
    "slideshow": {
     "slide_type": "-"
    }
   },
   "source": [
    "* [SpatioTemporalBufferAnalysis](https://github.com/martibosch/pylandstats-notebooks/blob/master/notebooks/04-spatiotemporal-buffer-analysis.ipynb)"
   ]
  }
 ],
 "metadata": {
  "kernelspec": {
   "display_name": "Python (pylandstats)",
   "language": "python",
   "name": "pylandstats"
  },
  "language_info": {
   "codemirror_mode": {
    "name": "ipython",
    "version": 3
   },
   "file_extension": ".py",
   "mimetype": "text/x-python",
   "name": "python",
   "nbconvert_exporter": "python",
   "pygments_lexer": "ipython3",
   "version": "3.8.6"
  },
  "name": "02-spatiotemporal-analysis.ipynb"
 },
 "nbformat": 4,
 "nbformat_minor": 2
}
