{
 "cells": [
  {
   "cell_type": "markdown",
   "metadata": {
    "ein.tags": "worksheet-0",
    "slideshow": {
     "slide_type": "-"
    }
   },
   "source": [
    "# Spatio-temporal analysis"
   ]
  },
  {
   "cell_type": "code",
   "execution_count": 1,
   "metadata": {
    "autoscroll": false,
    "ein.hycell": false,
    "ein.tags": "worksheet-0",
    "slideshow": {
     "slide_type": "-"
    }
   },
   "outputs": [],
   "source": [
    "import pylandstats as pls"
   ]
  },
  {
   "cell_type": "markdown",
   "metadata": {
    "ein.tags": "worksheet-0",
    "slideshow": {
     "slide_type": "-"
    }
   },
   "source": [
    "We are often interested in the analysis of the temporal evolution of the configuration and composition of a particular landscape. To this end, we can use the class `SpatioTemporalAnalysis`, which we can instantiate with a temporally-ordered sequence of landscape snapshots.\n",
    "\n",
    "In this case, we will use the three extracts of the Canton of Vaud from the [CORINE Land Cover datasets](https://land.copernicus.eu/pan-european/corine-land-cover) for the years 2000, 2006 and 2012."
   ]
  },
  {
   "cell_type": "code",
   "execution_count": 2,
   "metadata": {
    "autoscroll": false,
    "ein.hycell": false,
    "ein.tags": "worksheet-0",
    "slideshow": {
     "slide_type": "-"
    }
   },
   "outputs": [],
   "source": [
    "input_filepaths = [\n",
    "    '../data/clc/vaud_g100_clc00_V18_5.tif',\n",
    "    '../data/clc/vaud_g100_clc06_V18_5a.tif',\n",
    "    '../data/clc/vaud_g100_clc12_V18_5a.tif'\n",
    "]\n",
    "\n",
    "sta = pls.SpatioTemporalAnalysis(input_filepaths, dates=[2000, 2006, 2012])"
   ]
  },
  {
   "cell_type": "markdown",
   "metadata": {
    "ein.tags": "worksheet-0",
    "slideshow": {
     "slide_type": "-"
    }
   },
   "source": [
    "## Spatio-temporal data frames"
   ]
  },
  {
   "cell_type": "markdown",
   "metadata": {
    "ein.tags": "worksheet-0",
    "slideshow": {
     "slide_type": "-"
    }
   },
   "source": [
    "By now, `SpatioTemporalAnalysis` only supports class and landscape-level metrics, which are available as [properties](https://docs.python.org/3/howto/descriptor.html#properties) of our `SpatioTemporalAnalysis` instance. For instance, a data frame of the class-level metrics can be obtained as follows:"
   ]
  },
  {
   "cell_type": "code",
   "execution_count": 3,
   "metadata": {
    "autoscroll": false,
    "ein.hycell": false,
    "ein.tags": "worksheet-0",
    "slideshow": {
     "slide_type": "-"
    }
   },
   "outputs": [
    {
     "data": {
      "text/html": [
       "<div>\n",
       "<style scoped>\n",
       "    .dataframe tbody tr th:only-of-type {\n",
       "        vertical-align: middle;\n",
       "    }\n",
       "\n",
       "    .dataframe tbody tr th {\n",
       "        vertical-align: top;\n",
       "    }\n",
       "\n",
       "    .dataframe thead th {\n",
       "        text-align: right;\n",
       "    }\n",
       "</style>\n",
       "<table border=\"1\" class=\"dataframe\">\n",
       "  <thead>\n",
       "    <tr style=\"text-align: right;\">\n",
       "      <th></th>\n",
       "      <th>metric</th>\n",
       "      <th>total_area</th>\n",
       "      <th>proportion_of_landscape</th>\n",
       "      <th>number_of_patches</th>\n",
       "      <th>patch_density</th>\n",
       "      <th>largest_patch_index</th>\n",
       "      <th>total_edge</th>\n",
       "      <th>edge_density</th>\n",
       "      <th>landscape_shape_index</th>\n",
       "      <th>area_mn</th>\n",
       "      <th>area_am</th>\n",
       "      <th>...</th>\n",
       "      <th>fractal_dimension_md</th>\n",
       "      <th>fractal_dimension_ra</th>\n",
       "      <th>fractal_dimension_sd</th>\n",
       "      <th>fractal_dimension_cv</th>\n",
       "      <th>euclidean_nearest_neighbor_mn</th>\n",
       "      <th>euclidean_nearest_neighbor_am</th>\n",
       "      <th>euclidean_nearest_neighbor_md</th>\n",
       "      <th>euclidean_nearest_neighbor_ra</th>\n",
       "      <th>euclidean_nearest_neighbor_sd</th>\n",
       "      <th>euclidean_nearest_neighbor_cv</th>\n",
       "    </tr>\n",
       "    <tr>\n",
       "      <th>class_val</th>\n",
       "      <th>dates</th>\n",
       "      <th></th>\n",
       "      <th></th>\n",
       "      <th></th>\n",
       "      <th></th>\n",
       "      <th></th>\n",
       "      <th></th>\n",
       "      <th></th>\n",
       "      <th></th>\n",
       "      <th></th>\n",
       "      <th></th>\n",
       "      <th></th>\n",
       "      <th></th>\n",
       "      <th></th>\n",
       "      <th></th>\n",
       "      <th></th>\n",
       "      <th></th>\n",
       "      <th></th>\n",
       "      <th></th>\n",
       "      <th></th>\n",
       "      <th></th>\n",
       "      <th></th>\n",
       "    </tr>\n",
       "  </thead>\n",
       "  <tbody>\n",
       "    <tr>\n",
       "      <th rowspan=\"3\" valign=\"top\">1</th>\n",
       "      <th>2000</th>\n",
       "      <td>24729</td>\n",
       "      <td>7.70194</td>\n",
       "      <td>193</td>\n",
       "      <td>0.0601106</td>\n",
       "      <td>2.06992</td>\n",
       "      <td>1.4316e+06</td>\n",
       "      <td>4.45877</td>\n",
       "      <td>22.9492</td>\n",
       "      <td>128.13</td>\n",
       "      <td>2201.71</td>\n",
       "      <td>...</td>\n",
       "      <td>1.08167</td>\n",
       "      <td>0.200096</td>\n",
       "      <td>0.0357722</td>\n",
       "      <td>3.29813</td>\n",
       "      <td>1023.35</td>\n",
       "      <td>707.998</td>\n",
       "      <td>781.025</td>\n",
       "      <td>6772.09</td>\n",
       "      <td>879.913</td>\n",
       "      <td>85.9832</td>\n",
       "    </tr>\n",
       "    <tr>\n",
       "      <th>2006</th>\n",
       "      <td>24599</td>\n",
       "      <td>7.66145</td>\n",
       "      <td>200</td>\n",
       "      <td>0.0622907</td>\n",
       "      <td>2.02227</td>\n",
       "      <td>1.436e+06</td>\n",
       "      <td>4.47248</td>\n",
       "      <td>23.0892</td>\n",
       "      <td>122.995</td>\n",
       "      <td>2031.22</td>\n",
       "      <td>...</td>\n",
       "      <td>1.08076</td>\n",
       "      <td>0.195545</td>\n",
       "      <td>0.03525</td>\n",
       "      <td>3.25178</td>\n",
       "      <td>1003.28</td>\n",
       "      <td>703.96</td>\n",
       "      <td>721.11</td>\n",
       "      <td>6772.09</td>\n",
       "      <td>883.732</td>\n",
       "      <td>88.0845</td>\n",
       "    </tr>\n",
       "    <tr>\n",
       "      <th>2012</th>\n",
       "      <td>24766</td>\n",
       "      <td>7.71346</td>\n",
       "      <td>201</td>\n",
       "      <td>0.0626022</td>\n",
       "      <td>2.02227</td>\n",
       "      <td>1.4459e+06</td>\n",
       "      <td>4.50331</td>\n",
       "      <td>23.181</td>\n",
       "      <td>123.214</td>\n",
       "      <td>2019.46</td>\n",
       "      <td>...</td>\n",
       "      <td>1.07917</td>\n",
       "      <td>0.195545</td>\n",
       "      <td>0.0347995</td>\n",
       "      <td>3.20964</td>\n",
       "      <td>1005.07</td>\n",
       "      <td>703.368</td>\n",
       "      <td>728.011</td>\n",
       "      <td>6772.09</td>\n",
       "      <td>877.435</td>\n",
       "      <td>87.3013</td>\n",
       "    </tr>\n",
       "    <tr>\n",
       "      <th rowspan=\"3\" valign=\"top\">2</th>\n",
       "      <th>2000</th>\n",
       "      <td>296346</td>\n",
       "      <td>92.2981</td>\n",
       "      <td>13</td>\n",
       "      <td>0.0040489</td>\n",
       "      <td>89.4514</td>\n",
       "      <td>1.4316e+06</td>\n",
       "      <td>4.45877</td>\n",
       "      <td>10.0533</td>\n",
       "      <td>22795.8</td>\n",
       "      <td>278596</td>\n",
       "      <td>...</td>\n",
       "      <td>1.06999</td>\n",
       "      <td>0.206571</td>\n",
       "      <td>0.0568234</td>\n",
       "      <td>5.32212</td>\n",
       "      <td>246.646</td>\n",
       "      <td>202.443</td>\n",
       "      <td>223.607</td>\n",
       "      <td>116.228</td>\n",
       "      <td>38.3861</td>\n",
       "      <td>15.5632</td>\n",
       "    </tr>\n",
       "    <tr>\n",
       "      <th>2006</th>\n",
       "      <td>296476</td>\n",
       "      <td>92.3386</td>\n",
       "      <td>8</td>\n",
       "      <td>0.00249163</td>\n",
       "      <td>89.1318</td>\n",
       "      <td>1.436e+06</td>\n",
       "      <td>4.47248</td>\n",
       "      <td>10.0744</td>\n",
       "      <td>37059.5</td>\n",
       "      <td>276495</td>\n",
       "      <td>...</td>\n",
       "      <td>1.08792</td>\n",
       "      <td>0.194132</td>\n",
       "      <td>0.0548953</td>\n",
       "      <td>5.01883</td>\n",
       "      <td>239.112</td>\n",
       "      <td>202.436</td>\n",
       "      <td>223.607</td>\n",
       "      <td>100</td>\n",
       "      <td>39.6897</td>\n",
       "      <td>16.5988</td>\n",
       "    </tr>\n",
       "    <tr>\n",
       "      <th>2012</th>\n",
       "      <td>296309</td>\n",
       "      <td>92.2865</td>\n",
       "      <td>8</td>\n",
       "      <td>0.00249163</td>\n",
       "      <td>89.0916</td>\n",
       "      <td>1.4459e+06</td>\n",
       "      <td>4.50331</td>\n",
       "      <td>10.1175</td>\n",
       "      <td>37038.6</td>\n",
       "      <td>276399</td>\n",
       "      <td>...</td>\n",
       "      <td>1.08792</td>\n",
       "      <td>0.194539</td>\n",
       "      <td>0.0550874</td>\n",
       "      <td>5.03546</td>\n",
       "      <td>239.112</td>\n",
       "      <td>202.426</td>\n",
       "      <td>223.607</td>\n",
       "      <td>100</td>\n",
       "      <td>39.6897</td>\n",
       "      <td>16.5988</td>\n",
       "    </tr>\n",
       "  </tbody>\n",
       "</table>\n",
       "<p>6 rows × 38 columns</p>\n",
       "</div>"
      ],
      "text/plain": [
       "metric          total_area proportion_of_landscape number_of_patches  \\\n",
       "class_val dates                                                        \n",
       "1         2000       24729                 7.70194               193   \n",
       "          2006       24599                 7.66145               200   \n",
       "          2012       24766                 7.71346               201   \n",
       "2         2000      296346                 92.2981                13   \n",
       "          2006      296476                 92.3386                 8   \n",
       "          2012      296309                 92.2865                 8   \n",
       "\n",
       "metric          patch_density largest_patch_index  total_edge edge_density  \\\n",
       "class_val dates                                                              \n",
       "1         2000      0.0601106             2.06992  1.4316e+06      4.45877   \n",
       "          2006      0.0622907             2.02227   1.436e+06      4.47248   \n",
       "          2012      0.0626022             2.02227  1.4459e+06      4.50331   \n",
       "2         2000      0.0040489             89.4514  1.4316e+06      4.45877   \n",
       "          2006     0.00249163             89.1318   1.436e+06      4.47248   \n",
       "          2012     0.00249163             89.0916  1.4459e+06      4.50331   \n",
       "\n",
       "metric          landscape_shape_index  area_mn  area_am  ...  \\\n",
       "class_val dates                                          ...   \n",
       "1         2000                22.9492   128.13  2201.71  ...   \n",
       "          2006                23.0892  122.995  2031.22  ...   \n",
       "          2012                 23.181  123.214  2019.46  ...   \n",
       "2         2000                10.0533  22795.8   278596  ...   \n",
       "          2006                10.0744  37059.5   276495  ...   \n",
       "          2012                10.1175  37038.6   276399  ...   \n",
       "\n",
       "metric          fractal_dimension_md fractal_dimension_ra  \\\n",
       "class_val dates                                             \n",
       "1         2000               1.08167             0.200096   \n",
       "          2006               1.08076             0.195545   \n",
       "          2012               1.07917             0.195545   \n",
       "2         2000               1.06999             0.206571   \n",
       "          2006               1.08792             0.194132   \n",
       "          2012               1.08792             0.194539   \n",
       "\n",
       "metric          fractal_dimension_sd fractal_dimension_cv  \\\n",
       "class_val dates                                             \n",
       "1         2000             0.0357722              3.29813   \n",
       "          2006               0.03525              3.25178   \n",
       "          2012             0.0347995              3.20964   \n",
       "2         2000             0.0568234              5.32212   \n",
       "          2006             0.0548953              5.01883   \n",
       "          2012             0.0550874              5.03546   \n",
       "\n",
       "metric          euclidean_nearest_neighbor_mn euclidean_nearest_neighbor_am  \\\n",
       "class_val dates                                                               \n",
       "1         2000                        1023.35                       707.998   \n",
       "          2006                        1003.28                        703.96   \n",
       "          2012                        1005.07                       703.368   \n",
       "2         2000                        246.646                       202.443   \n",
       "          2006                        239.112                       202.436   \n",
       "          2012                        239.112                       202.426   \n",
       "\n",
       "metric          euclidean_nearest_neighbor_md euclidean_nearest_neighbor_ra  \\\n",
       "class_val dates                                                               \n",
       "1         2000                        781.025                       6772.09   \n",
       "          2006                         721.11                       6772.09   \n",
       "          2012                        728.011                       6772.09   \n",
       "2         2000                        223.607                       116.228   \n",
       "          2006                        223.607                           100   \n",
       "          2012                        223.607                           100   \n",
       "\n",
       "metric          euclidean_nearest_neighbor_sd euclidean_nearest_neighbor_cv  \n",
       "class_val dates                                                              \n",
       "1         2000                        879.913                       85.9832  \n",
       "          2006                        883.732                       88.0845  \n",
       "          2012                        877.435                       87.3013  \n",
       "2         2000                        38.3861                       15.5632  \n",
       "          2006                        39.6897                       16.5988  \n",
       "          2012                        39.6897                       16.5988  \n",
       "\n",
       "[6 rows x 38 columns]"
      ]
     },
     "execution_count": 3,
     "metadata": {},
     "output_type": "execute_result"
    }
   ],
   "source": [
    "sta.class_metrics_df"
   ]
  },
  {
   "cell_type": "markdown",
   "metadata": {
    "ein.tags": "worksheet-0",
    "slideshow": {
     "slide_type": "-"
    }
   },
   "source": [
    "Again, we can use the operations of any pandas data frame. For instance, we can get all the metrics for the *urban* class (`class_val` of 1) in 2000"
   ]
  },
  {
   "cell_type": "code",
   "execution_count": 4,
   "metadata": {
    "autoscroll": false,
    "ein.hycell": false,
    "ein.tags": "worksheet-0",
    "slideshow": {
     "slide_type": "-"
    }
   },
   "outputs": [
    {
     "data": {
      "text/plain": [
       "metric\n",
       "total_area                            24729\n",
       "proportion_of_landscape             7.70194\n",
       "number_of_patches                       193\n",
       "patch_density                     0.0601106\n",
       "largest_patch_index                 2.06992\n",
       "total_edge                       1.4316e+06\n",
       "edge_density                        4.45877\n",
       "landscape_shape_index               22.9492\n",
       "area_mn                              128.13\n",
       "area_am                             2201.71\n",
       "area_md                                  43\n",
       "area_ra                                6645\n",
       "area_sd                             515.449\n",
       "area_cv                             402.287\n",
       "perimeter_area_ratio_mn             107.149\n",
       "perimeter_area_ratio_am             58.4658\n",
       "perimeter_area_ratio_md             102.222\n",
       "perimeter_area_ratio_ra             377.761\n",
       "perimeter_area_ratio_sd             50.9116\n",
       "perimeter_area_ratio_cv             47.5146\n",
       "shape_index_mn                      1.77764\n",
       "shape_index_am                      3.07474\n",
       "shape_index_md                      1.63636\n",
       "shape_index_ra                      3.80392\n",
       "shape_index_sd                     0.585527\n",
       "shape_index_cv                      32.9384\n",
       "fractal_dimension_mn                1.08462\n",
       "fractal_dimension_am                1.12956\n",
       "fractal_dimension_md                1.08167\n",
       "fractal_dimension_ra               0.200096\n",
       "fractal_dimension_sd              0.0357722\n",
       "fractal_dimension_cv                3.29813\n",
       "euclidean_nearest_neighbor_mn       1023.35\n",
       "euclidean_nearest_neighbor_am       707.998\n",
       "euclidean_nearest_neighbor_md       781.025\n",
       "euclidean_nearest_neighbor_ra       6772.09\n",
       "euclidean_nearest_neighbor_sd       879.913\n",
       "euclidean_nearest_neighbor_cv       85.9832\n",
       "Name: (1, 2000), dtype: object"
      ]
     },
     "execution_count": 4,
     "metadata": {},
     "output_type": "execute_result"
    }
   ],
   "source": [
    "sta.class_metrics_df.loc[(1, 2000)]"
   ]
  },
  {
   "cell_type": "markdown",
   "metadata": {
    "ein.tags": "worksheet-0",
    "slideshow": {
     "slide_type": "-"
    }
   },
   "source": [
    "Similarly, the data frame of landscape metrics can be obtained as follows:"
   ]
  },
  {
   "cell_type": "code",
   "execution_count": 5,
   "metadata": {
    "autoscroll": false,
    "ein.hycell": false,
    "ein.tags": "worksheet-0",
    "slideshow": {
     "slide_type": "-"
    }
   },
   "outputs": [
    {
     "data": {
      "text/html": [
       "<div>\n",
       "<style scoped>\n",
       "    .dataframe tbody tr th:only-of-type {\n",
       "        vertical-align: middle;\n",
       "    }\n",
       "\n",
       "    .dataframe tbody tr th {\n",
       "        vertical-align: top;\n",
       "    }\n",
       "\n",
       "    .dataframe thead th {\n",
       "        text-align: right;\n",
       "    }\n",
       "</style>\n",
       "<table border=\"1\" class=\"dataframe\">\n",
       "  <thead>\n",
       "    <tr style=\"text-align: right;\">\n",
       "      <th>metric</th>\n",
       "      <th>total_area</th>\n",
       "      <th>number_of_patches</th>\n",
       "      <th>patch_density</th>\n",
       "      <th>largest_patch_index</th>\n",
       "      <th>total_edge</th>\n",
       "      <th>edge_density</th>\n",
       "      <th>landscape_shape_index</th>\n",
       "      <th>area_mn</th>\n",
       "      <th>area_am</th>\n",
       "      <th>area_md</th>\n",
       "      <th>...</th>\n",
       "      <th>fractal_dimension_sd</th>\n",
       "      <th>fractal_dimension_cv</th>\n",
       "      <th>euclidean_nearest_neighbor_mn</th>\n",
       "      <th>euclidean_nearest_neighbor_am</th>\n",
       "      <th>euclidean_nearest_neighbor_md</th>\n",
       "      <th>euclidean_nearest_neighbor_ra</th>\n",
       "      <th>euclidean_nearest_neighbor_sd</th>\n",
       "      <th>euclidean_nearest_neighbor_cv</th>\n",
       "      <th>contagion</th>\n",
       "      <th>shannon_diversity_index</th>\n",
       "    </tr>\n",
       "    <tr>\n",
       "      <th>dates</th>\n",
       "      <th></th>\n",
       "      <th></th>\n",
       "      <th></th>\n",
       "      <th></th>\n",
       "      <th></th>\n",
       "      <th></th>\n",
       "      <th></th>\n",
       "      <th></th>\n",
       "      <th></th>\n",
       "      <th></th>\n",
       "      <th></th>\n",
       "      <th></th>\n",
       "      <th></th>\n",
       "      <th></th>\n",
       "      <th></th>\n",
       "      <th></th>\n",
       "      <th></th>\n",
       "      <th></th>\n",
       "      <th></th>\n",
       "      <th></th>\n",
       "      <th></th>\n",
       "    </tr>\n",
       "  </thead>\n",
       "  <tbody>\n",
       "    <tr>\n",
       "      <th>2000</th>\n",
       "      <td>321075</td>\n",
       "      <td>206</td>\n",
       "      <td>0.0641595</td>\n",
       "      <td>89.4514</td>\n",
       "      <td>1.4316e+06</td>\n",
       "      <td>4.45877</td>\n",
       "      <td>9.71693</td>\n",
       "      <td>1558.62</td>\n",
       "      <td>257309</td>\n",
       "      <td>43</td>\n",
       "      <td>...</td>\n",
       "      <td>0.0376779</td>\n",
       "      <td>3.47726</td>\n",
       "      <td>974.339</td>\n",
       "      <td>241.38</td>\n",
       "      <td>700</td>\n",
       "      <td>6772.09</td>\n",
       "      <td>872.438</td>\n",
       "      <td>89.5415</td>\n",
       "      <td>73.4018</td>\n",
       "      <td>0.271429</td>\n",
       "    </tr>\n",
       "    <tr>\n",
       "      <th>2006</th>\n",
       "      <td>321075</td>\n",
       "      <td>208</td>\n",
       "      <td>0.0647824</td>\n",
       "      <td>89.1318</td>\n",
       "      <td>1.436e+06</td>\n",
       "      <td>4.47248</td>\n",
       "      <td>9.73633</td>\n",
       "      <td>1543.63</td>\n",
       "      <td>255467</td>\n",
       "      <td>45</td>\n",
       "      <td>...</td>\n",
       "      <td>0.0362519</td>\n",
       "      <td>3.34304</td>\n",
       "      <td>973.887</td>\n",
       "      <td>240.86</td>\n",
       "      <td>714.109</td>\n",
       "      <td>6772.09</td>\n",
       "      <td>878.977</td>\n",
       "      <td>90.2545</td>\n",
       "      <td>73.4629</td>\n",
       "      <td>0.270422</td>\n",
       "    </tr>\n",
       "    <tr>\n",
       "      <th>2012</th>\n",
       "      <td>321075</td>\n",
       "      <td>209</td>\n",
       "      <td>0.0650938</td>\n",
       "      <td>89.0916</td>\n",
       "      <td>1.4459e+06</td>\n",
       "      <td>4.50331</td>\n",
       "      <td>9.77998</td>\n",
       "      <td>1536.24</td>\n",
       "      <td>255235</td>\n",
       "      <td>45</td>\n",
       "      <td>...</td>\n",
       "      <td>0.0358375</td>\n",
       "      <td>3.30423</td>\n",
       "      <td>975.747</td>\n",
       "      <td>241.066</td>\n",
       "      <td>721.11</td>\n",
       "      <td>6772.09</td>\n",
       "      <td>872.972</td>\n",
       "      <td>89.4671</td>\n",
       "      <td>73.3309</td>\n",
       "      <td>0.271715</td>\n",
       "    </tr>\n",
       "  </tbody>\n",
       "</table>\n",
       "<p>3 rows × 39 columns</p>\n",
       "</div>"
      ],
      "text/plain": [
       "metric total_area number_of_patches patch_density largest_patch_index  \\\n",
       "dates                                                                   \n",
       "2000       321075               206     0.0641595             89.4514   \n",
       "2006       321075               208     0.0647824             89.1318   \n",
       "2012       321075               209     0.0650938             89.0916   \n",
       "\n",
       "metric  total_edge edge_density landscape_shape_index  area_mn area_am  \\\n",
       "dates                                                                    \n",
       "2000    1.4316e+06      4.45877               9.71693  1558.62  257309   \n",
       "2006     1.436e+06      4.47248               9.73633  1543.63  255467   \n",
       "2012    1.4459e+06      4.50331               9.77998  1536.24  255235   \n",
       "\n",
       "metric area_md  ... fractal_dimension_sd fractal_dimension_cv  \\\n",
       "dates           ...                                             \n",
       "2000        43  ...            0.0376779              3.47726   \n",
       "2006        45  ...            0.0362519              3.34304   \n",
       "2012        45  ...            0.0358375              3.30423   \n",
       "\n",
       "metric euclidean_nearest_neighbor_mn euclidean_nearest_neighbor_am  \\\n",
       "dates                                                                \n",
       "2000                         974.339                        241.38   \n",
       "2006                         973.887                        240.86   \n",
       "2012                         975.747                       241.066   \n",
       "\n",
       "metric euclidean_nearest_neighbor_md euclidean_nearest_neighbor_ra  \\\n",
       "dates                                                                \n",
       "2000                             700                       6772.09   \n",
       "2006                         714.109                       6772.09   \n",
       "2012                          721.11                       6772.09   \n",
       "\n",
       "metric euclidean_nearest_neighbor_sd euclidean_nearest_neighbor_cv contagion  \\\n",
       "dates                                                                          \n",
       "2000                         872.438                       89.5415   73.4018   \n",
       "2006                         878.977                       90.2545   73.4629   \n",
       "2012                         872.972                       89.4671   73.3309   \n",
       "\n",
       "metric shannon_diversity_index  \n",
       "dates                           \n",
       "2000                  0.271429  \n",
       "2006                  0.270422  \n",
       "2012                  0.271715  \n",
       "\n",
       "[3 rows x 39 columns]"
      ]
     },
     "execution_count": 5,
     "metadata": {},
     "output_type": "execute_result"
    }
   ],
   "source": [
    "sta.landscape_metrics_df"
   ]
  },
  {
   "cell_type": "markdown",
   "metadata": {
    "ein.tags": "worksheet-0",
    "slideshow": {
     "slide_type": "-"
    }
   },
   "source": [
    "### Customizing your spatio-temporal analysis"
   ]
  },
  {
   "cell_type": "markdown",
   "metadata": {
    "ein.tags": "worksheet-0",
    "slideshow": {
     "slide_type": "-"
    }
   },
   "source": [
    "As within the `Landscape` analysis, we can also choose to compute a subset of metrics only with the `metrics` argument, however, for `SpatioTemporalAnalysis` instances, we must pass it to the initialization method as in:"
   ]
  },
  {
   "cell_type": "code",
   "execution_count": 6,
   "metadata": {
    "autoscroll": false,
    "ein.hycell": false,
    "ein.tags": "worksheet-0",
    "slideshow": {
     "slide_type": "-"
    }
   },
   "outputs": [
    {
     "data": {
      "text/html": [
       "<div>\n",
       "<style scoped>\n",
       "    .dataframe tbody tr th:only-of-type {\n",
       "        vertical-align: middle;\n",
       "    }\n",
       "\n",
       "    .dataframe tbody tr th {\n",
       "        vertical-align: top;\n",
       "    }\n",
       "\n",
       "    .dataframe thead th {\n",
       "        text-align: right;\n",
       "    }\n",
       "</style>\n",
       "<table border=\"1\" class=\"dataframe\">\n",
       "  <thead>\n",
       "    <tr style=\"text-align: right;\">\n",
       "      <th></th>\n",
       "      <th>metric</th>\n",
       "      <th>edge_density</th>\n",
       "      <th>fractal_dimension_am</th>\n",
       "      <th>proportion_of_landscape</th>\n",
       "    </tr>\n",
       "    <tr>\n",
       "      <th>class_val</th>\n",
       "      <th>dates</th>\n",
       "      <th></th>\n",
       "      <th></th>\n",
       "      <th></th>\n",
       "    </tr>\n",
       "  </thead>\n",
       "  <tbody>\n",
       "    <tr>\n",
       "      <th rowspan=\"3\" valign=\"top\">1</th>\n",
       "      <th>2000</th>\n",
       "      <td>4.45877</td>\n",
       "      <td>1.12956</td>\n",
       "      <td>7.70194</td>\n",
       "    </tr>\n",
       "    <tr>\n",
       "      <th>2006</th>\n",
       "      <td>4.47248</td>\n",
       "      <td>1.12336</td>\n",
       "      <td>7.66145</td>\n",
       "    </tr>\n",
       "    <tr>\n",
       "      <th>2012</th>\n",
       "      <td>4.50331</td>\n",
       "      <td>1.12347</td>\n",
       "      <td>7.71346</td>\n",
       "    </tr>\n",
       "    <tr>\n",
       "      <th rowspan=\"3\" valign=\"top\">2</th>\n",
       "      <th>2000</th>\n",
       "      <td>4.45877</td>\n",
       "      <td>1.204</td>\n",
       "      <td>92.2981</td>\n",
       "    </tr>\n",
       "    <tr>\n",
       "      <th>2006</th>\n",
       "      <td>4.47248</td>\n",
       "      <td>1.203</td>\n",
       "      <td>92.3386</td>\n",
       "    </tr>\n",
       "    <tr>\n",
       "      <th>2012</th>\n",
       "      <td>4.50331</td>\n",
       "      <td>1.20344</td>\n",
       "      <td>92.2865</td>\n",
       "    </tr>\n",
       "  </tbody>\n",
       "</table>\n",
       "</div>"
      ],
      "text/plain": [
       "metric          edge_density fractal_dimension_am proportion_of_landscape\n",
       "class_val dates                                                          \n",
       "1         2000       4.45877              1.12956                 7.70194\n",
       "          2006       4.47248              1.12336                 7.66145\n",
       "          2012       4.50331              1.12347                 7.71346\n",
       "2         2000       4.45877                1.204                 92.2981\n",
       "          2006       4.47248                1.203                 92.3386\n",
       "          2012       4.50331              1.20344                 92.2865"
      ]
     },
     "execution_count": 6,
     "metadata": {},
     "output_type": "execute_result"
    }
   ],
   "source": [
    "sta = pls.SpatioTemporalAnalysis(\n",
    "    input_filepaths, \n",
    "    metrics=[\n",
    "        'proportion_of_landscape', 'edge_density', 'fractal_dimension_am'], \n",
    "    dates=[2000, 2006, 2012])\n",
    "sta.class_metrics_df"
   ]
  },
  {
   "cell_type": "markdown",
   "metadata": {
    "ein.tags": "worksheet-0",
    "slideshow": {
     "slide_type": "-"
    }
   },
   "source": [
    "Similarly, we can choose to compute them only for a subset of classes through the `classes` argument. We can simoultaneously choose a subset of metrics as well as a subset of classes by specifying both the `metrics` and `classes` arguments. For instance, we can choose to only compute the above metrics and only for the *urban* class (value of 1):"
   ]
  },
  {
   "cell_type": "code",
   "execution_count": 7,
   "metadata": {
    "autoscroll": false,
    "ein.hycell": false,
    "ein.tags": "worksheet-0",
    "slideshow": {
     "slide_type": "-"
    }
   },
   "outputs": [
    {
     "data": {
      "text/html": [
       "<div>\n",
       "<style scoped>\n",
       "    .dataframe tbody tr th:only-of-type {\n",
       "        vertical-align: middle;\n",
       "    }\n",
       "\n",
       "    .dataframe tbody tr th {\n",
       "        vertical-align: top;\n",
       "    }\n",
       "\n",
       "    .dataframe thead th {\n",
       "        text-align: right;\n",
       "    }\n",
       "</style>\n",
       "<table border=\"1\" class=\"dataframe\">\n",
       "  <thead>\n",
       "    <tr style=\"text-align: right;\">\n",
       "      <th></th>\n",
       "      <th>metric</th>\n",
       "      <th>edge_density</th>\n",
       "      <th>fractal_dimension_am</th>\n",
       "      <th>landscape_shape_index</th>\n",
       "      <th>proportion_of_landscape</th>\n",
       "    </tr>\n",
       "    <tr>\n",
       "      <th>class_val</th>\n",
       "      <th>dates</th>\n",
       "      <th></th>\n",
       "      <th></th>\n",
       "      <th></th>\n",
       "      <th></th>\n",
       "    </tr>\n",
       "  </thead>\n",
       "  <tbody>\n",
       "    <tr>\n",
       "      <th rowspan=\"3\" valign=\"top\">1</th>\n",
       "      <th>2000</th>\n",
       "      <td>4.45877</td>\n",
       "      <td>1.12956</td>\n",
       "      <td>22.9492</td>\n",
       "      <td>7.70194</td>\n",
       "    </tr>\n",
       "    <tr>\n",
       "      <th>2006</th>\n",
       "      <td>4.47248</td>\n",
       "      <td>1.12336</td>\n",
       "      <td>23.0892</td>\n",
       "      <td>7.66145</td>\n",
       "    </tr>\n",
       "    <tr>\n",
       "      <th>2012</th>\n",
       "      <td>4.50331</td>\n",
       "      <td>1.12347</td>\n",
       "      <td>23.181</td>\n",
       "      <td>7.71346</td>\n",
       "    </tr>\n",
       "  </tbody>\n",
       "</table>\n",
       "</div>"
      ],
      "text/plain": [
       "metric          edge_density fractal_dimension_am landscape_shape_index  \\\n",
       "class_val dates                                                           \n",
       "1         2000       4.45877              1.12956               22.9492   \n",
       "          2006       4.47248              1.12336               23.0892   \n",
       "          2012       4.50331              1.12347                23.181   \n",
       "\n",
       "metric          proportion_of_landscape  \n",
       "class_val dates                          \n",
       "1         2000                  7.70194  \n",
       "          2006                  7.66145  \n",
       "          2012                  7.71346  "
      ]
     },
     "execution_count": 7,
     "metadata": {},
     "output_type": "execute_result"
    }
   ],
   "source": [
    "sta = pls.SpatioTemporalAnalysis(\n",
    "    input_filepaths, metrics=[\n",
    "        'proportion_of_landscape',\n",
    "        'edge_density',\n",
    "        'fractal_dimension_am',\n",
    "        'landscape_shape_index',\n",
    "        'shannon_diversity_index'\n",
    "    ], classes=[1], dates=[2000, 2006, 2012])\n",
    "sta.class_metrics_df"
   ]
  },
  {
   "cell_type": "markdown",
   "metadata": {
    "ein.tags": "worksheet-0",
    "slideshow": {
     "slide_type": "-"
    }
   },
   "source": [
    "Finally, we can also customize how some metrics are computed through the `metrics_kws` argument. Again, for `SpatioTemporalAnalysis`, we must pass it to the initialization method."
   ]
  },
  {
   "cell_type": "code",
   "execution_count": 8,
   "metadata": {
    "autoscroll": false,
    "ein.hycell": false,
    "ein.tags": "worksheet-0",
    "slideshow": {
     "slide_type": "-"
    }
   },
   "outputs": [
    {
     "data": {
      "text/html": [
       "<div>\n",
       "<style scoped>\n",
       "    .dataframe tbody tr th:only-of-type {\n",
       "        vertical-align: middle;\n",
       "    }\n",
       "\n",
       "    .dataframe tbody tr th {\n",
       "        vertical-align: top;\n",
       "    }\n",
       "\n",
       "    .dataframe thead th {\n",
       "        text-align: right;\n",
       "    }\n",
       "</style>\n",
       "<table border=\"1\" class=\"dataframe\">\n",
       "  <thead>\n",
       "    <tr style=\"text-align: right;\">\n",
       "      <th></th>\n",
       "      <th>metric</th>\n",
       "      <th>edge_density</th>\n",
       "      <th>fractal_dimension_am</th>\n",
       "      <th>landscape_shape_index</th>\n",
       "      <th>proportion_of_landscape</th>\n",
       "    </tr>\n",
       "    <tr>\n",
       "      <th>class_val</th>\n",
       "      <th>dates</th>\n",
       "      <th></th>\n",
       "      <th></th>\n",
       "      <th></th>\n",
       "      <th></th>\n",
       "    </tr>\n",
       "  </thead>\n",
       "  <tbody>\n",
       "    <tr>\n",
       "      <th rowspan=\"3\" valign=\"top\">1</th>\n",
       "      <th>2000</th>\n",
       "      <td>4.503</td>\n",
       "      <td>1.12956</td>\n",
       "      <td>22.9492</td>\n",
       "      <td>0.0770194</td>\n",
       "    </tr>\n",
       "    <tr>\n",
       "      <th>2006</th>\n",
       "      <td>4.51608</td>\n",
       "      <td>1.12336</td>\n",
       "      <td>23.0892</td>\n",
       "      <td>0.0766145</td>\n",
       "    </tr>\n",
       "    <tr>\n",
       "      <th>2012</th>\n",
       "      <td>4.54847</td>\n",
       "      <td>1.12347</td>\n",
       "      <td>23.181</td>\n",
       "      <td>0.0771346</td>\n",
       "    </tr>\n",
       "  </tbody>\n",
       "</table>\n",
       "</div>"
      ],
      "text/plain": [
       "metric          edge_density fractal_dimension_am landscape_shape_index  \\\n",
       "class_val dates                                                           \n",
       "1         2000         4.503              1.12956               22.9492   \n",
       "          2006       4.51608              1.12336               23.0892   \n",
       "          2012       4.54847              1.12347                23.181   \n",
       "\n",
       "metric          proportion_of_landscape  \n",
       "class_val dates                          \n",
       "1         2000                0.0770194  \n",
       "          2006                0.0766145  \n",
       "          2012                0.0771346  "
      ]
     },
     "execution_count": 8,
     "metadata": {},
     "output_type": "execute_result"
    }
   ],
   "source": [
    "sta = pls.SpatioTemporalAnalysis(\n",
    "    input_filepaths, metrics=[\n",
    "        'proportion_of_landscape',\n",
    "        'edge_density',\n",
    "        'fractal_dimension_am',\n",
    "        'landscape_shape_index',\n",
    "        'shannon_diversity_index'\n",
    "    ], classes=[1], dates=[2000, 2006, 2012], \n",
    "    metrics_kws={\n",
    "        'proportion_of_landscape': {'percent': False},\n",
    "        'edge_density': {'count_boundary': True}\n",
    "    })\n",
    "sta.class_metrics_df"
   ]
  },
  {
   "cell_type": "markdown",
   "metadata": {
    "ein.tags": "worksheet-0",
    "slideshow": {
     "slide_type": "-"
    }
   },
   "source": [
    "The fact that all the above arguments are passed to `SpatioTemporalAnalysis` initialization method means that once we have chosen a subset of metrics, classes or customized some metrics, we will not be able to modify such choices without having to re-initialize a `SpatioTemporalAnalysis` instance. Therefore, if you do not know which metrics or classes you will need, just compute them all and filter the data frame later if needed."
   ]
  },
  {
   "cell_type": "markdown",
   "metadata": {
    "ein.tags": "worksheet-0",
    "slideshow": {
     "slide_type": "-"
    }
   },
   "source": [
    "## Plots"
   ]
  },
  {
   "cell_type": "markdown",
   "metadata": {
    "ein.tags": "worksheet-0",
    "slideshow": {
     "slide_type": "-"
    }
   },
   "source": [
    "One of the most important features of `SpatioTemporalAnalysis` is to plot the evolution of the metrics. We can plot the proportion o landscape occupied by the *urban* class (`class_val` of 1) as in:"
   ]
  },
  {
   "cell_type": "code",
   "execution_count": 9,
   "metadata": {
    "autoscroll": false,
    "ein.hycell": false,
    "ein.tags": "worksheet-0",
    "slideshow": {
     "slide_type": "-"
    }
   },
   "outputs": [
    {
     "data": {
      "text/plain": [
       "<matplotlib.axes._subplots.AxesSubplot at 0x7fad63b99e48>"
      ]
     },
     "execution_count": 9,
     "metadata": {},
     "output_type": "execute_result"
    },
    {
     "data": {
      "image/png": "[encoded data removed]",
      "text/plain": [
       "<Figure size 432x288 with 1 Axes>"
      ]
     },
     "metadata": {
      "needs_background": "light"
     },
     "output_type": "display_data"
    }
   ],
   "source": [
    "sta.plot_metric('proportion_of_landscape', class_val=1)"
   ]
  },
  {
   "cell_type": "markdown",
   "metadata": {
    "ein.tags": "worksheet-0",
    "slideshow": {
     "slide_type": "-"
    }
   },
   "source": [
    "If we want to plot the evolution of a metric at the landscape level, we can do so by using the same `plot_metric` method, but without setting the `class_val` argument. Note however that we cannot compute the `proportion_of_landscape` at the landscape level (we could but it makes no sense, the landscape always occupies 100% of the landscape). Similarly, some metrics such as `shannon_diversity_index` cannot be computed at the class level but only at the landscape level. See the documentation of each metric for more details, or [see above](available-metrics) the metrics that can be at each level.\n",
    "\n",
    "Let's then plot the area-weighted fractal dimension, that is `fractal_dimension_am`, at both the class and landscape level:"
   ]
  },
  {
   "cell_type": "code",
   "execution_count": 10,
   "metadata": {
    "autoscroll": false,
    "ein.hycell": false,
    "ein.tags": "worksheet-0",
    "slideshow": {
     "slide_type": "-"
    }
   },
   "outputs": [
    {
     "data": {
      "text/plain": [
       "<matplotlib.legend.Legend at 0x7fad63a8a320>"
      ]
     },
     "execution_count": 10,
     "metadata": {},
     "output_type": "execute_result"
    },
    {
     "data": {
      "image/png": "[encoded data removed]",
      "text/plain": [
       "<Figure size 432x288 with 1 Axes>"
      ]
     },
     "metadata": {
      "needs_background": "light"
     },
     "output_type": "display_data"
    }
   ],
   "source": [
    "ax = sta.plot_metric('fractal_dimension_am', class_val=1, \n",
    "                     plot_kws={'label': 'class level (urban)'})\n",
    "sta.plot_metric(\n",
    "    'fractal_dimension_am', ax=ax, plot_kws={'label': 'landscape level'})\n",
    "ax.legend()"
   ]
  },
  {
   "cell_type": "markdown",
   "metadata": {
    "ein.tags": "worksheet-0",
    "slideshow": {
     "slide_type": "-"
    }
   },
   "source": [
    "Note that we can pass keyword arguments to matplotlib's `plot` method through the `plt_kws` argument of `plot_metric`. See the documentation of  [SpatioTemporalAnalysis.plot_metric](https://pylandstats.readthedocs.io/en/latest/spatiotemporal.html#pylandstats.SpatioTemporalAnalysis.plot_metric) for more details."
   ]
  },
  {
   "cell_type": "markdown",
   "metadata": {
    "ein.tags": "worksheet-0",
    "slideshow": {
     "slide_type": "-"
    }
   },
   "source": [
    "## See also"
   ]
  },
  {
   "cell_type": "markdown",
   "metadata": {
    "ein.tags": "worksheet-0",
    "slideshow": {
     "slide_type": "-"
    }
   },
   "source": [
    "* [SpatioTemporalBufferAnalysis](https://github.com/martibosch/pylandstats-notebooks/blob/master/notebooks/04-spatiotemporal-buffer-analysis.ipynb)"
   ]
  }
 ],
 "metadata": {
  "kernelspec": {
   "display_name": "Python (pylandstats)",
   "language": "python",
   "name": "pylandstats"
  },
  "language_info": {
   "codemirror_mode": {
    "name": "ipython",
    "version": 3
   },
   "file_extension": ".py",
   "mimetype": "text/x-python",
   "name": "python",
   "nbconvert_exporter": "python",
   "pygments_lexer": "ipython3",
   "version": "3.6.7"
  },
  "name": "02-spatiotemporal-analysis.ipynb"
 },
 "nbformat": 4,
 "nbformat_minor": 2
}
