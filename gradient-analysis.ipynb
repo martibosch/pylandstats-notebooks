{
 "cells": [
  {
   "cell_type": "markdown",
   "metadata": {
    "ein.tags": "worksheet-0",
    "slideshow": {
     "slide_type": "-"
    }
   },
   "source": [
    "# Gradient Analysis"
   ]
  },
  {
   "cell_type": "code",
   "execution_count": 1,
   "metadata": {
    "autoscroll": false,
    "ein.hycell": false,
    "ein.tags": "worksheet-0",
    "slideshow": {
     "slide_type": "-"
    }
   },
   "outputs": [],
   "source": [
    "import matplotlib.pyplot as plt\n",
    "import numpy as np\n",
    "import rasterio\n",
    "\n",
    "import pylandstats as pls"
   ]
  },
  {
   "cell_type": "markdown",
   "metadata": {
    "ein.tags": "worksheet-0",
    "slideshow": {
     "slide_type": "-"
    }
   },
   "source": [
    "Landscape metrics are very sensitive to scale, that is, to the pixel resolution and spatial extent of the considered map. Rather than restricting our analyses to a specific map extent, we are often interested in assessing how landacape patterns respond to a variety of definitions of the spatial extent.\n",
    "\n",
    "A remarkable example is the evaluation of landscape changes across the urban-rural gradient. Consider the following landscape of the Canton of Vaud, Switzerland:"
   ]
  },
  {
   "cell_type": "code",
   "execution_count": 2,
   "metadata": {
    "autoscroll": false,
    "ein.hycell": false,
    "ein.tags": "worksheet-0",
    "slideshow": {
     "slide_type": "-"
    }
   },
   "outputs": [
    {
     "data": {
      "image/png": "[encoded data removed]",
      "text/plain": [
       "<Figure size 432x288 with 1 Axes>"
      ]
     },
     "metadata": {
      "needs_background": "light"
     },
     "output_type": "display_data"
    }
   ],
   "source": [
    "URBAN_CLASS_VAL = 1\n",
    "input_filepath = 'data/clc/00.tif'\n",
    "\n",
    "with rasterio.open(input_filepath) as src:\n",
    "    plt.imshow(src.read(1))"
   ]
  },
  {
   "cell_type": "markdown",
   "metadata": {
    "ein.tags": "worksheet-0",
    "slideshow": {
     "slide_type": "-"
    }
   },
   "source": [
    "Blue and yellow pixels represent urban and natural land uses respectively (purple pixels denote points with no data - outside the scope of the analysis). At the center of our Landscape stands a large urban patch, which corresponds to the agglomeration of Lausanne."
   ]
  },
  {
   "cell_type": "markdown",
   "metadata": {
    "ein.tags": "worksheet-0",
    "slideshow": {
     "slide_type": "-"
    }
   },
   "source": [
    "## Buffer Analysis"
   ]
  },
  {
   "cell_type": "markdown",
   "metadata": {
    "ein.tags": "worksheet-0",
    "slideshow": {
     "slide_type": "-"
    }
   },
   "source": [
    "In order to evaluate how the landscape patterns change across the urban-rural gradient, we can define a series of spatial extents for our landscape based on buffers of increasing distances around our feature of interest - in this example, the agglomeration of Lausanne."
   ]
  },
  {
   "cell_type": "markdown",
   "metadata": {
    "ein.tags": "worksheet-0",
    "slideshow": {
     "slide_type": "-"
    }
   },
   "source": [
    "### From Point"
   ]
  },
  {
   "cell_type": "markdown",
   "metadata": {
    "ein.tags": "worksheet-0",
    "slideshow": {
     "slide_type": "-"
    }
   },
   "source": [
    "We might define a given coordinate as the center of our region of interest (in this example, the center of Lausanne) and a series of buffer distances around that point:"
   ]
  },
  {
   "cell_type": "code",
   "execution_count": 3,
   "metadata": {
    "autoscroll": false,
    "ein.hycell": false,
    "ein.tags": "worksheet-0",
    "slideshow": {
     "slide_type": "-"
    }
   },
   "outputs": [],
   "source": [
    "from shapely.geometry import Point\n",
    "\n",
    "# latitude and longitude of the center of Lausanne according to OpenStreetMap\n",
    "base_mask = Point(6.6327025, 46.5218269)\n",
    "\n",
    "# buffer distances (in meters)\n",
    "buffer_dists = [10000, 15000, 20000]"
   ]
  },
  {
   "cell_type": "markdown",
   "metadata": {
    "ein.tags": "worksheet-0",
    "slideshow": {
     "slide_type": "-"
    }
   },
   "source": [
    "then, we can use the `BufferAnalysis` class of Pylandstats in order to (note that we need to provide the CRS of the geometry - in this example, the coordinate point)"
   ]
  },
  {
   "cell_type": "code",
   "execution_count": 4,
   "metadata": {
    "autoscroll": false,
    "ein.hycell": false,
    "ein.tags": "worksheet-0",
    "slideshow": {
     "slide_type": "-"
    }
   },
   "outputs": [],
   "source": [
    "ba = pls.BufferAnalysis(input_filepath, base_mask, buffer_dists, base_mask_crs={'init':'epsg:4326'})"
   ]
  },
  {
   "cell_type": "markdown",
   "metadata": {
    "ein.tags": "worksheet-0",
    "slideshow": {
     "slide_type": "-"
    }
   },
   "source": [
    "The `BufferAnalysis` instance will automatically generate the three landscapes of interest (one for each buffer distance) by masking the pixels of the input raster"
   ]
  },
  {
   "cell_type": "code",
   "execution_count": 5,
   "metadata": {
    "autoscroll": false,
    "ein.hycell": false,
    "ein.tags": "worksheet-0",
    "slideshow": {
     "slide_type": "-"
    }
   },
   "outputs": [
    {
     "data": {
      "text/plain": [
       "(<Figure size 1296x288 with 3 Axes>,\n",
       " array([<matplotlib.axes._subplots.AxesSubplot object at 0x7f35e7a14b00>,\n",
       "        <matplotlib.axes._subplots.AxesSubplot object at 0x7f35e79e56d8>,\n",
       "        <matplotlib.axes._subplots.AxesSubplot object at 0x7f35e798bc18>],\n",
       "       dtype=object))"
      ]
     },
     "execution_count": 5,
     "metadata": {},
     "output_type": "execute_result"
    },
    {
     "data": {
      "image/png": "[encoded data removed]",
      "text/plain": [
       "<Figure size 1296x288 with 3 Axes>"
      ]
     },
     "metadata": {
      "needs_background": "light"
     },
     "output_type": "display_data"
    }
   ],
   "source": [
    "ba.plot_landscapes()"
   ]
  },
  {
   "cell_type": "markdown",
   "metadata": {
    "ein.tags": "worksheet-0",
    "slideshow": {
     "slide_type": "-"
    }
   },
   "source": [
    "And we can now compute and plot the landscape metrics for each of the buffered landscapes"
   ]
  },
  {
   "cell_type": "code",
   "execution_count": 6,
   "metadata": {
    "autoscroll": false,
    "ein.hycell": false,
    "ein.tags": "worksheet-0",
    "slideshow": {
     "slide_type": "-"
    }
   },
   "outputs": [
    {
     "data": {
      "text/html": [
       "<div>\n",
       "<style scoped>\n",
       "    .dataframe tbody tr th:only-of-type {\n",
       "        vertical-align: middle;\n",
       "    }\n",
       "\n",
       "    .dataframe tbody tr th {\n",
       "        vertical-align: top;\n",
       "    }\n",
       "\n",
       "    .dataframe thead th {\n",
       "        text-align: right;\n",
       "    }\n",
       "</style>\n",
       "<table border=\"1\" class=\"dataframe\">\n",
       "  <thead>\n",
       "    <tr style=\"text-align: right;\">\n",
       "      <th></th>\n",
       "      <th>metric</th>\n",
       "      <th>total_area</th>\n",
       "      <th>proportion_of_landscape</th>\n",
       "      <th>number_of_patches</th>\n",
       "      <th>patch_density</th>\n",
       "      <th>largest_patch_index</th>\n",
       "      <th>total_edge</th>\n",
       "      <th>edge_density</th>\n",
       "      <th>landscape_shape_index</th>\n",
       "      <th>area_mn</th>\n",
       "      <th>area_am</th>\n",
       "      <th>...</th>\n",
       "      <th>fractal_dimension_md</th>\n",
       "      <th>fractal_dimension_ra</th>\n",
       "      <th>fractal_dimension_sd</th>\n",
       "      <th>fractal_dimension_cv</th>\n",
       "      <th>euclidean_nearest_neighbor_mn</th>\n",
       "      <th>euclidean_nearest_neighbor_am</th>\n",
       "      <th>euclidean_nearest_neighbor_md</th>\n",
       "      <th>euclidean_nearest_neighbor_ra</th>\n",
       "      <th>euclidean_nearest_neighbor_sd</th>\n",
       "      <th>euclidean_nearest_neighbor_cv</th>\n",
       "    </tr>\n",
       "    <tr>\n",
       "      <th>class_val</th>\n",
       "      <th>buffer_dists</th>\n",
       "      <th></th>\n",
       "      <th></th>\n",
       "      <th></th>\n",
       "      <th></th>\n",
       "      <th></th>\n",
       "      <th></th>\n",
       "      <th></th>\n",
       "      <th></th>\n",
       "      <th></th>\n",
       "      <th></th>\n",
       "      <th></th>\n",
       "      <th></th>\n",
       "      <th></th>\n",
       "      <th></th>\n",
       "      <th></th>\n",
       "      <th></th>\n",
       "      <th></th>\n",
       "      <th></th>\n",
       "      <th></th>\n",
       "      <th></th>\n",
       "      <th></th>\n",
       "    </tr>\n",
       "  </thead>\n",
       "  <tbody>\n",
       "    <tr>\n",
       "      <th rowspan=\"3\" valign=\"top\">1.0</th>\n",
       "      <th>10000</th>\n",
       "      <td>7245.51</td>\n",
       "      <td>37.3313</td>\n",
       "      <td>19</td>\n",
       "      <td>0.0978943</td>\n",
       "      <td>32.2823</td>\n",
       "      <td>196090</td>\n",
       "      <td>10.1032</td>\n",
       "      <td>6.72553</td>\n",
       "      <td>381.343</td>\n",
       "      <td>5430.12</td>\n",
       "      <td>...</td>\n",
       "      <td>1.08468</td>\n",
       "      <td>0.163022</td>\n",
       "      <td>0.0413217</td>\n",
       "      <td>3.81401</td>\n",
       "      <td>692.65</td>\n",
       "      <td>278.827</td>\n",
       "      <td>499.983</td>\n",
       "      <td>1699.87</td>\n",
       "      <td>455.586</td>\n",
       "      <td>65.7743</td>\n",
       "    </tr>\n",
       "    <tr>\n",
       "      <th>15000</th>\n",
       "      <td>10466.3</td>\n",
       "      <td>23.2059</td>\n",
       "      <td>49</td>\n",
       "      <td>0.108643</td>\n",
       "      <td>14.7345</td>\n",
       "      <td>376284</td>\n",
       "      <td>8.34297</td>\n",
       "      <td>10.6249</td>\n",
       "      <td>213.598</td>\n",
       "      <td>4306</td>\n",
       "      <td>...</td>\n",
       "      <td>1.08166</td>\n",
       "      <td>0.141294</td>\n",
       "      <td>0.0326372</td>\n",
       "      <td>3.0097</td>\n",
       "      <td>804.029</td>\n",
       "      <td>347.445</td>\n",
       "      <td>670.798</td>\n",
       "      <td>3193.89</td>\n",
       "      <td>575.701</td>\n",
       "      <td>71.602</td>\n",
       "    </tr>\n",
       "    <tr>\n",
       "      <th>20000</th>\n",
       "      <td>15282</td>\n",
       "      <td>16.892</td>\n",
       "      <td>100</td>\n",
       "      <td>0.110535</td>\n",
       "      <td>7.34568</td>\n",
       "      <td>681376</td>\n",
       "      <td>7.53161</td>\n",
       "      <td>15.5109</td>\n",
       "      <td>152.82</td>\n",
       "      <td>3317.59</td>\n",
       "      <td>...</td>\n",
       "      <td>1.08728</td>\n",
       "      <td>0.18898</td>\n",
       "      <td>0.0363568</td>\n",
       "      <td>3.35139</td>\n",
       "      <td>830.23</td>\n",
       "      <td>417.883</td>\n",
       "      <td>721.086</td>\n",
       "      <td>2195</td>\n",
       "      <td>520.531</td>\n",
       "      <td>62.6972</td>\n",
       "    </tr>\n",
       "    <tr>\n",
       "      <th rowspan=\"2\" valign=\"top\">2.0</th>\n",
       "      <th>10000</th>\n",
       "      <td>12163.2</td>\n",
       "      <td>62.6687</td>\n",
       "      <td>5</td>\n",
       "      <td>0.0257617</td>\n",
       "      <td>61.6486</td>\n",
       "      <td>196090</td>\n",
       "      <td>10.1032</td>\n",
       "      <td>5.36301</td>\n",
       "      <td>2432.64</td>\n",
       "      <td>11772.3</td>\n",
       "      <td>...</td>\n",
       "      <td>1.03676</td>\n",
       "      <td>0.174917</td>\n",
       "      <td>0.0663103</td>\n",
       "      <td>6.25102</td>\n",
       "      <td>209.436</td>\n",
       "      <td>200.368</td>\n",
       "      <td>199.993</td>\n",
       "      <td>23.606</td>\n",
       "      <td>11.5645</td>\n",
       "      <td>5.52176</td>\n",
       "    </tr>\n",
       "    <tr>\n",
       "      <th>15000</th>\n",
       "      <td>34635.7</td>\n",
       "      <td>76.7941</td>\n",
       "      <td>4</td>\n",
       "      <td>0.0088688</td>\n",
       "      <td>74.0162</td>\n",
       "      <td>376284</td>\n",
       "      <td>8.34297</td>\n",
       "      <td>6.32679</td>\n",
       "      <td>8658.91</td>\n",
       "      <td>32208.2</td>\n",
       "      <td>...</td>\n",
       "      <td>1.11644</td>\n",
       "      <td>0.14085</td>\n",
       "      <td>0.0528502</td>\n",
       "      <td>4.75352</td>\n",
       "      <td>2514.05</td>\n",
       "      <td>761.899</td>\n",
       "      <td>361.791</td>\n",
       "      <td>8885.43</td>\n",
       "      <td>3809.28</td>\n",
       "      <td>151.52</td>\n",
       "    </tr>\n",
       "  </tbody>\n",
       "</table>\n",
       "<p>5 rows × 38 columns</p>\n",
       "</div>"
      ],
      "text/plain": [
       "metric                 total_area proportion_of_landscape number_of_patches  \\\n",
       "class_val buffer_dists                                                        \n",
       "1.0       10000           7245.51                 37.3313                19   \n",
       "          15000           10466.3                 23.2059                49   \n",
       "          20000             15282                  16.892               100   \n",
       "2.0       10000           12163.2                 62.6687                 5   \n",
       "          15000           34635.7                 76.7941                 4   \n",
       "\n",
       "metric                 patch_density largest_patch_index total_edge  \\\n",
       "class_val buffer_dists                                                \n",
       "1.0       10000            0.0978943             32.2823     196090   \n",
       "          15000             0.108643             14.7345     376284   \n",
       "          20000             0.110535             7.34568     681376   \n",
       "2.0       10000            0.0257617             61.6486     196090   \n",
       "          15000            0.0088688             74.0162     376284   \n",
       "\n",
       "metric                 edge_density landscape_shape_index  area_mn  area_am  \\\n",
       "class_val buffer_dists                                                        \n",
       "1.0       10000             10.1032               6.72553  381.343  5430.12   \n",
       "          15000             8.34297               10.6249  213.598     4306   \n",
       "          20000             7.53161               15.5109   152.82  3317.59   \n",
       "2.0       10000             10.1032               5.36301  2432.64  11772.3   \n",
       "          15000             8.34297               6.32679  8658.91  32208.2   \n",
       "\n",
       "metric                  ... fractal_dimension_md fractal_dimension_ra  \\\n",
       "class_val buffer_dists  ...                                             \n",
       "1.0       10000         ...              1.08468             0.163022   \n",
       "          15000         ...              1.08166             0.141294   \n",
       "          20000         ...              1.08728              0.18898   \n",
       "2.0       10000         ...              1.03676             0.174917   \n",
       "          15000         ...              1.11644              0.14085   \n",
       "\n",
       "metric                 fractal_dimension_sd fractal_dimension_cv  \\\n",
       "class_val buffer_dists                                             \n",
       "1.0       10000                   0.0413217              3.81401   \n",
       "          15000                   0.0326372               3.0097   \n",
       "          20000                   0.0363568              3.35139   \n",
       "2.0       10000                   0.0663103              6.25102   \n",
       "          15000                   0.0528502              4.75352   \n",
       "\n",
       "metric                 euclidean_nearest_neighbor_mn  \\\n",
       "class_val buffer_dists                                 \n",
       "1.0       10000                               692.65   \n",
       "          15000                              804.029   \n",
       "          20000                               830.23   \n",
       "2.0       10000                              209.436   \n",
       "          15000                              2514.05   \n",
       "\n",
       "metric                 euclidean_nearest_neighbor_am  \\\n",
       "class_val buffer_dists                                 \n",
       "1.0       10000                              278.827   \n",
       "          15000                              347.445   \n",
       "          20000                              417.883   \n",
       "2.0       10000                              200.368   \n",
       "          15000                              761.899   \n",
       "\n",
       "metric                 euclidean_nearest_neighbor_md  \\\n",
       "class_val buffer_dists                                 \n",
       "1.0       10000                              499.983   \n",
       "          15000                              670.798   \n",
       "          20000                              721.086   \n",
       "2.0       10000                              199.993   \n",
       "          15000                              361.791   \n",
       "\n",
       "metric                 euclidean_nearest_neighbor_ra  \\\n",
       "class_val buffer_dists                                 \n",
       "1.0       10000                              1699.87   \n",
       "          15000                              3193.89   \n",
       "          20000                                 2195   \n",
       "2.0       10000                               23.606   \n",
       "          15000                              8885.43   \n",
       "\n",
       "metric                 euclidean_nearest_neighbor_sd  \\\n",
       "class_val buffer_dists                                 \n",
       "1.0       10000                              455.586   \n",
       "          15000                              575.701   \n",
       "          20000                              520.531   \n",
       "2.0       10000                              11.5645   \n",
       "          15000                              3809.28   \n",
       "\n",
       "metric                 euclidean_nearest_neighbor_cv  \n",
       "class_val buffer_dists                                \n",
       "1.0       10000                              65.7743  \n",
       "          15000                               71.602  \n",
       "          20000                              62.6972  \n",
       "2.0       10000                              5.52176  \n",
       "          15000                               151.52  \n",
       "\n",
       "[5 rows x 38 columns]"
      ]
     },
     "execution_count": 6,
     "metadata": {},
     "output_type": "execute_result"
    }
   ],
   "source": [
    "ba.class_metrics_df.head()"
   ]
  },
  {
   "cell_type": "code",
   "execution_count": 7,
   "metadata": {
    "autoscroll": false,
    "ein.hycell": false,
    "ein.tags": "worksheet-0",
    "slideshow": {
     "slide_type": "-"
    }
   },
   "outputs": [
    {
     "data": {
      "text/plain": [
       "<matplotlib.axes._subplots.AxesSubplot at 0x7f35e78828d0>"
      ]
     },
     "execution_count": 7,
     "metadata": {},
     "output_type": "execute_result"
    },
    {
     "data": {
      "image/png": "[encoded data removed]",
      "text/plain": [
       "<Figure size 432x288 with 1 Axes>"
      ]
     },
     "metadata": {
      "needs_background": "light"
     },
     "output_type": "display_data"
    }
   ],
   "source": [
    "ba.plot_metric('proportion_of_landscape', class_val=URBAN_CLASS_VAL)"
   ]
  },
  {
   "cell_type": "markdown",
   "metadata": {
    "ein.tags": "worksheet-0",
    "slideshow": {
     "slide_type": "-"
    }
   },
   "source": [
    "To examine more closely how landscape patterns change as we move along the urban-rural gradient, we might actually want to compute the metrics for each of the buffer rings that lie within each pair of increasing buffer distances. For instance, for the buffer distances considered in this example (i.e., 10000, 15000 and 20000), we would like to compute the metrics for the buffer rings that go from 0 to 10000m, 10000-15000m and 15000-20000m around the center of Lausanne).\n",
    "\n",
    "To that end, we might pass the argument `buffer_rings=True` when instantiating `BufferAnalysis` as in:"
   ]
  },
  {
   "cell_type": "code",
   "execution_count": 8,
   "metadata": {
    "autoscroll": false,
    "ein.hycell": false,
    "ein.tags": "worksheet-0",
    "slideshow": {
     "slide_type": "-"
    }
   },
   "outputs": [],
   "source": [
    "ba = pls.BufferAnalysis(\n",
    "    input_filepath, base_mask, buffer_dists, buffer_rings=True, base_mask_crs={'init':'epsg:4326'})"
   ]
  },
  {
   "cell_type": "code",
   "execution_count": 9,
   "metadata": {
    "autoscroll": false,
    "ein.hycell": false,
    "ein.tags": "worksheet-0",
    "slideshow": {
     "slide_type": "-"
    }
   },
   "outputs": [
    {
     "data": {
      "text/plain": [
       "(<Figure size 1296x288 with 3 Axes>,\n",
       " array([<matplotlib.axes._subplots.AxesSubplot object at 0x7f35e77f0080>,\n",
       "        <matplotlib.axes._subplots.AxesSubplot object at 0x7f35e779c4a8>,\n",
       "        <matplotlib.axes._subplots.AxesSubplot object at 0x7f35e77c1908>],\n",
       "       dtype=object))"
      ]
     },
     "execution_count": 9,
     "metadata": {},
     "output_type": "execute_result"
    },
    {
     "data": {
      "image/png": "[encoded data removed]",
      "text/plain": [
       "<Figure size 1296x288 with 3 Axes>"
      ]
     },
     "metadata": {
      "needs_background": "light"
     },
     "output_type": "display_data"
    }
   ],
   "source": [
    "ba.plot_landscapes()"
   ]
  },
  {
   "cell_type": "code",
   "execution_count": 10,
   "metadata": {
    "autoscroll": false,
    "ein.hycell": false,
    "ein.tags": "worksheet-0",
    "slideshow": {
     "slide_type": "-"
    }
   },
   "outputs": [
    {
     "data": {
      "text/html": [
       "<div>\n",
       "<style scoped>\n",
       "    .dataframe tbody tr th:only-of-type {\n",
       "        vertical-align: middle;\n",
       "    }\n",
       "\n",
       "    .dataframe tbody tr th {\n",
       "        vertical-align: top;\n",
       "    }\n",
       "\n",
       "    .dataframe thead th {\n",
       "        text-align: right;\n",
       "    }\n",
       "</style>\n",
       "<table border=\"1\" class=\"dataframe\">\n",
       "  <thead>\n",
       "    <tr style=\"text-align: right;\">\n",
       "      <th></th>\n",
       "      <th>metric</th>\n",
       "      <th>total_area</th>\n",
       "      <th>proportion_of_landscape</th>\n",
       "      <th>number_of_patches</th>\n",
       "      <th>patch_density</th>\n",
       "      <th>largest_patch_index</th>\n",
       "      <th>total_edge</th>\n",
       "      <th>edge_density</th>\n",
       "      <th>landscape_shape_index</th>\n",
       "      <th>area_mn</th>\n",
       "      <th>area_am</th>\n",
       "      <th>...</th>\n",
       "      <th>fractal_dimension_md</th>\n",
       "      <th>fractal_dimension_ra</th>\n",
       "      <th>fractal_dimension_sd</th>\n",
       "      <th>fractal_dimension_cv</th>\n",
       "      <th>euclidean_nearest_neighbor_mn</th>\n",
       "      <th>euclidean_nearest_neighbor_am</th>\n",
       "      <th>euclidean_nearest_neighbor_md</th>\n",
       "      <th>euclidean_nearest_neighbor_ra</th>\n",
       "      <th>euclidean_nearest_neighbor_sd</th>\n",
       "      <th>euclidean_nearest_neighbor_cv</th>\n",
       "    </tr>\n",
       "    <tr>\n",
       "      <th>class_val</th>\n",
       "      <th>buffer_dists</th>\n",
       "      <th></th>\n",
       "      <th></th>\n",
       "      <th></th>\n",
       "      <th></th>\n",
       "      <th></th>\n",
       "      <th></th>\n",
       "      <th></th>\n",
       "      <th></th>\n",
       "      <th></th>\n",
       "      <th></th>\n",
       "      <th></th>\n",
       "      <th></th>\n",
       "      <th></th>\n",
       "      <th></th>\n",
       "      <th></th>\n",
       "      <th></th>\n",
       "      <th></th>\n",
       "      <th></th>\n",
       "      <th></th>\n",
       "      <th></th>\n",
       "      <th></th>\n",
       "    </tr>\n",
       "  </thead>\n",
       "  <tbody>\n",
       "    <tr>\n",
       "      <th rowspan=\"3\" valign=\"top\">1.0</th>\n",
       "      <th>0-10000</th>\n",
       "      <td>7245.51</td>\n",
       "      <td>37.3313</td>\n",
       "      <td>19</td>\n",
       "      <td>0.0978943</td>\n",
       "      <td>32.2823</td>\n",
       "      <td>196090</td>\n",
       "      <td>10.1032</td>\n",
       "      <td>6.72553</td>\n",
       "      <td>381.343</td>\n",
       "      <td>5430.12</td>\n",
       "      <td>...</td>\n",
       "      <td>1.08468</td>\n",
       "      <td>0.163022</td>\n",
       "      <td>0.0413217</td>\n",
       "      <td>3.81401</td>\n",
       "      <td>692.65</td>\n",
       "      <td>278.827</td>\n",
       "      <td>499.983</td>\n",
       "      <td>1699.87</td>\n",
       "      <td>455.586</td>\n",
       "      <td>65.7743</td>\n",
       "    </tr>\n",
       "    <tr>\n",
       "      <th>10000-15000</th>\n",
       "      <td>3220.78</td>\n",
       "      <td>12.5355</td>\n",
       "      <td>40</td>\n",
       "      <td>0.155683</td>\n",
       "      <td>2.49854</td>\n",
       "      <td>177594</td>\n",
       "      <td>6.9121</td>\n",
       "      <td>9.45327</td>\n",
       "      <td>80.5195</td>\n",
       "      <td>295.95</td>\n",
       "      <td>...</td>\n",
       "      <td>1.06782</td>\n",
       "      <td>0.131799</td>\n",
       "      <td>0.0318367</td>\n",
       "      <td>2.9685</td>\n",
       "      <td>1039.84</td>\n",
       "      <td>572.262</td>\n",
       "      <td>992.451</td>\n",
       "      <td>3134.65</td>\n",
       "      <td>696.333</td>\n",
       "      <td>66.9655</td>\n",
       "    </tr>\n",
       "    <tr>\n",
       "      <th>15000-20000</th>\n",
       "      <td>4815.67</td>\n",
       "      <td>10.6149</td>\n",
       "      <td>59</td>\n",
       "      <td>0.130051</td>\n",
       "      <td>2.78598</td>\n",
       "      <td>303192</td>\n",
       "      <td>6.6831</td>\n",
       "      <td>12.4934</td>\n",
       "      <td>81.6216</td>\n",
       "      <td>602.627</td>\n",
       "      <td>...</td>\n",
       "      <td>1.08722</td>\n",
       "      <td>0.18898</td>\n",
       "      <td>0.0382066</td>\n",
       "      <td>3.53097</td>\n",
       "      <td>955.783</td>\n",
       "      <td>789.034</td>\n",
       "      <td>824.593</td>\n",
       "      <td>2195</td>\n",
       "      <td>609.905</td>\n",
       "      <td>63.8121</td>\n",
       "    </tr>\n",
       "    <tr>\n",
       "      <th rowspan=\"2\" valign=\"top\">2.0</th>\n",
       "      <th>0-10000</th>\n",
       "      <td>12163.2</td>\n",
       "      <td>62.6687</td>\n",
       "      <td>5</td>\n",
       "      <td>0.0257617</td>\n",
       "      <td>61.6486</td>\n",
       "      <td>196090</td>\n",
       "      <td>10.1032</td>\n",
       "      <td>5.36301</td>\n",
       "      <td>2432.64</td>\n",
       "      <td>11772.3</td>\n",
       "      <td>...</td>\n",
       "      <td>1.03676</td>\n",
       "      <td>0.174917</td>\n",
       "      <td>0.0663103</td>\n",
       "      <td>6.25102</td>\n",
       "      <td>209.436</td>\n",
       "      <td>200.368</td>\n",
       "      <td>199.993</td>\n",
       "      <td>23.606</td>\n",
       "      <td>11.5645</td>\n",
       "      <td>5.52176</td>\n",
       "    </tr>\n",
       "    <tr>\n",
       "      <th>10000-15000</th>\n",
       "      <td>22472.5</td>\n",
       "      <td>87.4645</td>\n",
       "      <td>2</td>\n",
       "      <td>0.00778414</td>\n",
       "      <td>83.3392</td>\n",
       "      <td>177594</td>\n",
       "      <td>6.9121</td>\n",
       "      <td>5.20302</td>\n",
       "      <td>11236.2</td>\n",
       "      <td>20452.6</td>\n",
       "      <td>...</td>\n",
       "      <td>1.15027</td>\n",
       "      <td>0.0193329</td>\n",
       "      <td>0.00966644</td>\n",
       "      <td>0.840362</td>\n",
       "      <td>9117.81</td>\n",
       "      <td>9117.81</td>\n",
       "      <td>9117.81</td>\n",
       "      <td>0</td>\n",
       "      <td>0</td>\n",
       "      <td>0</td>\n",
       "    </tr>\n",
       "  </tbody>\n",
       "</table>\n",
       "<p>5 rows × 38 columns</p>\n",
       "</div>"
      ],
      "text/plain": [
       "metric                 total_area proportion_of_landscape number_of_patches  \\\n",
       "class_val buffer_dists                                                        \n",
       "1.0       0-10000         7245.51                 37.3313                19   \n",
       "          10000-15000     3220.78                 12.5355                40   \n",
       "          15000-20000     4815.67                 10.6149                59   \n",
       "2.0       0-10000         12163.2                 62.6687                 5   \n",
       "          10000-15000     22472.5                 87.4645                 2   \n",
       "\n",
       "metric                 patch_density largest_patch_index total_edge  \\\n",
       "class_val buffer_dists                                                \n",
       "1.0       0-10000          0.0978943             32.2823     196090   \n",
       "          10000-15000       0.155683             2.49854     177594   \n",
       "          15000-20000       0.130051             2.78598     303192   \n",
       "2.0       0-10000          0.0257617             61.6486     196090   \n",
       "          10000-15000     0.00778414             83.3392     177594   \n",
       "\n",
       "metric                 edge_density landscape_shape_index  area_mn  area_am  \\\n",
       "class_val buffer_dists                                                        \n",
       "1.0       0-10000           10.1032               6.72553  381.343  5430.12   \n",
       "          10000-15000        6.9121               9.45327  80.5195   295.95   \n",
       "          15000-20000        6.6831               12.4934  81.6216  602.627   \n",
       "2.0       0-10000           10.1032               5.36301  2432.64  11772.3   \n",
       "          10000-15000        6.9121               5.20302  11236.2  20452.6   \n",
       "\n",
       "metric                  ... fractal_dimension_md fractal_dimension_ra  \\\n",
       "class_val buffer_dists  ...                                             \n",
       "1.0       0-10000       ...              1.08468             0.163022   \n",
       "          10000-15000   ...              1.06782             0.131799   \n",
       "          15000-20000   ...              1.08722              0.18898   \n",
       "2.0       0-10000       ...              1.03676             0.174917   \n",
       "          10000-15000   ...              1.15027            0.0193329   \n",
       "\n",
       "metric                 fractal_dimension_sd fractal_dimension_cv  \\\n",
       "class_val buffer_dists                                             \n",
       "1.0       0-10000                 0.0413217              3.81401   \n",
       "          10000-15000             0.0318367               2.9685   \n",
       "          15000-20000             0.0382066              3.53097   \n",
       "2.0       0-10000                 0.0663103              6.25102   \n",
       "          10000-15000            0.00966644             0.840362   \n",
       "\n",
       "metric                 euclidean_nearest_neighbor_mn  \\\n",
       "class_val buffer_dists                                 \n",
       "1.0       0-10000                             692.65   \n",
       "          10000-15000                        1039.84   \n",
       "          15000-20000                        955.783   \n",
       "2.0       0-10000                            209.436   \n",
       "          10000-15000                        9117.81   \n",
       "\n",
       "metric                 euclidean_nearest_neighbor_am  \\\n",
       "class_val buffer_dists                                 \n",
       "1.0       0-10000                            278.827   \n",
       "          10000-15000                        572.262   \n",
       "          15000-20000                        789.034   \n",
       "2.0       0-10000                            200.368   \n",
       "          10000-15000                        9117.81   \n",
       "\n",
       "metric                 euclidean_nearest_neighbor_md  \\\n",
       "class_val buffer_dists                                 \n",
       "1.0       0-10000                            499.983   \n",
       "          10000-15000                        992.451   \n",
       "          15000-20000                        824.593   \n",
       "2.0       0-10000                            199.993   \n",
       "          10000-15000                        9117.81   \n",
       "\n",
       "metric                 euclidean_nearest_neighbor_ra  \\\n",
       "class_val buffer_dists                                 \n",
       "1.0       0-10000                            1699.87   \n",
       "          10000-15000                        3134.65   \n",
       "          15000-20000                           2195   \n",
       "2.0       0-10000                             23.606   \n",
       "          10000-15000                              0   \n",
       "\n",
       "metric                 euclidean_nearest_neighbor_sd  \\\n",
       "class_val buffer_dists                                 \n",
       "1.0       0-10000                            455.586   \n",
       "          10000-15000                        696.333   \n",
       "          15000-20000                        609.905   \n",
       "2.0       0-10000                            11.5645   \n",
       "          10000-15000                              0   \n",
       "\n",
       "metric                 euclidean_nearest_neighbor_cv  \n",
       "class_val buffer_dists                                \n",
       "1.0       0-10000                            65.7743  \n",
       "          10000-15000                        66.9655  \n",
       "          15000-20000                        63.8121  \n",
       "2.0       0-10000                            5.52176  \n",
       "          10000-15000                              0  \n",
       "\n",
       "[5 rows x 38 columns]"
      ]
     },
     "execution_count": 10,
     "metadata": {},
     "output_type": "execute_result"
    }
   ],
   "source": [
    "ba.class_metrics_df.head()"
   ]
  },
  {
   "cell_type": "code",
   "execution_count": 11,
   "metadata": {
    "autoscroll": false,
    "ein.hycell": false,
    "ein.tags": "worksheet-0",
    "slideshow": {
     "slide_type": "-"
    }
   },
   "outputs": [
    {
     "data": {
      "text/plain": [
       "<matplotlib.axes._subplots.AxesSubplot at 0x7f35e3d9aba8>"
      ]
     },
     "execution_count": 11,
     "metadata": {},
     "output_type": "execute_result"
    },
    {
     "data": {
      "image/png": "[encoded data removed]",
      "text/plain": [
       "<Figure size 432x288 with 1 Axes>"
      ]
     },
     "metadata": {
      "needs_background": "light"
     },
     "output_type": "display_data"
    }
   ],
   "source": [
    "ba.plot_metric('proportion_of_landscape', class_val=URBAN_CLASS_VAL)"
   ]
  },
  {
   "cell_type": "markdown",
   "metadata": {
    "ein.tags": "worksheet-0",
    "slideshow": {
     "slide_type": "-"
    }
   },
   "source": [
    "### From Polygon"
   ]
  },
  {
   "cell_type": "markdown",
   "metadata": {
    "ein.tags": "worksheet-0",
    "slideshow": {
     "slide_type": "-"
    }
   },
   "source": [
    "We might as well build our buffer zones from polygon geometries such as administrative boundaries"
   ]
  },
  {
   "cell_type": "code",
   "execution_count": 12,
   "metadata": {
    "autoscroll": false,
    "ein.hycell": false,
    "ein.tags": "worksheet-0",
    "slideshow": {
     "slide_type": "-"
    }
   },
   "outputs": [
    {
     "data": {
      "text/plain": [
       "<matplotlib.axes._subplots.AxesSubplot at 0x7f35e3d28438>"
      ]
     },
     "execution_count": 12,
     "metadata": {},
     "output_type": "execute_result"
    },
    {
     "data": {
      "image/png": "[encoded data removed]",
      "text/plain": [
       "<Figure size 432x288 with 1 Axes>"
      ]
     },
     "metadata": {
      "needs_background": "light"
     },
     "output_type": "display_data"
    }
   ],
   "source": [
    "import geopandas as gpd\n",
    "\n",
    "gdf = gpd.read_file('data/gmb/g1a18.shp')\n",
    "base_mask = gdf[gdf['GMDNAME'] == 'Lausanne']['geometry']\n",
    "base_mask.plot()"
   ]
  },
  {
   "cell_type": "markdown",
   "metadata": {
    "ein.tags": "worksheet-0",
    "slideshow": {
     "slide_type": "-"
    }
   },
   "source": [
    "Note that in this case, since we are working with a GeoSeries that has a CRS defined, we do not need to set it explicitly with the `base_mask_crs` argument."
   ]
  },
  {
   "cell_type": "code",
   "execution_count": 13,
   "metadata": {
    "autoscroll": false,
    "ein.hycell": false,
    "ein.tags": "worksheet-0",
    "slideshow": {
     "slide_type": "-"
    }
   },
   "outputs": [
    {
     "data": {
      "text/plain": [
       "{'init': 'epsg:2056'}"
      ]
     },
     "execution_count": 13,
     "metadata": {},
     "output_type": "execute_result"
    }
   ],
   "source": [
    "base_mask.crs"
   ]
  },
  {
   "cell_type": "markdown",
   "metadata": {
    "ein.tags": "worksheet-0",
    "slideshow": {
     "slide_type": "-"
    }
   },
   "source": [
    "Also note that since in this case our base mask from which we will define buffer zones, we might want to start from smaller buffer distances, even from zero, so that we start computing the metrics for the region defined by the polygon itself (in our example, the administrative boundaries)"
   ]
  },
  {
   "cell_type": "code",
   "execution_count": 14,
   "metadata": {
    "autoscroll": false,
    "ein.hycell": false,
    "ein.tags": "worksheet-0",
    "slideshow": {
     "slide_type": "-"
    }
   },
   "outputs": [],
   "source": [
    "buffer_dists = [0, 10000, 20000]"
   ]
  },
  {
   "cell_type": "code",
   "execution_count": 15,
   "metadata": {
    "autoscroll": false,
    "ein.hycell": false,
    "ein.tags": "worksheet-0",
    "slideshow": {
     "slide_type": "-"
    }
   },
   "outputs": [],
   "source": [
    "ba = pls.BufferAnalysis(input_filepath, base_mask, buffer_dists)"
   ]
  },
  {
   "cell_type": "code",
   "execution_count": 16,
   "metadata": {
    "autoscroll": false,
    "ein.hycell": false,
    "ein.tags": "worksheet-0",
    "slideshow": {
     "slide_type": "-"
    }
   },
   "outputs": [
    {
     "data": {
      "text/plain": [
       "(<Figure size 1296x288 with 3 Axes>,\n",
       " array([<matplotlib.axes._subplots.AxesSubplot object at 0x7f35e3cb9748>,\n",
       "        <matplotlib.axes._subplots.AxesSubplot object at 0x7f35e3ccc978>,\n",
       "        <matplotlib.axes._subplots.AxesSubplot object at 0x7f35e3cd9438>],\n",
       "       dtype=object))"
      ]
     },
     "execution_count": 16,
     "metadata": {},
     "output_type": "execute_result"
    },
    {
     "data": {
      "image/png": "[encoded data removed]",
      "text/plain": [
       "<Figure size 1296x288 with 3 Axes>"
      ]
     },
     "metadata": {
      "needs_background": "light"
     },
     "output_type": "display_data"
    }
   ],
   "source": [
    "ba.plot_landscapes()"
   ]
  },
  {
   "cell_type": "code",
   "execution_count": 17,
   "metadata": {
    "autoscroll": false,
    "ein.hycell": false,
    "ein.tags": "worksheet-0",
    "slideshow": {
     "slide_type": "-"
    }
   },
   "outputs": [
    {
     "data": {
      "text/plain": [
       "<matplotlib.axes._subplots.AxesSubplot at 0x7f35e3c8bb00>"
      ]
     },
     "execution_count": 17,
     "metadata": {},
     "output_type": "execute_result"
    },
    {
     "data": {
      "image/png": "[encoded data removed]",
      "text/plain": [
       "<Figure size 432x288 with 1 Axes>"
      ]
     },
     "metadata": {
      "needs_background": "light"
     },
     "output_type": "display_data"
    }
   ],
   "source": [
    "ba.plot_metric('proportion_of_landscape', class_val=URBAN_CLASS_VAL)"
   ]
  },
  {
   "cell_type": "markdown",
   "metadata": {
    "ein.tags": "worksheet-0",
    "slideshow": {
     "slide_type": "-"
    }
   },
   "source": [
    "## Gradient analysis a list of mask arrays"
   ]
  },
  {
   "cell_type": "markdown",
   "metadata": {
    "ein.tags": "worksheet-0",
    "slideshow": {
     "slide_type": "-"
    }
   },
   "source": [
    "We might want to compute the metrics along a decomoposition of the landscape different than concentric buffers, for example, rectangular transects.\n",
    "\n",
    "We might then use boolean arrays of the same shape of our landscape as masks to define our transects (or any other type of subregion really)"
   ]
  },
  {
   "cell_type": "code",
   "execution_count": 18,
   "metadata": {
    "autoscroll": false,
    "ein.hycell": false,
    "ein.tags": "worksheet-0",
    "slideshow": {
     "slide_type": "-"
    }
   },
   "outputs": [],
   "source": [
    "with rasterio.open(input_filepath) as src:\n",
    "    base_mask_arr = np.full(src.shape,  False)"
   ]
  },
  {
   "cell_type": "markdown",
   "metadata": {},
   "source": [
    "For instance, let us create three transects of 300x200 cells (30x20km) that horizontally traverse our landscape at the latitude of Lausanne"
   ]
  },
  {
   "cell_type": "code",
   "execution_count": 19,
   "metadata": {
    "autoscroll": false,
    "ein.hycell": false,
    "ein.tags": "worksheet-0",
    "slideshow": {
     "slide_type": "-"
    }
   },
   "outputs": [],
   "source": [
    "masks_arr = []\n",
    "transect_len = 300\n",
    "for transect_start in range(0, 900, transect_len):\n",
    "    mask_arr = np.copy(base_mask_arr)\n",
    "    mask_arr[400:600,transect_start:transect_start+transect_len] = True\n",
    "    masks_arr.append(mask_arr)"
   ]
  },
  {
   "cell_type": "markdown",
   "metadata": {},
   "source": [
    "This is how the mask of each transect looks:"
   ]
  },
  {
   "cell_type": "code",
   "execution_count": 20,
   "metadata": {
    "autoscroll": false,
    "ein.hycell": false,
    "ein.tags": "worksheet-0",
    "slideshow": {
     "slide_type": "-"
    }
   },
   "outputs": [
    {
     "data": {
      "image/png": "[encoded data removed]",
      "text/plain": [
       "<Figure size 864x288 with 3 Axes>"
      ]
     },
     "metadata": {
      "needs_background": "light"
     },
     "output_type": "display_data"
    }
   ],
   "source": [
    "num_subplots = len(masks_arr)\n",
    "fig = plt.figure(figsize=(num_subplots * 4, 4))\n",
    "\n",
    "for i in range(num_subplots):\n",
    "    ax = fig.add_subplot(1, num_subplots, i + 1)\n",
    "    ax.imshow(masks_arr[i])"
   ]
  },
  {
   "cell_type": "markdown",
   "metadata": {},
   "source": [
    "We will now use the `GradientAnalysis` class with the list of mask arrays (corresponding to the transects) that we have constructed above. We can use the argument `feature_values` to map an identifying value or label to each of our landscapes. \n",
    "\n",
    "Here we will use strings that denote that each landscape corresponds to the transect from kilometers 0 to 30, 30 to 60 and 60 to 90 respectively. But we could have used any other list-like argument as long as it is consistent with the number of mask arrays provided through the `masks_arr` argument."
   ]
  },
  {
   "cell_type": "code",
   "execution_count": 21,
   "metadata": {
    "autoscroll": false,
    "ein.hycell": false,
    "ein.tags": "worksheet-0",
    "slideshow": {
     "slide_type": "-"
    }
   },
   "outputs": [],
   "source": [
    "ga = pls.GradientAnalysis(\n",
    "    input_filepath, masks_arr=masks_arr, feature_values=['0-30', '30-60', '60-90'])"
   ]
  },
  {
   "cell_type": "code",
   "execution_count": 22,
   "metadata": {
    "autoscroll": false,
    "ein.hycell": false,
    "ein.tags": "worksheet-0",
    "slideshow": {
     "slide_type": "-"
    }
   },
   "outputs": [
    {
     "data": {
      "text/plain": [
       "(<Figure size 1296x288 with 3 Axes>,\n",
       " array([<matplotlib.axes._subplots.AxesSubplot object at 0x7f35e3c5dcc0>,\n",
       "        <matplotlib.axes._subplots.AxesSubplot object at 0x7f35e3c74710>,\n",
       "        <matplotlib.axes._subplots.AxesSubplot object at 0x7f35e3c026a0>],\n",
       "       dtype=object))"
      ]
     },
     "execution_count": 22,
     "metadata": {},
     "output_type": "execute_result"
    },
    {
     "data": {
      "image/png": "[encoded data removed]",
      "text/plain": [
       "<Figure size 1296x288 with 3 Axes>"
      ]
     },
     "metadata": {
      "needs_background": "light"
     },
     "output_type": "display_data"
    }
   ],
   "source": [
    "ga.plot_landscapes()"
   ]
  },
  {
   "cell_type": "code",
   "execution_count": 23,
   "metadata": {},
   "outputs": [
    {
     "data": {
      "text/html": [
       "<div>\n",
       "<style scoped>\n",
       "    .dataframe tbody tr th:only-of-type {\n",
       "        vertical-align: middle;\n",
       "    }\n",
       "\n",
       "    .dataframe tbody tr th {\n",
       "        vertical-align: top;\n",
       "    }\n",
       "\n",
       "    .dataframe thead th {\n",
       "        text-align: right;\n",
       "    }\n",
       "</style>\n",
       "<table border=\"1\" class=\"dataframe\">\n",
       "  <thead>\n",
       "    <tr style=\"text-align: right;\">\n",
       "      <th></th>\n",
       "      <th>metric</th>\n",
       "      <th>total_area</th>\n",
       "      <th>proportion_of_landscape</th>\n",
       "      <th>number_of_patches</th>\n",
       "      <th>patch_density</th>\n",
       "      <th>largest_patch_index</th>\n",
       "      <th>total_edge</th>\n",
       "      <th>edge_density</th>\n",
       "      <th>landscape_shape_index</th>\n",
       "      <th>area_mn</th>\n",
       "      <th>area_am</th>\n",
       "      <th>...</th>\n",
       "      <th>fractal_dimension_md</th>\n",
       "      <th>fractal_dimension_ra</th>\n",
       "      <th>fractal_dimension_sd</th>\n",
       "      <th>fractal_dimension_cv</th>\n",
       "      <th>euclidean_nearest_neighbor_mn</th>\n",
       "      <th>euclidean_nearest_neighbor_am</th>\n",
       "      <th>euclidean_nearest_neighbor_md</th>\n",
       "      <th>euclidean_nearest_neighbor_ra</th>\n",
       "      <th>euclidean_nearest_neighbor_sd</th>\n",
       "      <th>euclidean_nearest_neighbor_cv</th>\n",
       "    </tr>\n",
       "    <tr>\n",
       "      <th>class_val</th>\n",
       "      <th>feature_values</th>\n",
       "      <th></th>\n",
       "      <th></th>\n",
       "      <th></th>\n",
       "      <th></th>\n",
       "      <th></th>\n",
       "      <th></th>\n",
       "      <th></th>\n",
       "      <th></th>\n",
       "      <th></th>\n",
       "      <th></th>\n",
       "      <th></th>\n",
       "      <th></th>\n",
       "      <th></th>\n",
       "      <th></th>\n",
       "      <th></th>\n",
       "      <th></th>\n",
       "      <th></th>\n",
       "      <th></th>\n",
       "      <th></th>\n",
       "      <th></th>\n",
       "      <th></th>\n",
       "    </tr>\n",
       "  </thead>\n",
       "  <tbody>\n",
       "    <tr>\n",
       "      <th rowspan=\"3\" valign=\"top\">1.0</th>\n",
       "      <th>0-30</th>\n",
       "      <td>2952.8</td>\n",
       "      <td>5.34132</td>\n",
       "      <td>42</td>\n",
       "      <td>0.0759737</td>\n",
       "      <td>0.66563</td>\n",
       "      <td>242498</td>\n",
       "      <td>4.38653</td>\n",
       "      <td>12.0077</td>\n",
       "      <td>70.3048</td>\n",
       "      <td>149.821</td>\n",
       "      <td>...</td>\n",
       "      <td>1.09186</td>\n",
       "      <td>0.200585</td>\n",
       "      <td>0.0441582</td>\n",
       "      <td>4.05773</td>\n",
       "      <td>740.554</td>\n",
       "      <td>984.802</td>\n",
       "      <td>380.265</td>\n",
       "      <td>4820.79</td>\n",
       "      <td>939</td>\n",
       "      <td>126.797</td>\n",
       "    </tr>\n",
       "    <tr>\n",
       "      <th>30-60</th>\n",
       "      <td>9645.35</td>\n",
       "      <td>24.2003</td>\n",
       "      <td>43</td>\n",
       "      <td>0.107888</td>\n",
       "      <td>16.6738</td>\n",
       "      <td>332784</td>\n",
       "      <td>8.34961</td>\n",
       "      <td>9.83057</td>\n",
       "      <td>224.31</td>\n",
       "      <td>4669.02</td>\n",
       "      <td>...</td>\n",
       "      <td>1.08201</td>\n",
       "      <td>0.167808</td>\n",
       "      <td>0.0363018</td>\n",
       "      <td>3.35642</td>\n",
       "      <td>713.588</td>\n",
       "      <td>348.646</td>\n",
       "      <td>599.98</td>\n",
       "      <td>1710.44</td>\n",
       "      <td>425.142</td>\n",
       "      <td>59.5781</td>\n",
       "    </tr>\n",
       "    <tr>\n",
       "      <th>60-90</th>\n",
       "      <td>3633.75</td>\n",
       "      <td>6.10931</td>\n",
       "      <td>34</td>\n",
       "      <td>0.0571631</td>\n",
       "      <td>2.17877</td>\n",
       "      <td>221293</td>\n",
       "      <td>3.72053</td>\n",
       "      <td>9.69604</td>\n",
       "      <td>106.875</td>\n",
       "      <td>564.566</td>\n",
       "      <td>...</td>\n",
       "      <td>1.08824</td>\n",
       "      <td>0.113153</td>\n",
       "      <td>0.0329625</td>\n",
       "      <td>3.03691</td>\n",
       "      <td>1072.29</td>\n",
       "      <td>740.611</td>\n",
       "      <td>599.98</td>\n",
       "      <td>3982.21</td>\n",
       "      <td>981.468</td>\n",
       "      <td>91.5297</td>\n",
       "    </tr>\n",
       "    <tr>\n",
       "      <th rowspan=\"2\" valign=\"top\">2.0</th>\n",
       "      <th>0-30</th>\n",
       "      <td>52329.5</td>\n",
       "      <td>94.6587</td>\n",
       "      <td>2</td>\n",
       "      <td>0.0036178</td>\n",
       "      <td>94.6551</td>\n",
       "      <td>242498</td>\n",
       "      <td>4.38653</td>\n",
       "      <td>3.94962</td>\n",
       "      <td>26164.7</td>\n",
       "      <td>52325.5</td>\n",
       "      <td>...</td>\n",
       "      <td>1.07427</td>\n",
       "      <td>0.124815</td>\n",
       "      <td>0.0624077</td>\n",
       "      <td>5.80929</td>\n",
       "      <td>223.599</td>\n",
       "      <td>223.599</td>\n",
       "      <td>223.599</td>\n",
       "      <td>0</td>\n",
       "      <td>0</td>\n",
       "      <td>0</td>\n",
       "    </tr>\n",
       "    <tr>\n",
       "      <th>30-60</th>\n",
       "      <td>30211</td>\n",
       "      <td>75.7997</td>\n",
       "      <td>5</td>\n",
       "      <td>0.0125451</td>\n",
       "      <td>75.2227</td>\n",
       "      <td>332784</td>\n",
       "      <td>8.34961</td>\n",
       "      <td>5.66388</td>\n",
       "      <td>6042.19</td>\n",
       "      <td>29753.5</td>\n",
       "      <td>...</td>\n",
       "      <td>1.06341</td>\n",
       "      <td>0.173612</td>\n",
       "      <td>0.0587007</td>\n",
       "      <td>5.46963</td>\n",
       "      <td>209.436</td>\n",
       "      <td>200.144</td>\n",
       "      <td>199.993</td>\n",
       "      <td>23.606</td>\n",
       "      <td>11.5645</td>\n",
       "      <td>5.52176</td>\n",
       "    </tr>\n",
       "  </tbody>\n",
       "</table>\n",
       "<p>5 rows × 38 columns</p>\n",
       "</div>"
      ],
      "text/plain": [
       "metric                   total_area proportion_of_landscape number_of_patches  \\\n",
       "class_val feature_values                                                        \n",
       "1.0       0-30               2952.8                 5.34132                42   \n",
       "          30-60             9645.35                 24.2003                43   \n",
       "          60-90             3633.75                 6.10931                34   \n",
       "2.0       0-30              52329.5                 94.6587                 2   \n",
       "          30-60               30211                 75.7997                 5   \n",
       "\n",
       "metric                   patch_density largest_patch_index total_edge  \\\n",
       "class_val feature_values                                                \n",
       "1.0       0-30               0.0759737             0.66563     242498   \n",
       "          30-60               0.107888             16.6738     332784   \n",
       "          60-90              0.0571631             2.17877     221293   \n",
       "2.0       0-30               0.0036178             94.6551     242498   \n",
       "          30-60              0.0125451             75.2227     332784   \n",
       "\n",
       "metric                   edge_density landscape_shape_index  area_mn  area_am  \\\n",
       "class_val feature_values                                                        \n",
       "1.0       0-30                4.38653               12.0077  70.3048  149.821   \n",
       "          30-60               8.34961               9.83057   224.31  4669.02   \n",
       "          60-90               3.72053               9.69604  106.875  564.566   \n",
       "2.0       0-30                4.38653               3.94962  26164.7  52325.5   \n",
       "          30-60               8.34961               5.66388  6042.19  29753.5   \n",
       "\n",
       "metric                    ... fractal_dimension_md fractal_dimension_ra  \\\n",
       "class_val feature_values  ...                                             \n",
       "1.0       0-30            ...              1.09186             0.200585   \n",
       "          30-60           ...              1.08201             0.167808   \n",
       "          60-90           ...              1.08824             0.113153   \n",
       "2.0       0-30            ...              1.07427             0.124815   \n",
       "          30-60           ...              1.06341             0.173612   \n",
       "\n",
       "metric                   fractal_dimension_sd fractal_dimension_cv  \\\n",
       "class_val feature_values                                             \n",
       "1.0       0-30                      0.0441582              4.05773   \n",
       "          30-60                     0.0363018              3.35642   \n",
       "          60-90                     0.0329625              3.03691   \n",
       "2.0       0-30                      0.0624077              5.80929   \n",
       "          30-60                     0.0587007              5.46963   \n",
       "\n",
       "metric                   euclidean_nearest_neighbor_mn  \\\n",
       "class_val feature_values                                 \n",
       "1.0       0-30                                 740.554   \n",
       "          30-60                                713.588   \n",
       "          60-90                                1072.29   \n",
       "2.0       0-30                                 223.599   \n",
       "          30-60                                209.436   \n",
       "\n",
       "metric                   euclidean_nearest_neighbor_am  \\\n",
       "class_val feature_values                                 \n",
       "1.0       0-30                                 984.802   \n",
       "          30-60                                348.646   \n",
       "          60-90                                740.611   \n",
       "2.0       0-30                                 223.599   \n",
       "          30-60                                200.144   \n",
       "\n",
       "metric                   euclidean_nearest_neighbor_md  \\\n",
       "class_val feature_values                                 \n",
       "1.0       0-30                                 380.265   \n",
       "          30-60                                 599.98   \n",
       "          60-90                                 599.98   \n",
       "2.0       0-30                                 223.599   \n",
       "          30-60                                199.993   \n",
       "\n",
       "metric                   euclidean_nearest_neighbor_ra  \\\n",
       "class_val feature_values                                 \n",
       "1.0       0-30                                 4820.79   \n",
       "          30-60                                1710.44   \n",
       "          60-90                                3982.21   \n",
       "2.0       0-30                                       0   \n",
       "          30-60                                 23.606   \n",
       "\n",
       "metric                   euclidean_nearest_neighbor_sd  \\\n",
       "class_val feature_values                                 \n",
       "1.0       0-30                                     939   \n",
       "          30-60                                425.142   \n",
       "          60-90                                981.468   \n",
       "2.0       0-30                                       0   \n",
       "          30-60                                11.5645   \n",
       "\n",
       "metric                   euclidean_nearest_neighbor_cv  \n",
       "class_val feature_values                                \n",
       "1.0       0-30                                 126.797  \n",
       "          30-60                                59.5781  \n",
       "          60-90                                91.5297  \n",
       "2.0       0-30                                       0  \n",
       "          30-60                                5.52176  \n",
       "\n",
       "[5 rows x 38 columns]"
      ]
     },
     "execution_count": 23,
     "metadata": {},
     "output_type": "execute_result"
    }
   ],
   "source": [
    "ga.class_metrics_df.head()"
   ]
  },
  {
   "cell_type": "code",
   "execution_count": 24,
   "metadata": {
    "autoscroll": false,
    "ein.hycell": false,
    "ein.tags": "worksheet-0",
    "slideshow": {
     "slide_type": "-"
    }
   },
   "outputs": [
    {
     "data": {
      "text/plain": [
       "<matplotlib.axes._subplots.AxesSubplot at 0x7f35e3c2a9b0>"
      ]
     },
     "execution_count": 24,
     "metadata": {},
     "output_type": "execute_result"
    },
    {
     "data": {
      "image/png": "[encoded data removed]",
      "text/plain": [
       "<Figure size 432x288 with 1 Axes>"
      ]
     },
     "metadata": {
      "needs_background": "light"
     },
     "output_type": "display_data"
    }
   ],
   "source": [
    "ga.plot_metric('proportion_of_landscape', class_val=URBAN_CLASS_VAL)"
   ]
  },
  {
   "cell_type": "markdown",
   "metadata": {},
   "source": [
    "Note that the values that we pass to `feature_values` will be used within the metric dataframes and plot labels"
   ]
  }
 ],
 "metadata": {
  "kernelspec": {
   "display_name": "Python (pylandstats)",
   "language": "python",
   "name": "pylandstats"
  },
  "language_info": {
   "codemirror_mode": {
    "name": "ipython",
    "version": 3
   },
   "file_extension": ".py",
   "mimetype": "text/x-python",
   "name": "python",
   "nbconvert_exporter": "python",
   "pygments_lexer": "ipython3",
   "version": "3.7.3"
  },
  "name": "gradient-analysis.ipynb"
 },
 "nbformat": 4,
 "nbformat_minor": 2
}
