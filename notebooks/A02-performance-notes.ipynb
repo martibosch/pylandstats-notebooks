{
 "cells": [
  {
   "cell_type": "markdown",
   "id": "ec02bc9a",
   "metadata": {},
   "source": [
    "# Performance notes"
   ]
  },
  {
   "cell_type": "code",
   "execution_count": null,
   "id": "9bc37d8d",
   "metadata": {
    "lines_to_next_cell": 2
   },
   "outputs": [],
   "source": [
    "import matplotlib.pyplot as plt\n",
    "import numpy as np\n",
    "\n",
    "import pylandstats as pls"
   ]
  },
  {
   "cell_type": "markdown",
   "id": "986a402c",
   "metadata": {
    "lines_to_next_cell": 2
   },
   "source": [
    "This notebook will serve to compare the performance of PyLandStats with those of FRAGSTATS (v4.2) [1] and [the R package landscapemetrics](https://github.com/r-spatialecology/landscapemetrics) (v1.0) [2]. As a benchmark, we will compute [all the metrics implemented in PyLandStats](https://pylandstats.readthedocs.io/en/latest/landscape.html#list-of-implemented-metrics) (note however that landscapemetrics only computes the mean, standard deviation and coefficient of variation of each patch metric, whereas PyLandStats and FRAGSTATS further compute the area-weighted mean, median and range of each patch metric).\n",
    "\n",
    "All the execution times discussed in this notebook have been obtained in an Ubuntu desktop computer with the following processor:\n",
    "\n",
    "```bash\n",
    "$ cat /proc/cpuinfo  | grep 'name'| uniq\n",
    "model name : Intel(R) Xeon(R) CPU E5-1620 0 @ 3.60GHz\n",
    "```\n",
    "\n",
    "The execution times for the FRAGSTATS software have been obtained by manually selecting the metrics in the graphical user interface (run in Ubuntu by means of the [WineHQ](https://wiki.winehq.org/Ubuntu) compatibility layer for Windows applications).\n",
    "\n",
    "On the other hand, the execution times for the landscapemetrics package have been obtained by running [a dedicated R script](https://github.com/martibosch/pylandstats-notebooks/tree/master/other/metricsBenchmark.R) in a Docker instance of the image [`rocker/geospatial`](https://hub.docker.com/r/rocker/geospatial/). Note that such Docker image does not include the landscapemetrics package out of the box, but it can be easily installed as in `install.packages(\"landscapemetrics\")`.\n",
    "\n",
    "## Benchmarks\n",
    "\n",
    "Let us first define a function to make a very simple benchmark plot:"
   ]
  },
  {
   "cell_type": "code",
   "execution_count": null,
   "id": "86f80e70",
   "metadata": {},
   "outputs": [],
   "source": [
    "def benchmark_plot(execution_times):\n",
    "    x = np.arange(3)\n",
    "    plt.bar(x, execution_times)\n",
    "    plt.xticks(x, [\"FRAGSTATS\", \"landscapemetrics\", \"PyLandStats\"])"
   ]
  },
  {
   "cell_type": "markdown",
   "id": "f4a62049",
   "metadata": {},
   "source": [
    "### Benchmark 1: Canton of Vaud\n",
    "\n",
    "We will first measure the execution times for the extract of the Canton of Vaud (Switerland) derived from the [CORINE Land Cover dataset](https://land.copernicus.eu/pan-european/corine-land-cover) of the year 2000, reclassified into urban and non-urban classes."
   ]
  },
  {
   "cell_type": "code",
   "execution_count": null,
   "id": "babc5f11",
   "metadata": {},
   "outputs": [
    {
     "name": "stdout",
     "output_type": "stream",
     "text": [
      "Landscape size [pixels]: 889x916\n",
      "Number of classes: 2\n"
     ]
    }
   ],
   "source": [
    "ls = pls.Landscape(\"../data/raw/clc/vaud_g100_clc00_V18_5.tif\", res=(100, 100))\n",
    "\n",
    "print(\n",
    "    f\"Landscape size [pixels]: {ls.landscape_arr.shape[0]}x\"\n",
    "    f\"{ls.landscape_arr.shape[1]}\"\n",
    ")\n",
    "print(f\"Number of classes: {len(ls.classes)}\")"
   ]
  },
  {
   "cell_type": "code",
   "execution_count": null,
   "id": "516a2139",
   "metadata": {},
   "outputs": [
    {
     "name": "stdout",
     "output_type": "stream",
     "text": [
      "CPU times: user 687 ms, sys: 8.04 ms, total: 695 ms\n",
      "Wall time: 695 ms\n"
     ]
    }
   ],
   "source": [
    "%%time\n",
    "patch_df = ls.compute_patch_metrics_df()\n",
    "class_df = ls.compute_class_metrics_df()\n",
    "landscape_df = ls.compute_class_metrics_df()"
   ]
  },
  {
   "cell_type": "markdown",
   "id": "5f068cf2",
   "metadata": {},
   "source": [
    "The execution times for this first benchmark are of 610 ms with FRAGSTATS and 14.27 s with landscapemetrics. In the same computer, the execution time of the above cell is of 969 ms, which gives us the following plot:"
   ]
  },
  {
   "cell_type": "code",
   "execution_count": null,
   "id": "059178ba",
   "metadata": {},
   "outputs": [
    {
     "data": {
      "image/png": "[encoded data removed]",
      "text/plain": [
       "<Figure size 640x480 with 1 Axes>"
      ]
     },
     "metadata": {},
     "output_type": "display_data"
    }
   ],
   "source": [
    "benchmark_plot([0.61, 14.27, 0.969])"
   ]
  },
  {
   "cell_type": "markdown",
   "id": "d184ed71",
   "metadata": {},
   "source": [
    "### Benchmark 2: Cantons of Bern and Valais\n",
    "\n",
    "We will now measure the execution times for an extract of the cantons of Bern and Valais (Switzerland), also derived from the CORINE Land Cover dataset of the year 2000, however, this time without reclassifying the land cover classes."
   ]
  },
  {
   "cell_type": "code",
   "execution_count": null,
   "id": "7489ff09",
   "metadata": {},
   "outputs": [
    {
     "name": "stdout",
     "output_type": "stream",
     "text": [
      "Landscape size [pixels]: 1640x1319\n",
      "Number of classes: 28\n"
     ]
    }
   ],
   "source": [
    "ls = pls.Landscape(\"../data/raw/clc/bern_valais_g100_clc00.tif\", res=(100, 100))\n",
    "\n",
    "print(\n",
    "    f\"Landscape size [pixels]: {ls.landscape_arr.shape[0]}x\"\n",
    "    f\"{ls.landscape_arr.shape[1]}\"\n",
    ")\n",
    "print(f\"Number of classes: {len(ls.classes)}\")"
   ]
  },
  {
   "cell_type": "code",
   "execution_count": null,
   "id": "534c6e99",
   "metadata": {},
   "outputs": [
    {
     "name": "stderr",
     "output_type": "stream",
     "text": [
      "/home/martibosch/mambaforge/envs/pylandstats/lib/python3.11/site-packages/pylandstats/landscape.py:1057: RuntimeWarning: Class 10 has less than 2 patches. Euclidean-nearest-neighbor might contain nan values\n",
      "  warnings.warn(\n",
      "/home/martibosch/mambaforge/envs/pylandstats/lib/python3.11/site-packages/pylandstats/landscape.py:1072: RuntimeWarning: Class 10 has less than 2 patches. Euclidean-nearest-neighbor might contain nan values\n",
      "  warnings.warn(\n"
     ]
    },
    {
     "name": "stdout",
     "output_type": "stream",
     "text": [
      "CPU times: user 38.1 s, sys: 39.2 ms, total: 38.1 s\n",
      "Wall time: 38.1 s\n"
     ]
    },
    {
     "name": "stderr",
     "output_type": "stream",
     "text": [
      "/home/martibosch/mambaforge/envs/pylandstats/lib/python3.11/site-packages/pylandstats/landscape.py:1072: RuntimeWarning: Class 10 has less than 2 patches. Euclidean-nearest-neighbor might contain nan values\n",
      "  warnings.warn(\n"
     ]
    }
   ],
   "source": [
    "%%time\n",
    "patch_df = ls.compute_patch_metrics_df()\n",
    "class_df = ls.compute_class_metrics_df()\n",
    "landscape_df = ls.compute_class_metrics_df()"
   ]
  },
  {
   "cell_type": "markdown",
   "id": "9c128083",
   "metadata": {},
   "source": [
    "The execution times for this second benchmark are of 33.31 s with FRAGSTATS and 553.45 s (i.e., 9 min 13 s) with landscapemetrics. In the same computer, the execution time of the above cell is of 32.9 s, which gives us the following plot:"
   ]
  },
  {
   "cell_type": "code",
   "execution_count": null,
   "id": "59e057a4",
   "metadata": {},
   "outputs": [
    {
     "data": {
      "image/png": "[encoded data removed]",
      "text/plain": [
       "<Figure size 640x480 with 1 Axes>"
      ]
     },
     "metadata": {},
     "output_type": "display_data"
    }
   ],
   "source": [
    "benchmark_plot([33.31, 553.45, 32.9])"
   ]
  },
  {
   "cell_type": "markdown",
   "id": "bab68cc2",
   "metadata": {},
   "source": [
    "## PyLandStats performance and implementation details\n",
    "\n",
    "In PyLandStats, each landscape is a Python object, upon which Python properties are employed to cache results that are computationally expensive to obtain and can later be accessed in constant (almost immediate) time. This mechanism is exploited to cache intermediate results that are later used to compute the metrics. More precisely, instances of the Landscape class cache the list of patches, each with its respective LULC class, area, perimeter and nearest-neigbhor distance, as well as the pixel adjacency matrix, i.e., the number of adjacencies between pixels of each landscape class (including adjacencies between pixels of the same class).\n",
    "\n",
    "To illustrate such mechanism, let us re-instantiate the landscape for the Cantons of Bern and Valais:"
   ]
  },
  {
   "cell_type": "code",
   "execution_count": null,
   "id": "3c2f62f9",
   "metadata": {},
   "outputs": [],
   "source": [
    "ls = pls.Landscape(\"../data/raw/clc/bern_valais_g100_clc00.tif\", res=(100, 100))"
   ]
  },
  {
   "cell_type": "markdown",
   "id": "7600b980",
   "metadata": {},
   "source": [
    "Right after the instantiation of a landscape object, none of the attributes listed below are defined:"
   ]
  },
  {
   "cell_type": "code",
   "execution_count": null,
   "id": "603ebd4d",
   "metadata": {},
   "outputs": [
    {
     "name": "stdout",
     "output_type": "stream",
     "text": [
      "False\n",
      "False\n",
      "False\n"
     ]
    }
   ],
   "source": [
    "print(hasattr(ls, \"_cached_num_patches_dict\"))\n",
    "print(hasattr(ls, \"_cached_patch_area_ser\"))\n",
    "print(hasattr(ls, \"_cached_patch_perimeter_ser\"))"
   ]
  },
  {
   "cell_type": "markdown",
   "id": "b1d0a37c",
   "metadata": {},
   "source": [
    "Nevertheless, after computing an area-related, e.g., `area`:"
   ]
  },
  {
   "cell_type": "code",
   "execution_count": null,
   "id": "0223d3c3",
   "metadata": {},
   "outputs": [
    {
     "name": "stdout",
     "output_type": "stream",
     "text": [
      "CPU times: user 849 ms, sys: 0 ns, total: 849 ms\n",
      "Wall time: 848 ms\n"
     ]
    }
   ],
   "source": [
    "%%time\n",
    "area = ls.area()"
   ]
  },
  {
   "cell_type": "markdown",
   "id": "e32ff1fe",
   "metadata": {},
   "source": [
    "the Python properties defined in the `Landscape` class will set the `_cached_num_patches_dict` (number of patches of each LULC class) and `_cached_patch_area_ser` (area of each patch) attributes, which can hereafter be accessed in constant (almost immediate) time:"
   ]
  },
  {
   "cell_type": "code",
   "execution_count": null,
   "id": "6f8e8618",
   "metadata": {},
   "outputs": [
    {
     "data": {
      "text/plain": [
       "{1: 7,\n",
       " 2: 427,\n",
       " 3: 52,\n",
       " 4: 2,\n",
       " 6: 11,\n",
       " 7: 8,\n",
       " 9: 2,\n",
       " 10: 1,\n",
       " 11: 14,\n",
       " 12: 191,\n",
       " 15: 31,\n",
       " 16: 11,\n",
       " 18: 473,\n",
       " 20: 84,\n",
       " 21: 39,\n",
       " 23: 89,\n",
       " 24: 533,\n",
       " 25: 579,\n",
       " 26: 329,\n",
       " 27: 209,\n",
       " 29: 72,\n",
       " 30: 19,\n",
       " 31: 218,\n",
       " 32: 490,\n",
       " 34: 151,\n",
       " 35: 6,\n",
       " 40: 8,\n",
       " 41: 31}"
      ]
     },
     "execution_count": null,
     "metadata": {},
     "output_type": "execute_result"
    }
   ],
   "source": [
    "ls._cached_num_patches_dict"
   ]
  },
  {
   "cell_type": "code",
   "execution_count": null,
   "id": "b068d543",
   "metadata": {},
   "outputs": [
    {
     "data": {
      "text/plain": [
       "0     590000\n",
       "1     950000\n",
       "2     710000\n",
       "3    1110000\n",
       "4     500000\n",
       "Name: area, dtype: int64"
      ]
     },
     "execution_count": null,
     "metadata": {},
     "output_type": "execute_result"
    }
   ],
   "source": [
    "ls._cached_patch_area_ser.head()"
   ]
  },
  {
   "cell_type": "markdown",
   "id": "b6b333e3",
   "metadata": {},
   "source": [
    "Similarly, after computing a perimeter-related metric, e.g., `perimeter_area_ratio`, the attribute `_cached_patch_perimeter_ser` (perimeter of each patch) will be set, and hereafter accessible in constant time:"
   ]
  },
  {
   "cell_type": "code",
   "execution_count": null,
   "id": "3fc09d0c",
   "metadata": {},
   "outputs": [
    {
     "name": "stdout",
     "output_type": "stream",
     "text": [
      "CPU times: user 762 ms, sys: 0 ns, total: 762 ms\n",
      "Wall time: 762 ms\n"
     ]
    }
   ],
   "source": [
    "%%time\n",
    "perimeter = ls.perimeter()"
   ]
  },
  {
   "cell_type": "code",
   "execution_count": null,
   "id": "26c70115",
   "metadata": {},
   "outputs": [
    {
     "data": {
      "text/plain": [
       "0    5200\n",
       "1    5200\n",
       "2    6000\n",
       "3    8600\n",
       "4    4800\n",
       "Name: perimeter, dtype: int64"
      ]
     },
     "execution_count": null,
     "metadata": {},
     "output_type": "execute_result"
    }
   ],
   "source": [
    "ls._cached_patch_perimeter_ser.head()"
   ]
  },
  {
   "cell_type": "markdown",
   "id": "a422fc2d",
   "metadata": {},
   "source": [
    "Note that after the area and perimeter of each patch are cached, the computation of other area, edge and shape metrics is orders of magnitude faster"
   ]
  },
  {
   "cell_type": "code",
   "execution_count": null,
   "id": "57778d71",
   "metadata": {},
   "outputs": [
    {
     "name": "stdout",
     "output_type": "stream",
     "text": [
      "CPU times: user 0 ns, sys: 1.38 ms, total: 1.38 ms\n",
      "Wall time: 1.16 ms\n"
     ]
    }
   ],
   "source": [
    "%%time\n",
    "frac = ls.fractal_dimension()"
   ]
  },
  {
   "cell_type": "markdown",
   "id": "24c67cef",
   "metadata": {},
   "source": [
    "And the same applies to the computations that require the class adjacency matrix"
   ]
  },
  {
   "cell_type": "code",
   "execution_count": null,
   "id": "35dd9e04",
   "metadata": {},
   "outputs": [
    {
     "data": {
      "text/plain": [
       "False"
      ]
     },
     "execution_count": null,
     "metadata": {},
     "output_type": "execute_result"
    }
   ],
   "source": [
    "hasattr(ls, \"_cached_adjacency_df\")"
   ]
  },
  {
   "cell_type": "code",
   "execution_count": null,
   "id": "474264b1",
   "metadata": {},
   "outputs": [
    {
     "name": "stdout",
     "output_type": "stream",
     "text": [
      "CPU times: user 48.8 ms, sys: 3.96 ms, total: 52.7 ms\n",
      "Wall time: 52.1 ms\n"
     ]
    }
   ],
   "source": [
    "%%time\n",
    "ed = ls.edge_density()"
   ]
  },
  {
   "cell_type": "code",
   "execution_count": null,
   "id": "72f16738",
   "metadata": {},
   "outputs": [
    {
     "data": {
      "text/html": [
       "<div>\n",
       "<style scoped>\n",
       "    .dataframe tbody tr th:only-of-type {\n",
       "        vertical-align: middle;\n",
       "    }\n",
       "\n",
       "    .dataframe tbody tr th {\n",
       "        vertical-align: top;\n",
       "    }\n",
       "\n",
       "    .dataframe thead th {\n",
       "        text-align: right;\n",
       "    }\n",
       "</style>\n",
       "<table border=\"1\" class=\"dataframe\">\n",
       "  <thead>\n",
       "    <tr style=\"text-align: right;\">\n",
       "      <th></th>\n",
       "      <th></th>\n",
       "      <th>1.0</th>\n",
       "      <th>2.0</th>\n",
       "      <th>3.0</th>\n",
       "      <th>4.0</th>\n",
       "      <th>6.0</th>\n",
       "      <th>7.0</th>\n",
       "      <th>9.0</th>\n",
       "      <th>10.0</th>\n",
       "      <th>11.0</th>\n",
       "      <th>12.0</th>\n",
       "      <th>...</th>\n",
       "      <th>27.0</th>\n",
       "      <th>29.0</th>\n",
       "      <th>30.0</th>\n",
       "      <th>31.0</th>\n",
       "      <th>32.0</th>\n",
       "      <th>34.0</th>\n",
       "      <th>35.0</th>\n",
       "      <th>40.0</th>\n",
       "      <th>41.0</th>\n",
       "      <th>255.0</th>\n",
       "    </tr>\n",
       "    <tr>\n",
       "      <th>direction</th>\n",
       "      <th>class_val</th>\n",
       "      <th></th>\n",
       "      <th></th>\n",
       "      <th></th>\n",
       "      <th></th>\n",
       "      <th></th>\n",
       "      <th></th>\n",
       "      <th></th>\n",
       "      <th></th>\n",
       "      <th></th>\n",
       "      <th></th>\n",
       "      <th></th>\n",
       "      <th></th>\n",
       "      <th></th>\n",
       "      <th></th>\n",
       "      <th></th>\n",
       "      <th></th>\n",
       "      <th></th>\n",
       "      <th></th>\n",
       "      <th></th>\n",
       "      <th></th>\n",
       "      <th></th>\n",
       "    </tr>\n",
       "  </thead>\n",
       "  <tbody>\n",
       "    <tr>\n",
       "      <th rowspan=\"5\" valign=\"top\">horizontal</th>\n",
       "      <th>1.0</th>\n",
       "      <td>818.0</td>\n",
       "      <td>140.0</td>\n",
       "      <td>13.0</td>\n",
       "      <td>10.0</td>\n",
       "      <td>0.0</td>\n",
       "      <td>0.0</td>\n",
       "      <td>0.0</td>\n",
       "      <td>0.0</td>\n",
       "      <td>0.0</td>\n",
       "      <td>0.0</td>\n",
       "      <td>...</td>\n",
       "      <td>0.0</td>\n",
       "      <td>0.0</td>\n",
       "      <td>0.0</td>\n",
       "      <td>0.0</td>\n",
       "      <td>0.0</td>\n",
       "      <td>0.0</td>\n",
       "      <td>0.0</td>\n",
       "      <td>0.0</td>\n",
       "      <td>0.0</td>\n",
       "      <td>0.0</td>\n",
       "    </tr>\n",
       "    <tr>\n",
       "      <th>2.0</th>\n",
       "      <td>140.0</td>\n",
       "      <td>72852.0</td>\n",
       "      <td>520.0</td>\n",
       "      <td>28.0</td>\n",
       "      <td>23.0</td>\n",
       "      <td>2.0</td>\n",
       "      <td>0.0</td>\n",
       "      <td>22.0</td>\n",
       "      <td>102.0</td>\n",
       "      <td>6583.0</td>\n",
       "      <td>...</td>\n",
       "      <td>30.0</td>\n",
       "      <td>4.0</td>\n",
       "      <td>1.0</td>\n",
       "      <td>4.0</td>\n",
       "      <td>21.0</td>\n",
       "      <td>0.0</td>\n",
       "      <td>13.0</td>\n",
       "      <td>72.0</td>\n",
       "      <td>295.0</td>\n",
       "      <td>119.0</td>\n",
       "    </tr>\n",
       "    <tr>\n",
       "      <th>3.0</th>\n",
       "      <td>13.0</td>\n",
       "      <td>520.0</td>\n",
       "      <td>4598.0</td>\n",
       "      <td>5.0</td>\n",
       "      <td>4.0</td>\n",
       "      <td>0.0</td>\n",
       "      <td>3.0</td>\n",
       "      <td>2.0</td>\n",
       "      <td>36.0</td>\n",
       "      <td>356.0</td>\n",
       "      <td>...</td>\n",
       "      <td>2.0</td>\n",
       "      <td>0.0</td>\n",
       "      <td>0.0</td>\n",
       "      <td>0.0</td>\n",
       "      <td>0.0</td>\n",
       "      <td>0.0</td>\n",
       "      <td>0.0</td>\n",
       "      <td>1.0</td>\n",
       "      <td>7.0</td>\n",
       "      <td>8.0</td>\n",
       "    </tr>\n",
       "    <tr>\n",
       "      <th>4.0</th>\n",
       "      <td>10.0</td>\n",
       "      <td>28.0</td>\n",
       "      <td>5.0</td>\n",
       "      <td>98.0</td>\n",
       "      <td>0.0</td>\n",
       "      <td>0.0</td>\n",
       "      <td>0.0</td>\n",
       "      <td>0.0</td>\n",
       "      <td>0.0</td>\n",
       "      <td>0.0</td>\n",
       "      <td>...</td>\n",
       "      <td>0.0</td>\n",
       "      <td>0.0</td>\n",
       "      <td>0.0</td>\n",
       "      <td>0.0</td>\n",
       "      <td>0.0</td>\n",
       "      <td>0.0</td>\n",
       "      <td>0.0</td>\n",
       "      <td>0.0</td>\n",
       "      <td>0.0</td>\n",
       "      <td>0.0</td>\n",
       "    </tr>\n",
       "    <tr>\n",
       "      <th>6.0</th>\n",
       "      <td>0.0</td>\n",
       "      <td>23.0</td>\n",
       "      <td>4.0</td>\n",
       "      <td>0.0</td>\n",
       "      <td>1322.0</td>\n",
       "      <td>0.0</td>\n",
       "      <td>0.0</td>\n",
       "      <td>0.0</td>\n",
       "      <td>0.0</td>\n",
       "      <td>77.0</td>\n",
       "      <td>...</td>\n",
       "      <td>0.0</td>\n",
       "      <td>0.0</td>\n",
       "      <td>0.0</td>\n",
       "      <td>0.0</td>\n",
       "      <td>0.0</td>\n",
       "      <td>0.0</td>\n",
       "      <td>0.0</td>\n",
       "      <td>0.0</td>\n",
       "      <td>0.0</td>\n",
       "      <td>0.0</td>\n",
       "    </tr>\n",
       "  </tbody>\n",
       "</table>\n",
       "<p>5 rows × 29 columns</p>\n",
       "</div>"
      ],
      "text/plain": [
       "                      1.0      2.0     3.0    4.0     6.0    7.0    9.0    \\\n",
       "direction  class_val                                                        \n",
       "horizontal 1.0        818.0    140.0    13.0   10.0     0.0    0.0    0.0   \n",
       "           2.0        140.0  72852.0   520.0   28.0    23.0    2.0    0.0   \n",
       "           3.0         13.0    520.0  4598.0    5.0     4.0    0.0    3.0   \n",
       "           4.0         10.0     28.0     5.0   98.0     0.0    0.0    0.0   \n",
       "           6.0          0.0     23.0     4.0    0.0  1322.0    0.0    0.0   \n",
       "\n",
       "                      10.0   11.0    12.0   ...  27.0   29.0   30.0   31.0   \\\n",
       "direction  class_val                        ...                               \n",
       "horizontal 1.0          0.0    0.0     0.0  ...    0.0    0.0    0.0    0.0   \n",
       "           2.0         22.0  102.0  6583.0  ...   30.0    4.0    1.0    4.0   \n",
       "           3.0          2.0   36.0   356.0  ...    2.0    0.0    0.0    0.0   \n",
       "           4.0          0.0    0.0     0.0  ...    0.0    0.0    0.0    0.0   \n",
       "           6.0          0.0    0.0    77.0  ...    0.0    0.0    0.0    0.0   \n",
       "\n",
       "                      32.0   34.0   35.0   40.0   41.0   255.0  \n",
       "direction  class_val                                            \n",
       "horizontal 1.0          0.0    0.0    0.0    0.0    0.0    0.0  \n",
       "           2.0         21.0    0.0   13.0   72.0  295.0  119.0  \n",
       "           3.0          0.0    0.0    0.0    1.0    7.0    8.0  \n",
       "           4.0          0.0    0.0    0.0    0.0    0.0    0.0  \n",
       "           6.0          0.0    0.0    0.0    0.0    0.0    0.0  \n",
       "\n",
       "[5 rows x 29 columns]"
      ]
     },
     "execution_count": null,
     "metadata": {},
     "output_type": "execute_result"
    }
   ],
   "source": [
    "ls._cached_adjacency_df.head()"
   ]
  },
  {
   "cell_type": "code",
   "execution_count": null,
   "id": "4680af4f",
   "metadata": {},
   "outputs": [
    {
     "name": "stdout",
     "output_type": "stream",
     "text": [
      "CPU times: user 4 ms, sys: 0 ns, total: 4 ms\n",
      "Wall time: 3.74 ms\n"
     ]
    }
   ],
   "source": [
    "%%time\n",
    "lsi = ls.landscape_shape_index()"
   ]
  },
  {
   "cell_type": "markdown",
   "id": "cc698752",
   "metadata": {},
   "source": [
    "But it is when it comes to the computation of the inter-patch nearest-neighbor distances (the most computationally expensive task) that performance gains become more significant:"
   ]
  },
  {
   "cell_type": "code",
   "execution_count": null,
   "id": "82297327",
   "metadata": {},
   "outputs": [
    {
     "data": {
      "text/plain": [
       "False"
      ]
     },
     "execution_count": null,
     "metadata": {},
     "output_type": "execute_result"
    }
   ],
   "source": [
    "hasattr(ls, \"_cached_patch_euclidean_nearest_neighbor_ser\")"
   ]
  },
  {
   "cell_type": "code",
   "execution_count": null,
   "id": "087f607f",
   "metadata": {},
   "outputs": [],
   "source": [
    "%%time\n",
    "enn = ls.euclidean_nearest_neighbor()"
   ]
  },
  {
   "cell_type": "code",
   "execution_count": null,
   "id": "95685b8c",
   "metadata": {},
   "outputs": [],
   "source": [
    "ls._cached_patch_euclidean_nearest_neighbor_ser.head()"
   ]
  },
  {
   "cell_type": "code",
   "execution_count": null,
   "id": "940d96ba",
   "metadata": {},
   "outputs": [],
   "source": [
    "%%time\n",
    "enn_l_sd = ls.euclidean_nearest_neighbor_sd()"
   ]
  },
  {
   "cell_type": "markdown",
   "id": "fcfa50ba",
   "metadata": {},
   "source": [
    "Note that the first computation of the euclidean nearest-neighbor takes 26.6 s out of the total 32.9 s required to compute all the metrics, making it by far the main performance bottleneck of PyLandStats. It is therefore recommended that in analysis cases that do not require computing euclidean nearest-neighbor metrics avoid its computation by making use of the `metrics` keyword argument of the `compute_patch_metrics_df`, `compute_class_metrics_df` and `compute_landscape_metrics_df` methods.\n",
    "\n",
    "## References\n",
    "\n",
    "1. Kevin McGarigal, Sam A Cushman, and Eduard Ene. Fragstats v4: spatial pattern analysis program for categorical and continuous maps. Computer software program produced by the authors at the University of Massachusetts, Amherst. Available at: http://www.umass.edu/landeco/research/fragstats/fragstats.html, 2012.\n",
    "2. Maximilian HK Hesselbarth, Marco Sciaini, Kimberly A With, Kerstin Wiegand, and Jakub Nowosad. landscapemetrics: an open-source r tool to calculate landscape metrics. Ecography, 2019."
   ]
  }
 ],
 "metadata": {
  "kernelspec": {
   "display_name": "Python (pylandstats)",
   "language": "python",
   "name": "pylandstats"
  },
  "language_info": {
   "codemirror_mode": {
    "name": "ipython",
    "version": 3
   },
   "file_extension": ".py",
   "mimetype": "text/x-python",
   "name": "python",
   "nbconvert_exporter": "python",
   "pygments_lexer": "ipython3",
   "version": "3.11.4"
  }
 },
 "nbformat": 4,
 "nbformat_minor": 5
}
