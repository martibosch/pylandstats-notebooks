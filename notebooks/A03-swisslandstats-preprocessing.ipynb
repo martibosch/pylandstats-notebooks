{
 "cells": [
  {
   "cell_type": "markdown",
   "id": "0",
   "metadata": {},
   "source": [
    "# swisslandstats preprocessing\n",
    "\n",
    "We will create an extract of the Canton of Vaud (Switerland) derived from the [Swiss Land Statistics (SLS) datasets from the Swiss Federal Statistical Office](https://www.bfs.admin.ch/bfs/en/home/services/geostat/swiss-federal-statistics-geodata/land-use-cover-suitability/swiss-land-use-statistics.html). We will first use GNU Make to download the data:\n",
    "\n",
    "The SLS dataset is provided as a comma-separated value (CSV) file where each row corresponds to one of the hectometric pixels that configure the Swiss territory, and features three main goups of columns [1], i.e.:\n",
    "\n",
    "* the coordinates of the pixels centroid `E`, `N` in the LV95 coordinate reference system (CRS) or `X`, `Y` in the LV03 CRS\n",
    "* columns starting with `FJ` denote the exact year when the observation was taken\n",
    "* columns starting with `LU` denote the actual land use/land cover (LULC) code of each pixel\n",
    "\n",
    "We will now preprocess this data using the [swisslandstats-geopy](https://github.com/martibosch/swisslandstats-geopy) library:"
   ]
  },
  {
   "cell_type": "code",
   "execution_count": null,
   "id": "1",
   "metadata": {},
   "outputs": [],
   "source": [
    "from os import path\n",
    "\n",
    "import swisslandstats as sls"
   ]
  },
  {
   "cell_type": "markdown",
   "id": "2",
   "metadata": {},
   "source": [
    "Below are the parameters needed to run this notebook (to be filled directly in the notebook or using [papermill](https://github.com/nteract/papermill)):"
   ]
  },
  {
   "cell_type": "code",
   "execution_count": null,
   "id": "3",
   "metadata": {
    "tags": [
     "parameters"
    ]
   },
   "outputs": [],
   "source": [
    "lulc_columns = [\"LU85_4\", \"LU97_4\", \"LU09_4\", \"LU18_4\"]\n",
    "dst_dir = \"../data/processed\"\n",
    "nominatim_query = \"\""
   ]
  },
  {
   "cell_type": "markdown",
   "id": "4",
   "metadata": {},
   "source": [
    "We will now:\n",
    "\n",
    "1. read the data into a land data frame"
   ]
  },
  {
   "cell_type": "code",
   "execution_count": null,
   "id": "5",
   "metadata": {},
   "outputs": [],
   "source": [
    "ldf = sls.load_dataset(dataset_key=\"sls\")"
   ]
  },
  {
   "cell_type": "markdown",
   "id": "6",
   "metadata": {},
   "source": [
    "2. clip it to the extent of interest:"
   ]
  },
  {
   "cell_type": "code",
   "execution_count": null,
   "id": "7",
   "metadata": {},
   "outputs": [],
   "source": [
    "if nominatim_query:\n",
    "    ldf = ldf.clip_by_nominatim(nominatim_query)"
   ]
  },
  {
   "cell_type": "markdown",
   "id": "8",
   "metadata": {},
   "source": [
    "3. dump the LULC columns of interest into geotiff files:"
   ]
  },
  {
   "cell_type": "code",
   "execution_count": null,
   "id": "9",
   "metadata": {},
   "outputs": [],
   "source": [
    "for lulc_column in lulc_columns:\n",
    "    ldf.to_geotiff(path.join(dst_dir, f\"{lulc_column}.tif\"), lulc_column)"
   ]
  },
  {
   "cell_type": "markdown",
   "id": "10",
   "metadata": {},
   "source": [
    "## References\n",
    "\n",
    "1. Bosch, M. (2019). swisslandstats-geopy: Python tools for the land statistics datasets from the Swiss Federal Statistical Office. Journal of Open Source Software, 4(41), 1511."
   ]
  }
 ],
 "metadata": {
  "kernelspec": {
   "display_name": "Python (pylandstats)",
   "language": "python",
   "name": "pylandstats"
  }
 },
 "nbformat": 4,
 "nbformat_minor": 5
}
