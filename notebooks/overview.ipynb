{
 "cells": [
  {
   "cell_type": "markdown",
   "metadata": {
    "ein.tags": "worksheet-0",
    "slideshow": {
     "slide_type": "-"
    }
   },
   "source": [
    "# Overview of PyLandStats"
   ]
  },
  {
   "cell_type": "code",
   "execution_count": 1,
   "metadata": {
    "autoscroll": false,
    "collapsed": false,
    "ein.hycell": false,
    "ein.tags": "worksheet-0",
    "slideshow": {
     "slide_type": "-"
    }
   },
   "outputs": [],
   "source": [
    "import pylandstats as pls"
   ]
  },
  {
   "cell_type": "markdown",
   "metadata": {
    "ein.tags": "worksheet-0",
    "slideshow": {
     "slide_type": "-"
    }
   },
   "source": [
    "## Landscape analysis"
   ]
  },
  {
   "cell_type": "markdown",
   "metadata": {
    "ein.tags": "worksheet-0",
    "slideshow": {
     "slide_type": "-"
    }
   },
   "source": [
    "We can load our landscape from a GeoTiff. We will use an extract of the Canton of Vaud (Switerland) derived from the [CORINE Land Cover dataset](https://land.copernicus.eu/pan-european/corine-land-cover) of the year 2000."
   ]
  },
  {
   "cell_type": "code",
   "execution_count": 2,
   "metadata": {
    "autoscroll": false,
    "collapsed": false,
    "ein.hycell": false,
    "ein.tags": "worksheet-0",
    "slideshow": {
     "slide_type": "-"
    }
   },
   "outputs": [],
   "source": [
    "ls = pls.Landscape('../data/clc/vaud_g100_clc00_V18_5.tif')"
   ]
  },
  {
   "cell_type": "markdown",
   "metadata": {
    "ein.tags": "worksheet-0",
    "slideshow": {
     "slide_type": "-"
    }
   },
   "source": [
    "For simplicity, it has been reclassified to show only *urban* (1) and *non-urban* (2) land cover classes"
   ]
  },
  {
   "cell_type": "code",
   "execution_count": 3,
   "metadata": {
    "autoscroll": false,
    "collapsed": false,
    "ein.hycell": false,
    "ein.tags": "worksheet-0",
    "slideshow": {
     "slide_type": "-"
    }
   },
   "outputs": [
    {
     "data": {
      "text/plain": [
       "<matplotlib.axes._subplots.AxesSubplot at 0x7f96bd2a1898>"
      ]
     },
     "execution_count": 3,
     "metadata": {},
     "output_type": "execute_result"
    },
    {
     "data": {
      "image/png": "[encoded data removed]",
      "text/plain": [
       "<Figure size 432x288 with 1 Axes>"
      ]
     },
     "metadata": {},
     "output_type": "display_data"
    }
   ],
   "source": [
    "ls.plot_landscape(legend=True)"
   ]
  },
  {
   "cell_type": "markdown",
   "metadata": {
    "ein.tags": "worksheet-0",
    "slideshow": {
     "slide_type": "-"
    }
   },
   "source": [
    "### Computing metrics"
   ]
  },
  {
   "cell_type": "markdown",
   "metadata": {
    "ein.tags": "worksheet-0",
    "slideshow": {
     "slide_type": "-"
    }
   },
   "source": [
    "The metrics can be computed at the patch, class and landscape level"
   ]
  },
  {
   "cell_type": "markdown",
   "metadata": {
    "ein.tags": "worksheet-0",
    "slideshow": {
     "slide_type": "-"
    }
   },
   "source": [
    "#### Patch-level metrics"
   ]
  },
  {
   "cell_type": "markdown",
   "metadata": {
    "ein.tags": "worksheet-0",
    "slideshow": {
     "slide_type": "-"
    }
   },
   "source": [
    "The metrics can be computed at the patch level, that is, for each patch of the landscape:"
   ]
  },
  {
   "cell_type": "code",
   "execution_count": 4,
   "metadata": {
    "autoscroll": false,
    "collapsed": false,
    "ein.hycell": false,
    "ein.tags": "worksheet-0",
    "slideshow": {
     "slide_type": "-"
    }
   },
   "outputs": [
    {
     "data": {
      "text/html": [
       "<div>\n",
       "<style scoped>\n",
       "    .dataframe tbody tr th:only-of-type {\n",
       "        vertical-align: middle;\n",
       "    }\n",
       "\n",
       "    .dataframe tbody tr th {\n",
       "        vertical-align: top;\n",
       "    }\n",
       "\n",
       "    .dataframe thead th {\n",
       "        text-align: right;\n",
       "    }\n",
       "</style>\n",
       "<table border=\"1\" class=\"dataframe\">\n",
       "  <thead>\n",
       "    <tr style=\"text-align: right;\">\n",
       "      <th></th>\n",
       "      <th>class_val</th>\n",
       "      <th>area</th>\n",
       "      <th>perimeter</th>\n",
       "      <th>perimeter_area_ratio</th>\n",
       "      <th>shape_index</th>\n",
       "      <th>fractal_dimension</th>\n",
       "      <th>euclidean_nearest_neighbor</th>\n",
       "    </tr>\n",
       "    <tr>\n",
       "      <th>patch_id</th>\n",
       "      <th></th>\n",
       "      <th></th>\n",
       "      <th></th>\n",
       "      <th></th>\n",
       "      <th></th>\n",
       "      <th></th>\n",
       "      <th></th>\n",
       "    </tr>\n",
       "  </thead>\n",
       "  <tbody>\n",
       "    <tr>\n",
       "      <th>0</th>\n",
       "      <td>1</td>\n",
       "      <td>130.991132</td>\n",
       "      <td>9200.509850</td>\n",
       "      <td>70.237654</td>\n",
       "      <td>2.009699</td>\n",
       "      <td>1.099107</td>\n",
       "      <td>3252.581096</td>\n",
       "    </tr>\n",
       "    <tr>\n",
       "      <th>1</th>\n",
       "      <td>1</td>\n",
       "      <td>23.998375</td>\n",
       "      <td>4800.002029</td>\n",
       "      <td>200.013624</td>\n",
       "      <td>2.449574</td>\n",
       "      <td>1.144638</td>\n",
       "      <td>282.833139</td>\n",
       "    </tr>\n",
       "    <tr>\n",
       "      <th>2</th>\n",
       "      <td>1</td>\n",
       "      <td>33.997698</td>\n",
       "      <td>4000.029040</td>\n",
       "      <td>117.655878</td>\n",
       "      <td>1.715056</td>\n",
       "      <td>1.084708</td>\n",
       "      <td>2830.098543</td>\n",
       "    </tr>\n",
       "    <tr>\n",
       "      <th>3</th>\n",
       "      <td>1</td>\n",
       "      <td>93.993637</td>\n",
       "      <td>8401.029149</td>\n",
       "      <td>89.378701</td>\n",
       "      <td>2.166323</td>\n",
       "      <td>1.112412</td>\n",
       "      <td>199.993230</td>\n",
       "    </tr>\n",
       "    <tr>\n",
       "      <th>4</th>\n",
       "      <td>1</td>\n",
       "      <td>401.972787</td>\n",
       "      <td>22800.707043</td>\n",
       "      <td>56.722017</td>\n",
       "      <td>2.843086</td>\n",
       "      <td>1.137425</td>\n",
       "      <td>199.993230</td>\n",
       "    </tr>\n",
       "  </tbody>\n",
       "</table>\n",
       "</div>"
      ],
      "text/plain": [
       "          class_val        area     perimeter  perimeter_area_ratio  \\\n",
       "patch_id                                                              \n",
       "0                 1  130.991132   9200.509850             70.237654   \n",
       "1                 1   23.998375   4800.002029            200.013624   \n",
       "2                 1   33.997698   4000.029040            117.655878   \n",
       "3                 1   93.993637   8401.029149             89.378701   \n",
       "4                 1  401.972787  22800.707043             56.722017   \n",
       "\n",
       "          shape_index  fractal_dimension  euclidean_nearest_neighbor  \n",
       "patch_id                                                              \n",
       "0            2.009699           1.099107                 3252.581096  \n",
       "1            2.449574           1.144638                  282.833139  \n",
       "2            1.715056           1.084708                 2830.098543  \n",
       "3            2.166323           1.112412                  199.993230  \n",
       "4            2.843086           1.137425                  199.993230  "
      ]
     },
     "execution_count": 4,
     "metadata": {},
     "output_type": "execute_result"
    }
   ],
   "source": [
    "patch_metrics_df = ls.compute_patch_metrics_df()\n",
    "patch_metrics_df.head()"
   ]
  },
  {
   "cell_type": "markdown",
   "metadata": {
    "ein.tags": "worksheet-0",
    "slideshow": {
     "slide_type": "-"
    }
   },
   "source": [
    "We can operate upon `patch_metrics_df` as with any other pandas DataFrame. In this case, there are 557 patches, of which 531 are *urban* and 26 *non-urban*, as noted respectively by the values of 1 and 2 within the `class_val` column:"
   ]
  },
  {
   "cell_type": "code",
   "execution_count": 5,
   "metadata": {
    "autoscroll": false,
    "collapsed": false,
    "ein.hycell": false,
    "ein.tags": "worksheet-0",
    "slideshow": {
     "slide_type": "-"
    }
   },
   "outputs": [
    {
     "data": {
      "text/plain": [
       "1    531\n",
       "2     26\n",
       "Name: class_val, dtype: int64"
      ]
     },
     "execution_count": 5,
     "metadata": {},
     "output_type": "execute_result"
    }
   ],
   "source": [
    "patch_metrics_df['class_val'].value_counts()"
   ]
  },
  {
   "cell_type": "markdown",
   "metadata": {
    "ein.tags": "worksheet-0",
    "slideshow": {
     "slide_type": "-"
    }
   },
   "source": [
    "We might also use methods from other libraries, such as matplotlib or numpy. For instance, in order to explore the size distribution of patches, we can also plot the distribution of the logarithm of `area` for *urban* and *non-urban* classes as follows:"
   ]
  },
  {
   "cell_type": "code",
   "execution_count": 6,
   "metadata": {
    "autoscroll": false,
    "collapsed": false,
    "ein.hycell": false,
    "ein.tags": "worksheet-0",
    "slideshow": {
     "slide_type": "-"
    }
   },
   "outputs": [
    {
     "data": {
      "text/plain": [
       "<matplotlib.legend.Legend at 0x7f81f9b32c50>"
      ]
     },
     "execution_count": 6,
     "metadata": {},
     "output_type": "execute_result"
    },
    {
     "data": {
      "image/png": "[encoded data removed]",
      "text/plain": [
       "<Figure size 432x288 with 1 Axes>"
      ]
     },
     "metadata": {
      "needs_background": "light"
     },
     "output_type": "display_data"
    }
   ],
   "source": [
    "import matplotlib as mpl\n",
    "import numpy as np\n",
    "\n",
    "ax = patch_metrics_df[patch_metrics_df['class_val'] == 1].apply(np.log10).hist(\n",
    "    column='area', label='urban', density=True)\n",
    "ax = patch_metrics_df[patch_metrics_df['class_val'] == 2].apply(np.log10).hist(\n",
    "    column='area', ax=ax, label='non-urban', density=True)\n",
    "\n",
    "ax[0].get_xaxis().set_major_formatter(\n",
    "    mpl.ticker.FuncFormatter(lambda x, p: '10^%d' % x))\n",
    "ax[0].legend()"
   ]
  },
  {
   "cell_type": "markdown",
   "metadata": {
    "ein.tags": "worksheet-0",
    "slideshow": {
     "slide_type": "-"
    }
   },
   "source": [
    "#### Class-level metrics"
   ]
  },
  {
   "cell_type": "markdown",
   "metadata": {
    "autoscroll": false,
    "ein.hycell": false,
    "ein.tags": "worksheet-0",
    "slideshow": {
     "slide_type": "-"
    }
   },
   "source": [
    "The metrics can also be computed at the class level, that is, aggregating over all patches of a land use/cover class"
   ]
  },
  {
   "cell_type": "markdown",
   "metadata": {
    "ein.tags": "worksheet-0",
    "slideshow": {
     "slide_type": "-"
    }
   },
   "source": [
    "<a id='class-metrics-df'></a>"
   ]
  },
  {
   "cell_type": "code",
   "execution_count": 7,
   "metadata": {
    "autoscroll": false,
    "collapsed": false,
    "ein.hycell": false,
    "ein.tags": "worksheet-0",
    "slideshow": {
     "slide_type": "-"
    }
   },
   "outputs": [
    {
     "data": {
      "text/html": [
       "<div>\n",
       "<style scoped>\n",
       "    .dataframe tbody tr th:only-of-type {\n",
       "        vertical-align: middle;\n",
       "    }\n",
       "\n",
       "    .dataframe tbody tr th {\n",
       "        vertical-align: top;\n",
       "    }\n",
       "\n",
       "    .dataframe thead th {\n",
       "        text-align: right;\n",
       "    }\n",
       "</style>\n",
       "<table border=\"1\" class=\"dataframe\">\n",
       "  <thead>\n",
       "    <tr style=\"text-align: right;\">\n",
       "      <th></th>\n",
       "      <th>total_area</th>\n",
       "      <th>proportion_of_landscape</th>\n",
       "      <th>number_of_patches</th>\n",
       "      <th>patch_density</th>\n",
       "      <th>largest_patch_index</th>\n",
       "      <th>total_edge</th>\n",
       "      <th>edge_density</th>\n",
       "      <th>landscape_shape_index</th>\n",
       "      <th>area_mn</th>\n",
       "      <th>area_am</th>\n",
       "      <th>...</th>\n",
       "      <th>fractal_dimension_md</th>\n",
       "      <th>fractal_dimension_ra</th>\n",
       "      <th>fractal_dimension_sd</th>\n",
       "      <th>fractal_dimension_cv</th>\n",
       "      <th>euclidean_nearest_neighbor_mn</th>\n",
       "      <th>euclidean_nearest_neighbor_am</th>\n",
       "      <th>euclidean_nearest_neighbor_md</th>\n",
       "      <th>euclidean_nearest_neighbor_ra</th>\n",
       "      <th>euclidean_nearest_neighbor_sd</th>\n",
       "      <th>euclidean_nearest_neighbor_cv</th>\n",
       "    </tr>\n",
       "    <tr>\n",
       "      <th>class_val</th>\n",
       "      <th></th>\n",
       "      <th></th>\n",
       "      <th></th>\n",
       "      <th></th>\n",
       "      <th></th>\n",
       "      <th></th>\n",
       "      <th></th>\n",
       "      <th></th>\n",
       "      <th></th>\n",
       "      <th></th>\n",
       "      <th></th>\n",
       "      <th></th>\n",
       "      <th></th>\n",
       "      <th></th>\n",
       "      <th></th>\n",
       "      <th></th>\n",
       "      <th></th>\n",
       "      <th></th>\n",
       "      <th></th>\n",
       "      <th></th>\n",
       "      <th></th>\n",
       "    </tr>\n",
       "  </thead>\n",
       "  <tbody>\n",
       "    <tr>\n",
       "      <th>1</th>\n",
       "      <td>63527.699194</td>\n",
       "      <td>8.765912</td>\n",
       "      <td>531</td>\n",
       "      <td>0.073270</td>\n",
       "      <td>1.206603</td>\n",
       "      <td>3.844800e+06</td>\n",
       "      <td>5.305273</td>\n",
       "      <td>41.072713</td>\n",
       "      <td>119.637852</td>\n",
       "      <td>2423.290077</td>\n",
       "      <td>...</td>\n",
       "      <td>1.088307</td>\n",
       "      <td>0.217492</td>\n",
       "      <td>0.037986</td>\n",
       "      <td>3.483847</td>\n",
       "      <td>875.739134</td>\n",
       "      <td>584.499442</td>\n",
       "      <td>599.979691</td>\n",
       "      <td>6771.857983</td>\n",
       "      <td>806.184967</td>\n",
       "      <td>92.057661</td>\n",
       "    </tr>\n",
       "    <tr>\n",
       "      <th>2</th>\n",
       "      <td>661185.237955</td>\n",
       "      <td>91.234088</td>\n",
       "      <td>26</td>\n",
       "      <td>0.003588</td>\n",
       "      <td>90.727163</td>\n",
       "      <td>3.844800e+06</td>\n",
       "      <td>5.305273</td>\n",
       "      <td>14.744423</td>\n",
       "      <td>25430.201460</td>\n",
       "      <td>653861.442272</td>\n",
       "      <td>...</td>\n",
       "      <td>1.077818</td>\n",
       "      <td>0.234114</td>\n",
       "      <td>0.051352</td>\n",
       "      <td>4.748141</td>\n",
       "      <td>245.826406</td>\n",
       "      <td>200.135431</td>\n",
       "      <td>211.796230</td>\n",
       "      <td>247.205228</td>\n",
       "      <td>75.622392</td>\n",
       "      <td>30.762518</td>\n",
       "    </tr>\n",
       "  </tbody>\n",
       "</table>\n",
       "<p>2 rows × 38 columns</p>\n",
       "</div>"
      ],
      "text/plain": [
       "              total_area  proportion_of_landscape  number_of_patches  \\\n",
       "class_val                                                              \n",
       "1           63527.699194                 8.765912                531   \n",
       "2          661185.237955                91.234088                 26   \n",
       "\n",
       "           patch_density  largest_patch_index    total_edge  edge_density  \\\n",
       "class_val                                                                   \n",
       "1               0.073270             1.206603  3.844800e+06      5.305273   \n",
       "2               0.003588            90.727163  3.844800e+06      5.305273   \n",
       "\n",
       "           landscape_shape_index       area_mn        area_am  ...  \\\n",
       "class_val                                                      ...   \n",
       "1                      41.072713    119.637852    2423.290077  ...   \n",
       "2                      14.744423  25430.201460  653861.442272  ...   \n",
       "\n",
       "           fractal_dimension_md  fractal_dimension_ra  fractal_dimension_sd  \\\n",
       "class_val                                                                     \n",
       "1                      1.088307              0.217492              0.037986   \n",
       "2                      1.077818              0.234114              0.051352   \n",
       "\n",
       "           fractal_dimension_cv  euclidean_nearest_neighbor_mn  \\\n",
       "class_val                                                        \n",
       "1                      3.483847                     875.739134   \n",
       "2                      4.748141                     245.826406   \n",
       "\n",
       "           euclidean_nearest_neighbor_am  euclidean_nearest_neighbor_md  \\\n",
       "class_val                                                                 \n",
       "1                             584.499442                     599.979691   \n",
       "2                             200.135431                     211.796230   \n",
       "\n",
       "           euclidean_nearest_neighbor_ra  euclidean_nearest_neighbor_sd  \\\n",
       "class_val                                                                 \n",
       "1                            6771.857983                     806.184967   \n",
       "2                             247.205228                      75.622392   \n",
       "\n",
       "           euclidean_nearest_neighbor_cv  \n",
       "class_val                                 \n",
       "1                              92.057661  \n",
       "2                              30.762518  \n",
       "\n",
       "[2 rows x 38 columns]"
      ]
     },
     "execution_count": 7,
     "metadata": {},
     "output_type": "execute_result"
    }
   ],
   "source": [
    "class_metrics_df = ls.compute_class_metrics_df()\n",
    "class_metrics_df"
   ]
  },
  {
   "cell_type": "markdown",
   "metadata": {
    "ein.tags": "worksheet-0",
    "slideshow": {
     "slide_type": "-"
    }
   },
   "source": [
    "#### Landscape-level metrics"
   ]
  },
  {
   "cell_type": "markdown",
   "metadata": {
    "ein.tags": "worksheet-0",
    "slideshow": {
     "slide_type": "-"
    }
   },
   "source": [
    "Finally, the metrics can also be computed at the landscape level, that is, aggregating over all patches of the landscape"
   ]
  },
  {
   "cell_type": "code",
   "execution_count": 8,
   "metadata": {
    "autoscroll": false,
    "collapsed": false,
    "ein.hycell": false,
    "ein.tags": "worksheet-0",
    "slideshow": {
     "slide_type": "-"
    }
   },
   "outputs": [
    {
     "data": {
      "text/html": [
       "<div>\n",
       "<style scoped>\n",
       "    .dataframe tbody tr th:only-of-type {\n",
       "        vertical-align: middle;\n",
       "    }\n",
       "\n",
       "    .dataframe tbody tr th {\n",
       "        vertical-align: top;\n",
       "    }\n",
       "\n",
       "    .dataframe thead th {\n",
       "        text-align: right;\n",
       "    }\n",
       "</style>\n",
       "<table border=\"1\" class=\"dataframe\">\n",
       "  <thead>\n",
       "    <tr style=\"text-align: right;\">\n",
       "      <th></th>\n",
       "      <th>total_area</th>\n",
       "      <th>number_of_patches</th>\n",
       "      <th>patch_density</th>\n",
       "      <th>largest_patch_index</th>\n",
       "      <th>total_edge</th>\n",
       "      <th>edge_density</th>\n",
       "      <th>landscape_shape_index</th>\n",
       "      <th>area_mn</th>\n",
       "      <th>area_am</th>\n",
       "      <th>area_md</th>\n",
       "      <th>...</th>\n",
       "      <th>fractal_dimension_sd</th>\n",
       "      <th>fractal_dimension_cv</th>\n",
       "      <th>euclidean_nearest_neighbor_mn</th>\n",
       "      <th>euclidean_nearest_neighbor_am</th>\n",
       "      <th>euclidean_nearest_neighbor_md</th>\n",
       "      <th>euclidean_nearest_neighbor_ra</th>\n",
       "      <th>euclidean_nearest_neighbor_sd</th>\n",
       "      <th>euclidean_nearest_neighbor_cv</th>\n",
       "      <th>contagion</th>\n",
       "      <th>shannon_diversity_index</th>\n",
       "    </tr>\n",
       "  </thead>\n",
       "  <tbody>\n",
       "    <tr>\n",
       "      <th>0</th>\n",
       "      <td>724712.937149</td>\n",
       "      <td>557</td>\n",
       "      <td>0.076858</td>\n",
       "      <td>90.727163</td>\n",
       "      <td>0.0</td>\n",
       "      <td>0.0</td>\n",
       "      <td>14.952919</td>\n",
       "      <td>1301.100426</td>\n",
       "      <td>596756.946333</td>\n",
       "      <td>42.997089</td>\n",
       "      <td>...</td>\n",
       "      <td>0.038758</td>\n",
       "      <td>3.555948</td>\n",
       "      <td>846.335668</td>\n",
       "      <td>233.828443</td>\n",
       "      <td>565.666278</td>\n",
       "      <td>6771.857983</td>\n",
       "      <td>798.448593</td>\n",
       "      <td>94.341834</td>\n",
       "      <td>70.792237</td>\n",
       "      <td>0.297088</td>\n",
       "    </tr>\n",
       "  </tbody>\n",
       "</table>\n",
       "<p>1 rows × 39 columns</p>\n",
       "</div>"
      ],
      "text/plain": [
       "      total_area  number_of_patches  patch_density  largest_patch_index  \\\n",
       "0  724712.937149                557       0.076858            90.727163   \n",
       "\n",
       "   total_edge  edge_density  landscape_shape_index      area_mn  \\\n",
       "0         0.0           0.0              14.952919  1301.100426   \n",
       "\n",
       "         area_am    area_md  ...  fractal_dimension_sd  fractal_dimension_cv  \\\n",
       "0  596756.946333  42.997089  ...              0.038758              3.555948   \n",
       "\n",
       "   euclidean_nearest_neighbor_mn  euclidean_nearest_neighbor_am  \\\n",
       "0                     846.335668                     233.828443   \n",
       "\n",
       "   euclidean_nearest_neighbor_md  euclidean_nearest_neighbor_ra  \\\n",
       "0                     565.666278                    6771.857983   \n",
       "\n",
       "   euclidean_nearest_neighbor_sd  euclidean_nearest_neighbor_cv  contagion  \\\n",
       "0                     798.448593                      94.341834  70.792237   \n",
       "\n",
       "   shannon_diversity_index  \n",
       "0                 0.297088  \n",
       "\n",
       "[1 rows x 39 columns]"
      ]
     },
     "execution_count": 8,
     "metadata": {},
     "output_type": "execute_result"
    }
   ],
   "source": [
    "landscape_metrics_df = ls.compute_landscape_metrics_df()\n",
    "landscape_metrics_df"
   ]
  },
  {
   "cell_type": "markdown",
   "metadata": {
    "ein.tags": "worksheet-0",
    "slideshow": {
     "slide_type": "-"
    }
   },
   "source": [
    "### Choosing your metrics"
   ]
  },
  {
   "cell_type": "markdown",
   "metadata": {
    "ein.tags": "worksheet-0",
    "slideshow": {
     "slide_type": "-"
    }
   },
   "source": [
    "You can see all the implemented metrics through the following constants defined at the `Landscape` class:"
   ]
  },
  {
   "cell_type": "markdown",
   "metadata": {
    "ein.tags": "worksheet-0",
    "slideshow": {
     "slide_type": "-"
    }
   },
   "source": [
    "<a id='available-metrics'></a>"
   ]
  },
  {
   "cell_type": "code",
   "execution_count": 9,
   "metadata": {
    "autoscroll": false,
    "collapsed": false,
    "ein.hycell": false,
    "ein.tags": "worksheet-0",
    "slideshow": {
     "slide_type": "-"
    }
   },
   "outputs": [
    {
     "data": {
      "text/plain": [
       "(['area',\n",
       "  'perimeter',\n",
       "  'perimeter_area_ratio',\n",
       "  'shape_index',\n",
       "  'fractal_dimension',\n",
       "  'euclidean_nearest_neighbor'],\n",
       " ['total_area',\n",
       "  'proportion_of_landscape',\n",
       "  'number_of_patches',\n",
       "  'patch_density',\n",
       "  'largest_patch_index',\n",
       "  'total_edge',\n",
       "  'edge_density',\n",
       "  'landscape_shape_index',\n",
       "  'area_mn',\n",
       "  'area_am',\n",
       "  'area_md',\n",
       "  'area_ra',\n",
       "  'area_sd',\n",
       "  'area_cv',\n",
       "  'perimeter_area_ratio_mn',\n",
       "  'perimeter_area_ratio_am',\n",
       "  'perimeter_area_ratio_md',\n",
       "  'perimeter_area_ratio_ra',\n",
       "  'perimeter_area_ratio_sd',\n",
       "  'perimeter_area_ratio_cv',\n",
       "  'shape_index_mn',\n",
       "  'shape_index_am',\n",
       "  'shape_index_md',\n",
       "  'shape_index_ra',\n",
       "  'shape_index_sd',\n",
       "  'shape_index_cv',\n",
       "  'fractal_dimension_mn',\n",
       "  'fractal_dimension_am',\n",
       "  'fractal_dimension_md',\n",
       "  'fractal_dimension_ra',\n",
       "  'fractal_dimension_sd',\n",
       "  'fractal_dimension_cv',\n",
       "  'euclidean_nearest_neighbor_mn',\n",
       "  'euclidean_nearest_neighbor_am',\n",
       "  'euclidean_nearest_neighbor_md',\n",
       "  'euclidean_nearest_neighbor_ra',\n",
       "  'euclidean_nearest_neighbor_sd',\n",
       "  'euclidean_nearest_neighbor_cv'],\n",
       " ['total_area',\n",
       "  'number_of_patches',\n",
       "  'patch_density',\n",
       "  'largest_patch_index',\n",
       "  'total_edge',\n",
       "  'edge_density',\n",
       "  'landscape_shape_index',\n",
       "  'area_mn',\n",
       "  'area_am',\n",
       "  'area_md',\n",
       "  'area_ra',\n",
       "  'area_sd',\n",
       "  'area_cv',\n",
       "  'perimeter_area_ratio_mn',\n",
       "  'perimeter_area_ratio_am',\n",
       "  'perimeter_area_ratio_md',\n",
       "  'perimeter_area_ratio_ra',\n",
       "  'perimeter_area_ratio_sd',\n",
       "  'perimeter_area_ratio_cv',\n",
       "  'shape_index_mn',\n",
       "  'shape_index_am',\n",
       "  'shape_index_md',\n",
       "  'shape_index_ra',\n",
       "  'shape_index_sd',\n",
       "  'shape_index_cv',\n",
       "  'fractal_dimension_mn',\n",
       "  'fractal_dimension_am',\n",
       "  'fractal_dimension_md',\n",
       "  'fractal_dimension_ra',\n",
       "  'fractal_dimension_sd',\n",
       "  'fractal_dimension_cv',\n",
       "  'euclidean_nearest_neighbor_mn',\n",
       "  'euclidean_nearest_neighbor_am',\n",
       "  'euclidean_nearest_neighbor_md',\n",
       "  'euclidean_nearest_neighbor_ra',\n",
       "  'euclidean_nearest_neighbor_sd',\n",
       "  'euclidean_nearest_neighbor_cv',\n",
       "  'contagion',\n",
       "  'shannon_diversity_index'])"
      ]
     },
     "execution_count": 9,
     "metadata": {},
     "output_type": "execute_result"
    }
   ],
   "source": [
    "pls.Landscape.PATCH_METRICS, pls.Landscape.CLASS_METRICS, pls.Landscape.LANDSCAPE_METRICS"
   ]
  },
  {
   "cell_type": "markdown",
   "metadata": {
    "ein.tags": "worksheet-0",
    "slideshow": {
     "slide_type": "-"
    }
   },
   "source": [
    "The names above appear in snake-case since they correspond to the methods that compute them, implemented within the `Landscape` class. If you are only interested in a subset of the metrics above, you can specify it in each respective method, that is, `Landscape.compute_patch_metrics_df`, `Landscape.compute_patch_metrics_df` and/or `Landscape.compute_class_metrics_df`. For instance:"
   ]
  },
  {
   "cell_type": "markdown",
   "metadata": {
    "ein.tags": "worksheet-0",
    "slideshow": {
     "slide_type": "-"
    }
   },
   "source": [
    "<a id='subset-class-metrics-df'></a>"
   ]
  },
  {
   "cell_type": "code",
   "execution_count": 10,
   "metadata": {
    "autoscroll": false,
    "collapsed": false,
    "ein.hycell": false,
    "ein.tags": "worksheet-0",
    "slideshow": {
     "slide_type": "-"
    }
   },
   "outputs": [
    {
     "data": {
      "text/html": [
       "<div>\n",
       "<style scoped>\n",
       "    .dataframe tbody tr th:only-of-type {\n",
       "        vertical-align: middle;\n",
       "    }\n",
       "\n",
       "    .dataframe tbody tr th {\n",
       "        vertical-align: top;\n",
       "    }\n",
       "\n",
       "    .dataframe thead th {\n",
       "        text-align: right;\n",
       "    }\n",
       "</style>\n",
       "<table border=\"1\" class=\"dataframe\">\n",
       "  <thead>\n",
       "    <tr style=\"text-align: right;\">\n",
       "      <th></th>\n",
       "      <th>proportion_of_landscape</th>\n",
       "      <th>edge_density</th>\n",
       "    </tr>\n",
       "    <tr>\n",
       "      <th>class_val</th>\n",
       "      <th></th>\n",
       "      <th></th>\n",
       "    </tr>\n",
       "  </thead>\n",
       "  <tbody>\n",
       "    <tr>\n",
       "      <th>1</th>\n",
       "      <td>8.765912</td>\n",
       "      <td>5.305273</td>\n",
       "    </tr>\n",
       "    <tr>\n",
       "      <th>2</th>\n",
       "      <td>91.234088</td>\n",
       "      <td>5.305273</td>\n",
       "    </tr>\n",
       "  </tbody>\n",
       "</table>\n",
       "</div>"
      ],
      "text/plain": [
       "           proportion_of_landscape  edge_density\n",
       "class_val                                       \n",
       "1                         8.765912      5.305273\n",
       "2                        91.234088      5.305273"
      ]
     },
     "execution_count": 10,
     "metadata": {},
     "output_type": "execute_result"
    }
   ],
   "source": [
    "subset_class_metrics_df = ls.compute_class_metrics_df(\n",
    "    metrics=['proportion_of_landscape', 'edge_density'])\n",
    "subset_class_metrics_df"
   ]
  },
  {
   "cell_type": "markdown",
   "metadata": {
    "ein.tags": "worksheet-0",
    "slideshow": {
     "slide_type": "-"
    }
   },
   "source": [
    "#### Documentation about the metrics"
   ]
  },
  {
   "cell_type": "markdown",
   "metadata": {
    "ein.tags": "worksheet-0",
    "slideshow": {
     "slide_type": "-"
    }
   },
   "source": [
    "Each method is documented to provide a description of its arguments as well as information concerning its respective metric, e.g.:"
   ]
  },
  {
   "cell_type": "code",
   "execution_count": 11,
   "metadata": {
    "autoscroll": false,
    "collapsed": false,
    "ein.hycell": false,
    "ein.tags": "worksheet-0",
    "slideshow": {
     "slide_type": "-"
    }
   },
   "outputs": [
    {
     "name": "stdout",
     "output_type": "stream",
     "text": [
      "Help on function edge_density in module pylandstats.landscape:\n",
      "\n",
      "edge_density(self, class_val=None, count_boundary=False, hectares=True)\n",
      "    Measure of edge length per area unit, which facilitates comparison\n",
      "    among landscapes of different sizes (of a particular class if provided,\n",
      "    otherwise for the whole landscape)\n",
      "    \n",
      "    Parameters\n",
      "    ----------\n",
      "    class_val : int, optional\n",
      "        If provided, the metric will be computed at the level of the\n",
      "        corresponding class, otherwise it will be computed at the\n",
      "        landscape level\n",
      "    count_boundary : bool, default False\n",
      "        Whether the boundary of the landscape should be considered\n",
      "    hectares : bool, default True\n",
      "        Whether the landscape area should be converted to hectares (tends\n",
      "        to yield more legible values for the metric)\n",
      "    \n",
      "    Returns\n",
      "    -------\n",
      "    ed : float\n",
      "        ed >= 0, without limit ; ed equals 0 when the entire landscape and\n",
      "        its border consist of the corresponding patch class.\n",
      "        Units: meters of edge per hectare/square meter.\n",
      "\n"
     ]
    }
   ],
   "source": [
    "help(pls.Landscape.edge_density)"
   ]
  },
  {
   "cell_type": "markdown",
   "metadata": {
    "ein.tags": "worksheet-0",
    "slideshow": {
     "slide_type": "-"
    }
   },
   "source": [
    "#### Custom metric arguments"
   ]
  },
  {
   "cell_type": "markdown",
   "metadata": {
    "ein.tags": "worksheet-0",
    "slideshow": {
     "slide_type": "-"
    }
   },
   "source": [
    "The default arguments correspond to how the metrics are defined within FRAGSTATS. Nevertheless, some metrics allow some variations in their definition. For instance, the `edge_density` above allows us to choose whether we consider the landscape boundary to be an edge (by default, as in FRAGSTATS, we do not, since we only consider edges between land use/cover classes), or whether we want the area to be converted to hectares (by default, as in FRAGSTATS, we do)."
   ]
  },
  {
   "cell_type": "code",
   "execution_count": 12,
   "metadata": {
    "autoscroll": false,
    "collapsed": false,
    "ein.hycell": false,
    "ein.tags": "worksheet-0",
    "slideshow": {
     "slide_type": "-"
    }
   },
   "outputs": [
    {
     "name": "stdout",
     "output_type": "stream",
     "text": [
      "Edge density (without boundary, meters of edge per hectare):\n",
      "0.0\n",
      "\n",
      "Edge density (with boundary, meters of edge per hectare):\n",
      "7.0259162808516\n",
      "\n",
      "Edge density (with boundary, meters of edge per square meter):\n",
      "0.0007025916280851601\n"
     ]
    }
   ],
   "source": [
    "print(\"Edge density (without boundary, meters of edge per hectare):\\n{}\\n\".format(\n",
    "    ls.edge_density()))\n",
    "print(\"Edge density (with boundary, meters of edge per hectare):\\n{}\\n\".format(\n",
    "    ls.edge_density(count_boundary=True)))\n",
    "print(\"Edge density (with boundary, meters of edge per square meter):\\n{}\".format(\n",
    "    ls.edge_density(count_boundary=True, hectares=False)))"
   ]
  },
  {
   "cell_type": "markdown",
   "metadata": {
    "ein.tags": "worksheet-0",
    "slideshow": {
     "slide_type": "-"
    }
   },
   "source": [
    "For more details, see the documentation for each metric's method.\n",
    "\n",
    "If we want to obtain a patch, class or landscape-level DataFrame with some customized metrics, instead of manually calling each metric's method with its respective parameters, we can use the `metrics_kws` argument of the `Landscape.compute_patch_metrics_df`, `Landscape.compute_patch_metrics_df` and/or `Landscape.compute_class_metrics_df` to set the keyword arguments to be passed to the some metric methods. For instance, if we wanted `proportion_of_landscape` as a fraction instead of a percentage and `edge_density` to include the boundary, we can do it as follows:"
   ]
  },
  {
   "cell_type": "code",
   "execution_count": 13,
   "metadata": {
    "autoscroll": false,
    "collapsed": false,
    "ein.hycell": false,
    "ein.tags": "worksheet-0",
    "slideshow": {
     "slide_type": "-"
    }
   },
   "outputs": [
    {
     "data": {
      "text/html": [
       "<div>\n",
       "<style scoped>\n",
       "    .dataframe tbody tr th:only-of-type {\n",
       "        vertical-align: middle;\n",
       "    }\n",
       "\n",
       "    .dataframe tbody tr th {\n",
       "        vertical-align: top;\n",
       "    }\n",
       "\n",
       "    .dataframe thead th {\n",
       "        text-align: right;\n",
       "    }\n",
       "</style>\n",
       "<table border=\"1\" class=\"dataframe\">\n",
       "  <thead>\n",
       "    <tr style=\"text-align: right;\">\n",
       "      <th></th>\n",
       "      <th>total_area</th>\n",
       "      <th>proportion_of_landscape</th>\n",
       "      <th>number_of_patches</th>\n",
       "      <th>patch_density</th>\n",
       "      <th>largest_patch_index</th>\n",
       "      <th>total_edge</th>\n",
       "      <th>edge_density</th>\n",
       "      <th>landscape_shape_index</th>\n",
       "      <th>area_mn</th>\n",
       "      <th>area_am</th>\n",
       "      <th>...</th>\n",
       "      <th>fractal_dimension_md</th>\n",
       "      <th>fractal_dimension_ra</th>\n",
       "      <th>fractal_dimension_sd</th>\n",
       "      <th>fractal_dimension_cv</th>\n",
       "      <th>euclidean_nearest_neighbor_mn</th>\n",
       "      <th>euclidean_nearest_neighbor_am</th>\n",
       "      <th>euclidean_nearest_neighbor_md</th>\n",
       "      <th>euclidean_nearest_neighbor_ra</th>\n",
       "      <th>euclidean_nearest_neighbor_sd</th>\n",
       "      <th>euclidean_nearest_neighbor_cv</th>\n",
       "    </tr>\n",
       "    <tr>\n",
       "      <th>class_val</th>\n",
       "      <th></th>\n",
       "      <th></th>\n",
       "      <th></th>\n",
       "      <th></th>\n",
       "      <th></th>\n",
       "      <th></th>\n",
       "      <th></th>\n",
       "      <th></th>\n",
       "      <th></th>\n",
       "      <th></th>\n",
       "      <th></th>\n",
       "      <th></th>\n",
       "      <th></th>\n",
       "      <th></th>\n",
       "      <th></th>\n",
       "      <th></th>\n",
       "      <th></th>\n",
       "      <th></th>\n",
       "      <th></th>\n",
       "      <th></th>\n",
       "      <th></th>\n",
       "    </tr>\n",
       "  </thead>\n",
       "  <tbody>\n",
       "    <tr>\n",
       "      <th>1</th>\n",
       "      <td>63527.699194</td>\n",
       "      <td>0.087659</td>\n",
       "      <td>531</td>\n",
       "      <td>0.073270</td>\n",
       "      <td>1.206603</td>\n",
       "      <td>3.844800e+06</td>\n",
       "      <td>5.713851</td>\n",
       "      <td>41.072713</td>\n",
       "      <td>119.637852</td>\n",
       "      <td>2423.290077</td>\n",
       "      <td>...</td>\n",
       "      <td>1.088307</td>\n",
       "      <td>0.217492</td>\n",
       "      <td>0.037986</td>\n",
       "      <td>3.483847</td>\n",
       "      <td>875.739134</td>\n",
       "      <td>584.499442</td>\n",
       "      <td>599.979691</td>\n",
       "      <td>6771.857983</td>\n",
       "      <td>806.184967</td>\n",
       "      <td>92.057661</td>\n",
       "    </tr>\n",
       "    <tr>\n",
       "      <th>2</th>\n",
       "      <td>661185.237955</td>\n",
       "      <td>0.912341</td>\n",
       "      <td>26</td>\n",
       "      <td>0.003588</td>\n",
       "      <td>90.727163</td>\n",
       "      <td>3.844800e+06</td>\n",
       "      <td>6.617338</td>\n",
       "      <td>14.744423</td>\n",
       "      <td>25430.201460</td>\n",
       "      <td>653861.442272</td>\n",
       "      <td>...</td>\n",
       "      <td>1.077818</td>\n",
       "      <td>0.234114</td>\n",
       "      <td>0.051352</td>\n",
       "      <td>4.748141</td>\n",
       "      <td>245.826406</td>\n",
       "      <td>200.135431</td>\n",
       "      <td>211.796230</td>\n",
       "      <td>247.205228</td>\n",
       "      <td>75.622392</td>\n",
       "      <td>30.762518</td>\n",
       "    </tr>\n",
       "  </tbody>\n",
       "</table>\n",
       "<p>2 rows × 38 columns</p>\n",
       "</div>"
      ],
      "text/plain": [
       "              total_area  proportion_of_landscape  number_of_patches  \\\n",
       "class_val                                                              \n",
       "1           63527.699194                 0.087659                531   \n",
       "2          661185.237955                 0.912341                 26   \n",
       "\n",
       "           patch_density  largest_patch_index    total_edge  edge_density  \\\n",
       "class_val                                                                   \n",
       "1               0.073270             1.206603  3.844800e+06      5.713851   \n",
       "2               0.003588            90.727163  3.844800e+06      6.617338   \n",
       "\n",
       "           landscape_shape_index       area_mn        area_am  ...  \\\n",
       "class_val                                                      ...   \n",
       "1                      41.072713    119.637852    2423.290077  ...   \n",
       "2                      14.744423  25430.201460  653861.442272  ...   \n",
       "\n",
       "           fractal_dimension_md  fractal_dimension_ra  fractal_dimension_sd  \\\n",
       "class_val                                                                     \n",
       "1                      1.088307              0.217492              0.037986   \n",
       "2                      1.077818              0.234114              0.051352   \n",
       "\n",
       "           fractal_dimension_cv  euclidean_nearest_neighbor_mn  \\\n",
       "class_val                                                        \n",
       "1                      3.483847                     875.739134   \n",
       "2                      4.748141                     245.826406   \n",
       "\n",
       "           euclidean_nearest_neighbor_am  euclidean_nearest_neighbor_md  \\\n",
       "class_val                                                                 \n",
       "1                             584.499442                     599.979691   \n",
       "2                             200.135431                     211.796230   \n",
       "\n",
       "           euclidean_nearest_neighbor_ra  euclidean_nearest_neighbor_sd  \\\n",
       "class_val                                                                 \n",
       "1                            6771.857983                     806.184967   \n",
       "2                             247.205228                      75.622392   \n",
       "\n",
       "           euclidean_nearest_neighbor_cv  \n",
       "class_val                                 \n",
       "1                              92.057661  \n",
       "2                              30.762518  \n",
       "\n",
       "[2 rows x 38 columns]"
      ]
     },
     "execution_count": 13,
     "metadata": {},
     "output_type": "execute_result"
    }
   ],
   "source": [
    "custom_class_metrics_df = ls.compute_class_metrics_df(\n",
    "    metrics_kws={\n",
    "        'proportion_of_landscape': {'percent': False},\n",
    "        'edge_density': {'count_boundary': True}\n",
    "    })\n",
    "custom_class_metrics_df"
   ]
  },
  {
   "cell_type": "markdown",
   "metadata": {
    "ein.tags": "worksheet-0",
    "slideshow": {
     "slide_type": "-"
    }
   },
   "source": [
    "Note that the values for `proportion_of_landscape` and `edge_density` are different now than when we computed them with the default arguments for their respective methods (in the [class_metrics_df](#class-metrics-df) and [subset_class_metrics_df](#subset-class-metrics-df) above).\n",
    "\n",
    "Note also that the `custom_class_metrics_df` does not only feature `proportion_of_landscape` and `edge_density` but features all the available metrics instead. This is because the `metrics_kws` argument does not imply that only the the metrics defined on it will be computed, only that the metrics defined on it will be computed with the specified arguments.\n",
    "\n",
    "We might choose to only compute a reduced set of metrics, some of which with non-default arguments, by setting both the `metrics` and `metric_kws` arguments:"
   ]
  },
  {
   "cell_type": "code",
   "execution_count": 14,
   "metadata": {
    "autoscroll": false,
    "collapsed": false,
    "ein.hycell": false,
    "ein.tags": "worksheet-0",
    "slideshow": {
     "slide_type": "-"
    }
   },
   "outputs": [
    {
     "data": {
      "text/html": [
       "<div>\n",
       "<style scoped>\n",
       "    .dataframe tbody tr th:only-of-type {\n",
       "        vertical-align: middle;\n",
       "    }\n",
       "\n",
       "    .dataframe tbody tr th {\n",
       "        vertical-align: top;\n",
       "    }\n",
       "\n",
       "    .dataframe thead th {\n",
       "        text-align: right;\n",
       "    }\n",
       "</style>\n",
       "<table border=\"1\" class=\"dataframe\">\n",
       "  <thead>\n",
       "    <tr style=\"text-align: right;\">\n",
       "      <th></th>\n",
       "      <th>proportion_of_landscape</th>\n",
       "      <th>edge_density</th>\n",
       "      <th>fractal_dimension_am</th>\n",
       "    </tr>\n",
       "    <tr>\n",
       "      <th>class_val</th>\n",
       "      <th></th>\n",
       "      <th></th>\n",
       "      <th></th>\n",
       "    </tr>\n",
       "  </thead>\n",
       "  <tbody>\n",
       "    <tr>\n",
       "      <th>1</th>\n",
       "      <td>0.087659</td>\n",
       "      <td>5.713851</td>\n",
       "      <td>1.143977</td>\n",
       "    </tr>\n",
       "    <tr>\n",
       "      <th>2</th>\n",
       "      <td>0.912341</td>\n",
       "      <td>6.617338</td>\n",
       "      <td>1.233533</td>\n",
       "    </tr>\n",
       "  </tbody>\n",
       "</table>\n",
       "</div>"
      ],
      "text/plain": [
       "           proportion_of_landscape  edge_density  fractal_dimension_am\n",
       "class_val                                                             \n",
       "1                         0.087659      5.713851              1.143977\n",
       "2                         0.912341      6.617338              1.233533"
      ]
     },
     "execution_count": 14,
     "metadata": {},
     "output_type": "execute_result"
    }
   ],
   "source": [
    "custom_subset_class_metrics_df = ls.compute_class_metrics_df(\n",
    "    metrics=['proportion_of_landscape', 'edge_density', 'fractal_dimension_am'],\n",
    "    metrics_kws={\n",
    "        'proportion_of_landscape': {'percent': False}, \n",
    "        'edge_density': {'count_boundary': True}\n",
    "    })\n",
    "custom_subset_class_metrics_df"
   ]
  },
  {
   "cell_type": "markdown",
   "metadata": {
    "ein.tags": "worksheet-0",
    "slideshow": {
     "slide_type": "-"
    }
   },
   "source": [
    "The same could be done for the `Landscape.compute_patch_metrics_df` or `Landscape.compute_landscape_metrics_df` methods. Check the documentation of each metric's method for more details on how they might be customized through their arguments."
   ]
  },
  {
   "cell_type": "markdown",
   "metadata": {
    "ein.tags": "worksheet-0",
    "slideshow": {
     "slide_type": "-"
    }
   },
   "source": [
    "## Spatio-temporal analysis"
   ]
  },
  {
   "cell_type": "markdown",
   "metadata": {
    "ein.tags": "worksheet-0",
    "slideshow": {
     "slide_type": "-"
    }
   },
   "source": [
    "We are often interested in the analysis of the temporal evolution of the configuration and composition of a particular landscape. To this end, we can use the class `SpatioTemporalAnalysis`, which we can instantiate with a temporally-ordered sequence of landscape snapshots.\n",
    "\n",
    "In this case, we will use the three extracts of the Canton of Vaud from the [CORINE Land Cover datasets](https://land.copernicus.eu/pan-european/corine-land-cover) for the years 2000, 2006 and 2012."
   ]
  },
  {
   "cell_type": "code",
   "execution_count": 15,
   "metadata": {
    "autoscroll": false,
    "collapsed": false,
    "ein.hycell": false,
    "ein.tags": "worksheet-0",
    "slideshow": {
     "slide_type": "-"
    }
   },
   "outputs": [],
   "source": [
    "input_fnames = [\n",
    "    '../data/clc/vaud_g100_clc00_V18_5.tif',\n",
    "    '../data/clc/vaud_g100_clc06_V18_5a.tif',\n",
    "    '../data/clc/vaud_g100_clc12_V18_5a.tif'\n",
    "]\n",
    "\n",
    "sta = pls.SpatioTemporalAnalysis(input_fnames, dates=[2000, 2006, 2012])"
   ]
  },
  {
   "cell_type": "markdown",
   "metadata": {
    "ein.tags": "worksheet-0",
    "slideshow": {
     "slide_type": "-"
    }
   },
   "source": [
    "### Spatio-temporal DataFrames"
   ]
  },
  {
   "cell_type": "markdown",
   "metadata": {
    "ein.tags": "worksheet-0",
    "slideshow": {
     "slide_type": "-"
    }
   },
   "source": [
    "By now, `SpatioTemporalAnalysis` only supports class and landscape-level metrics, which are available as [properties](https://docs.python.org/3/howto/descriptor.html#properties) of our `SpatioTemporalAnalysis` instance. For instance, a DataFrame of the class-level metrics can be obtained as follows:"
   ]
  },
  {
   "cell_type": "code",
   "execution_count": 16,
   "metadata": {
    "autoscroll": false,
    "collapsed": false,
    "ein.hycell": false,
    "ein.tags": "worksheet-0",
    "slideshow": {
     "slide_type": "-"
    }
   },
   "outputs": [
    {
     "data": {
      "text/html": [
       "<div>\n",
       "<style scoped>\n",
       "    .dataframe tbody tr th:only-of-type {\n",
       "        vertical-align: middle;\n",
       "    }\n",
       "\n",
       "    .dataframe tbody tr th {\n",
       "        vertical-align: top;\n",
       "    }\n",
       "\n",
       "    .dataframe thead th {\n",
       "        text-align: right;\n",
       "    }\n",
       "</style>\n",
       "<table border=\"1\" class=\"dataframe\">\n",
       "  <thead>\n",
       "    <tr style=\"text-align: right;\">\n",
       "      <th></th>\n",
       "      <th>metric</th>\n",
       "      <th>total_area</th>\n",
       "      <th>proportion_of_landscape</th>\n",
       "      <th>number_of_patches</th>\n",
       "      <th>patch_density</th>\n",
       "      <th>largest_patch_index</th>\n",
       "      <th>total_edge</th>\n",
       "      <th>edge_density</th>\n",
       "      <th>landscape_shape_index</th>\n",
       "      <th>area_mn</th>\n",
       "      <th>area_am</th>\n",
       "      <th>...</th>\n",
       "      <th>fractal_dimension_md</th>\n",
       "      <th>fractal_dimension_ra</th>\n",
       "      <th>fractal_dimension_sd</th>\n",
       "      <th>fractal_dimension_cv</th>\n",
       "      <th>euclidean_nearest_neighbor_mn</th>\n",
       "      <th>euclidean_nearest_neighbor_am</th>\n",
       "      <th>euclidean_nearest_neighbor_md</th>\n",
       "      <th>euclidean_nearest_neighbor_ra</th>\n",
       "      <th>euclidean_nearest_neighbor_sd</th>\n",
       "      <th>euclidean_nearest_neighbor_cv</th>\n",
       "    </tr>\n",
       "    <tr>\n",
       "      <th>class_val</th>\n",
       "      <th>dates</th>\n",
       "      <th></th>\n",
       "      <th></th>\n",
       "      <th></th>\n",
       "      <th></th>\n",
       "      <th></th>\n",
       "      <th></th>\n",
       "      <th></th>\n",
       "      <th></th>\n",
       "      <th></th>\n",
       "      <th></th>\n",
       "      <th></th>\n",
       "      <th></th>\n",
       "      <th></th>\n",
       "      <th></th>\n",
       "      <th></th>\n",
       "      <th></th>\n",
       "      <th></th>\n",
       "      <th></th>\n",
       "      <th></th>\n",
       "      <th></th>\n",
       "      <th></th>\n",
       "    </tr>\n",
       "  </thead>\n",
       "  <tbody>\n",
       "    <tr>\n",
       "      <th rowspan=\"3\" valign=\"top\">1</th>\n",
       "      <th>2000</th>\n",
       "      <td>63527.7</td>\n",
       "      <td>8.76591</td>\n",
       "      <td>531</td>\n",
       "      <td>0.0732704</td>\n",
       "      <td>1.2066</td>\n",
       "      <td>3.8448e+06</td>\n",
       "      <td>5.30527</td>\n",
       "      <td>41.0727</td>\n",
       "      <td>119.638</td>\n",
       "      <td>2423.29</td>\n",
       "      <td>...</td>\n",
       "      <td>1.08831</td>\n",
       "      <td>0.217492</td>\n",
       "      <td>0.0379863</td>\n",
       "      <td>3.48385</td>\n",
       "      <td>875.739</td>\n",
       "      <td>584.499</td>\n",
       "      <td>599.98</td>\n",
       "      <td>6771.86</td>\n",
       "      <td>806.185</td>\n",
       "      <td>92.0577</td>\n",
       "    </tr>\n",
       "    <tr>\n",
       "      <th>2006</th>\n",
       "      <td>65404.6</td>\n",
       "      <td>9.03162</td>\n",
       "      <td>529</td>\n",
       "      <td>0.0730488</td>\n",
       "      <td>1.30153</td>\n",
       "      <td>3.8611e+06</td>\n",
       "      <td>5.33173</td>\n",
       "      <td>40.7919</td>\n",
       "      <td>123.638</td>\n",
       "      <td>2486.79</td>\n",
       "      <td>...</td>\n",
       "      <td>1.08955</td>\n",
       "      <td>0.216726</td>\n",
       "      <td>0.0373499</td>\n",
       "      <td>3.42193</td>\n",
       "      <td>883.012</td>\n",
       "      <td>591.363</td>\n",
       "      <td>632.434</td>\n",
       "      <td>6771.86</td>\n",
       "      <td>787.068</td>\n",
       "      <td>89.1344</td>\n",
       "    </tr>\n",
       "    <tr>\n",
       "      <th>2012</th>\n",
       "      <td>65745.5</td>\n",
       "      <td>9.07942</td>\n",
       "      <td>529</td>\n",
       "      <td>0.0730546</td>\n",
       "      <td>1.30385</td>\n",
       "      <td>3.8737e+06</td>\n",
       "      <td>5.34955</td>\n",
       "      <td>40.8029</td>\n",
       "      <td>124.283</td>\n",
       "      <td>2482.29</td>\n",
       "      <td>...</td>\n",
       "      <td>1.08989</td>\n",
       "      <td>0.216925</td>\n",
       "      <td>0.0373281</td>\n",
       "      <td>3.42032</td>\n",
       "      <td>883.75</td>\n",
       "      <td>591.276</td>\n",
       "      <td>640.291</td>\n",
       "      <td>6771.86</td>\n",
       "      <td>781.065</td>\n",
       "      <td>88.3807</td>\n",
       "    </tr>\n",
       "    <tr>\n",
       "      <th rowspan=\"3\" valign=\"top\">2</th>\n",
       "      <th>2000</th>\n",
       "      <td>661185</td>\n",
       "      <td>91.2341</td>\n",
       "      <td>26</td>\n",
       "      <td>0.00358763</td>\n",
       "      <td>90.7272</td>\n",
       "      <td>3.8448e+06</td>\n",
       "      <td>5.30527</td>\n",
       "      <td>14.7444</td>\n",
       "      <td>25430.2</td>\n",
       "      <td>653861</td>\n",
       "      <td>...</td>\n",
       "      <td>1.07782</td>\n",
       "      <td>0.234114</td>\n",
       "      <td>0.0513524</td>\n",
       "      <td>4.74814</td>\n",
       "      <td>245.826</td>\n",
       "      <td>200.135</td>\n",
       "      <td>211.796</td>\n",
       "      <td>247.205</td>\n",
       "      <td>75.6224</td>\n",
       "      <td>30.7625</td>\n",
       "    </tr>\n",
       "    <tr>\n",
       "      <th>2006</th>\n",
       "      <td>658768</td>\n",
       "      <td>90.9684</td>\n",
       "      <td>32</td>\n",
       "      <td>0.00441883</td>\n",
       "      <td>90.5291</td>\n",
       "      <td>3.8611e+06</td>\n",
       "      <td>5.33173</td>\n",
       "      <td>14.8922</td>\n",
       "      <td>20586.5</td>\n",
       "      <td>652424</td>\n",
       "      <td>...</td>\n",
       "      <td>1.07411</td>\n",
       "      <td>0.235312</td>\n",
       "      <td>0.0470818</td>\n",
       "      <td>4.37251</td>\n",
       "      <td>297.874</td>\n",
       "      <td>200.441</td>\n",
       "      <td>211.796</td>\n",
       "      <td>699.976</td>\n",
       "      <td>180.313</td>\n",
       "      <td>60.5332</td>\n",
       "    </tr>\n",
       "    <tr>\n",
       "      <th>2012</th>\n",
       "      <td>658370</td>\n",
       "      <td>90.9206</td>\n",
       "      <td>33</td>\n",
       "      <td>0.00455728</td>\n",
       "      <td>90.4761</td>\n",
       "      <td>3.8737e+06</td>\n",
       "      <td>5.34955</td>\n",
       "      <td>14.946</td>\n",
       "      <td>19950.6</td>\n",
       "      <td>651951</td>\n",
       "      <td>...</td>\n",
       "      <td>1.07109</td>\n",
       "      <td>0.235582</td>\n",
       "      <td>0.0460633</td>\n",
       "      <td>4.27763</td>\n",
       "      <td>297.938</td>\n",
       "      <td>200.443</td>\n",
       "      <td>223.599</td>\n",
       "      <td>699.976</td>\n",
       "      <td>177.56</td>\n",
       "      <td>59.5963</td>\n",
       "    </tr>\n",
       "  </tbody>\n",
       "</table>\n",
       "<p>6 rows × 38 columns</p>\n",
       "</div>"
      ],
      "text/plain": [
       "metric          total_area proportion_of_landscape number_of_patches  \\\n",
       "class_val dates                                                        \n",
       "1         2000     63527.7                 8.76591               531   \n",
       "          2006     65404.6                 9.03162               529   \n",
       "          2012     65745.5                 9.07942               529   \n",
       "2         2000      661185                 91.2341                26   \n",
       "          2006      658768                 90.9684                32   \n",
       "          2012      658370                 90.9206                33   \n",
       "\n",
       "metric          patch_density largest_patch_index  total_edge edge_density  \\\n",
       "class_val dates                                                              \n",
       "1         2000      0.0732704              1.2066  3.8448e+06      5.30527   \n",
       "          2006      0.0730488             1.30153  3.8611e+06      5.33173   \n",
       "          2012      0.0730546             1.30385  3.8737e+06      5.34955   \n",
       "2         2000     0.00358763             90.7272  3.8448e+06      5.30527   \n",
       "          2006     0.00441883             90.5291  3.8611e+06      5.33173   \n",
       "          2012     0.00455728             90.4761  3.8737e+06      5.34955   \n",
       "\n",
       "metric          landscape_shape_index  area_mn  area_am  ...  \\\n",
       "class_val dates                                          ...   \n",
       "1         2000                41.0727  119.638  2423.29  ...   \n",
       "          2006                40.7919  123.638  2486.79  ...   \n",
       "          2012                40.8029  124.283  2482.29  ...   \n",
       "2         2000                14.7444  25430.2   653861  ...   \n",
       "          2006                14.8922  20586.5   652424  ...   \n",
       "          2012                 14.946  19950.6   651951  ...   \n",
       "\n",
       "metric          fractal_dimension_md fractal_dimension_ra  \\\n",
       "class_val dates                                             \n",
       "1         2000               1.08831             0.217492   \n",
       "          2006               1.08955             0.216726   \n",
       "          2012               1.08989             0.216925   \n",
       "2         2000               1.07782             0.234114   \n",
       "          2006               1.07411             0.235312   \n",
       "          2012               1.07109             0.235582   \n",
       "\n",
       "metric          fractal_dimension_sd fractal_dimension_cv  \\\n",
       "class_val dates                                             \n",
       "1         2000             0.0379863              3.48385   \n",
       "          2006             0.0373499              3.42193   \n",
       "          2012             0.0373281              3.42032   \n",
       "2         2000             0.0513524              4.74814   \n",
       "          2006             0.0470818              4.37251   \n",
       "          2012             0.0460633              4.27763   \n",
       "\n",
       "metric          euclidean_nearest_neighbor_mn euclidean_nearest_neighbor_am  \\\n",
       "class_val dates                                                               \n",
       "1         2000                        875.739                       584.499   \n",
       "          2006                        883.012                       591.363   \n",
       "          2012                         883.75                       591.276   \n",
       "2         2000                        245.826                       200.135   \n",
       "          2006                        297.874                       200.441   \n",
       "          2012                        297.938                       200.443   \n",
       "\n",
       "metric          euclidean_nearest_neighbor_md euclidean_nearest_neighbor_ra  \\\n",
       "class_val dates                                                               \n",
       "1         2000                         599.98                       6771.86   \n",
       "          2006                        632.434                       6771.86   \n",
       "          2012                        640.291                       6771.86   \n",
       "2         2000                        211.796                       247.205   \n",
       "          2006                        211.796                       699.976   \n",
       "          2012                        223.599                       699.976   \n",
       "\n",
       "metric          euclidean_nearest_neighbor_sd euclidean_nearest_neighbor_cv  \n",
       "class_val dates                                                              \n",
       "1         2000                        806.185                       92.0577  \n",
       "          2006                        787.068                       89.1344  \n",
       "          2012                        781.065                       88.3807  \n",
       "2         2000                        75.6224                       30.7625  \n",
       "          2006                        180.313                       60.5332  \n",
       "          2012                         177.56                       59.5963  \n",
       "\n",
       "[6 rows x 38 columns]"
      ]
     },
     "execution_count": 16,
     "metadata": {},
     "output_type": "execute_result"
    }
   ],
   "source": [
    "sta.class_metrics_df"
   ]
  },
  {
   "cell_type": "markdown",
   "metadata": {
    "ein.tags": "worksheet-0",
    "slideshow": {
     "slide_type": "-"
    }
   },
   "source": [
    "Again, we can use the operations of any pandas DataFrame. For instance, we can get all the metrics for the *urban* class (`class_val` of 1) in 2000"
   ]
  },
  {
   "cell_type": "code",
   "execution_count": 17,
   "metadata": {
    "autoscroll": false,
    "collapsed": false,
    "ein.hycell": false,
    "ein.tags": "worksheet-0",
    "slideshow": {
     "slide_type": "-"
    }
   },
   "outputs": [
    {
     "data": {
      "text/plain": [
       "metric\n",
       "total_area                          63527.7\n",
       "proportion_of_landscape             8.76591\n",
       "number_of_patches                       531\n",
       "patch_density                     0.0732704\n",
       "largest_patch_index                  1.2066\n",
       "total_edge                       3.8448e+06\n",
       "edge_density                        5.30527\n",
       "landscape_shape_index               41.0727\n",
       "area_mn                             119.638\n",
       "area_am                             2423.29\n",
       "area_md                             42.9971\n",
       "area_ra                             8743.41\n",
       "area_sd                              524.98\n",
       "area_cv                             438.808\n",
       "perimeter_area_ratio_mn             111.829\n",
       "perimeter_area_ratio_am             65.1826\n",
       "perimeter_area_ratio_md             107.144\n",
       "perimeter_area_ratio_ra             377.774\n",
       "perimeter_area_ratio_sd             49.4216\n",
       "perimeter_area_ratio_cv             44.1938\n",
       "shape_index_mn                      1.91698\n",
       "shape_index_am                      3.69741\n",
       "shape_index_md                       1.7909\n",
       "shape_index_ra                      6.12719\n",
       "shape_index_sd                     0.673253\n",
       "shape_index_cv                      35.1205\n",
       "fractal_dimension_mn                1.09035\n",
       "fractal_dimension_am                1.14398\n",
       "fractal_dimension_md                1.08831\n",
       "fractal_dimension_ra               0.217492\n",
       "fractal_dimension_sd              0.0379863\n",
       "fractal_dimension_cv                3.48385\n",
       "euclidean_nearest_neighbor_mn       875.739\n",
       "euclidean_nearest_neighbor_am       584.499\n",
       "euclidean_nearest_neighbor_md        599.98\n",
       "euclidean_nearest_neighbor_ra       6771.86\n",
       "euclidean_nearest_neighbor_sd       806.185\n",
       "euclidean_nearest_neighbor_cv       92.0577\n",
       "Name: (1, 2000), dtype: object"
      ]
     },
     "execution_count": 17,
     "metadata": {},
     "output_type": "execute_result"
    }
   ],
   "source": [
    "sta.class_metrics_df.loc[(1, 2000)]"
   ]
  },
  {
   "cell_type": "markdown",
   "metadata": {
    "ein.tags": "worksheet-0",
    "slideshow": {
     "slide_type": "-"
    }
   },
   "source": [
    "Similarly, the DataFrame of landscape metrics can be obtained as follows:"
   ]
  },
  {
   "cell_type": "code",
   "execution_count": 18,
   "metadata": {
    "autoscroll": false,
    "collapsed": false,
    "ein.hycell": false,
    "ein.tags": "worksheet-0",
    "slideshow": {
     "slide_type": "-"
    }
   },
   "outputs": [
    {
     "data": {
      "text/html": [
       "<div>\n",
       "<style scoped>\n",
       "    .dataframe tbody tr th:only-of-type {\n",
       "        vertical-align: middle;\n",
       "    }\n",
       "\n",
       "    .dataframe tbody tr th {\n",
       "        vertical-align: top;\n",
       "    }\n",
       "\n",
       "    .dataframe thead th {\n",
       "        text-align: right;\n",
       "    }\n",
       "</style>\n",
       "<table border=\"1\" class=\"dataframe\">\n",
       "  <thead>\n",
       "    <tr style=\"text-align: right;\">\n",
       "      <th>metric</th>\n",
       "      <th>total_area</th>\n",
       "      <th>number_of_patches</th>\n",
       "      <th>patch_density</th>\n",
       "      <th>largest_patch_index</th>\n",
       "      <th>total_edge</th>\n",
       "      <th>edge_density</th>\n",
       "      <th>landscape_shape_index</th>\n",
       "      <th>area_mn</th>\n",
       "      <th>area_am</th>\n",
       "      <th>area_md</th>\n",
       "      <th>...</th>\n",
       "      <th>fractal_dimension_sd</th>\n",
       "      <th>fractal_dimension_cv</th>\n",
       "      <th>euclidean_nearest_neighbor_mn</th>\n",
       "      <th>euclidean_nearest_neighbor_am</th>\n",
       "      <th>euclidean_nearest_neighbor_md</th>\n",
       "      <th>euclidean_nearest_neighbor_ra</th>\n",
       "      <th>euclidean_nearest_neighbor_sd</th>\n",
       "      <th>euclidean_nearest_neighbor_cv</th>\n",
       "      <th>contagion</th>\n",
       "      <th>shannon_diversity_index</th>\n",
       "    </tr>\n",
       "    <tr>\n",
       "      <th>dates</th>\n",
       "      <th></th>\n",
       "      <th></th>\n",
       "      <th></th>\n",
       "      <th></th>\n",
       "      <th></th>\n",
       "      <th></th>\n",
       "      <th></th>\n",
       "      <th></th>\n",
       "      <th></th>\n",
       "      <th></th>\n",
       "      <th></th>\n",
       "      <th></th>\n",
       "      <th></th>\n",
       "      <th></th>\n",
       "      <th></th>\n",
       "      <th></th>\n",
       "      <th></th>\n",
       "      <th></th>\n",
       "      <th></th>\n",
       "      <th></th>\n",
       "      <th></th>\n",
       "    </tr>\n",
       "  </thead>\n",
       "  <tbody>\n",
       "    <tr>\n",
       "      <th>2000</th>\n",
       "      <td>724713</td>\n",
       "      <td>557</td>\n",
       "      <td>0.076858</td>\n",
       "      <td>90.7272</td>\n",
       "      <td>0</td>\n",
       "      <td>0</td>\n",
       "      <td>14.9529</td>\n",
       "      <td>1301.1</td>\n",
       "      <td>596757</td>\n",
       "      <td>42.9971</td>\n",
       "      <td>...</td>\n",
       "      <td>0.0387578</td>\n",
       "      <td>3.55595</td>\n",
       "      <td>846.336</td>\n",
       "      <td>233.828</td>\n",
       "      <td>565.666</td>\n",
       "      <td>6771.86</td>\n",
       "      <td>798.449</td>\n",
       "      <td>94.3418</td>\n",
       "      <td>70.7922</td>\n",
       "      <td>0.297088</td>\n",
       "    </tr>\n",
       "    <tr>\n",
       "      <th>2006</th>\n",
       "      <td>724173</td>\n",
       "      <td>561</td>\n",
       "      <td>0.0774677</td>\n",
       "      <td>90.5291</td>\n",
       "      <td>0</td>\n",
       "      <td>0</td>\n",
       "      <td>15.1198</td>\n",
       "      <td>1290.86</td>\n",
       "      <td>593724</td>\n",
       "      <td>43.997</td>\n",
       "      <td>...</td>\n",
       "      <td>0.0381253</td>\n",
       "      <td>3.49566</td>\n",
       "      <td>849.636</td>\n",
       "      <td>235.747</td>\n",
       "      <td>599.98</td>\n",
       "      <td>6771.86</td>\n",
       "      <td>777.439</td>\n",
       "      <td>91.5026</td>\n",
       "      <td>70.289</td>\n",
       "      <td>0.303269</td>\n",
       "    </tr>\n",
       "    <tr>\n",
       "      <th>2012</th>\n",
       "      <td>724116</td>\n",
       "      <td>562</td>\n",
       "      <td>0.0776119</td>\n",
       "      <td>90.4761</td>\n",
       "      <td>0</td>\n",
       "      <td>0</td>\n",
       "      <td>15.1656</td>\n",
       "      <td>1288.46</td>\n",
       "      <td>592983</td>\n",
       "      <td>43.997</td>\n",
       "      <td>...</td>\n",
       "      <td>0.0380502</td>\n",
       "      <td>3.48921</td>\n",
       "      <td>849.352</td>\n",
       "      <td>235.929</td>\n",
       "      <td>599.98</td>\n",
       "      <td>6771.86</td>\n",
       "      <td>771.401</td>\n",
       "      <td>90.8223</td>\n",
       "      <td>70.184</td>\n",
       "      <td>0.304372</td>\n",
       "    </tr>\n",
       "  </tbody>\n",
       "</table>\n",
       "<p>3 rows × 39 columns</p>\n",
       "</div>"
      ],
      "text/plain": [
       "metric total_area number_of_patches patch_density largest_patch_index  \\\n",
       "dates                                                                   \n",
       "2000       724713               557      0.076858             90.7272   \n",
       "2006       724173               561     0.0774677             90.5291   \n",
       "2012       724116               562     0.0776119             90.4761   \n",
       "\n",
       "metric total_edge edge_density landscape_shape_index  area_mn area_am  \\\n",
       "dates                                                                   \n",
       "2000            0            0               14.9529   1301.1  596757   \n",
       "2006            0            0               15.1198  1290.86  593724   \n",
       "2012            0            0               15.1656  1288.46  592983   \n",
       "\n",
       "metric  area_md  ... fractal_dimension_sd fractal_dimension_cv  \\\n",
       "dates            ...                                             \n",
       "2000    42.9971  ...            0.0387578              3.55595   \n",
       "2006     43.997  ...            0.0381253              3.49566   \n",
       "2012     43.997  ...            0.0380502              3.48921   \n",
       "\n",
       "metric euclidean_nearest_neighbor_mn euclidean_nearest_neighbor_am  \\\n",
       "dates                                                                \n",
       "2000                         846.336                       233.828   \n",
       "2006                         849.636                       235.747   \n",
       "2012                         849.352                       235.929   \n",
       "\n",
       "metric euclidean_nearest_neighbor_md euclidean_nearest_neighbor_ra  \\\n",
       "dates                                                                \n",
       "2000                         565.666                       6771.86   \n",
       "2006                          599.98                       6771.86   \n",
       "2012                          599.98                       6771.86   \n",
       "\n",
       "metric euclidean_nearest_neighbor_sd euclidean_nearest_neighbor_cv contagion  \\\n",
       "dates                                                                          \n",
       "2000                         798.449                       94.3418   70.7922   \n",
       "2006                         777.439                       91.5026    70.289   \n",
       "2012                         771.401                       90.8223    70.184   \n",
       "\n",
       "metric shannon_diversity_index  \n",
       "dates                           \n",
       "2000                  0.297088  \n",
       "2006                  0.303269  \n",
       "2012                  0.304372  \n",
       "\n",
       "[3 rows x 39 columns]"
      ]
     },
     "execution_count": 18,
     "metadata": {},
     "output_type": "execute_result"
    }
   ],
   "source": [
    "sta.landscape_metrics_df"
   ]
  },
  {
   "cell_type": "markdown",
   "metadata": {
    "ein.tags": "worksheet-0",
    "slideshow": {
     "slide_type": "-"
    }
   },
   "source": [
    "### Customizing your spatio-temporal analysis"
   ]
  },
  {
   "cell_type": "markdown",
   "metadata": {
    "ein.tags": "worksheet-0",
    "slideshow": {
     "slide_type": "-"
    }
   },
   "source": [
    "As within the `Landscape` analysis, we can also choose to compute a subset of metrics only with the `metrics` argument, however, for `SpatioTemporalAnalysis` instances, we must pass it to the initialization method as in:"
   ]
  },
  {
   "cell_type": "code",
   "execution_count": 19,
   "metadata": {
    "autoscroll": false,
    "collapsed": false,
    "ein.hycell": false,
    "ein.tags": "worksheet-0",
    "slideshow": {
     "slide_type": "-"
    }
   },
   "outputs": [
    {
     "data": {
      "text/html": [
       "<div>\n",
       "<style scoped>\n",
       "    .dataframe tbody tr th:only-of-type {\n",
       "        vertical-align: middle;\n",
       "    }\n",
       "\n",
       "    .dataframe tbody tr th {\n",
       "        vertical-align: top;\n",
       "    }\n",
       "\n",
       "    .dataframe thead th {\n",
       "        text-align: right;\n",
       "    }\n",
       "</style>\n",
       "<table border=\"1\" class=\"dataframe\">\n",
       "  <thead>\n",
       "    <tr style=\"text-align: right;\">\n",
       "      <th></th>\n",
       "      <th>metric</th>\n",
       "      <th>edge_density</th>\n",
       "      <th>fractal_dimension_am</th>\n",
       "      <th>proportion_of_landscape</th>\n",
       "    </tr>\n",
       "    <tr>\n",
       "      <th>class_val</th>\n",
       "      <th>dates</th>\n",
       "      <th></th>\n",
       "      <th></th>\n",
       "      <th></th>\n",
       "    </tr>\n",
       "  </thead>\n",
       "  <tbody>\n",
       "    <tr>\n",
       "      <th rowspan=\"3\" valign=\"top\">1</th>\n",
       "      <th>2000</th>\n",
       "      <td>5.30527</td>\n",
       "      <td>1.14398</td>\n",
       "      <td>8.76591</td>\n",
       "    </tr>\n",
       "    <tr>\n",
       "      <th>2006</th>\n",
       "      <td>5.33173</td>\n",
       "      <td>1.13987</td>\n",
       "      <td>9.03162</td>\n",
       "    </tr>\n",
       "    <tr>\n",
       "      <th>2012</th>\n",
       "      <td>5.34955</td>\n",
       "      <td>1.13989</td>\n",
       "      <td>9.07942</td>\n",
       "    </tr>\n",
       "    <tr>\n",
       "      <th rowspan=\"3\" valign=\"top\">2</th>\n",
       "      <th>2000</th>\n",
       "      <td>5.30527</td>\n",
       "      <td>1.23353</td>\n",
       "      <td>91.2341</td>\n",
       "    </tr>\n",
       "    <tr>\n",
       "      <th>2006</th>\n",
       "      <td>5.33173</td>\n",
       "      <td>1.23471</td>\n",
       "      <td>90.9684</td>\n",
       "    </tr>\n",
       "    <tr>\n",
       "      <th>2012</th>\n",
       "      <td>5.34955</td>\n",
       "      <td>1.23497</td>\n",
       "      <td>90.9206</td>\n",
       "    </tr>\n",
       "  </tbody>\n",
       "</table>\n",
       "</div>"
      ],
      "text/plain": [
       "metric          edge_density fractal_dimension_am proportion_of_landscape\n",
       "class_val dates                                                          \n",
       "1         2000       5.30527              1.14398                 8.76591\n",
       "          2006       5.33173              1.13987                 9.03162\n",
       "          2012       5.34955              1.13989                 9.07942\n",
       "2         2000       5.30527              1.23353                 91.2341\n",
       "          2006       5.33173              1.23471                 90.9684\n",
       "          2012       5.34955              1.23497                 90.9206"
      ]
     },
     "execution_count": 19,
     "metadata": {},
     "output_type": "execute_result"
    }
   ],
   "source": [
    "sta = pls.SpatioTemporalAnalysis(\n",
    "    input_fnames, \n",
    "    metrics=['proportion_of_landscape', 'edge_density', 'fractal_dimension_am'], \n",
    "    dates=[2000, 2006, 2012])\n",
    "sta.class_metrics_df"
   ]
  },
  {
   "cell_type": "markdown",
   "metadata": {
    "ein.tags": "worksheet-0",
    "slideshow": {
     "slide_type": "-"
    }
   },
   "source": [
    "Similarly, we can choose to compute them only for a subset of classes through the `classes` argument. We can simoultaneously choose a subset of metrics as well as a subset of classes by specifying both the `metrics` and `classes` arguments. For instance, we can choose to only compute the above metrics and only for the *urban* class (value of 1):"
   ]
  },
  {
   "cell_type": "code",
   "execution_count": 20,
   "metadata": {
    "autoscroll": false,
    "collapsed": false,
    "ein.hycell": false,
    "ein.tags": "worksheet-0",
    "slideshow": {
     "slide_type": "-"
    }
   },
   "outputs": [
    {
     "data": {
      "text/html": [
       "<div>\n",
       "<style scoped>\n",
       "    .dataframe tbody tr th:only-of-type {\n",
       "        vertical-align: middle;\n",
       "    }\n",
       "\n",
       "    .dataframe tbody tr th {\n",
       "        vertical-align: top;\n",
       "    }\n",
       "\n",
       "    .dataframe thead th {\n",
       "        text-align: right;\n",
       "    }\n",
       "</style>\n",
       "<table border=\"1\" class=\"dataframe\">\n",
       "  <thead>\n",
       "    <tr style=\"text-align: right;\">\n",
       "      <th></th>\n",
       "      <th>metric</th>\n",
       "      <th>edge_density</th>\n",
       "      <th>fractal_dimension_am</th>\n",
       "      <th>landscape_shape_index</th>\n",
       "      <th>proportion_of_landscape</th>\n",
       "    </tr>\n",
       "    <tr>\n",
       "      <th>class_val</th>\n",
       "      <th>dates</th>\n",
       "      <th></th>\n",
       "      <th></th>\n",
       "      <th></th>\n",
       "      <th></th>\n",
       "    </tr>\n",
       "  </thead>\n",
       "  <tbody>\n",
       "    <tr>\n",
       "      <th rowspan=\"3\" valign=\"top\">1</th>\n",
       "      <th>2000</th>\n",
       "      <td>5.30527</td>\n",
       "      <td>1.14398</td>\n",
       "      <td>41.0727</td>\n",
       "      <td>8.76591</td>\n",
       "    </tr>\n",
       "    <tr>\n",
       "      <th>2006</th>\n",
       "      <td>5.33173</td>\n",
       "      <td>1.13987</td>\n",
       "      <td>40.7919</td>\n",
       "      <td>9.03162</td>\n",
       "    </tr>\n",
       "    <tr>\n",
       "      <th>2012</th>\n",
       "      <td>5.34955</td>\n",
       "      <td>1.13989</td>\n",
       "      <td>40.8029</td>\n",
       "      <td>9.07942</td>\n",
       "    </tr>\n",
       "  </tbody>\n",
       "</table>\n",
       "</div>"
      ],
      "text/plain": [
       "metric          edge_density fractal_dimension_am landscape_shape_index  \\\n",
       "class_val dates                                                           \n",
       "1         2000       5.30527              1.14398               41.0727   \n",
       "          2006       5.33173              1.13987               40.7919   \n",
       "          2012       5.34955              1.13989               40.8029   \n",
       "\n",
       "metric          proportion_of_landscape  \n",
       "class_val dates                          \n",
       "1         2000                  8.76591  \n",
       "          2006                  9.03162  \n",
       "          2012                  9.07942  "
      ]
     },
     "execution_count": 20,
     "metadata": {},
     "output_type": "execute_result"
    }
   ],
   "source": [
    "sta = pls.SpatioTemporalAnalysis(\n",
    "    input_fnames, metrics=[\n",
    "        'proportion_of_landscape',\n",
    "        'edge_density',\n",
    "        'fractal_dimension_am',\n",
    "        'landscape_shape_index',\n",
    "        'shannon_diversity_index'\n",
    "    ], classes=[1], dates=[2000, 2006, 2012])\n",
    "sta.class_metrics_df"
   ]
  },
  {
   "cell_type": "markdown",
   "metadata": {
    "ein.tags": "worksheet-0",
    "slideshow": {
     "slide_type": "-"
    }
   },
   "source": [
    "Finally, we can also customize how some metrics are computed through the `metrics_kws` argument. Again, for `SpatioTemporalAnalysis`, we must pass it to the initialization method."
   ]
  },
  {
   "cell_type": "code",
   "execution_count": 21,
   "metadata": {
    "autoscroll": false,
    "collapsed": false,
    "ein.hycell": false,
    "ein.tags": "worksheet-0",
    "slideshow": {
     "slide_type": "-"
    }
   },
   "outputs": [
    {
     "data": {
      "text/html": [
       "<div>\n",
       "<style scoped>\n",
       "    .dataframe tbody tr th:only-of-type {\n",
       "        vertical-align: middle;\n",
       "    }\n",
       "\n",
       "    .dataframe tbody tr th {\n",
       "        vertical-align: top;\n",
       "    }\n",
       "\n",
       "    .dataframe thead th {\n",
       "        text-align: right;\n",
       "    }\n",
       "</style>\n",
       "<table border=\"1\" class=\"dataframe\">\n",
       "  <thead>\n",
       "    <tr style=\"text-align: right;\">\n",
       "      <th></th>\n",
       "      <th>metric</th>\n",
       "      <th>edge_density</th>\n",
       "      <th>fractal_dimension_am</th>\n",
       "      <th>landscape_shape_index</th>\n",
       "      <th>proportion_of_landscape</th>\n",
       "    </tr>\n",
       "    <tr>\n",
       "      <th>class_val</th>\n",
       "      <th>dates</th>\n",
       "      <th></th>\n",
       "      <th></th>\n",
       "      <th></th>\n",
       "      <th></th>\n",
       "    </tr>\n",
       "  </thead>\n",
       "  <tbody>\n",
       "    <tr>\n",
       "      <th rowspan=\"3\" valign=\"top\">1</th>\n",
       "      <th>2000</th>\n",
       "      <td>5.71385</td>\n",
       "      <td>1.14398</td>\n",
       "      <td>41.0727</td>\n",
       "      <td>0.0876591</td>\n",
       "    </tr>\n",
       "    <tr>\n",
       "      <th>2006</th>\n",
       "      <td>5.7623</td>\n",
       "      <td>1.13987</td>\n",
       "      <td>40.7919</td>\n",
       "      <td>0.0903162</td>\n",
       "    </tr>\n",
       "    <tr>\n",
       "      <th>2012</th>\n",
       "      <td>5.77932</td>\n",
       "      <td>1.13989</td>\n",
       "      <td>40.8029</td>\n",
       "      <td>0.0907942</td>\n",
       "    </tr>\n",
       "  </tbody>\n",
       "</table>\n",
       "</div>"
      ],
      "text/plain": [
       "metric          edge_density fractal_dimension_am landscape_shape_index  \\\n",
       "class_val dates                                                           \n",
       "1         2000       5.71385              1.14398               41.0727   \n",
       "          2006        5.7623              1.13987               40.7919   \n",
       "          2012       5.77932              1.13989               40.8029   \n",
       "\n",
       "metric          proportion_of_landscape  \n",
       "class_val dates                          \n",
       "1         2000                0.0876591  \n",
       "          2006                0.0903162  \n",
       "          2012                0.0907942  "
      ]
     },
     "execution_count": 21,
     "metadata": {},
     "output_type": "execute_result"
    }
   ],
   "source": [
    "sta = pls.SpatioTemporalAnalysis(\n",
    "    input_fnames, metrics=[\n",
    "        'proportion_of_landscape',\n",
    "        'edge_density',\n",
    "        'fractal_dimension_am',\n",
    "        'landscape_shape_index',\n",
    "        'shannon_diversity_index'\n",
    "    ], classes=[1], dates=[2000, 2006, 2012], \n",
    "    metrics_kws={\n",
    "        'proportion_of_landscape': {'percent': False},\n",
    "        'edge_density': {'count_boundary': True}\n",
    "    })\n",
    "sta.class_metrics_df"
   ]
  },
  {
   "cell_type": "markdown",
   "metadata": {
    "ein.tags": "worksheet-0",
    "slideshow": {
     "slide_type": "-"
    }
   },
   "source": [
    "The fact that all the above arguments are passed to `SpatioTemporalAnalysis` initialization method means that once we have chosen a subset of metrics, classes or customized some metrics, we will not be able to modify such choices without having to re-initialize a `SpatioTemporalAnalysis` instance. Therefore, if you do not know which metrics or classes you will need, just compute them all and filter the DataFrames later if needed."
   ]
  },
  {
   "cell_type": "markdown",
   "metadata": {
    "ein.tags": "worksheet-0",
    "slideshow": {
     "slide_type": "-"
    }
   },
   "source": [
    "### Plots"
   ]
  },
  {
   "cell_type": "markdown",
   "metadata": {
    "ein.tags": "worksheet-0",
    "slideshow": {
     "slide_type": "-"
    }
   },
   "source": [
    "One of the most important features of `SpatioTemporalAnalysis` is to plot the evolution of the metrics."
   ]
  },
  {
   "cell_type": "markdown",
   "metadata": {
    "ein.tags": "worksheet-0",
    "slideshow": {
     "slide_type": "-"
    }
   },
   "source": [
    "#### Plotting a single metric"
   ]
  },
  {
   "cell_type": "markdown",
   "metadata": {
    "autoscroll": false,
    "ein.hycell": false,
    "ein.tags": "worksheet-0",
    "slideshow": {
     "slide_type": "-"
    }
   },
   "source": [
    "We can plot the `proportion_of_landscape` occupied by the *urban* class (`class_val` of 1) as in:"
   ]
  },
  {
   "cell_type": "code",
   "execution_count": 22,
   "metadata": {
    "autoscroll": false,
    "collapsed": false,
    "ein.hycell": false,
    "ein.tags": "worksheet-0",
    "slideshow": {
     "slide_type": "-"
    }
   },
   "outputs": [
    {
     "data": {
      "text/plain": [
       "<matplotlib.axes._subplots.AxesSubplot at 0x7f81f5edaef0>"
      ]
     },
     "execution_count": 22,
     "metadata": {},
     "output_type": "execute_result"
    },
    {
     "data": {
      "image/png": "[encoded data removed]",
      "text/plain": [
       "<Figure size 432x288 with 1 Axes>"
      ]
     },
     "metadata": {
      "needs_background": "light"
     },
     "output_type": "display_data"
    }
   ],
   "source": [
    "sta.plot_metric('proportion_of_landscape', class_val=1)"
   ]
  },
  {
   "cell_type": "markdown",
   "metadata": {
    "ein.tags": "worksheet-0",
    "slideshow": {
     "slide_type": "-"
    }
   },
   "source": [
    "If we want to plot the evolution of a metric at the landscape level, we can do so by using the same `plot_metric` method, but without setting the `class_val` argument. Note however that we cannot compute the `proportion_of_landscape` at the landscape level (we could but it makes no sense, the landscape always occupies 100% of the landscape). Similarly, some metrics such as `shannon_diversity_index` cannot be computed at the class level but only at the landscape level. See the documentation of each metric for more details, or [see above](available-metrics) the metrics that can be at each level.\n",
    "\n",
    "Let's then plot the area-weighted fractal dimension, that is `fractal_dimension_am`, at both the class and landscape level:"
   ]
  },
  {
   "cell_type": "code",
   "execution_count": 23,
   "metadata": {
    "autoscroll": false,
    "collapsed": false,
    "ein.hycell": false,
    "ein.tags": "worksheet-0",
    "slideshow": {
     "slide_type": "-"
    }
   },
   "outputs": [
    {
     "data": {
      "text/plain": [
       "<matplotlib.legend.Legend at 0x7f81f5e7ac50>"
      ]
     },
     "execution_count": 23,
     "metadata": {},
     "output_type": "execute_result"
    },
    {
     "data": {
      "image/png": "[encoded data removed]",
      "text/plain": [
       "<Figure size 432x288 with 1 Axes>"
      ]
     },
     "metadata": {
      "needs_background": "light"
     },
     "output_type": "display_data"
    }
   ],
   "source": [
    "ax = sta.plot_metric('fractal_dimension_am', class_val=1, \n",
    "                     plot_kws={'label': 'class level (urban)'})\n",
    "sta.plot_metric('fractal_dimension_am', ax=ax, plot_kws={'label': 'landscape level'})\n",
    "ax.legend()"
   ]
  },
  {
   "cell_type": "markdown",
   "metadata": {
    "ein.tags": "worksheet-0",
    "slideshow": {
     "slide_type": "-"
    }
   },
   "source": [
    "Note that we can pass keyword arguments to matplotlib's `plot` method through the `plt_kws` argument of `plot_metric`. See the documentation of  `SpatioTemporalAnalysis.plot_metric` for more details."
   ]
  },
  {
   "cell_type": "markdown",
   "metadata": {
    "ein.tags": "worksheet-0",
    "slideshow": {
     "slide_type": "-"
    }
   },
   "source": [
    "#### Plotting multiple metrics"
   ]
  },
  {
   "cell_type": "markdown",
   "metadata": {
    "ein.tags": "worksheet-0",
    "slideshow": {
     "slide_type": "-"
    }
   },
   "source": [
    "We can plot multiple metrics in a matplotlib axis grid through the `plot_metrics` method. For instance, we can plot all the metrics at the *urban* class level (`class_val` of 1) as in:"
   ]
  },
  {
   "cell_type": "code",
   "execution_count": 24,
   "metadata": {
    "autoscroll": false,
    "collapsed": false,
    "ein.hycell": false,
    "ein.tags": "worksheet-0",
    "slideshow": {
     "slide_type": "-"
    }
   },
   "outputs": [
    {
     "data": {
      "text/plain": [
       "Text(0.5, 0.98, 'Class-level metrics (urban)')"
      ]
     },
     "execution_count": 24,
     "metadata": {},
     "output_type": "execute_result"
    },
    {
     "data": {
      "image/png": "[encoded data removed]",
      "text/plain": [
       "<Figure size 864x576 with 4 Axes>"
      ]
     },
     "metadata": {
      "needs_background": "light"
     },
     "output_type": "display_data"
    }
   ],
   "source": [
    "fig, axes = sta.plot_metrics(class_val=1, num_cols=2)\n",
    "fig.suptitle('Class-level metrics (urban)')"
   ]
  },
  {
   "cell_type": "markdown",
   "metadata": {
    "ein.tags": "worksheet-0",
    "slideshow": {
     "slide_type": "-"
    }
   },
   "source": [
    "We might also choose to plot only a subset of metrics by setting the `metrics` argument as in:"
   ]
  },
  {
   "cell_type": "code",
   "execution_count": 25,
   "metadata": {
    "autoscroll": false,
    "collapsed": false,
    "ein.hycell": false,
    "ein.tags": "worksheet-0",
    "slideshow": {
     "slide_type": "-"
    }
   },
   "outputs": [
    {
     "data": {
      "text/plain": [
       "Text(0.5, 0.98, 'Class-level metrics (urban)')"
      ]
     },
     "execution_count": 25,
     "metadata": {},
     "output_type": "execute_result"
    },
    {
     "data": {
      "image/png": "[encoded data removed]",
      "text/plain": [
       "<Figure size 1296x288 with 3 Axes>"
      ]
     },
     "metadata": {
      "needs_background": "light"
     },
     "output_type": "display_data"
    }
   ],
   "source": [
    "fig, axes = sta.plot_metrics(\n",
    "    class_val=1,\n",
    "    metrics=['proportion_of_landscape', 'edge_density', 'fractal_dimension_am'],\n",
    "    num_cols=3)\n",
    "fig.suptitle('Class-level metrics (urban)')"
   ]
  },
  {
   "cell_type": "markdown",
   "metadata": {
    "ein.tags": "worksheet-0",
    "slideshow": {
     "slide_type": "-"
    }
   },
   "source": [
    "In order to compute the metrics at the landscape level, we can still use `plot_metrics` but without setting the `class_val` argument:"
   ]
  },
  {
   "cell_type": "code",
   "execution_count": 26,
   "metadata": {
    "autoscroll": false,
    "collapsed": false,
    "ein.hycell": false,
    "ein.tags": "worksheet-0",
    "slideshow": {
     "slide_type": "-"
    }
   },
   "outputs": [
    {
     "data": {
      "text/plain": [
       "Text(0.5, 0.98, 'Landscape-level metrics')"
      ]
     },
     "execution_count": 26,
     "metadata": {},
     "output_type": "execute_result"
    },
    {
     "data": {
      "image/png": "[encoded data removed]",
      "text/plain": [
       "<Figure size 864x576 with 4 Axes>"
      ]
     },
     "metadata": {
      "needs_background": "light"
     },
     "output_type": "display_data"
    }
   ],
   "source": [
    "fig, axes = sta.plot_metrics(num_cols=2)\n",
    "fig.suptitle('Landscape-level metrics')"
   ]
  },
  {
   "cell_type": "markdown",
   "metadata": {
    "ein.tags": "worksheet-0",
    "slideshow": {
     "slide_type": "-"
    }
   },
   "source": [
    "See the documentation of `SpatioTemporalAnalysis.plot_metrics` for more details."
   ]
  }
 ],
 "metadata": {
  "kernelspec": {
   "display_name": "Python (pylandstats)",
   "name": "pylandstats"
  },
  "language_info": {
   "codemirror_mode": {
    "name": "ipython",
    "version": 3
   },
   "file_extension": ".py",
   "mimetype": "text/x-python",
   "name": "python",
   "nbconvert_exporter": "python",
   "pygments_lexer": "ipython3",
   "version": "3.7.3"
  },
  "name": "overview.ipynb"
 },
 "nbformat": 4,
 "nbformat_minor": 2
}
