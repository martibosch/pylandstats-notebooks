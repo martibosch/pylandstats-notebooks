{
 "cells": [
  {
   "cell_type": "markdown",
   "metadata": {
    "ein.tags": "worksheet-0",
    "slideshow": {
     "slide_type": "-"
    }
   },
   "source": [
    "# Spatio-temporal buffer analysis"
   ]
  },
  {
   "cell_type": "code",
   "execution_count": 1,
   "metadata": {
    "autoscroll": false,
    "ein.hycell": false,
    "ein.tags": "worksheet-0",
    "slideshow": {
     "slide_type": "-"
    }
   },
   "outputs": [],
   "source": [
    "import pylandstats as pls"
   ]
  },
  {
   "cell_type": "markdown",
   "metadata": {
    "ein.tags": "worksheet-0",
    "slideshow": {
     "slide_type": "-"
    }
   },
   "source": [
    "Landscape metrics are very sensitive to scale, that is, to the pixel resolution and especially to the spatial extent of the considered map. Rather than restricting our analyses to a specific map extent, we are often interested in assessing how landacape patterns respond to a variety of definitions of the spatial extent. While the `GradientAnalysis` and `BufferAnalysis` classes are designed to such purpose, we might also want to evaluate how the computed time series of metrics responds to changes in the map extent. This is why PyLandStats features an additional `SpatioTemporalBufferAnalysis` analysis class.\n",
    "\n",
    "Like in the [Spatio-temporal analysis example](https://github.com/martibosch/pylandstats-notebooks/blob/master/notebooks/02-spatiotemporal-analysis.ipynb), we will use the three extracts of the Canton of Vaud from the [CORINE Land Cover datasets](https://land.copernicus.eu/pan-european/corine-land-cover) for the years 2000, 2006 and 2012, yet in this case we also need to specify how the buffers are constructed. Let us consider three buffers of 10, 15 and 20km around the center of Lausanne:"
   ]
  },
  {
   "cell_type": "code",
   "execution_count": 2,
   "metadata": {
    "autoscroll": false,
    "ein.hycell": false,
    "ein.tags": "worksheet-0",
    "slideshow": {
     "slide_type": "-"
    }
   },
   "outputs": [],
   "source": [
    "from shapely.geometry import Point\n",
    "\n",
    "input_filepaths = [\n",
    "    '../data/clc/vaud_g100_clc00_V18_5.tif',\n",
    "    '../data/clc/vaud_g100_clc06_V18_5a.tif',\n",
    "    '../data/clc/vaud_g100_clc12_V18_5a.tif'\n",
    "]\n",
    "\n",
    "# latitude and longitude of the center of Lausanne according to OpenStreetMap\n",
    "base_mask = Point(6.6327025, 46.5218269)\n",
    "base_mask_crs = '+proj=longlat +ellps=WGS84 +datum=WGS84 +no_defs'\n",
    "\n",
    "# buffer distances (in meters)\n",
    "buffer_dists = [10000, 15000, 20000]\n",
    "\n",
    "stba = pls.SpatioTemporalBufferAnalysis(\n",
    "    input_filepaths, base_mask, buffer_dists, base_mask_crs=base_mask_crs,\n",
    "    dates=[2000, 2006, 2012])"
   ]
  },
  {
   "cell_type": "markdown",
   "metadata": {
    "ein.tags": "worksheet-0",
    "slideshow": {
     "slide_type": "-"
    }
   },
   "source": [
    "Analogously to `BufferAnalysis`, we could also initialize the from a polygon geometry (such an administrative boundary) by passing such object as the `base_mask` argument. See [the gradient analysis notebook](https://github.com/martibosch/pylandstats-notebooks/blob/master/notebooks/03-gradient-analysis.ipynb) to see how this can be done\n",
    "\n",
    "Like `SpatioTemporalAnalysis`, `BufferAnalysis` and/or `GradientAnalysis`, we can compute the data frame of class metrics through the `compute_class_metrics_df` method:"
   ]
  },
  {
   "cell_type": "code",
   "execution_count": 3,
   "metadata": {
    "autoscroll": false,
    "ein.hycell": false,
    "ein.tags": "worksheet-0",
    "slideshow": {
     "slide_type": "-"
    }
   },
   "outputs": [
    {
     "data": {
      "text/html": [
       "<div>\n",
       "<style scoped>\n",
       "    .dataframe tbody tr th:only-of-type {\n",
       "        vertical-align: middle;\n",
       "    }\n",
       "\n",
       "    .dataframe tbody tr th {\n",
       "        vertical-align: top;\n",
       "    }\n",
       "\n",
       "    .dataframe thead th {\n",
       "        text-align: right;\n",
       "    }\n",
       "</style>\n",
       "<table border=\"1\" class=\"dataframe\">\n",
       "  <thead>\n",
       "    <tr style=\"text-align: right;\">\n",
       "      <th></th>\n",
       "      <th></th>\n",
       "      <th>metric</th>\n",
       "      <th>total_area</th>\n",
       "      <th>proportion_of_landscape</th>\n",
       "      <th>number_of_patches</th>\n",
       "      <th>patch_density</th>\n",
       "      <th>largest_patch_index</th>\n",
       "      <th>total_edge</th>\n",
       "      <th>edge_density</th>\n",
       "      <th>landscape_shape_index</th>\n",
       "      <th>area_mn</th>\n",
       "      <th>area_am</th>\n",
       "      <th>...</th>\n",
       "      <th>fractal_dimension_md</th>\n",
       "      <th>fractal_dimension_ra</th>\n",
       "      <th>fractal_dimension_sd</th>\n",
       "      <th>fractal_dimension_cv</th>\n",
       "      <th>euclidean_nearest_neighbor_mn</th>\n",
       "      <th>euclidean_nearest_neighbor_am</th>\n",
       "      <th>euclidean_nearest_neighbor_md</th>\n",
       "      <th>euclidean_nearest_neighbor_ra</th>\n",
       "      <th>euclidean_nearest_neighbor_sd</th>\n",
       "      <th>euclidean_nearest_neighbor_cv</th>\n",
       "    </tr>\n",
       "    <tr>\n",
       "      <th>buffer_dist</th>\n",
       "      <th>class_val</th>\n",
       "      <th>dates</th>\n",
       "      <th></th>\n",
       "      <th></th>\n",
       "      <th></th>\n",
       "      <th></th>\n",
       "      <th></th>\n",
       "      <th></th>\n",
       "      <th></th>\n",
       "      <th></th>\n",
       "      <th></th>\n",
       "      <th></th>\n",
       "      <th></th>\n",
       "      <th></th>\n",
       "      <th></th>\n",
       "      <th></th>\n",
       "      <th></th>\n",
       "      <th></th>\n",
       "      <th></th>\n",
       "      <th></th>\n",
       "      <th></th>\n",
       "      <th></th>\n",
       "      <th></th>\n",
       "    </tr>\n",
       "  </thead>\n",
       "  <tbody>\n",
       "    <tr>\n",
       "      <th rowspan=\"5\" valign=\"top\">10000</th>\n",
       "      <th rowspan=\"3\" valign=\"top\">1</th>\n",
       "      <th>2000</th>\n",
       "      <td>7261</td>\n",
       "      <td>24.9648</td>\n",
       "      <td>20</td>\n",
       "      <td>0.068764</td>\n",
       "      <td>21.5472</td>\n",
       "      <td>223900</td>\n",
       "      <td>7.69813</td>\n",
       "      <td>6.74269</td>\n",
       "      <td>363.05</td>\n",
       "      <td>5421.13</td>\n",
       "      <td>...</td>\n",
       "      <td>1.08318</td>\n",
       "      <td>0.163172</td>\n",
       "      <td>0.0434689</td>\n",
       "      <td>4.0267</td>\n",
       "      <td>633.891</td>\n",
       "      <td>278.966</td>\n",
       "      <td>423.607</td>\n",
       "      <td>1699.93</td>\n",
       "      <td>460.633</td>\n",
       "      <td>72.6676</td>\n",
       "    </tr>\n",
       "    <tr>\n",
       "      <th>2006</th>\n",
       "      <td>7205</td>\n",
       "      <td>24.7722</td>\n",
       "      <td>20</td>\n",
       "      <td>0.068764</td>\n",
       "      <td>21.0211</td>\n",
       "      <td>226600</td>\n",
       "      <td>7.79096</td>\n",
       "      <td>6.85294</td>\n",
       "      <td>360.25</td>\n",
       "      <td>5201.63</td>\n",
       "      <td>...</td>\n",
       "      <td>1.08476</td>\n",
       "      <td>0.159439</td>\n",
       "      <td>0.0437442</td>\n",
       "      <td>4.03719</td>\n",
       "      <td>622.71</td>\n",
       "      <td>279.997</td>\n",
       "      <td>400</td>\n",
       "      <td>1699.93</td>\n",
       "      <td>467.688</td>\n",
       "      <td>75.1052</td>\n",
       "    </tr>\n",
       "    <tr>\n",
       "      <th>2012</th>\n",
       "      <td>7205</td>\n",
       "      <td>24.7722</td>\n",
       "      <td>20</td>\n",
       "      <td>0.068764</td>\n",
       "      <td>21.0211</td>\n",
       "      <td>227000</td>\n",
       "      <td>7.80471</td>\n",
       "      <td>6.86471</td>\n",
       "      <td>360.25</td>\n",
       "      <td>5201.6</td>\n",
       "      <td>...</td>\n",
       "      <td>1.08476</td>\n",
       "      <td>0.159609</td>\n",
       "      <td>0.0438365</td>\n",
       "      <td>4.04554</td>\n",
       "      <td>613.522</td>\n",
       "      <td>278.318</td>\n",
       "      <td>380.278</td>\n",
       "      <td>1699.93</td>\n",
       "      <td>471.796</td>\n",
       "      <td>76.8996</td>\n",
       "    </tr>\n",
       "    <tr>\n",
       "      <th rowspan=\"2\" valign=\"top\">2</th>\n",
       "      <th>2000</th>\n",
       "      <td>21824</td>\n",
       "      <td>75.0352</td>\n",
       "      <td>4</td>\n",
       "      <td>0.0137528</td>\n",
       "      <td>74.3614</td>\n",
       "      <td>223900</td>\n",
       "      <td>7.69813</td>\n",
       "      <td>4.96622</td>\n",
       "      <td>5456</td>\n",
       "      <td>21434.8</td>\n",
       "      <td>...</td>\n",
       "      <td>1.06453</td>\n",
       "      <td>0.134831</td>\n",
       "      <td>0.0538049</td>\n",
       "      <td>4.98227</td>\n",
       "      <td>211.803</td>\n",
       "      <td>200.209</td>\n",
       "      <td>211.803</td>\n",
       "      <td>23.6068</td>\n",
       "      <td>11.8034</td>\n",
       "      <td>5.57281</td>\n",
       "    </tr>\n",
       "    <tr>\n",
       "      <th>2006</th>\n",
       "      <td>21880</td>\n",
       "      <td>75.2278</td>\n",
       "      <td>4</td>\n",
       "      <td>0.0137528</td>\n",
       "      <td>74.5539</td>\n",
       "      <td>226600</td>\n",
       "      <td>7.79096</td>\n",
       "      <td>5.01689</td>\n",
       "      <td>5470</td>\n",
       "      <td>21490.8</td>\n",
       "      <td>...</td>\n",
       "      <td>1.06453</td>\n",
       "      <td>0.135784</td>\n",
       "      <td>0.0541716</td>\n",
       "      <td>5.01513</td>\n",
       "      <td>211.803</td>\n",
       "      <td>200.208</td>\n",
       "      <td>211.803</td>\n",
       "      <td>23.6068</td>\n",
       "      <td>11.8034</td>\n",
       "      <td>5.57281</td>\n",
       "    </tr>\n",
       "  </tbody>\n",
       "</table>\n",
       "<p>5 rows × 44 columns</p>\n",
       "</div>"
      ],
      "text/plain": [
       "metric                      total_area proportion_of_landscape  \\\n",
       "buffer_dist class_val dates                                      \n",
       "10000       1         2000        7261                 24.9648   \n",
       "                      2006        7205                 24.7722   \n",
       "                      2012        7205                 24.7722   \n",
       "            2         2000       21824                 75.0352   \n",
       "                      2006       21880                 75.2278   \n",
       "\n",
       "metric                      number_of_patches patch_density  \\\n",
       "buffer_dist class_val dates                                   \n",
       "10000       1         2000                 20      0.068764   \n",
       "                      2006                 20      0.068764   \n",
       "                      2012                 20      0.068764   \n",
       "            2         2000                  4     0.0137528   \n",
       "                      2006                  4     0.0137528   \n",
       "\n",
       "metric                      largest_patch_index total_edge edge_density  \\\n",
       "buffer_dist class_val dates                                               \n",
       "10000       1         2000              21.5472     223900      7.69813   \n",
       "                      2006              21.0211     226600      7.79096   \n",
       "                      2012              21.0211     227000      7.80471   \n",
       "            2         2000              74.3614     223900      7.69813   \n",
       "                      2006              74.5539     226600      7.79096   \n",
       "\n",
       "metric                      landscape_shape_index area_mn  area_am  ...  \\\n",
       "buffer_dist class_val dates                                         ...   \n",
       "10000       1         2000                6.74269  363.05  5421.13  ...   \n",
       "                      2006                6.85294  360.25  5201.63  ...   \n",
       "                      2012                6.86471  360.25   5201.6  ...   \n",
       "            2         2000                4.96622    5456  21434.8  ...   \n",
       "                      2006                5.01689    5470  21490.8  ...   \n",
       "\n",
       "metric                      fractal_dimension_md fractal_dimension_ra  \\\n",
       "buffer_dist class_val dates                                             \n",
       "10000       1         2000               1.08318             0.163172   \n",
       "                      2006               1.08476             0.159439   \n",
       "                      2012               1.08476             0.159609   \n",
       "            2         2000               1.06453             0.134831   \n",
       "                      2006               1.06453             0.135784   \n",
       "\n",
       "metric                      fractal_dimension_sd fractal_dimension_cv  \\\n",
       "buffer_dist class_val dates                                             \n",
       "10000       1         2000             0.0434689               4.0267   \n",
       "                      2006             0.0437442              4.03719   \n",
       "                      2012             0.0438365              4.04554   \n",
       "            2         2000             0.0538049              4.98227   \n",
       "                      2006             0.0541716              5.01513   \n",
       "\n",
       "metric                      euclidean_nearest_neighbor_mn  \\\n",
       "buffer_dist class_val dates                                 \n",
       "10000       1         2000                        633.891   \n",
       "                      2006                         622.71   \n",
       "                      2012                        613.522   \n",
       "            2         2000                        211.803   \n",
       "                      2006                        211.803   \n",
       "\n",
       "metric                      euclidean_nearest_neighbor_am  \\\n",
       "buffer_dist class_val dates                                 \n",
       "10000       1         2000                        278.966   \n",
       "                      2006                        279.997   \n",
       "                      2012                        278.318   \n",
       "            2         2000                        200.209   \n",
       "                      2006                        200.208   \n",
       "\n",
       "metric                      euclidean_nearest_neighbor_md  \\\n",
       "buffer_dist class_val dates                                 \n",
       "10000       1         2000                        423.607   \n",
       "                      2006                            400   \n",
       "                      2012                        380.278   \n",
       "            2         2000                        211.803   \n",
       "                      2006                        211.803   \n",
       "\n",
       "metric                      euclidean_nearest_neighbor_ra  \\\n",
       "buffer_dist class_val dates                                 \n",
       "10000       1         2000                        1699.93   \n",
       "                      2006                        1699.93   \n",
       "                      2012                        1699.93   \n",
       "            2         2000                        23.6068   \n",
       "                      2006                        23.6068   \n",
       "\n",
       "metric                      euclidean_nearest_neighbor_sd  \\\n",
       "buffer_dist class_val dates                                 \n",
       "10000       1         2000                        460.633   \n",
       "                      2006                        467.688   \n",
       "                      2012                        471.796   \n",
       "            2         2000                        11.8034   \n",
       "                      2006                        11.8034   \n",
       "\n",
       "metric                      euclidean_nearest_neighbor_cv  \n",
       "buffer_dist class_val dates                                \n",
       "10000       1         2000                        72.6676  \n",
       "                      2006                        75.1052  \n",
       "                      2012                        76.8996  \n",
       "            2         2000                        5.57281  \n",
       "                      2006                        5.57281  \n",
       "\n",
       "[5 rows x 44 columns]"
      ]
     },
     "execution_count": 3,
     "metadata": {},
     "output_type": "execute_result"
    }
   ],
   "source": [
    "class_metrics_df = stba.compute_class_metrics_df()\n",
    "class_metrics_df.head()"
   ]
  },
  {
   "cell_type": "markdown",
   "metadata": {
    "ein.tags": "worksheet-0",
    "slideshow": {
     "slide_type": "-"
    }
   },
   "source": [
    "Note that in this case, the data frame features a three-level [MultiIndex] that distinguishes the computed value for each buffer distances, class values, and date. Again, we can operate upon such data frames as we would do with any other pandas data frame. For instance, we might want to evaluate the difference between the area-weighted fractal dimension of urban patches (represented by a `class_val` of 1) computed at the extent of a 20km buffer and a 10km buffer:"
   ]
  },
  {
   "cell_type": "code",
   "execution_count": 4,
   "metadata": {
    "autoscroll": false,
    "ein.hycell": false,
    "ein.tags": "worksheet-0",
    "slideshow": {
     "slide_type": "-"
    }
   },
   "outputs": [
    {
     "data": {
      "text/plain": [
       "dates\n",
       "2000   -0.0114821\n",
       "2006   -0.0131772\n",
       "2012   -0.0134208\n",
       "Name: fractal_dimension_am, dtype: object"
      ]
     },
     "execution_count": 4,
     "metadata": {},
     "output_type": "execute_result"
    }
   ],
   "source": [
    "class_metrics_df.loc[(20000, 1), 'fractal_dimension_am'] - \\\n",
    "    class_metrics_df.loc[(10000, 1), 'fractal_dimension_am']"
   ]
  },
  {
   "cell_type": "markdown",
   "metadata": {
    "ein.tags": "worksheet-0",
    "slideshow": {
     "slide_type": "-"
    }
   },
   "source": [
    "We can also obtain the data frame of landscape metrics can be obtained as follows:"
   ]
  },
  {
   "cell_type": "code",
   "execution_count": 5,
   "metadata": {
    "autoscroll": false,
    "ein.hycell": false,
    "ein.tags": "worksheet-0",
    "slideshow": {
     "slide_type": "-"
    }
   },
   "outputs": [
    {
     "data": {
      "text/html": [
       "<div>\n",
       "<style scoped>\n",
       "    .dataframe tbody tr th:only-of-type {\n",
       "        vertical-align: middle;\n",
       "    }\n",
       "\n",
       "    .dataframe tbody tr th {\n",
       "        vertical-align: top;\n",
       "    }\n",
       "\n",
       "    .dataframe thead th {\n",
       "        text-align: right;\n",
       "    }\n",
       "</style>\n",
       "<table border=\"1\" class=\"dataframe\">\n",
       "  <thead>\n",
       "    <tr style=\"text-align: right;\">\n",
       "      <th></th>\n",
       "      <th>metric</th>\n",
       "      <th>total_area</th>\n",
       "      <th>number_of_patches</th>\n",
       "      <th>patch_density</th>\n",
       "      <th>largest_patch_index</th>\n",
       "      <th>total_edge</th>\n",
       "      <th>edge_density</th>\n",
       "      <th>landscape_shape_index</th>\n",
       "      <th>area_mn</th>\n",
       "      <th>area_am</th>\n",
       "      <th>area_md</th>\n",
       "      <th>...</th>\n",
       "      <th>fractal_dimension_sd</th>\n",
       "      <th>fractal_dimension_cv</th>\n",
       "      <th>euclidean_nearest_neighbor_mn</th>\n",
       "      <th>euclidean_nearest_neighbor_am</th>\n",
       "      <th>euclidean_nearest_neighbor_md</th>\n",
       "      <th>euclidean_nearest_neighbor_ra</th>\n",
       "      <th>euclidean_nearest_neighbor_sd</th>\n",
       "      <th>euclidean_nearest_neighbor_cv</th>\n",
       "      <th>contagion</th>\n",
       "      <th>shannon_diversity_index</th>\n",
       "    </tr>\n",
       "    <tr>\n",
       "      <th>buffer_dist</th>\n",
       "      <th>dates</th>\n",
       "      <th></th>\n",
       "      <th></th>\n",
       "      <th></th>\n",
       "      <th></th>\n",
       "      <th></th>\n",
       "      <th></th>\n",
       "      <th></th>\n",
       "      <th></th>\n",
       "      <th></th>\n",
       "      <th></th>\n",
       "      <th></th>\n",
       "      <th></th>\n",
       "      <th></th>\n",
       "      <th></th>\n",
       "      <th></th>\n",
       "      <th></th>\n",
       "      <th></th>\n",
       "      <th></th>\n",
       "      <th></th>\n",
       "      <th></th>\n",
       "      <th></th>\n",
       "    </tr>\n",
       "  </thead>\n",
       "  <tbody>\n",
       "    <tr>\n",
       "      <th rowspan=\"3\" valign=\"top\">10000</th>\n",
       "      <th>2000</th>\n",
       "      <td>29085</td>\n",
       "      <td>24</td>\n",
       "      <td>0.0825168</td>\n",
       "      <td>74.3614</td>\n",
       "      <td>223900</td>\n",
       "      <td>7.69813</td>\n",
       "      <td>4.3962</td>\n",
       "      <td>1211.88</td>\n",
       "      <td>17437</td>\n",
       "      <td>49.5</td>\n",
       "      <td>...</td>\n",
       "      <td>0.0453557</td>\n",
       "      <td>4.20122</td>\n",
       "      <td>563.543</td>\n",
       "      <td>219.87</td>\n",
       "      <td>380.278</td>\n",
       "      <td>1723.54</td>\n",
       "      <td>448.984</td>\n",
       "      <td>79.6716</td>\n",
       "      <td>47.8398</td>\n",
       "      <td>0.561948</td>\n",
       "    </tr>\n",
       "    <tr>\n",
       "      <th>2006</th>\n",
       "      <td>29085</td>\n",
       "      <td>24</td>\n",
       "      <td>0.0825168</td>\n",
       "      <td>74.5539</td>\n",
       "      <td>226600</td>\n",
       "      <td>7.79096</td>\n",
       "      <td>4.43567</td>\n",
       "      <td>1211.88</td>\n",
       "      <td>17455.6</td>\n",
       "      <td>51.5</td>\n",
       "      <td>...</td>\n",
       "      <td>0.045665</td>\n",
       "      <td>4.21665</td>\n",
       "      <td>554.226</td>\n",
       "      <td>219.974</td>\n",
       "      <td>338.391</td>\n",
       "      <td>1723.54</td>\n",
       "      <td>453.597</td>\n",
       "      <td>81.8434</td>\n",
       "      <td>47.8961</td>\n",
       "      <td>0.559819</td>\n",
       "    </tr>\n",
       "    <tr>\n",
       "      <th>2012</th>\n",
       "      <td>29085</td>\n",
       "      <td>24</td>\n",
       "      <td>0.0825168</td>\n",
       "      <td>74.5539</td>\n",
       "      <td>227000</td>\n",
       "      <td>7.80471</td>\n",
       "      <td>4.44152</td>\n",
       "      <td>1211.88</td>\n",
       "      <td>17455.6</td>\n",
       "      <td>51</td>\n",
       "      <td>...</td>\n",
       "      <td>0.04575</td>\n",
       "      <td>4.22432</td>\n",
       "      <td>546.569</td>\n",
       "      <td>219.558</td>\n",
       "      <td>316.228</td>\n",
       "      <td>1723.54</td>\n",
       "      <td>455.993</td>\n",
       "      <td>83.4283</td>\n",
       "      <td>47.881</td>\n",
       "      <td>0.559819</td>\n",
       "    </tr>\n",
       "    <tr>\n",
       "      <th rowspan=\"3\" valign=\"top\">15000</th>\n",
       "      <th>2000</th>\n",
       "      <td>57628</td>\n",
       "      <td>50</td>\n",
       "      <td>0.0867634</td>\n",
       "      <td>82.9493</td>\n",
       "      <td>395200</td>\n",
       "      <td>6.85778</td>\n",
       "      <td>5.3368</td>\n",
       "      <td>1152.56</td>\n",
       "      <td>40426.1</td>\n",
       "      <td>42</td>\n",
       "      <td>...</td>\n",
       "      <td>0.033956</td>\n",
       "      <td>3.12948</td>\n",
       "      <td>724.862</td>\n",
       "      <td>244.398</td>\n",
       "      <td>616.228</td>\n",
       "      <td>1686.89</td>\n",
       "      <td>446.514</td>\n",
       "      <td>61.5999</td>\n",
       "      <td>57.1656</td>\n",
       "      <td>0.451268</td>\n",
       "    </tr>\n",
       "    <tr>\n",
       "      <th>2006</th>\n",
       "      <td>57628</td>\n",
       "      <td>53</td>\n",
       "      <td>0.0919692</td>\n",
       "      <td>83.5601</td>\n",
       "      <td>391300</td>\n",
       "      <td>6.7901</td>\n",
       "      <td>5.29626</td>\n",
       "      <td>1087.32</td>\n",
       "      <td>40974</td>\n",
       "      <td>41</td>\n",
       "      <td>...</td>\n",
       "      <td>0.0360281</td>\n",
       "      <td>3.32371</td>\n",
       "      <td>735.306</td>\n",
       "      <td>244.286</td>\n",
       "      <td>632.456</td>\n",
       "      <td>1686.89</td>\n",
       "      <td>446.035</td>\n",
       "      <td>60.6598</td>\n",
       "      <td>57.9921</td>\n",
       "      <td>0.441321</td>\n",
       "    </tr>\n",
       "    <tr>\n",
       "      <th>2012</th>\n",
       "      <td>57628</td>\n",
       "      <td>54</td>\n",
       "      <td>0.0937044</td>\n",
       "      <td>83.4872</td>\n",
       "      <td>395500</td>\n",
       "      <td>6.86298</td>\n",
       "      <td>5.33992</td>\n",
       "      <td>1067.19</td>\n",
       "      <td>40903.9</td>\n",
       "      <td>41</td>\n",
       "      <td>...</td>\n",
       "      <td>0.0362066</td>\n",
       "      <td>3.34156</td>\n",
       "      <td>730.934</td>\n",
       "      <td>244.393</td>\n",
       "      <td>632.456</td>\n",
       "      <td>1686.89</td>\n",
       "      <td>440.953</td>\n",
       "      <td>60.3273</td>\n",
       "      <td>57.822</td>\n",
       "      <td>0.442522</td>\n",
       "    </tr>\n",
       "    <tr>\n",
       "      <th rowspan=\"3\" valign=\"top\">20000</th>\n",
       "      <th>2000</th>\n",
       "      <td>91020</td>\n",
       "      <td>81</td>\n",
       "      <td>0.0889914</td>\n",
       "      <td>86.3151</td>\n",
       "      <td>565200</td>\n",
       "      <td>6.20962</td>\n",
       "      <td>6.2351</td>\n",
       "      <td>1123.7</td>\n",
       "      <td>68328.4</td>\n",
       "      <td>40</td>\n",
       "      <td>...</td>\n",
       "      <td>0.036423</td>\n",
       "      <td>3.36974</td>\n",
       "      <td>788.841</td>\n",
       "      <td>224.95</td>\n",
       "      <td>632.456</td>\n",
       "      <td>2218.68</td>\n",
       "      <td>535.714</td>\n",
       "      <td>67.9116</td>\n",
       "      <td>62.2993</td>\n",
       "      <td>0.392942</td>\n",
       "    </tr>\n",
       "    <tr>\n",
       "      <th>2006</th>\n",
       "      <td>91020</td>\n",
       "      <td>84</td>\n",
       "      <td>0.0922874</td>\n",
       "      <td>86.6678</td>\n",
       "      <td>566200</td>\n",
       "      <td>6.22061</td>\n",
       "      <td>6.24338</td>\n",
       "      <td>1083.57</td>\n",
       "      <td>68848.1</td>\n",
       "      <td>41</td>\n",
       "      <td>...</td>\n",
       "      <td>0.0376041</td>\n",
       "      <td>3.47838</td>\n",
       "      <td>773.521</td>\n",
       "      <td>225.39</td>\n",
       "      <td>616.228</td>\n",
       "      <td>2218.68</td>\n",
       "      <td>533.295</td>\n",
       "      <td>68.9438</td>\n",
       "      <td>62.7943</td>\n",
       "      <td>0.38627</td>\n",
       "    </tr>\n",
       "    <tr>\n",
       "      <th>2012</th>\n",
       "      <td>91020</td>\n",
       "      <td>86</td>\n",
       "      <td>0.0944847</td>\n",
       "      <td>86.604</td>\n",
       "      <td>571400</td>\n",
       "      <td>6.27774</td>\n",
       "      <td>6.28642</td>\n",
       "      <td>1058.37</td>\n",
       "      <td>68747.6</td>\n",
       "      <td>41</td>\n",
       "      <td>...</td>\n",
       "      <td>0.0379647</td>\n",
       "      <td>3.51409</td>\n",
       "      <td>763.662</td>\n",
       "      <td>225.498</td>\n",
       "      <td>616.228</td>\n",
       "      <td>2218.68</td>\n",
       "      <td>530.319</td>\n",
       "      <td>69.4442</td>\n",
       "      <td>62.6469</td>\n",
       "      <td>0.387417</td>\n",
       "    </tr>\n",
       "  </tbody>\n",
       "</table>\n",
       "<p>9 rows × 45 columns</p>\n",
       "</div>"
      ],
      "text/plain": [
       "metric            total_area number_of_patches patch_density  \\\n",
       "buffer_dist dates                                              \n",
       "10000       2000       29085                24     0.0825168   \n",
       "            2006       29085                24     0.0825168   \n",
       "            2012       29085                24     0.0825168   \n",
       "15000       2000       57628                50     0.0867634   \n",
       "            2006       57628                53     0.0919692   \n",
       "            2012       57628                54     0.0937044   \n",
       "20000       2000       91020                81     0.0889914   \n",
       "            2006       91020                84     0.0922874   \n",
       "            2012       91020                86     0.0944847   \n",
       "\n",
       "metric            largest_patch_index total_edge edge_density  \\\n",
       "buffer_dist dates                                               \n",
       "10000       2000              74.3614     223900      7.69813   \n",
       "            2006              74.5539     226600      7.79096   \n",
       "            2012              74.5539     227000      7.80471   \n",
       "15000       2000              82.9493     395200      6.85778   \n",
       "            2006              83.5601     391300       6.7901   \n",
       "            2012              83.4872     395500      6.86298   \n",
       "20000       2000              86.3151     565200      6.20962   \n",
       "            2006              86.6678     566200      6.22061   \n",
       "            2012               86.604     571400      6.27774   \n",
       "\n",
       "metric            landscape_shape_index  area_mn  area_am area_md  ...  \\\n",
       "buffer_dist dates                                                  ...   \n",
       "10000       2000                 4.3962  1211.88    17437    49.5  ...   \n",
       "            2006                4.43567  1211.88  17455.6    51.5  ...   \n",
       "            2012                4.44152  1211.88  17455.6      51  ...   \n",
       "15000       2000                 5.3368  1152.56  40426.1      42  ...   \n",
       "            2006                5.29626  1087.32    40974      41  ...   \n",
       "            2012                5.33992  1067.19  40903.9      41  ...   \n",
       "20000       2000                 6.2351   1123.7  68328.4      40  ...   \n",
       "            2006                6.24338  1083.57  68848.1      41  ...   \n",
       "            2012                6.28642  1058.37  68747.6      41  ...   \n",
       "\n",
       "metric            fractal_dimension_sd fractal_dimension_cv  \\\n",
       "buffer_dist dates                                             \n",
       "10000       2000             0.0453557              4.20122   \n",
       "            2006              0.045665              4.21665   \n",
       "            2012               0.04575              4.22432   \n",
       "15000       2000              0.033956              3.12948   \n",
       "            2006             0.0360281              3.32371   \n",
       "            2012             0.0362066              3.34156   \n",
       "20000       2000              0.036423              3.36974   \n",
       "            2006             0.0376041              3.47838   \n",
       "            2012             0.0379647              3.51409   \n",
       "\n",
       "metric            euclidean_nearest_neighbor_mn euclidean_nearest_neighbor_am  \\\n",
       "buffer_dist dates                                                               \n",
       "10000       2000                        563.543                        219.87   \n",
       "            2006                        554.226                       219.974   \n",
       "            2012                        546.569                       219.558   \n",
       "15000       2000                        724.862                       244.398   \n",
       "            2006                        735.306                       244.286   \n",
       "            2012                        730.934                       244.393   \n",
       "20000       2000                        788.841                        224.95   \n",
       "            2006                        773.521                        225.39   \n",
       "            2012                        763.662                       225.498   \n",
       "\n",
       "metric            euclidean_nearest_neighbor_md euclidean_nearest_neighbor_ra  \\\n",
       "buffer_dist dates                                                               \n",
       "10000       2000                        380.278                       1723.54   \n",
       "            2006                        338.391                       1723.54   \n",
       "            2012                        316.228                       1723.54   \n",
       "15000       2000                        616.228                       1686.89   \n",
       "            2006                        632.456                       1686.89   \n",
       "            2012                        632.456                       1686.89   \n",
       "20000       2000                        632.456                       2218.68   \n",
       "            2006                        616.228                       2218.68   \n",
       "            2012                        616.228                       2218.68   \n",
       "\n",
       "metric            euclidean_nearest_neighbor_sd euclidean_nearest_neighbor_cv  \\\n",
       "buffer_dist dates                                                               \n",
       "10000       2000                        448.984                       79.6716   \n",
       "            2006                        453.597                       81.8434   \n",
       "            2012                        455.993                       83.4283   \n",
       "15000       2000                        446.514                       61.5999   \n",
       "            2006                        446.035                       60.6598   \n",
       "            2012                        440.953                       60.3273   \n",
       "20000       2000                        535.714                       67.9116   \n",
       "            2006                        533.295                       68.9438   \n",
       "            2012                        530.319                       69.4442   \n",
       "\n",
       "metric            contagion shannon_diversity_index  \n",
       "buffer_dist dates                                    \n",
       "10000       2000    47.8398                0.561948  \n",
       "            2006    47.8961                0.559819  \n",
       "            2012     47.881                0.559819  \n",
       "15000       2000    57.1656                0.451268  \n",
       "            2006    57.9921                0.441321  \n",
       "            2012     57.822                0.442522  \n",
       "20000       2000    62.2993                0.392942  \n",
       "            2006    62.7943                 0.38627  \n",
       "            2012    62.6469                0.387417  \n",
       "\n",
       "[9 rows x 45 columns]"
      ]
     },
     "execution_count": 5,
     "metadata": {},
     "output_type": "execute_result"
    }
   ],
   "source": [
    "stba.compute_landscape_metrics_df()"
   ]
  },
  {
   "cell_type": "markdown",
   "metadata": {
    "ein.tags": "worksheet-0",
    "slideshow": {
     "slide_type": "-"
    }
   },
   "source": [
    "Likewise in the other classes of PyLandStats, if we want to compute the metrics data frame only for a subset of metrics or classes, or customize how the metrics are computed, we must respectively pass the arguments `metrics`, `classes` or `metrics_kws` to the `compute_class_metrics_df` and `compute_landscape_metrics_df` methods of `SpatioTemporalBufferAnalysis` as in:"
   ]
  },
  {
   "cell_type": "code",
   "execution_count": 6,
   "metadata": {
    "autoscroll": false,
    "ein.hycell": false,
    "ein.tags": "worksheet-0",
    "slideshow": {
     "slide_type": "-"
    }
   },
   "outputs": [
    {
     "data": {
      "text/html": [
       "<div>\n",
       "<style scoped>\n",
       "    .dataframe tbody tr th:only-of-type {\n",
       "        vertical-align: middle;\n",
       "    }\n",
       "\n",
       "    .dataframe tbody tr th {\n",
       "        vertical-align: top;\n",
       "    }\n",
       "\n",
       "    .dataframe thead th {\n",
       "        text-align: right;\n",
       "    }\n",
       "</style>\n",
       "<table border=\"1\" class=\"dataframe\">\n",
       "  <thead>\n",
       "    <tr style=\"text-align: right;\">\n",
       "      <th></th>\n",
       "      <th></th>\n",
       "      <th>metric</th>\n",
       "      <th>proportion_of_landscape</th>\n",
       "      <th>edge_density</th>\n",
       "      <th>fractal_dimension_am</th>\n",
       "    </tr>\n",
       "    <tr>\n",
       "      <th>buffer_dist</th>\n",
       "      <th>class_val</th>\n",
       "      <th>dates</th>\n",
       "      <th></th>\n",
       "      <th></th>\n",
       "      <th></th>\n",
       "    </tr>\n",
       "  </thead>\n",
       "  <tbody>\n",
       "    <tr>\n",
       "      <th rowspan=\"3\" valign=\"top\">10000</th>\n",
       "      <th rowspan=\"3\" valign=\"top\">1</th>\n",
       "      <th>2000</th>\n",
       "      <td>0.249648</td>\n",
       "      <td>7.92849</td>\n",
       "      <td>1.15432</td>\n",
       "    </tr>\n",
       "    <tr>\n",
       "      <th>2006</th>\n",
       "      <td>0.247722</td>\n",
       "      <td>8.011</td>\n",
       "      <td>1.15055</td>\n",
       "    </tr>\n",
       "    <tr>\n",
       "      <th>2012</th>\n",
       "      <td>0.247722</td>\n",
       "      <td>8.02476</td>\n",
       "      <td>1.15074</td>\n",
       "    </tr>\n",
       "    <tr>\n",
       "      <th rowspan=\"3\" valign=\"top\">15000</th>\n",
       "      <th rowspan=\"3\" valign=\"top\">1</th>\n",
       "      <th>2000</th>\n",
       "      <td>0.167106</td>\n",
       "      <td>6.9376</td>\n",
       "      <td>1.14603</td>\n",
       "    </tr>\n",
       "    <tr>\n",
       "      <th>2006</th>\n",
       "      <td>0.160998</td>\n",
       "      <td>6.86472</td>\n",
       "      <td>1.14374</td>\n",
       "    </tr>\n",
       "    <tr>\n",
       "      <th>2012</th>\n",
       "      <td>0.161727</td>\n",
       "      <td>6.9376</td>\n",
       "      <td>1.14356</td>\n",
       "    </tr>\n",
       "    <tr>\n",
       "      <th rowspan=\"3\" valign=\"top\">20000</th>\n",
       "      <th rowspan=\"3\" valign=\"top\">1</th>\n",
       "      <th>2000</th>\n",
       "      <td>0.133476</td>\n",
       "      <td>6.29532</td>\n",
       "      <td>1.14283</td>\n",
       "    </tr>\n",
       "    <tr>\n",
       "      <th>2006</th>\n",
       "      <td>0.129938</td>\n",
       "      <td>6.30411</td>\n",
       "      <td>1.13737</td>\n",
       "    </tr>\n",
       "    <tr>\n",
       "      <th>2012</th>\n",
       "      <td>0.130543</td>\n",
       "      <td>6.36563</td>\n",
       "      <td>1.13732</td>\n",
       "    </tr>\n",
       "  </tbody>\n",
       "</table>\n",
       "</div>"
      ],
      "text/plain": [
       "metric                      proportion_of_landscape edge_density  \\\n",
       "buffer_dist class_val dates                                        \n",
       "10000       1         2000                 0.249648      7.92849   \n",
       "                      2006                 0.247722        8.011   \n",
       "                      2012                 0.247722      8.02476   \n",
       "15000       1         2000                 0.167106       6.9376   \n",
       "                      2006                 0.160998      6.86472   \n",
       "                      2012                 0.161727       6.9376   \n",
       "20000       1         2000                 0.133476      6.29532   \n",
       "                      2006                 0.129938      6.30411   \n",
       "                      2012                 0.130543      6.36563   \n",
       "\n",
       "metric                      fractal_dimension_am  \n",
       "buffer_dist class_val dates                       \n",
       "10000       1         2000               1.15432  \n",
       "                      2006               1.15055  \n",
       "                      2012               1.15074  \n",
       "15000       1         2000               1.14603  \n",
       "                      2006               1.14374  \n",
       "                      2012               1.14356  \n",
       "20000       1         2000               1.14283  \n",
       "                      2006               1.13737  \n",
       "                      2012               1.13732  "
      ]
     },
     "execution_count": 6,
     "metadata": {},
     "output_type": "execute_result"
    }
   ],
   "source": [
    "metrics=['proportion_of_landscape', 'edge_density', 'fractal_dimension_am']\n",
    "classes=[1]\n",
    "metrics_kws={\n",
    "    'proportion_of_landscape': {'percent': False },\n",
    "    'edge_density': {'count_boundary': True}\n",
    "}\n",
    "stba.compute_class_metrics_df(\n",
    "    metrics=metrics, classes=classes, metrics_kws=metrics_kws)"
   ]
  },
  {
   "cell_type": "markdown",
   "metadata": {
    "ein.tags": "worksheet-0",
    "slideshow": {
     "slide_type": "-"
    }
   },
   "source": [
    "## Plots"
   ]
  },
  {
   "cell_type": "markdown",
   "metadata": {
    "ein.tags": "worksheet-0",
    "slideshow": {
     "slide_type": "-"
    }
   },
   "source": [
    "Perhaps the most important functionality of the `SpatioTemporalBufferAnalysis` is plotting the time series of metrics at each spatial extent. We can accomplish that through the `plot_metric` method. For instance, let us plot the proportion of landscape at the level of the *urban* class (`class_val` of 1):"
   ]
  },
  {
   "cell_type": "code",
   "execution_count": 7,
   "metadata": {
    "autoscroll": false,
    "ein.hycell": false,
    "ein.tags": "worksheet-0",
    "slideshow": {
     "slide_type": "-"
    }
   },
   "outputs": [
    {
     "data": {
      "text/plain": [
       "<matplotlib.axes._subplots.AxesSubplot at 0x7f5954eebc88>"
      ]
     },
     "execution_count": 7,
     "metadata": {},
     "output_type": "execute_result"
    },
    {
     "data": {
      "image/png": "[encoded data removed]",
      "text/plain": [
       "<Figure size 432x288 with 1 Axes>"
      ]
     },
     "metadata": {
      "needs_background": "light"
     },
     "output_type": "display_data"
    }
   ],
   "source": [
    "stba.plot_metric('proportion_of_landscape', class_val=1)"
   ]
  },
  {
   "cell_type": "markdown",
   "metadata": {
    "ein.tags": "worksheet-0",
    "slideshow": {
     "slide_type": "-"
    }
   },
   "source": [
    "Similarly, we can produce the same plot at the landscape level by not ommiting the `class_val` argument:"
   ]
  },
  {
   "cell_type": "code",
   "execution_count": 8,
   "metadata": {
    "autoscroll": false,
    "ein.hycell": false,
    "ein.tags": "worksheet-0",
    "slideshow": {
     "slide_type": "-"
    }
   },
   "outputs": [
    {
     "data": {
      "text/plain": [
       "<matplotlib.axes._subplots.AxesSubplot at 0x7f5954de85c0>"
      ]
     },
     "execution_count": 8,
     "metadata": {},
     "output_type": "execute_result"
    },
    {
     "data": {
      "image/png": "[encoded data removed]",
      "text/plain": [
       "<Figure size 432x288 with 1 Axes>"
      ]
     },
     "metadata": {
      "needs_background": "light"
     },
     "output_type": "display_data"
    }
   ],
   "source": [
    "stba.plot_metric('fractal_dimension_am')"
   ]
  },
  {
   "cell_type": "markdown",
   "metadata": {
    "ein.tags": "worksheet-0",
    "slideshow": {
     "slide_type": "-"
    }
   },
   "source": [
    "Although this is beyond the scope of this tutorial, note that in both of the plots above, the time series of metrics seemingly show predictable responsess to changing the spatial extent of the map."
   ]
  },
  {
   "cell_type": "markdown",
   "metadata": {
    "ein.tags": "worksheet-0",
    "slideshow": {
     "slide_type": "-"
    }
   },
   "source": [
    "On the other hand, we might use the `plot_landscapes` method to plot the considered landscapes for each buffer distance (row) and year (column):"
   ]
  },
  {
   "cell_type": "code",
   "execution_count": 9,
   "metadata": {
    "autoscroll": false,
    "ein.hycell": false,
    "ein.tags": "worksheet-0",
    "slideshow": {
     "slide_type": "-"
    }
   },
   "outputs": [
    {
     "data": {
      "image/png": "[encoded data removed]",
      "text/plain": [
       "<Figure size 1296x864 with 9 Axes>"
      ]
     },
     "metadata": {
      "needs_background": "light"
     },
     "output_type": "display_data"
    }
   ],
   "source": [
    "fig = stba.plot_landscapes()"
   ]
  }
 ],
 "metadata": {
  "kernelspec": {
   "display_name": "Python (pylandstats)",
   "language": "python",
   "name": "pylandstats"
  },
  "language_info": {
   "codemirror_mode": {
    "name": "ipython",
    "version": 3
   },
   "file_extension": ".py",
   "mimetype": "text/x-python",
   "name": "python",
   "nbconvert_exporter": "python",
   "pygments_lexer": "ipython3",
   "version": "3.7.3"
  },
  "name": "04-spatiotemporal-buffer-analysis.ipynb"
 },
 "nbformat": 4,
 "nbformat_minor": 2
}
