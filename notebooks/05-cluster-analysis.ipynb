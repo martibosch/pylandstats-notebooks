{
 "cells": [
  {
   "cell_type": "markdown",
   "id": "d618f794",
   "metadata": {},
   "source": [
    "# Cluster Analysis\n",
    "\n",
    "This experimental notebook explores an inventory of landscapes accross Switzerland, with the aim of classifying them by means of landscape metrics. The approach is based on the work of Nowosad and Stepinski (2019) [1]. \n",
    "\n",
    "In the cell below, the notebook introduces a preliminary implementation of a `ClusterAnalysis` class, which will eventually be integrated to the pylandstats library. Then, the cells of the Data processing section serve to generate a landscape inventory by randomly sampling small regions accross Switzerland. If you are mainly interested in the landscape ecology part, feel free to skip to section [Cluster analysis with ten metrics and principal component analysis (PCA)](#cluster-analysis-ten-metrics-pca)."
   ]
  },
  {
   "cell_type": "code",
   "execution_count": null,
   "id": "7689e5e0",
   "metadata": {},
   "outputs": [],
   "source": [
    "import tempfile\n",
    "from os import path\n",
    "\n",
    "import matplotlib.pyplot as plt\n",
    "import numpy as np\n",
    "import osmnx as ox\n",
    "import pandas as pd\n",
    "import rasterio as rio\n",
    "import seaborn as sns\n",
    "import swisslandstats as sls\n",
    "import tqdm\n",
    "from numpy import random\n",
    "from rasterio import mask\n",
    "from sklearn import cluster, decomposition, metrics\n",
    "\n",
    "import pylandstats as pls\n",
    "\n",
    "\n",
    "class ClusterAnalysis(object):\n",
    "    \"\"\"Cluster analysis of landscapes based on landscape metrics.\"\"\"\n",
    "\n",
    "    def __init__(\n",
    "        self,\n",
    "        landscapes,\n",
    "        metrics,\n",
    "        kmeans_kws=None,\n",
    "        pca_kws=None,\n",
    "        pca=False,\n",
    "        silhouette_score_kws=None,\n",
    "    ):\n",
    "        \"\"\"\n",
    "        Initialize the cluster analysis.\n",
    "\n",
    "        Parameters\n",
    "        ----------\n",
    "        landscapes : list-like\n",
    "            The list-like of `pylandstats.Landscape` instances.\n",
    "        metrics : list-like\n",
    "            A list-like of strings with the names of the metrics that should be\n",
    "            computed. Note that they will be computed at the landscape level.\n",
    "        kmeans_kws : dict, optional\n",
    "            Keyword arguments to be passed to the initialization of\n",
    "            `sklearn.cluster.KMeans`.\n",
    "        pca_kws : dict, optional\n",
    "            Keyword arguments to be passed to the initialization of\n",
    "            `sklearn.decomposition.PCA`.\n",
    "        pca : bool, default False\n",
    "            Whether the principal component analysis of the metrics should be performed.\n",
    "            Ignored if pca_kws is not None (default).\n",
    "        silhouette_score_kws : dict, optional\n",
    "            Keyword arguments to be passed to `sklearn.metrics.silhouette_score` when\n",
    "            computing the `silhouette_score` property of this class.\n",
    "        \"\"\"\n",
    "        self.landscapes = landscapes\n",
    "        # self.metrics = metrics\n",
    "        # TODO: how to handle NaN values in `self.metrics_df`?\n",
    "        self.metrics_df = pd.concat(\n",
    "            [\n",
    "                ls.compute_landscape_metrics_df(metrics=metrics)\n",
    "                for ls in tqdm.tqdm(landscapes)\n",
    "            ],\n",
    "            ignore_index=True,\n",
    "        )\n",
    "        self.kmeans = cluster.KMeans(**kmeans_kws).fit(self.metrics_df)\n",
    "        if pca_kws or pca:\n",
    "            self.pca = decomposition.PCA(**pca_kws).fit(self.metrics_df)\n",
    "            self.pca_df = pd.DataFrame(self.pca.transform(self.metrics_df))\n",
    "\n",
    "        if silhouette_score_kws is None:\n",
    "            silhouette_score_kws = {}\n",
    "        self._silhouette_score_kws = silhouette_score_kws\n",
    "\n",
    "    @property\n",
    "    def silhouette_score(self):\n",
    "        \"\"\"Silhouette score.\"\"\"\n",
    "        try:\n",
    "            return self._silhouette_score\n",
    "        except AttributeError:\n",
    "            self._silhouette_score = metrics.silhouette_score(\n",
    "                self.metrics_df, self.kmeans.labels_, **self._silhouette_score_kws\n",
    "            )\n",
    "\n",
    "            return self._silhouette_score\n",
    "\n",
    "    def _scatterplot_clusters(\n",
    "        self,\n",
    "        x,\n",
    "        y,\n",
    "        data,\n",
    "        cluster_centers,\n",
    "        palette_name=None,\n",
    "        scatterplot_kws=None,\n",
    "        center_plot_kws=None,\n",
    "    ):\n",
    "        if scatterplot_kws is None:\n",
    "            scatterplot_kws = {}\n",
    "        if center_plot_kws is None:\n",
    "            center_plot_kws = {}\n",
    "\n",
    "        palette = scatterplot_kws.copy().pop(\n",
    "            \"palette\", sns.color_palette(palette_name, n_colors=self.kmeans.n_clusters)\n",
    "        )\n",
    "        ax = sns.scatterplot(\n",
    "            x=x,\n",
    "            y=y,\n",
    "            hue=pd.Series(self.kmeans.labels_, name=\"cluster\"),\n",
    "            data=data,\n",
    "            palette=palette,\n",
    "            **scatterplot_kws,\n",
    "        )\n",
    "\n",
    "        for color, cluster_center in zip(palette, cluster_centers):\n",
    "            ax.plot(\n",
    "                cluster_center[0], cluster_center[1], color=color, **center_plot_kws\n",
    "            )\n",
    "\n",
    "        return ax\n",
    "\n",
    "    def scatterplot_cluster_metrics(\n",
    "        self,\n",
    "        metric_x,\n",
    "        metric_y,\n",
    "        palette_name=None,\n",
    "        scatterplot_kws=None,\n",
    "        center_plot_kws=None,\n",
    "    ):\n",
    "        \"\"\"\n",
    "        Scatterplot the landscape samples colored by their cluster.\n",
    "\n",
    "        Parameters\n",
    "        ----------\n",
    "        metric_x, metric_y : str\n",
    "            Strings with the names of the metrics to be plotted on the x and y axes\n",
    "            respectively.\n",
    "        palette_name : str, optional\n",
    "            Name of palette or None to return current palette\n",
    "        scatterplot_kws : dict, optional\n",
    "            Keyword arguments to be passed to `seaborn.scatterplot`.\n",
    "        center_plot_kws : dict, optional\n",
    "            Keyword arguments to plot the cluster centers, which will be passed to\n",
    "            `matplotlib.axes.Axes.plot`.\n",
    "\n",
    "        Returns\n",
    "        -------\n",
    "        ax : matplotlib.axes.Axes\n",
    "            Returns the `Axes` object with the plot drawn onto it.\n",
    "        \"\"\"\n",
    "        return self._scatterplot_clusters(\n",
    "            metric_x,\n",
    "            metric_y,\n",
    "            self.metrics_df,\n",
    "            self.kmeans.cluster_centers_[\n",
    "                :,\n",
    "                [\n",
    "                    self.metrics_df.columns.get_loc(metric)\n",
    "                    for metric in [metric_x, metric_y]\n",
    "                ],\n",
    "            ],\n",
    "            scatterplot_kws=scatterplot_kws,\n",
    "            center_plot_kws=center_plot_kws,\n",
    "        )\n",
    "\n",
    "    def scatterplot_cluster_pca(\n",
    "        self,\n",
    "        pca_i_x=0,\n",
    "        pca_i_y=1,\n",
    "        palette_name=None,\n",
    "        scatterplot_kws=None,\n",
    "        center_plot_kws=None,\n",
    "    ):\n",
    "        \"\"\"\n",
    "        Scatterplot the landscape samples colored by their cluster.\n",
    "\n",
    "        Parameters\n",
    "        ----------\n",
    "        pca_i_x, pca_i_y : int, default 0, 1 (respectively)\n",
    "            Integer indexer (NOTE: starting at 0) of the PCA component to be plotted on\n",
    "            the x and y axes respectively. The default values of 0 and 1 correspond to\n",
    "            plotting the first and second PCA components on the x and y axes\n",
    "            respectively.\n",
    "        palette_name : str, optional\n",
    "            Name of palette or None to return current palette\n",
    "        scatterplot_kws : dict, optional\n",
    "            Keyword arguments to be passed to `seaborn.scatterplot`.\n",
    "        center_plot_kws : dict, optional\n",
    "            Keyword arguments to plot the cluster centers, which will be passed to\n",
    "            `matplotlib.axes.Axes.plot`.\n",
    "\n",
    "        Returns\n",
    "        -------\n",
    "        ax : matplotlib.axes.Axes\n",
    "            Returns the `Axes` object with the plot drawn onto it.\n",
    "        \"\"\"\n",
    "        return self._scatterplot_clusters(\n",
    "            f\"PCA$_{pca_i_x}$\",\n",
    "            f\"PCA$_{pca_i_y}$\",\n",
    "            self.pca_df.rename(columns=lambda col: f\"PCA$_{col}$\"),\n",
    "            self.pca_df.groupby(self.kmeans.labels_).mean().values,\n",
    "            scatterplot_kws=scatterplot_kws,\n",
    "            center_plot_kws=center_plot_kws,\n",
    "        )\n",
    "\n",
    "    def plot_cluster_landscapes(\n",
    "        self,\n",
    "        num_cols,\n",
    "        figwidth=None,\n",
    "        figheight=None,\n",
    "        subfigures_kws=None,\n",
    "        subplots_kws=None,\n",
    "        supylabel_kws=None,\n",
    "        plot_landscape_kws=None,\n",
    "    ):\n",
    "        \"\"\"\n",
    "        Scatterplot the landscape samples colored by their cluster.\n",
    "\n",
    "        Parameters\n",
    "        ----------\n",
    "        num_cols : int\n",
    "            Number of columns for the figure.\n",
    "        figwidth, figheight : numeric, optional\n",
    "            Figure width and height (in inches).\n",
    "        subfigures_kws, subplots_kws, supylabel_kws, plot_landscape_kws : dict, optional\n",
    "            Keyword arguments to be passed to `matplotlib.figure.Figure.subfigures`,\n",
    "            `matplotlib.figure.SubFigure.subplots`,\n",
    "            `matplotlib.figure.SubFigure.supylabel` and\n",
    "            `pylandstats.Landscape.plot_landscape` respectively.\n",
    "\n",
    "        Returns\n",
    "        -------\n",
    "        fig : matplotlib.figure.Figure\n",
    "            The figure with its corresponding plots drawn into its axes.\n",
    "        \"\"\"\n",
    "        if subfigures_kws is None:\n",
    "            subfigures_kws = {}\n",
    "        if subplots_kws is None:\n",
    "            subplots_kws = {}\n",
    "        if supylabel_kws is None:\n",
    "            supylabel_kws = {}\n",
    "        if plot_landscape_kws is None:\n",
    "            plot_landscape_kws = {}\n",
    "\n",
    "        num_rows_per_cluster = np.ceil(\n",
    "            np.unique(self.kmeans.labels_, return_counts=True)[1] / num_cols\n",
    "        ).astype(int)\n",
    "        num_rows = num_rows_per_cluster.sum()\n",
    "\n",
    "        fig = plt.figure(figsize=(num_cols * figwidth, num_rows * figheight))\n",
    "        # gs = fig.add_gridspec(num_rows, num_cols)\n",
    "        subfigs = fig.subfigures(\n",
    "            self.kmeans.n_clusters,\n",
    "            1,\n",
    "            height_ratios=num_rows_per_cluster,\n",
    "            **subfigures_kws,\n",
    "        )\n",
    "\n",
    "        for subfig, (cluster_label, _cluster_df) in zip(\n",
    "            subfigs, self.metrics_df.groupby(self.kmeans.labels_)\n",
    "        ):\n",
    "            num_cluster_rows = np.ceil(len(_cluster_df) / num_cols).astype(int)\n",
    "\n",
    "            axes = subfig.subplots(num_cluster_rows, num_cols, **subplots_kws)\n",
    "            subfig.supylabel(f\"Cluster {cluster_label}\", **supylabel_kws)\n",
    "\n",
    "            for ls_i, ax in zip(_cluster_df.index, axes.flat):\n",
    "                self.landscapes[ls_i].plot_landscape(ax=ax, **plot_landscape_kws)\n",
    "                ax.get_xaxis().set_visible(False)\n",
    "                ax.get_yaxis().set_visible(False)\n",
    "\n",
    "            # if the cluster does not fill all the columns of the last row, set the\n",
    "            # respective axes off\n",
    "            num_empty_axes = len(axes.flat) - len(_cluster_df) % num_cols\n",
    "            if num_empty_axes > 0:\n",
    "                for ax in axes.flat[-num_empty_axes:]:\n",
    "                    ax.set_axis_off()\n",
    "\n",
    "        return fig"
   ]
  },
  {
   "cell_type": "markdown",
   "id": "38e2272f",
   "metadata": {},
   "source": [
    "## 1. Data preprocessing\n",
    "\n",
    "We first need to run the cell below so that the land use/land cover (LULC) data is downloaded and preprocessed (see [A03-swisslandstats-preprocessing.ipynb](https://github.com/martibosch/pylandstats-notebooks/blob/master/notebooks/A03-swisslandstats-preprocessing.ipynb) for more details)."
   ]
  },
  {
   "cell_type": "code",
   "execution_count": null,
   "id": "da8437d4",
   "metadata": {},
   "outputs": [],
   "source": [
    "!snakemake -c1 -d .. -s ../Snakefile lulc_tifs"
   ]
  },
  {
   "cell_type": "markdown",
   "id": "1d104464",
   "metadata": {},
   "source": [
    "We will set the main parameters of the cluster analysis in the cell below:"
   ]
  },
  {
   "cell_type": "code",
   "execution_count": null,
   "id": "062b764a",
   "metadata": {},
   "outputs": [],
   "source": [
    "input_filepath = \"../data/raw/lulc/AREA_NOAS04_17_181029.csv\"\n",
    "lulc_col = \"AS18_4\"\n",
    "\n",
    "# Number of landscapes to cluster\n",
    "num_landscapes = 24\n",
    "# Size (in meters) of each landscape\n",
    "landscape_size = 1000  # i.e., each landscape is a tile of 1000x1000 m^2\n",
    "# Number of landscape clusters\n",
    "num_clusters = 3\n",
    "# Number of PCA components (to group the metrics)\n",
    "num_components = 2"
   ]
  },
  {
   "cell_type": "markdown",
   "id": "b550c5b6",
   "metadata": {},
   "source": [
    "We will also set some other parameters which are not related to the cluster analysis itself (e.g., for plotting):"
   ]
  },
  {
   "cell_type": "code",
   "execution_count": null,
   "id": "139d95cc",
   "metadata": {},
   "outputs": [],
   "source": [
    "# random seed to ensure repeatability of this notebook\n",
    "random_seed = 271828\n",
    "# TODO: use random.PCG64 - see https://github.com/scikit-learn/scikit-learn/issues/16988\n",
    "bg = random.RandomState(random_seed)\n",
    "\n",
    "# KMeans, PCA and silhouette score parameters\n",
    "kmeans_kws = dict(n_clusters=num_clusters, random_state=bg)\n",
    "pca_kws = dict(n_components=num_components, random_state=bg)\n",
    "silhouette_score_kws = dict(random_state=bg)\n",
    "\n",
    "# parameters for the cluster scatter plots\n",
    "center_plot_kws = dict(marker=\"x\", markersize=10)\n",
    "\n",
    "# parameters for the cluster landscape plots\n",
    "num_cols = 6\n",
    "plot_cluster_landscapes_kws = dict(\n",
    "    figwidth=3,\n",
    "    figheight=3,\n",
    "    subfigures_kws=dict(hspace=0.05),\n",
    "    supylabel_kws=dict(x=0.1),\n",
    "    plot_landscape_kws=dict(cmap=sls.noas04_4_cmap, norm=sls.noas04_4_norm),\n",
    ")"
   ]
  },
  {
   "cell_type": "markdown",
   "id": "f23d4184",
   "metadata": {},
   "source": [
    "We will now use the [swisslandstats-geopy](https://github.com/martibosch/swisslandstats-geopy) [2] library to generate the landscapes for the cluster analysis by extracting them from random locations accross Switzerland:"
   ]
  },
  {
   "cell_type": "code",
   "execution_count": null,
   "id": "00a83e3c",
   "metadata": {},
   "outputs": [],
   "source": [
    "ldf = sls.read_csv(input_filepath)\n",
    "swiss_geom = (\n",
    "    ox.geocode_to_gdf(\"Switzerland\")\n",
    "    .to_crs(ldf.crs)[\"geometry\"]\n",
    "    .iloc[0]\n",
    "    .buffer(-landscape_size)\n",
    ")\n",
    "landscape_geoms = (\n",
    "    ldf.clip_by_geometry(swiss_geom)\n",
    "    .sample(num_landscapes, random_state=bg)\n",
    "    .to_geodataframe()[\"geometry\"]\n",
    "    .buffer(landscape_size, cap_style=3)\n",
    ")"
   ]
  },
  {
   "cell_type": "markdown",
   "id": "acbd5532",
   "metadata": {},
   "source": [
    "Here is what one of this landscapes looks like (legend: red pixels are urban, green pixels are agricultural, yellow pixels are wooded areas and blue pixels are unproductive areas, e.g., lakes, rivers, glaciers...):"
   ]
  },
  {
   "cell_type": "code",
   "execution_count": null,
   "id": "92b7bb9b",
   "metadata": {},
   "outputs": [
    {
     "data": {
      "text/plain": [
       "<AxesSubplot:>"
      ]
     },
     "execution_count": null,
     "metadata": {},
     "output_type": "execute_result"
    },
    {
     "data": {
      "image/png": "[encoded data removed]",
      "text/plain": [
       "<Figure size 432x288 with 1 Axes>"
      ]
     },
     "metadata": {
      "needs_background": "light"
     },
     "output_type": "display_data"
    }
   ],
   "source": [
    "ldf.clip_by_geometry(landscape_geoms.iloc[0]).plot(\n",
    "    \"AS18_4\", cmap=sls.noas04_4_cmap, norm=sls.noas04_4_norm\n",
    ")"
   ]
  },
  {
   "cell_type": "markdown",
   "id": "06c98f93",
   "metadata": {},
   "source": [
    "The last preprocessing step is to actually initialize a pylandstats `Landscape` instance for each of the landscape so that we can then compute the metrics:"
   ]
  },
  {
   "cell_type": "code",
   "execution_count": null,
   "id": "cce9db33",
   "metadata": {},
   "outputs": [
    {
     "name": "stderr",
     "output_type": "stream",
     "text": [
      "\r",
      "  0%|                                                                            | 0/24 [00:00<?, ?it/s]"
     ]
    },
    {
     "name": "stderr",
     "output_type": "stream",
     "text": [
      "\r",
      "100%|██████████████████████████████████████████████████████████████████| 24/24 [00:00<00:00, 614.03it/s]"
     ]
    },
    {
     "name": "stderr",
     "output_type": "stream",
     "text": [
      "\n"
     ]
    }
   ],
   "source": [
    "landscapes = []\n",
    "\n",
    "with tempfile.TemporaryDirectory() as tmp_dir:\n",
    "    tmp_filepath = path.join(tmp_dir, \"foo.tif\")\n",
    "    # TODO: use convex hull of all landscape_geoms?\n",
    "    ldf.to_geotiff(tmp_filepath, lulc_col)\n",
    "    with rio.open(tmp_filepath) as src:\n",
    "        for landscape_geom in tqdm.tqdm(landscape_geoms):\n",
    "            img, transform = mask.mask(\n",
    "                src, [landscape_geom], all_touched=True, nodata=0, crop=True\n",
    "            )\n",
    "            landscapes.append(pls.Landscape(img[0], res=ldf.res, transform=transform))"
   ]
  },
  {
   "cell_type": "markdown",
   "id": "c214581e",
   "metadata": {},
   "source": [
    "<a id='cluster-analysis-ten-metrics-pca'></a> \n",
    "## Cluster analysis with ten metrics and principal component analysis (PCA)\n",
    "\n",
    "For each landscape, we now compute a set of ten landscape metrics chosen loosely following the work of Nowosad and Stepinski [3] (the list of metrics is actually adapted considering the metrics that are currently implemented in pylandstats). Then, landscapes will be classified based on the computed metrics into a pre-defined number of clusters. In order to better visualize the results, a principal component analysis (PCA) will serve to reduce the dimensionality (i.e., number of metrics). \n",
    "\n",
    "We will use the `ClusterAnalysis` class defined above as follows:"
   ]
  },
  {
   "cell_type": "code",
   "execution_count": null,
   "id": "6b19649d",
   "metadata": {},
   "outputs": [
    {
     "name": "stderr",
     "output_type": "stream",
     "text": [
      "\r",
      "  0%|                                                                            | 0/24 [00:00<?, ?it/s]"
     ]
    },
    {
     "name": "stderr",
     "output_type": "stream",
     "text": [
      "\r",
      " 12%|████████▌                                                           | 3/24 [00:00<00:00, 26.48it/s]"
     ]
    },
    {
     "name": "stderr",
     "output_type": "stream",
     "text": [
      "\r",
      " 25%|█████████████████                                                   | 6/24 [00:00<00:00, 27.34it/s]"
     ]
    },
    {
     "name": "stderr",
     "output_type": "stream",
     "text": [
      "\r",
      " 38%|█████████████████████████▌                                          | 9/24 [00:00<00:00, 26.82it/s]"
     ]
    },
    {
     "name": "stderr",
     "output_type": "stream",
     "text": [
      "\r",
      " 50%|█████████████████████████████████▌                                 | 12/24 [00:00<00:00, 25.37it/s]"
     ]
    },
    {
     "name": "stderr",
     "output_type": "stream",
     "text": [
      "\r",
      " 62%|█████████████████████████████████████████▉                         | 15/24 [00:00<00:00, 25.72it/s]"
     ]
    },
    {
     "name": "stderr",
     "output_type": "stream",
     "text": [
      "\r",
      " 75%|██████████████████████████████████████████████████▎                | 18/24 [00:00<00:00, 26.22it/s]"
     ]
    },
    {
     "name": "stderr",
     "output_type": "stream",
     "text": [
      "\r",
      " 88%|██████████████████████████████████████████████████████████▋        | 21/24 [00:00<00:00, 25.36it/s]"
     ]
    },
    {
     "name": "stderr",
     "output_type": "stream",
     "text": [
      "\r",
      "100%|███████████████████████████████████████████████████████████████████| 24/24 [00:01<00:00, 17.68it/s]"
     ]
    },
    {
     "name": "stderr",
     "output_type": "stream",
     "text": [
      "\r",
      "100%|███████████████████████████████████████████████████████████████████| 24/24 [00:01<00:00, 21.93it/s]"
     ]
    },
    {
     "name": "stderr",
     "output_type": "stream",
     "text": [
      "\n"
     ]
    }
   ],
   "source": [
    "ten_metrics = [\n",
    "    # area and edge\n",
    "    \"area_mn\",\n",
    "    \"perimeter_mn\",\n",
    "    \"patch_density\",\n",
    "    \"edge_density\",\n",
    "    # shape\n",
    "    \"fractal_dimension_am\",\n",
    "    \"shape_index_mn\",\n",
    "    # aggregation\n",
    "    \"contagion\",\n",
    "    \"effective_mesh_size\",\n",
    "    \"landscape_shape_index\",\n",
    "    # diversity\n",
    "    \"shannon_diversity_index\",\n",
    "]\n",
    "ten_ca = ClusterAnalysis(\n",
    "    landscapes,\n",
    "    ten_metrics,\n",
    "    kmeans_kws=kmeans_kws,\n",
    "    pca_kws=pca_kws,\n",
    "    silhouette_score_kws=silhouette_score_kws,\n",
    ")"
   ]
  },
  {
   "cell_type": "markdown",
   "id": "54a3a9ea",
   "metadata": {},
   "source": [
    "We will now visualize the results of the cluster analysis as a scatter plot using the first and second PCA components:"
   ]
  },
  {
   "cell_type": "code",
   "execution_count": null,
   "id": "3c3a4f83",
   "metadata": {},
   "outputs": [
    {
     "name": "stdout",
     "output_type": "stream",
     "text": [
      "[0.99647173 0.00335771]\n"
     ]
    },
    {
     "data": {
      "image/png": "[encoded data removed]",
      "text/plain": [
       "<Figure size 432x288 with 1 Axes>"
      ]
     },
     "metadata": {
      "needs_background": "light"
     },
     "output_type": "display_data"
    }
   ],
   "source": [
    "print(ten_ca.pca.explained_variance_ratio_)\n",
    "pca_ax = ten_ca.scatterplot_cluster_pca(center_plot_kws=center_plot_kws)"
   ]
  },
  {
   "cell_type": "markdown",
   "id": "1a5222b5",
   "metadata": {},
   "source": [
    "The first and second components account for about 99.65% and 0.34% of the variance respectively, hence together they represent a 99.99% of the total variance. We can also see the contribution of each metric to each component:"
   ]
  },
  {
   "cell_type": "code",
   "execution_count": null,
   "id": "8f70c4f2",
   "metadata": {},
   "outputs": [
    {
     "data": {
      "text/html": [
       "<div>\n",
       "<style scoped>\n",
       "    .dataframe tbody tr th:only-of-type {\n",
       "        vertical-align: middle;\n",
       "    }\n",
       "\n",
       "    .dataframe tbody tr th {\n",
       "        vertical-align: top;\n",
       "    }\n",
       "\n",
       "    .dataframe thead th {\n",
       "        text-align: right;\n",
       "    }\n",
       "</style>\n",
       "<table border=\"1\" class=\"dataframe\">\n",
       "  <thead>\n",
       "    <tr style=\"text-align: right;\">\n",
       "      <th></th>\n",
       "      <th>area_mn</th>\n",
       "      <th>perimeter_mn</th>\n",
       "      <th>patch_density</th>\n",
       "      <th>edge_density</th>\n",
       "      <th>fractal_dimension_am</th>\n",
       "      <th>shape_index_mn</th>\n",
       "      <th>contagion</th>\n",
       "      <th>effective_mesh_size</th>\n",
       "      <th>landscape_shape_index</th>\n",
       "      <th>shannon_diversity_index</th>\n",
       "    </tr>\n",
       "  </thead>\n",
       "  <tbody>\n",
       "    <tr>\n",
       "      <th>0</th>\n",
       "      <td>0.032171</td>\n",
       "      <td>0.999446</td>\n",
       "      <td>-0.001137</td>\n",
       "      <td>-0.006332</td>\n",
       "      <td>-0.000012</td>\n",
       "      <td>0.000021</td>\n",
       "      <td>-0.000206</td>\n",
       "      <td>0.005562</td>\n",
       "      <td>-0.000332</td>\n",
       "      <td>-0.000035</td>\n",
       "    </tr>\n",
       "    <tr>\n",
       "      <th>1</th>\n",
       "      <td>0.101870</td>\n",
       "      <td>-0.009737</td>\n",
       "      <td>-0.013516</td>\n",
       "      <td>-0.170225</td>\n",
       "      <td>-0.000208</td>\n",
       "      <td>-0.000635</td>\n",
       "      <td>0.147231</td>\n",
       "      <td>0.968816</td>\n",
       "      <td>-0.008937</td>\n",
       "      <td>-0.002504</td>\n",
       "    </tr>\n",
       "  </tbody>\n",
       "</table>\n",
       "</div>"
      ],
      "text/plain": [
       "    area_mn  perimeter_mn  patch_density  edge_density  fractal_dimension_am  \\\n",
       "0  0.032171      0.999446      -0.001137     -0.006332             -0.000012   \n",
       "1  0.101870     -0.009737      -0.013516     -0.170225             -0.000208   \n",
       "\n",
       "   shape_index_mn  contagion  effective_mesh_size  landscape_shape_index  \\\n",
       "0        0.000021  -0.000206             0.005562              -0.000332   \n",
       "1       -0.000635   0.147231             0.968816              -0.008937   \n",
       "\n",
       "   shannon_diversity_index  \n",
       "0                -0.000035  \n",
       "1                -0.002504  "
      ]
     },
     "execution_count": null,
     "metadata": {},
     "output_type": "execute_result"
    }
   ],
   "source": [
    "pd.DataFrame(ten_ca.pca.components_, columns=ten_ca.metrics_df.columns)"
   ]
  },
  {
   "cell_type": "markdown",
   "id": "ff3270a6",
   "metadata": {},
   "source": [
    "We can see that the first component is almost perfectly coincident with the mean patch perimeter, whereas the second is very strongly related to the effective mesh size. We can also visualize the scatterplots based on the landscape metrics:"
   ]
  },
  {
   "cell_type": "code",
   "execution_count": null,
   "id": "c4539778",
   "metadata": {},
   "outputs": [
    {
     "data": {
      "image/png": "[encoded data removed]",
      "text/plain": [
       "<Figure size 432x288 with 1 Axes>"
      ]
     },
     "metadata": {
      "needs_background": "light"
     },
     "output_type": "display_data"
    }
   ],
   "source": [
    "area_edge_ax = ten_ca.scatterplot_cluster_metrics(\n",
    "    metric_x=\"perimeter_mn\", metric_y=\"effective_mesh_size\"\n",
    ")"
   ]
  },
  {
   "cell_type": "markdown",
   "id": "c9d81de1",
   "metadata": {},
   "source": [
    "In this analysis, it seems that clusters can practically be separated by means of the mean patch perimeter alone. Let us now see what the landscapes of each cluster look like:"
   ]
  },
  {
   "cell_type": "code",
   "execution_count": null,
   "id": "9ac34247",
   "metadata": {},
   "outputs": [
    {
     "data": {
      "image/png": "[encoded data removed]",
      "text/plain": [
       "<Figure size 1296x1296 with 36 Axes>"
      ]
     },
     "metadata": {
      "needs_background": "light"
     },
     "output_type": "display_data"
    }
   ],
   "source": [
    "ten_fig = ten_ca.plot_cluster_landscapes(num_cols, **plot_cluster_landscapes_kws)"
   ]
  },
  {
   "cell_type": "markdown",
   "id": "14cea809",
   "metadata": {},
   "source": [
    "In line with the scatter plot above, we can see that:\n",
    "\n",
    "* *cluster 0* consists of landscapes with complex shapes and large amounts of edges between different classes\n",
    "* *cluster 1* corresponds to a single landscape with two patches and simple shapes\n",
    "* *cluster 2* consists of landscapes with a shape complexity that is somewhere in between the simplicity of *cluster 1* and the high shape complexity of *cluster 0*\n",
    "\n",
    "## Information theory (IT)-based approach\n",
    "\n",
    "Following the approach of Nowosad and Stepinski [1], we will now try to use an information theory (IT)-based approach to classify landscapes, i.e., the HYU diagram, where H and U respectively refer to [the Shannon's entropy](https://pylandstats.readthedocs.io/en/latest/landscape.html#pylandstats.Landscape.entropy) and [the relative mutual information criterion](https://pylandstats.readthedocs.io/en/latest/landscape.html#pylandstats.Landscape.relative_mutual_information) (see Nowosad and Stepinski [1] for more details). \n",
    "\n",
    "To perform this IT-based analsyis, can use the `ClusterAnalysis` class again, but since we are only using two landscape metrics, there is not need for a PCA decomposition:"
   ]
  },
  {
   "cell_type": "code",
   "execution_count": null,
   "id": "becf4509",
   "metadata": {},
   "outputs": [
    {
     "name": "stderr",
     "output_type": "stream",
     "text": [
      "\r",
      "  0%|                                                                            | 0/24 [00:00<?, ?it/s]"
     ]
    },
    {
     "name": "stderr",
     "output_type": "stream",
     "text": [
      "\r",
      " 12%|████████▌                                                           | 3/24 [00:00<00:00, 26.00it/s]"
     ]
    },
    {
     "name": "stderr",
     "output_type": "stream",
     "text": [
      "\r",
      " 25%|█████████████████                                                   | 6/24 [00:00<00:00, 28.17it/s]"
     ]
    },
    {
     "name": "stderr",
     "output_type": "stream",
     "text": [
      "\r",
      " 42%|███████████████████████████▉                                       | 10/24 [00:00<00:00, 29.44it/s]"
     ]
    },
    {
     "name": "stderr",
     "output_type": "stream",
     "text": [
      "\r",
      " 54%|████████████████████████████████████▎                              | 13/24 [00:00<00:00, 29.11it/s]"
     ]
    },
    {
     "name": "stderr",
     "output_type": "stream",
     "text": [
      "\r",
      " 71%|███████████████████████████████████████████████▍                   | 17/24 [00:00<00:00, 30.25it/s]"
     ]
    },
    {
     "name": "stderr",
     "output_type": "stream",
     "text": [
      "\r",
      " 88%|██████████████████████████████████████████████████████████▋        | 21/24 [00:00<00:00, 28.14it/s]"
     ]
    },
    {
     "name": "stderr",
     "output_type": "stream",
     "text": [
      "\r",
      "100%|███████████████████████████████████████████████████████████████████| 24/24 [00:00<00:00, 28.81it/s]"
     ]
    },
    {
     "name": "stderr",
     "output_type": "stream",
     "text": [
      "\n"
     ]
    }
   ],
   "source": [
    "it_metrics = [\"entropy\", \"relative_mutual_information\"]\n",
    "it_ca = ClusterAnalysis(\n",
    "    landscapes,\n",
    "    it_metrics,\n",
    "    kmeans_kws=kmeans_kws,\n",
    "    pca=False,\n",
    "    silhouette_score_kws=silhouette_score_kws,\n",
    ")"
   ]
  },
  {
   "cell_type": "markdown",
   "id": "0d9fb858",
   "metadata": {},
   "source": [
    "We can visualize the clusters in a two-dimensional scatter plot with each metric representing an axis:"
   ]
  },
  {
   "cell_type": "code",
   "execution_count": null,
   "id": "67279e16",
   "metadata": {},
   "outputs": [
    {
     "data": {
      "image/png": "[encoded data removed]",
      "text/plain": [
       "<Figure size 432x288 with 1 Axes>"
      ]
     },
     "metadata": {
      "needs_background": "light"
     },
     "output_type": "display_data"
    }
   ],
   "source": [
    "it_ax = it_ca.scatterplot_cluster_metrics(\n",
    "    metric_x=\"entropy\", metric_y=\"relative_mutual_information\"\n",
    ")"
   ]
  },
  {
   "cell_type": "markdown",
   "id": "f009ee55",
   "metadata": {},
   "source": [
    "In this case, it seems that the clusters can be delineated based on the entropy metric.\n",
    "\n",
    "Let us now visualize the landscapes of each cluster:"
   ]
  },
  {
   "cell_type": "code",
   "execution_count": null,
   "id": "ba2b1f68",
   "metadata": {},
   "outputs": [
    {
     "data": {
      "image/png": "[encoded data removed]",
      "text/plain": [
       "<Figure size 1296x1080 with 30 Axes>"
      ]
     },
     "metadata": {
      "needs_background": "light"
     },
     "output_type": "display_data"
    }
   ],
   "source": [
    "it_fig = it_ca.plot_cluster_landscapes(num_cols, **plot_cluster_landscapes_kws)"
   ]
  },
  {
   "cell_type": "markdown",
   "id": "b107b9d1",
   "metadata": {},
   "source": [
    "We can see that the *cluster 0* seems to group the landscapes with the most complex shapes (hence the highest entropy values), but in this IT-based the landscapes of *cluster 2* appear more similar to those of *cluster 0*. To conclude, we can evaluate the consistency of the ten metrics-based and the IT-based cluster classifications by comparing their respective [silhouette scores](https://en.wikipedia.org/wiki/Silhouette_(clustering)):"
   ]
  },
  {
   "cell_type": "code",
   "execution_count": null,
   "id": "497050fa",
   "metadata": {},
   "outputs": [
    {
     "name": "stdout",
     "output_type": "stream",
     "text": [
      "Silhouette scores:\n",
      "Ten metrics: 0.5700887466538008\n",
      "IT: 0.3634160964166098\n"
     ]
    }
   ],
   "source": [
    "print(\"Silhouette scores:\")\n",
    "print(f\"Ten metrics: {ten_ca.silhouette_score}\")\n",
    "print(f\"IT: {it_ca.silhouette_score}\")"
   ]
  },
  {
   "cell_type": "markdown",
   "id": "49e55691",
   "metadata": {},
   "source": [
    "As we can see, the ten metrics-based cluster classification in this notebook is more consistent (higher silhouette score) than the IT-based approach.\n",
    "\n",
    "Note however that the purpose of this notebook is to show how pylandstats can be used to cluster landscapes. The parameters of the analysis have been chosen for pedagogical purposes hence the results are not intended to be interpreted in landscape ecology/information theory terms.\n",
    "\n",
    "## References\n",
    "\n",
    "1. Nowosad, J., & Stepinski, T. F. (2019). Information theory as a consistent framework for quantification and classification of landscape patterns. Landscape Ecology, 34(9), 2091-2101.\n",
    "2. Bosch, M. (2019). swisslandstats-geopy: Python tools for the land statistics datasets from the Swiss Federal Statistical Office. Journal of Open Source Software, 4(41), 1511.\n",
    "3. Nowosad, J., & Stepinski, T. F. (2018). Global inventory of landscape patterns and latent variables of landscape spatial configuration. Ecological Indicators, 89, 159-167."
   ]
  }
 ],
 "metadata": {
  "kernelspec": {
   "display_name": "Python (pylandstats)",
   "language": "python",
   "name": "pylandstats"
  },
  "language_info": {
   "codemirror_mode": {
    "name": "ipython",
    "version": 3
   },
   "file_extension": ".py",
   "mimetype": "text/x-python",
   "name": "python",
   "nbconvert_exporter": "python",
   "pygments_lexer": "ipython3",
   "version": "3.11.4"
  },
  "name": "05-cluster-analysis.ipynb"
 },
 "nbformat": 4,
 "nbformat_minor": 5
}
