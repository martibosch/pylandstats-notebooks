{
 "cells": [
  {
   "cell_type": "markdown",
   "metadata": {
    "ein.tags": "worksheet-0",
    "slideshow": {
     "slide_type": "-"
    }
   },
   "source": [
    "# Gradient Analysis"
   ]
  },
  {
   "cell_type": "code",
   "execution_count": 1,
   "metadata": {
    "autoscroll": false,
    "ein.hycell": false,
    "ein.tags": "worksheet-0",
    "slideshow": {
     "slide_type": "-"
    }
   },
   "outputs": [],
   "source": [
    "import matplotlib.pyplot as plt\n",
    "import numpy as np\n",
    "import rasterio\n",
    "\n",
    "import pylandstats as pls"
   ]
  },
  {
   "cell_type": "markdown",
   "metadata": {
    "ein.tags": "worksheet-0",
    "slideshow": {
     "slide_type": "-"
    }
   },
   "source": [
    "Gradient analysis is a well-established approach within ecological studies which consists on evaluating the spatial variation of the environmental characteristics as one moves progressively from the highly-developed urban cores to the less intense suburbs until the rural and natural hinterlands.\n",
    "\n",
    "Consider the following landscape of the Canton of Vaud, Switzerland:"
   ]
  },
  {
   "cell_type": "code",
   "execution_count": 2,
   "metadata": {
    "autoscroll": false,
    "ein.hycell": false,
    "ein.tags": "worksheet-0",
    "slideshow": {
     "slide_type": "-"
    }
   },
   "outputs": [
    {
     "data": {
      "image/png": "[encoded data removed]",
      "text/plain": [
       "<Figure size 432x288 with 1 Axes>"
      ]
     },
     "metadata": {
      "needs_background": "light"
     },
     "output_type": "display_data"
    }
   ],
   "source": [
    "URBAN_CLASS_VAL = 1\n",
    "input_filepath = '../data/clc/vaud_g100_clc00_V18_5.tif'\n",
    "\n",
    "with rasterio.open(input_filepath) as src:\n",
    "    plt.imshow(src.read(1))"
   ]
  },
  {
   "cell_type": "markdown",
   "metadata": {
    "ein.tags": "worksheet-0",
    "slideshow": {
     "slide_type": "-"
    }
   },
   "source": [
    "Blue and yellow pixels represent urban and natural land uses respectively (purple pixels denote points with no data - outside the scope of the analysis). At the center of our Landscape stands a large urban patch, which corresponds to the agglomeration of Lausanne.\n",
    "\n",
    "The PyLandStats library features two classes that might be used for gradient analysis: `BufferAnalysis` and the more generic `GradientAnalysis`."
   ]
  },
  {
   "cell_type": "markdown",
   "metadata": {
    "ein.tags": "worksheet-0",
    "slideshow": {
     "slide_type": "-"
    }
   },
   "source": [
    "## Buffer Analysis"
   ]
  },
  {
   "cell_type": "markdown",
   "metadata": {
    "ein.tags": "worksheet-0",
    "slideshow": {
     "slide_type": "-"
    }
   },
   "source": [
    "In order to evaluate how the landscape patterns change across the urban-rural gradient, we can define a series of spatial extents for our landscape based on buffers of increasing distances around our feature of interest - in this example, the agglomeration of Lausanne."
   ]
  },
  {
   "cell_type": "markdown",
   "metadata": {
    "ein.tags": "worksheet-0",
    "slideshow": {
     "slide_type": "-"
    }
   },
   "source": [
    "### From Point"
   ]
  },
  {
   "cell_type": "markdown",
   "metadata": {
    "ein.tags": "worksheet-0",
    "slideshow": {
     "slide_type": "-"
    }
   },
   "source": [
    "We might define a given coordinate as the center of our region of interest (in this example, the center of Lausanne) and a series of buffer distances around that point:"
   ]
  },
  {
   "cell_type": "code",
   "execution_count": 3,
   "metadata": {
    "autoscroll": false,
    "ein.hycell": false,
    "ein.tags": "worksheet-0",
    "slideshow": {
     "slide_type": "-"
    }
   },
   "outputs": [],
   "source": [
    "from shapely.geometry import Point\n",
    "\n",
    "# latitude and longitude of the center of Lausanne according to OpenStreetMap\n",
    "base_mask = Point(6.6327025, 46.5218269)\n",
    "base_mask_crs = '+proj=longlat +ellps=WGS84 +datum=WGS84 +no_defs'\n",
    "\n",
    "# buffer distances (in meters)\n",
    "buffer_dists = [10000, 15000, 20000]"
   ]
  },
  {
   "cell_type": "markdown",
   "metadata": {
    "ein.tags": "worksheet-0",
    "slideshow": {
     "slide_type": "-"
    }
   },
   "source": [
    "then, we can use the `BufferAnalysis` class of Pylandstats in order to (note that we need to provide the CRS of the geometry - in this example, the coordinate point)"
   ]
  },
  {
   "cell_type": "code",
   "execution_count": 4,
   "metadata": {
    "autoscroll": false,
    "ein.hycell": false,
    "ein.tags": "worksheet-0",
    "slideshow": {
     "slide_type": "-"
    }
   },
   "outputs": [],
   "source": [
    "ba = pls.BufferAnalysis(input_filepath,\n",
    "                        base_mask,\n",
    "                        buffer_dists,\n",
    "                        base_mask_crs=base_mask_crs)"
   ]
  },
  {
   "cell_type": "markdown",
   "metadata": {
    "ein.tags": "worksheet-0",
    "slideshow": {
     "slide_type": "-"
    }
   },
   "source": [
    "The `BufferAnalysis` instance will automatically generate the three landscapes of interest (one for each buffer distance) by masking the pixels of the input raster"
   ]
  },
  {
   "cell_type": "code",
   "execution_count": 5,
   "metadata": {
    "autoscroll": false,
    "ein.hycell": false,
    "ein.tags": "worksheet-0",
    "slideshow": {
     "slide_type": "-"
    }
   },
   "outputs": [
    {
     "data": {
      "image/png": "[encoded data removed]",
      "text/plain": [
       "<Figure size 1296x288 with 3 Axes>"
      ]
     },
     "metadata": {
      "needs_background": "light"
     },
     "output_type": "display_data"
    }
   ],
   "source": [
    "fig = ba.plot_landscapes()"
   ]
  },
  {
   "cell_type": "markdown",
   "metadata": {
    "ein.tags": "worksheet-0",
    "slideshow": {
     "slide_type": "-"
    }
   },
   "source": [
    "And we can now compute and plot the landscape metrics for each of the buffered landscapes.\n",
    "\n",
    "Like `SpatioTemporalAnalysis`, `BufferAnalysis` only supports class and landscape-level metrics, which again, can be computed by means of its methods `compute_class_metrics_df` and `compute_landscape_metrics_df` respectively, e.g.,"
   ]
  },
  {
   "cell_type": "code",
   "execution_count": 6,
   "metadata": {
    "autoscroll": false,
    "ein.hycell": false,
    "ein.tags": "worksheet-0",
    "slideshow": {
     "slide_type": "-"
    }
   },
   "outputs": [
    {
     "data": {
      "text/html": [
       "<div>\n",
       "<style scoped>\n",
       "    .dataframe tbody tr th:only-of-type {\n",
       "        vertical-align: middle;\n",
       "    }\n",
       "\n",
       "    .dataframe tbody tr th {\n",
       "        vertical-align: top;\n",
       "    }\n",
       "\n",
       "    .dataframe thead th {\n",
       "        text-align: right;\n",
       "    }\n",
       "</style>\n",
       "<table border=\"1\" class=\"dataframe\">\n",
       "  <thead>\n",
       "    <tr style=\"text-align: right;\">\n",
       "      <th></th>\n",
       "      <th>metric</th>\n",
       "      <th>total_area</th>\n",
       "      <th>proportion_of_landscape</th>\n",
       "      <th>number_of_patches</th>\n",
       "      <th>patch_density</th>\n",
       "      <th>largest_patch_index</th>\n",
       "      <th>total_edge</th>\n",
       "      <th>edge_density</th>\n",
       "      <th>landscape_shape_index</th>\n",
       "      <th>area_mn</th>\n",
       "      <th>area_am</th>\n",
       "      <th>...</th>\n",
       "      <th>fractal_dimension_md</th>\n",
       "      <th>fractal_dimension_ra</th>\n",
       "      <th>fractal_dimension_sd</th>\n",
       "      <th>fractal_dimension_cv</th>\n",
       "      <th>euclidean_nearest_neighbor_mn</th>\n",
       "      <th>euclidean_nearest_neighbor_am</th>\n",
       "      <th>euclidean_nearest_neighbor_md</th>\n",
       "      <th>euclidean_nearest_neighbor_ra</th>\n",
       "      <th>euclidean_nearest_neighbor_sd</th>\n",
       "      <th>euclidean_nearest_neighbor_cv</th>\n",
       "    </tr>\n",
       "    <tr>\n",
       "      <th>class_val</th>\n",
       "      <th>buffer_dists</th>\n",
       "      <th></th>\n",
       "      <th></th>\n",
       "      <th></th>\n",
       "      <th></th>\n",
       "      <th></th>\n",
       "      <th></th>\n",
       "      <th></th>\n",
       "      <th></th>\n",
       "      <th></th>\n",
       "      <th></th>\n",
       "      <th></th>\n",
       "      <th></th>\n",
       "      <th></th>\n",
       "      <th></th>\n",
       "      <th></th>\n",
       "      <th></th>\n",
       "      <th></th>\n",
       "      <th></th>\n",
       "      <th></th>\n",
       "      <th></th>\n",
       "      <th></th>\n",
       "    </tr>\n",
       "  </thead>\n",
       "  <tbody>\n",
       "    <tr>\n",
       "      <th rowspan=\"3\" valign=\"top\">1</th>\n",
       "      <th>10000</th>\n",
       "      <td>7261</td>\n",
       "      <td>24.9648</td>\n",
       "      <td>20</td>\n",
       "      <td>0.068764</td>\n",
       "      <td>21.5472</td>\n",
       "      <td>223900</td>\n",
       "      <td>7.69813</td>\n",
       "      <td>6.74269</td>\n",
       "      <td>363.05</td>\n",
       "      <td>5421.13</td>\n",
       "      <td>...</td>\n",
       "      <td>1.08318</td>\n",
       "      <td>0.163172</td>\n",
       "      <td>0.0434689</td>\n",
       "      <td>4.0267</td>\n",
       "      <td>633.891</td>\n",
       "      <td>278.966</td>\n",
       "      <td>423.607</td>\n",
       "      <td>1699.93</td>\n",
       "      <td>460.633</td>\n",
       "      <td>72.6676</td>\n",
       "    </tr>\n",
       "    <tr>\n",
       "      <th>15000</th>\n",
       "      <td>9630</td>\n",
       "      <td>16.7106</td>\n",
       "      <td>46</td>\n",
       "      <td>0.0798223</td>\n",
       "      <td>11.5326</td>\n",
       "      <td>395200</td>\n",
       "      <td>6.85778</td>\n",
       "      <td>10.1472</td>\n",
       "      <td>209.348</td>\n",
       "      <td>4633.62</td>\n",
       "      <td>...</td>\n",
       "      <td>1.07944</td>\n",
       "      <td>0.141302</td>\n",
       "      <td>0.0309886</td>\n",
       "      <td>2.85544</td>\n",
       "      <td>768.449</td>\n",
       "      <td>348.027</td>\n",
       "      <td>695.965</td>\n",
       "      <td>1686.89</td>\n",
       "      <td>439.276</td>\n",
       "      <td>57.164</td>\n",
       "    </tr>\n",
       "    <tr>\n",
       "      <th>20000</th>\n",
       "      <td>12149</td>\n",
       "      <td>13.3476</td>\n",
       "      <td>76</td>\n",
       "      <td>0.0834981</td>\n",
       "      <td>7.30169</td>\n",
       "      <td>565200</td>\n",
       "      <td>6.20962</td>\n",
       "      <td>12.9638</td>\n",
       "      <td>159.855</td>\n",
       "      <td>3861.51</td>\n",
       "      <td>...</td>\n",
       "      <td>1.08242</td>\n",
       "      <td>0.167805</td>\n",
       "      <td>0.0344727</td>\n",
       "      <td>3.18956</td>\n",
       "      <td>825.643</td>\n",
       "      <td>386.53</td>\n",
       "      <td>721.11</td>\n",
       "      <td>2195.07</td>\n",
       "      <td>532.766</td>\n",
       "      <td>64.5274</td>\n",
       "    </tr>\n",
       "    <tr>\n",
       "      <th rowspan=\"3\" valign=\"top\">2</th>\n",
       "      <th>10000</th>\n",
       "      <td>21824</td>\n",
       "      <td>75.0352</td>\n",
       "      <td>4</td>\n",
       "      <td>0.0137528</td>\n",
       "      <td>74.3614</td>\n",
       "      <td>223900</td>\n",
       "      <td>7.69813</td>\n",
       "      <td>4.96622</td>\n",
       "      <td>5456</td>\n",
       "      <td>21434.8</td>\n",
       "      <td>...</td>\n",
       "      <td>1.06453</td>\n",
       "      <td>0.134831</td>\n",
       "      <td>0.0538049</td>\n",
       "      <td>4.98227</td>\n",
       "      <td>211.803</td>\n",
       "      <td>200.209</td>\n",
       "      <td>211.803</td>\n",
       "      <td>23.6068</td>\n",
       "      <td>11.8034</td>\n",
       "      <td>5.57281</td>\n",
       "    </tr>\n",
       "    <tr>\n",
       "      <th>15000</th>\n",
       "      <td>47998</td>\n",
       "      <td>83.2894</td>\n",
       "      <td>4</td>\n",
       "      <td>0.00694107</td>\n",
       "      <td>82.9493</td>\n",
       "      <td>395200</td>\n",
       "      <td>6.85778</td>\n",
       "      <td>5.79499</td>\n",
       "      <td>11999.5</td>\n",
       "      <td>47607.3</td>\n",
       "      <td>...</td>\n",
       "      <td>1.06453</td>\n",
       "      <td>0.145607</td>\n",
       "      <td>0.0579905</td>\n",
       "      <td>5.35649</td>\n",
       "      <td>223.607</td>\n",
       "      <td>223.607</td>\n",
       "      <td>223.607</td>\n",
       "      <td>0</td>\n",
       "      <td>0</td>\n",
       "      <td>0</td>\n",
       "    </tr>\n",
       "    <tr>\n",
       "      <th>20000</th>\n",
       "      <td>78871</td>\n",
       "      <td>86.6524</td>\n",
       "      <td>5</td>\n",
       "      <td>0.0054933</td>\n",
       "      <td>86.3151</td>\n",
       "      <td>565200</td>\n",
       "      <td>6.20962</td>\n",
       "      <td>6.63167</td>\n",
       "      <td>15774.2</td>\n",
       "      <td>78258.6</td>\n",
       "      <td>...</td>\n",
       "      <td>1.08776</td>\n",
       "      <td>0.170269</td>\n",
       "      <td>0.0585368</td>\n",
       "      <td>5.40918</td>\n",
       "      <td>229.443</td>\n",
       "      <td>200.06</td>\n",
       "      <td>223.607</td>\n",
       "      <td>100</td>\n",
       "      <td>36.8244</td>\n",
       "      <td>16.0495</td>\n",
       "    </tr>\n",
       "  </tbody>\n",
       "</table>\n",
       "<p>6 rows × 44 columns</p>\n",
       "</div>"
      ],
      "text/plain": [
       "metric                 total_area proportion_of_landscape number_of_patches  \\\n",
       "class_val buffer_dists                                                        \n",
       "1         10000              7261                 24.9648                20   \n",
       "          15000              9630                 16.7106                46   \n",
       "          20000             12149                 13.3476                76   \n",
       "2         10000             21824                 75.0352                 4   \n",
       "          15000             47998                 83.2894                 4   \n",
       "          20000             78871                 86.6524                 5   \n",
       "\n",
       "metric                 patch_density largest_patch_index total_edge  \\\n",
       "class_val buffer_dists                                                \n",
       "1         10000             0.068764             21.5472     223900   \n",
       "          15000            0.0798223             11.5326     395200   \n",
       "          20000            0.0834981             7.30169     565200   \n",
       "2         10000            0.0137528             74.3614     223900   \n",
       "          15000           0.00694107             82.9493     395200   \n",
       "          20000            0.0054933             86.3151     565200   \n",
       "\n",
       "metric                 edge_density landscape_shape_index  area_mn  area_am  \\\n",
       "class_val buffer_dists                                                        \n",
       "1         10000             7.69813               6.74269   363.05  5421.13   \n",
       "          15000             6.85778               10.1472  209.348  4633.62   \n",
       "          20000             6.20962               12.9638  159.855  3861.51   \n",
       "2         10000             7.69813               4.96622     5456  21434.8   \n",
       "          15000             6.85778               5.79499  11999.5  47607.3   \n",
       "          20000             6.20962               6.63167  15774.2  78258.6   \n",
       "\n",
       "metric                  ... fractal_dimension_md fractal_dimension_ra  \\\n",
       "class_val buffer_dists  ...                                             \n",
       "1         10000         ...              1.08318             0.163172   \n",
       "          15000         ...              1.07944             0.141302   \n",
       "          20000         ...              1.08242             0.167805   \n",
       "2         10000         ...              1.06453             0.134831   \n",
       "          15000         ...              1.06453             0.145607   \n",
       "          20000         ...              1.08776             0.170269   \n",
       "\n",
       "metric                 fractal_dimension_sd fractal_dimension_cv  \\\n",
       "class_val buffer_dists                                             \n",
       "1         10000                   0.0434689               4.0267   \n",
       "          15000                   0.0309886              2.85544   \n",
       "          20000                   0.0344727              3.18956   \n",
       "2         10000                   0.0538049              4.98227   \n",
       "          15000                   0.0579905              5.35649   \n",
       "          20000                   0.0585368              5.40918   \n",
       "\n",
       "metric                 euclidean_nearest_neighbor_mn  \\\n",
       "class_val buffer_dists                                 \n",
       "1         10000                              633.891   \n",
       "          15000                              768.449   \n",
       "          20000                              825.643   \n",
       "2         10000                              211.803   \n",
       "          15000                              223.607   \n",
       "          20000                              229.443   \n",
       "\n",
       "metric                 euclidean_nearest_neighbor_am  \\\n",
       "class_val buffer_dists                                 \n",
       "1         10000                              278.966   \n",
       "          15000                              348.027   \n",
       "          20000                               386.53   \n",
       "2         10000                              200.209   \n",
       "          15000                              223.607   \n",
       "          20000                               200.06   \n",
       "\n",
       "metric                 euclidean_nearest_neighbor_md  \\\n",
       "class_val buffer_dists                                 \n",
       "1         10000                              423.607   \n",
       "          15000                              695.965   \n",
       "          20000                               721.11   \n",
       "2         10000                              211.803   \n",
       "          15000                              223.607   \n",
       "          20000                              223.607   \n",
       "\n",
       "metric                 euclidean_nearest_neighbor_ra  \\\n",
       "class_val buffer_dists                                 \n",
       "1         10000                              1699.93   \n",
       "          15000                              1686.89   \n",
       "          20000                              2195.07   \n",
       "2         10000                              23.6068   \n",
       "          15000                                    0   \n",
       "          20000                                  100   \n",
       "\n",
       "metric                 euclidean_nearest_neighbor_sd  \\\n",
       "class_val buffer_dists                                 \n",
       "1         10000                              460.633   \n",
       "          15000                              439.276   \n",
       "          20000                              532.766   \n",
       "2         10000                              11.8034   \n",
       "          15000                                    0   \n",
       "          20000                              36.8244   \n",
       "\n",
       "metric                 euclidean_nearest_neighbor_cv  \n",
       "class_val buffer_dists                                \n",
       "1         10000                              72.6676  \n",
       "          15000                               57.164  \n",
       "          20000                              64.5274  \n",
       "2         10000                              5.57281  \n",
       "          15000                                    0  \n",
       "          20000                              16.0495  \n",
       "\n",
       "[6 rows x 44 columns]"
      ]
     },
     "execution_count": 6,
     "metadata": {},
     "output_type": "execute_result"
    }
   ],
   "source": [
    "ba.compute_class_metrics_df()"
   ]
  },
  {
   "cell_type": "markdown",
   "metadata": {},
   "source": [
    "The `plot_metric` method of `BufferAnalysis` will plot the value of a given metric for each of the buffered landscapes:"
   ]
  },
  {
   "cell_type": "code",
   "execution_count": 7,
   "metadata": {
    "autoscroll": false,
    "ein.hycell": false,
    "ein.tags": "worksheet-0",
    "slideshow": {
     "slide_type": "-"
    }
   },
   "outputs": [
    {
     "data": {
      "text/plain": [
       "<matplotlib.axes._subplots.AxesSubplot at 0x7f6c16154cc0>"
      ]
     },
     "execution_count": 7,
     "metadata": {},
     "output_type": "execute_result"
    },
    {
     "data": {
      "image/png": "[encoded data removed]",
      "text/plain": [
       "<Figure size 432x288 with 1 Axes>"
      ]
     },
     "metadata": {
      "needs_background": "light"
     },
     "output_type": "display_data"
    }
   ],
   "source": [
    "ba.plot_metric('proportion_of_landscape', class_val=URBAN_CLASS_VAL)"
   ]
  },
  {
   "cell_type": "markdown",
   "metadata": {
    "ein.tags": "worksheet-0",
    "slideshow": {
     "slide_type": "-"
    }
   },
   "source": [
    "Note that the x-axis corresponds to the buffer distances. The specific plot above shows how the proportion of landscape occupied by urban land uses diminishes as the buffer distance around the feature of interest (i.e., the city center of Lausanne).\n",
    "\n",
    "Likewise `SpatioTemporalAnalysis`, if we want to compute the metrics data frame only for a subset of metrics or classes, or customize how the metrics are computed, we must pass the arguments `metrics`, `classes` or `metrics_kws` to the `compute_class_metrics_df` and `compute_landscape_metrics_df`, as in:"
   ]
  },
  {
   "cell_type": "markdown",
   "metadata": {
    "ein.tags": "worksheet-0",
    "slideshow": {
     "slide_type": "-"
    }
   },
   "source": [
    "<a id='customizing-buffer-analysis'></a>"
   ]
  },
  {
   "cell_type": "code",
   "execution_count": 8,
   "metadata": {
    "autoscroll": false,
    "ein.hycell": false,
    "ein.tags": "worksheet-0",
    "slideshow": {
     "slide_type": "-"
    }
   },
   "outputs": [
    {
     "data": {
      "text/html": [
       "<div>\n",
       "<style scoped>\n",
       "    .dataframe tbody tr th:only-of-type {\n",
       "        vertical-align: middle;\n",
       "    }\n",
       "\n",
       "    .dataframe tbody tr th {\n",
       "        vertical-align: top;\n",
       "    }\n",
       "\n",
       "    .dataframe thead th {\n",
       "        text-align: right;\n",
       "    }\n",
       "</style>\n",
       "<table border=\"1\" class=\"dataframe\">\n",
       "  <thead>\n",
       "    <tr style=\"text-align: right;\">\n",
       "      <th></th>\n",
       "      <th>metric</th>\n",
       "      <th>proportion_of_landscape</th>\n",
       "      <th>edge_density</th>\n",
       "      <th>fractal_dimension_am</th>\n",
       "    </tr>\n",
       "    <tr>\n",
       "      <th>class_val</th>\n",
       "      <th>buffer_dists</th>\n",
       "      <th></th>\n",
       "      <th></th>\n",
       "      <th></th>\n",
       "    </tr>\n",
       "  </thead>\n",
       "  <tbody>\n",
       "    <tr>\n",
       "      <th rowspan=\"3\" valign=\"top\">1</th>\n",
       "      <th>10000</th>\n",
       "      <td>0.249648</td>\n",
       "      <td>7.92849</td>\n",
       "      <td>1.15432</td>\n",
       "    </tr>\n",
       "    <tr>\n",
       "      <th>15000</th>\n",
       "      <td>0.167106</td>\n",
       "      <td>6.9376</td>\n",
       "      <td>1.14603</td>\n",
       "    </tr>\n",
       "    <tr>\n",
       "      <th>20000</th>\n",
       "      <td>0.133476</td>\n",
       "      <td>6.29532</td>\n",
       "      <td>1.14283</td>\n",
       "    </tr>\n",
       "  </tbody>\n",
       "</table>\n",
       "</div>"
      ],
      "text/plain": [
       "metric                 proportion_of_landscape edge_density  \\\n",
       "class_val buffer_dists                                        \n",
       "1         10000                       0.249648      7.92849   \n",
       "          15000                       0.167106       6.9376   \n",
       "          20000                       0.133476      6.29532   \n",
       "\n",
       "metric                 fractal_dimension_am  \n",
       "class_val buffer_dists                       \n",
       "1         10000                     1.15432  \n",
       "          15000                     1.14603  \n",
       "          20000                     1.14283  "
      ]
     },
     "execution_count": 8,
     "metadata": {},
     "output_type": "execute_result"
    }
   ],
   "source": [
    "metrics=['proportion_of_landscape', 'edge_density', 'fractal_dimension_am']\n",
    "classes=[1]\n",
    "metrics_kws={\n",
    "    'proportion_of_landscape': {'percent': False },\n",
    "    'edge_density': {'count_boundary': True}\n",
    "}\n",
    "ba.compute_class_metrics_df(\n",
    "    metrics=metrics, classes=[1], metrics_kws=metrics_kws)"
   ]
  },
  {
   "cell_type": "markdown",
   "metadata": {
    "ein.tags": "worksheet-0",
    "slideshow": {
     "slide_type": "-"
    }
   },
   "source": [
    "To examine more closely how landscape patterns change as we move along the urban-rural gradient, we might actually want to compute the metrics for each of the buffer rings that lie within each pair of increasing buffer distances. For instance, for the buffer distances considered in this example (i.e., 10000, 15000 and 20000), we would like to compute the metrics for the buffer rings that go from 0 to 10000m, 10000-15000m and 15000-20000m around the center of Lausanne).\n",
    "\n",
    "To that end, we might pass the argument `buffer_rings=True` when instantiating `BufferAnalysis` as in:"
   ]
  },
  {
   "cell_type": "code",
   "execution_count": 9,
   "metadata": {
    "autoscroll": false,
    "ein.hycell": false,
    "ein.tags": "worksheet-0",
    "slideshow": {
     "slide_type": "-"
    }
   },
   "outputs": [],
   "source": [
    "ba = pls.BufferAnalysis(input_filepath,\n",
    "                        base_mask,\n",
    "                        buffer_dists,\n",
    "                        buffer_rings=True,\n",
    "                        base_mask_crs=base_mask_crs)"
   ]
  },
  {
   "cell_type": "code",
   "execution_count": 10,
   "metadata": {
    "autoscroll": false,
    "ein.hycell": false,
    "ein.tags": "worksheet-0",
    "slideshow": {
     "slide_type": "-"
    }
   },
   "outputs": [
    {
     "data": {
      "image/png": "[encoded data removed]",
      "text/plain": [
       "<Figure size 1296x288 with 3 Axes>"
      ]
     },
     "metadata": {
      "needs_background": "light"
     },
     "output_type": "display_data"
    }
   ],
   "source": [
    "fig = ba.plot_landscapes()"
   ]
  },
  {
   "cell_type": "code",
   "execution_count": 11,
   "metadata": {
    "autoscroll": false,
    "ein.hycell": false,
    "ein.tags": "worksheet-0",
    "slideshow": {
     "slide_type": "-"
    }
   },
   "outputs": [
    {
     "data": {
      "text/html": [
       "<div>\n",
       "<style scoped>\n",
       "    .dataframe tbody tr th:only-of-type {\n",
       "        vertical-align: middle;\n",
       "    }\n",
       "\n",
       "    .dataframe tbody tr th {\n",
       "        vertical-align: top;\n",
       "    }\n",
       "\n",
       "    .dataframe thead th {\n",
       "        text-align: right;\n",
       "    }\n",
       "</style>\n",
       "<table border=\"1\" class=\"dataframe\">\n",
       "  <thead>\n",
       "    <tr style=\"text-align: right;\">\n",
       "      <th></th>\n",
       "      <th>metric</th>\n",
       "      <th>total_area</th>\n",
       "      <th>proportion_of_landscape</th>\n",
       "      <th>number_of_patches</th>\n",
       "      <th>patch_density</th>\n",
       "      <th>largest_patch_index</th>\n",
       "      <th>total_edge</th>\n",
       "      <th>edge_density</th>\n",
       "      <th>landscape_shape_index</th>\n",
       "      <th>area_mn</th>\n",
       "      <th>area_am</th>\n",
       "      <th>...</th>\n",
       "      <th>fractal_dimension_md</th>\n",
       "      <th>fractal_dimension_ra</th>\n",
       "      <th>fractal_dimension_sd</th>\n",
       "      <th>fractal_dimension_cv</th>\n",
       "      <th>euclidean_nearest_neighbor_mn</th>\n",
       "      <th>euclidean_nearest_neighbor_am</th>\n",
       "      <th>euclidean_nearest_neighbor_md</th>\n",
       "      <th>euclidean_nearest_neighbor_ra</th>\n",
       "      <th>euclidean_nearest_neighbor_sd</th>\n",
       "      <th>euclidean_nearest_neighbor_cv</th>\n",
       "    </tr>\n",
       "    <tr>\n",
       "      <th>class_val</th>\n",
       "      <th>buffer_dists</th>\n",
       "      <th></th>\n",
       "      <th></th>\n",
       "      <th></th>\n",
       "      <th></th>\n",
       "      <th></th>\n",
       "      <th></th>\n",
       "      <th></th>\n",
       "      <th></th>\n",
       "      <th></th>\n",
       "      <th></th>\n",
       "      <th></th>\n",
       "      <th></th>\n",
       "      <th></th>\n",
       "      <th></th>\n",
       "      <th></th>\n",
       "      <th></th>\n",
       "      <th></th>\n",
       "      <th></th>\n",
       "      <th></th>\n",
       "      <th></th>\n",
       "      <th></th>\n",
       "    </tr>\n",
       "  </thead>\n",
       "  <tbody>\n",
       "    <tr>\n",
       "      <th rowspan=\"3\" valign=\"top\">1</th>\n",
       "      <th>0-10000</th>\n",
       "      <td>7261</td>\n",
       "      <td>24.9648</td>\n",
       "      <td>20</td>\n",
       "      <td>0.068764</td>\n",
       "      <td>21.5472</td>\n",
       "      <td>223900</td>\n",
       "      <td>7.69813</td>\n",
       "      <td>6.74269</td>\n",
       "      <td>363.05</td>\n",
       "      <td>5421.13</td>\n",
       "      <td>...</td>\n",
       "      <td>1.08318</td>\n",
       "      <td>0.163172</td>\n",
       "      <td>0.0434689</td>\n",
       "      <td>4.0267</td>\n",
       "      <td>633.891</td>\n",
       "      <td>278.966</td>\n",
       "      <td>423.607</td>\n",
       "      <td>1699.93</td>\n",
       "      <td>460.633</td>\n",
       "      <td>72.6676</td>\n",
       "    </tr>\n",
       "    <tr>\n",
       "      <th>10000-15000</th>\n",
       "      <td>2369</td>\n",
       "      <td>8.29976</td>\n",
       "      <td>37</td>\n",
       "      <td>0.129629</td>\n",
       "      <td>1.68518</td>\n",
       "      <td>168600</td>\n",
       "      <td>5.90688</td>\n",
       "      <td>9.14286</td>\n",
       "      <td>64.027</td>\n",
       "      <td>211.007</td>\n",
       "      <td>...</td>\n",
       "      <td>1.06999</td>\n",
       "      <td>0.123043</td>\n",
       "      <td>0.028939</td>\n",
       "      <td>2.69333</td>\n",
       "      <td>1016.19</td>\n",
       "      <td>650.064</td>\n",
       "      <td>1077.03</td>\n",
       "      <td>2176.83</td>\n",
       "      <td>584.992</td>\n",
       "      <td>57.567</td>\n",
       "    </tr>\n",
       "    <tr>\n",
       "      <th>15000-20000</th>\n",
       "      <td>2519</td>\n",
       "      <td>7.54372</td>\n",
       "      <td>37</td>\n",
       "      <td>0.110805</td>\n",
       "      <td>3.11152</td>\n",
       "      <td>169100</td>\n",
       "      <td>5.06409</td>\n",
       "      <td>8.9901</td>\n",
       "      <td>68.0811</td>\n",
       "      <td>479.645</td>\n",
       "      <td>...</td>\n",
       "      <td>1.07596</td>\n",
       "      <td>0.141466</td>\n",
       "      <td>0.0357122</td>\n",
       "      <td>3.33408</td>\n",
       "      <td>933.734</td>\n",
       "      <td>631.921</td>\n",
       "      <td>721.11</td>\n",
       "      <td>2195.07</td>\n",
       "      <td>696.734</td>\n",
       "      <td>74.618</td>\n",
       "    </tr>\n",
       "    <tr>\n",
       "      <th rowspan=\"3\" valign=\"top\">2</th>\n",
       "      <th>0-10000</th>\n",
       "      <td>21824</td>\n",
       "      <td>75.0352</td>\n",
       "      <td>4</td>\n",
       "      <td>0.0137528</td>\n",
       "      <td>74.3614</td>\n",
       "      <td>223900</td>\n",
       "      <td>7.69813</td>\n",
       "      <td>4.96622</td>\n",
       "      <td>5456</td>\n",
       "      <td>21434.8</td>\n",
       "      <td>...</td>\n",
       "      <td>1.06453</td>\n",
       "      <td>0.134831</td>\n",
       "      <td>0.0538049</td>\n",
       "      <td>4.98227</td>\n",
       "      <td>211.803</td>\n",
       "      <td>200.209</td>\n",
       "      <td>211.803</td>\n",
       "      <td>23.6068</td>\n",
       "      <td>11.8034</td>\n",
       "      <td>5.57281</td>\n",
       "    </tr>\n",
       "    <tr>\n",
       "      <th>10000-15000</th>\n",
       "      <td>26174</td>\n",
       "      <td>91.7002</td>\n",
       "      <td>3</td>\n",
       "      <td>0.0105105</td>\n",
       "      <td>83.6282</td>\n",
       "      <td>168600</td>\n",
       "      <td>5.90688</td>\n",
       "      <td>5.01543</td>\n",
       "      <td>8724.67</td>\n",
       "      <td>21971.1</td>\n",
       "      <td>...</td>\n",
       "      <td>1.04204</td>\n",
       "      <td>0.134779</td>\n",
       "      <td>0.0604809</td>\n",
       "      <td>5.61286</td>\n",
       "      <td>223.607</td>\n",
       "      <td>223.607</td>\n",
       "      <td>223.607</td>\n",
       "      <td>0</td>\n",
       "      <td>2.84217e-14</td>\n",
       "      <td>1.27106e-14</td>\n",
       "    </tr>\n",
       "    <tr>\n",
       "      <th>15000-20000</th>\n",
       "      <td>30873</td>\n",
       "      <td>92.4563</td>\n",
       "      <td>8</td>\n",
       "      <td>0.0239578</td>\n",
       "      <td>76.117</td>\n",
       "      <td>169100</td>\n",
       "      <td>5.06409</td>\n",
       "      <td>5.48864</td>\n",
       "      <td>3859.12</td>\n",
       "      <td>21239.9</td>\n",
       "      <td>...</td>\n",
       "      <td>1.06587</td>\n",
       "      <td>0.136933</td>\n",
       "      <td>0.0443751</td>\n",
       "      <td>4.13596</td>\n",
       "      <td>410.485</td>\n",
       "      <td>1172.21</td>\n",
       "      <td>250</td>\n",
       "      <td>1145.36</td>\n",
       "      <td>369.462</td>\n",
       "      <td>90.0062</td>\n",
       "    </tr>\n",
       "  </tbody>\n",
       "</table>\n",
       "<p>6 rows × 44 columns</p>\n",
       "</div>"
      ],
      "text/plain": [
       "metric                 total_area proportion_of_landscape number_of_patches  \\\n",
       "class_val buffer_dists                                                        \n",
       "1         0-10000            7261                 24.9648                20   \n",
       "          10000-15000        2369                 8.29976                37   \n",
       "          15000-20000        2519                 7.54372                37   \n",
       "2         0-10000           21824                 75.0352                 4   \n",
       "          10000-15000       26174                 91.7002                 3   \n",
       "          15000-20000       30873                 92.4563                 8   \n",
       "\n",
       "metric                 patch_density largest_patch_index total_edge  \\\n",
       "class_val buffer_dists                                                \n",
       "1         0-10000           0.068764             21.5472     223900   \n",
       "          10000-15000       0.129629             1.68518     168600   \n",
       "          15000-20000       0.110805             3.11152     169100   \n",
       "2         0-10000          0.0137528             74.3614     223900   \n",
       "          10000-15000      0.0105105             83.6282     168600   \n",
       "          15000-20000      0.0239578              76.117     169100   \n",
       "\n",
       "metric                 edge_density landscape_shape_index  area_mn  area_am  \\\n",
       "class_val buffer_dists                                                        \n",
       "1         0-10000           7.69813               6.74269   363.05  5421.13   \n",
       "          10000-15000       5.90688               9.14286   64.027  211.007   \n",
       "          15000-20000       5.06409                8.9901  68.0811  479.645   \n",
       "2         0-10000           7.69813               4.96622     5456  21434.8   \n",
       "          10000-15000       5.90688               5.01543  8724.67  21971.1   \n",
       "          15000-20000       5.06409               5.48864  3859.12  21239.9   \n",
       "\n",
       "metric                  ... fractal_dimension_md fractal_dimension_ra  \\\n",
       "class_val buffer_dists  ...                                             \n",
       "1         0-10000       ...              1.08318             0.163172   \n",
       "          10000-15000   ...              1.06999             0.123043   \n",
       "          15000-20000   ...              1.07596             0.141466   \n",
       "2         0-10000       ...              1.06453             0.134831   \n",
       "          10000-15000   ...              1.04204             0.134779   \n",
       "          15000-20000   ...              1.06587             0.136933   \n",
       "\n",
       "metric                 fractal_dimension_sd fractal_dimension_cv  \\\n",
       "class_val buffer_dists                                             \n",
       "1         0-10000                 0.0434689               4.0267   \n",
       "          10000-15000              0.028939              2.69333   \n",
       "          15000-20000             0.0357122              3.33408   \n",
       "2         0-10000                 0.0538049              4.98227   \n",
       "          10000-15000             0.0604809              5.61286   \n",
       "          15000-20000             0.0443751              4.13596   \n",
       "\n",
       "metric                 euclidean_nearest_neighbor_mn  \\\n",
       "class_val buffer_dists                                 \n",
       "1         0-10000                            633.891   \n",
       "          10000-15000                        1016.19   \n",
       "          15000-20000                        933.734   \n",
       "2         0-10000                            211.803   \n",
       "          10000-15000                        223.607   \n",
       "          15000-20000                        410.485   \n",
       "\n",
       "metric                 euclidean_nearest_neighbor_am  \\\n",
       "class_val buffer_dists                                 \n",
       "1         0-10000                            278.966   \n",
       "          10000-15000                        650.064   \n",
       "          15000-20000                        631.921   \n",
       "2         0-10000                            200.209   \n",
       "          10000-15000                        223.607   \n",
       "          15000-20000                        1172.21   \n",
       "\n",
       "metric                 euclidean_nearest_neighbor_md  \\\n",
       "class_val buffer_dists                                 \n",
       "1         0-10000                            423.607   \n",
       "          10000-15000                        1077.03   \n",
       "          15000-20000                         721.11   \n",
       "2         0-10000                            211.803   \n",
       "          10000-15000                        223.607   \n",
       "          15000-20000                            250   \n",
       "\n",
       "metric                 euclidean_nearest_neighbor_ra  \\\n",
       "class_val buffer_dists                                 \n",
       "1         0-10000                            1699.93   \n",
       "          10000-15000                        2176.83   \n",
       "          15000-20000                        2195.07   \n",
       "2         0-10000                            23.6068   \n",
       "          10000-15000                              0   \n",
       "          15000-20000                        1145.36   \n",
       "\n",
       "metric                 euclidean_nearest_neighbor_sd  \\\n",
       "class_val buffer_dists                                 \n",
       "1         0-10000                            460.633   \n",
       "          10000-15000                        584.992   \n",
       "          15000-20000                        696.734   \n",
       "2         0-10000                            11.8034   \n",
       "          10000-15000                    2.84217e-14   \n",
       "          15000-20000                        369.462   \n",
       "\n",
       "metric                 euclidean_nearest_neighbor_cv  \n",
       "class_val buffer_dists                                \n",
       "1         0-10000                            72.6676  \n",
       "          10000-15000                         57.567  \n",
       "          15000-20000                         74.618  \n",
       "2         0-10000                            5.57281  \n",
       "          10000-15000                    1.27106e-14  \n",
       "          15000-20000                        90.0062  \n",
       "\n",
       "[6 rows x 44 columns]"
      ]
     },
     "execution_count": 11,
     "metadata": {},
     "output_type": "execute_result"
    }
   ],
   "source": [
    "ba.compute_class_metrics_df()"
   ]
  },
  {
   "cell_type": "code",
   "execution_count": 12,
   "metadata": {
    "autoscroll": false,
    "ein.hycell": false,
    "ein.tags": "worksheet-0",
    "slideshow": {
     "slide_type": "-"
    }
   },
   "outputs": [
    {
     "data": {
      "text/plain": [
       "<matplotlib.axes._subplots.AxesSubplot at 0x7f6c15ff07b8>"
      ]
     },
     "execution_count": 12,
     "metadata": {},
     "output_type": "execute_result"
    },
    {
     "data": {
      "image/png": "[encoded data removed]",
      "text/plain": [
       "<Figure size 432x288 with 1 Axes>"
      ]
     },
     "metadata": {
      "needs_background": "light"
     },
     "output_type": "display_data"
    }
   ],
   "source": [
    "ba.plot_metric('proportion_of_landscape', class_val=URBAN_CLASS_VAL)"
   ]
  },
  {
   "cell_type": "markdown",
   "metadata": {
    "ein.tags": "worksheet-0",
    "slideshow": {
     "slide_type": "-"
    }
   },
   "source": [
    "### From Polygon"
   ]
  },
  {
   "cell_type": "markdown",
   "metadata": {
    "ein.tags": "worksheet-0",
    "slideshow": {
     "slide_type": "-"
    }
   },
   "source": [
    "We might as well build our buffer zones from polygon geometries such as administrative boundaries"
   ]
  },
  {
   "cell_type": "code",
   "execution_count": 13,
   "metadata": {
    "autoscroll": false,
    "ein.hycell": false,
    "ein.tags": "worksheet-0",
    "slideshow": {
     "slide_type": "-"
    }
   },
   "outputs": [
    {
     "data": {
      "text/plain": [
       "<matplotlib.axes._subplots.AxesSubplot at 0x7f6c15f6def0>"
      ]
     },
     "execution_count": 13,
     "metadata": {},
     "output_type": "execute_result"
    },
    {
     "data": {
      "image/png": "[encoded data removed]",
      "text/plain": [
       "<Figure size 432x288 with 1 Axes>"
      ]
     },
     "metadata": {
      "needs_background": "light"
     },
     "output_type": "display_data"
    }
   ],
   "source": [
    "import geopandas as gpd\n",
    "\n",
    "gdf = gpd.read_file('../data/gmb/g1a18.shp')\n",
    "base_mask = gdf[gdf['GMDNAME'] == 'Lausanne']['geometry']\n",
    "base_mask.plot()"
   ]
  },
  {
   "cell_type": "markdown",
   "metadata": {
    "ein.tags": "worksheet-0",
    "slideshow": {
     "slide_type": "-"
    }
   },
   "source": [
    "Note that in this case, since we are working with a GeoSeries that has a CRS defined, we do not need to set it explicitly with the `base_mask_crs` argument."
   ]
  },
  {
   "cell_type": "code",
   "execution_count": 14,
   "metadata": {
    "autoscroll": false,
    "ein.hycell": false,
    "ein.tags": "worksheet-0",
    "slideshow": {
     "slide_type": "-"
    }
   },
   "outputs": [
    {
     "data": {
      "text/plain": [
       "{'init': 'epsg:2056'}"
      ]
     },
     "execution_count": 14,
     "metadata": {},
     "output_type": "execute_result"
    }
   ],
   "source": [
    "base_mask.crs"
   ]
  },
  {
   "cell_type": "markdown",
   "metadata": {
    "ein.tags": "worksheet-0",
    "slideshow": {
     "slide_type": "-"
    }
   },
   "source": [
    "Also note that since in this case our base mask from which we will define buffer zones is already a polygon. Therefore, we might want to start from smaller buffer distances, even from zero, so that we start computing the metrics for the region defined by the polygon itself (in our example, the administrative boundaries)"
   ]
  },
  {
   "cell_type": "code",
   "execution_count": 15,
   "metadata": {
    "autoscroll": false,
    "ein.hycell": false,
    "ein.tags": "worksheet-0",
    "slideshow": {
     "slide_type": "-"
    }
   },
   "outputs": [],
   "source": [
    "buffer_dists = [0, 10000, 20000]"
   ]
  },
  {
   "cell_type": "code",
   "execution_count": 16,
   "metadata": {
    "autoscroll": false,
    "ein.hycell": false,
    "ein.tags": "worksheet-0",
    "slideshow": {
     "slide_type": "-"
    }
   },
   "outputs": [],
   "source": [
    "ba = pls.BufferAnalysis(input_filepath, base_mask, buffer_dists)"
   ]
  },
  {
   "cell_type": "code",
   "execution_count": 17,
   "metadata": {
    "autoscroll": false,
    "ein.hycell": false,
    "ein.tags": "worksheet-0",
    "slideshow": {
     "slide_type": "-"
    }
   },
   "outputs": [
    {
     "data": {
      "image/png": "[encoded data removed]",
      "text/plain": [
       "<Figure size 1296x288 with 3 Axes>"
      ]
     },
     "metadata": {
      "needs_background": "light"
     },
     "output_type": "display_data"
    }
   ],
   "source": [
    "fig = ba.plot_landscapes()"
   ]
  },
  {
   "cell_type": "code",
   "execution_count": 18,
   "metadata": {
    "autoscroll": false,
    "ein.hycell": false,
    "ein.tags": "worksheet-0",
    "slideshow": {
     "slide_type": "-"
    }
   },
   "outputs": [
    {
     "data": {
      "text/plain": [
       "<matplotlib.axes._subplots.AxesSubplot at 0x7f6c15ef66a0>"
      ]
     },
     "execution_count": 18,
     "metadata": {},
     "output_type": "execute_result"
    },
    {
     "data": {
      "image/png": "[encoded data removed]",
      "text/plain": [
       "<Figure size 432x288 with 1 Axes>"
      ]
     },
     "metadata": {
      "needs_background": "light"
     },
     "output_type": "display_data"
    }
   ],
   "source": [
    "ba.plot_metric('proportion_of_landscape', class_val=URBAN_CLASS_VAL)"
   ]
  },
  {
   "cell_type": "markdown",
   "metadata": {
    "ein.tags": "worksheet-0",
    "slideshow": {
     "slide_type": "-"
    }
   },
   "source": [
    "## Gradient analysis"
   ]
  },
  {
   "cell_type": "markdown",
   "metadata": {
    "ein.tags": "worksheet-0",
    "slideshow": {
     "slide_type": "-"
    }
   },
   "source": [
    "We might want to compute the metrics along a decomoposition of the landscape different than concentric buffers, for example, rectangular transects.\n",
    "\n",
    "We might then use boolean arrays of the same shape of our landscape as masks to define our transects (or any other type of subregion really)"
   ]
  },
  {
   "cell_type": "code",
   "execution_count": 19,
   "metadata": {
    "autoscroll": false,
    "ein.hycell": false,
    "ein.tags": "worksheet-0",
    "slideshow": {
     "slide_type": "-"
    }
   },
   "outputs": [],
   "source": [
    "with rasterio.open(input_filepath) as src:\n",
    "    base_mask_arr = np.full(src.shape,  False)"
   ]
  },
  {
   "cell_type": "markdown",
   "metadata": {
    "ein.tags": "worksheet-0",
    "slideshow": {
     "slide_type": "-"
    }
   },
   "source": [
    "For instance, let us create three transects of 300x200 cells (30x20km) that horizontally traverse our landscape at the latitude of Lausanne"
   ]
  },
  {
   "cell_type": "code",
   "execution_count": 20,
   "metadata": {
    "autoscroll": false,
    "ein.hycell": false,
    "ein.tags": "worksheet-0",
    "slideshow": {
     "slide_type": "-"
    }
   },
   "outputs": [],
   "source": [
    "masks_arr = []\n",
    "transect_len = 300\n",
    "for transect_start in range(0, 900, transect_len):\n",
    "    mask_arr = np.copy(base_mask_arr)\n",
    "    mask_arr[400:600,transect_start:transect_start+transect_len] = True\n",
    "    masks_arr.append(mask_arr)"
   ]
  },
  {
   "cell_type": "markdown",
   "metadata": {
    "ein.tags": "worksheet-0",
    "slideshow": {
     "slide_type": "-"
    }
   },
   "source": [
    "This is how the mask of each transect looks:"
   ]
  },
  {
   "cell_type": "code",
   "execution_count": 21,
   "metadata": {
    "autoscroll": false,
    "ein.hycell": false,
    "ein.tags": "worksheet-0",
    "slideshow": {
     "slide_type": "-"
    }
   },
   "outputs": [
    {
     "data": {
      "image/png": "[encoded data removed]",
      "text/plain": [
       "<Figure size 864x288 with 3 Axes>"
      ]
     },
     "metadata": {
      "needs_background": "light"
     },
     "output_type": "display_data"
    }
   ],
   "source": [
    "num_subplots = len(masks_arr)\n",
    "fig = plt.figure(figsize=(num_subplots * 4, 4))\n",
    "\n",
    "for i in range(num_subplots):\n",
    "    ax = fig.add_subplot(1, num_subplots, i + 1)\n",
    "    ax.imshow(masks_arr[i])"
   ]
  },
  {
   "cell_type": "markdown",
   "metadata": {
    "ein.tags": "worksheet-0",
    "slideshow": {
     "slide_type": "-"
    }
   },
   "source": [
    "We will now use the `GradientAnalysis` class with the list of mask arrays (corresponding to the transects) that we have constructed above. We can use the keyword argument `attribute_values` to map an identifying value or label to each of our landscapes. \n",
    "\n",
    "Here we will use strings that denote that each landscape corresponds to the transect from kilometers 0 to 30, 30 to 60 and 60 to 90 respectively. But we could have used any other list-like argument as long as it is consistent with the number of mask arrays provided through the `masks_arr` argument."
   ]
  },
  {
   "cell_type": "code",
   "execution_count": 22,
   "metadata": {
    "autoscroll": false,
    "ein.hycell": false,
    "ein.tags": "worksheet-0",
    "slideshow": {
     "slide_type": "-"
    }
   },
   "outputs": [],
   "source": [
    "ga = pls.GradientAnalysis(input_filepath,\n",
    "                          masks_arr=masks_arr,\n",
    "                          attribute_values=['0-30', '30-60', '60-90'])"
   ]
  },
  {
   "cell_type": "code",
   "execution_count": 23,
   "metadata": {
    "autoscroll": false,
    "ein.hycell": false,
    "ein.tags": "worksheet-0",
    "slideshow": {
     "slide_type": "-"
    }
   },
   "outputs": [
    {
     "data": {
      "image/png": "[encoded data removed]",
      "text/plain": [
       "<Figure size 1296x288 with 3 Axes>"
      ]
     },
     "metadata": {
      "needs_background": "light"
     },
     "output_type": "display_data"
    }
   ],
   "source": [
    "fig = ga.plot_landscapes()"
   ]
  },
  {
   "cell_type": "code",
   "execution_count": 24,
   "metadata": {
    "autoscroll": false,
    "ein.hycell": false,
    "ein.tags": "worksheet-0",
    "slideshow": {
     "slide_type": "-"
    }
   },
   "outputs": [
    {
     "data": {
      "text/html": [
       "<div>\n",
       "<style scoped>\n",
       "    .dataframe tbody tr th:only-of-type {\n",
       "        vertical-align: middle;\n",
       "    }\n",
       "\n",
       "    .dataframe tbody tr th {\n",
       "        vertical-align: top;\n",
       "    }\n",
       "\n",
       "    .dataframe thead th {\n",
       "        text-align: right;\n",
       "    }\n",
       "</style>\n",
       "<table border=\"1\" class=\"dataframe\">\n",
       "  <thead>\n",
       "    <tr style=\"text-align: right;\">\n",
       "      <th></th>\n",
       "      <th>metric</th>\n",
       "      <th>total_area</th>\n",
       "      <th>proportion_of_landscape</th>\n",
       "      <th>number_of_patches</th>\n",
       "      <th>patch_density</th>\n",
       "      <th>largest_patch_index</th>\n",
       "      <th>total_edge</th>\n",
       "      <th>edge_density</th>\n",
       "      <th>landscape_shape_index</th>\n",
       "      <th>area_mn</th>\n",
       "      <th>area_am</th>\n",
       "      <th>...</th>\n",
       "      <th>fractal_dimension_md</th>\n",
       "      <th>fractal_dimension_ra</th>\n",
       "      <th>fractal_dimension_sd</th>\n",
       "      <th>fractal_dimension_cv</th>\n",
       "      <th>euclidean_nearest_neighbor_mn</th>\n",
       "      <th>euclidean_nearest_neighbor_am</th>\n",
       "      <th>euclidean_nearest_neighbor_md</th>\n",
       "      <th>euclidean_nearest_neighbor_ra</th>\n",
       "      <th>euclidean_nearest_neighbor_sd</th>\n",
       "      <th>euclidean_nearest_neighbor_cv</th>\n",
       "    </tr>\n",
       "    <tr>\n",
       "      <th>class_val</th>\n",
       "      <th>attribute_values</th>\n",
       "      <th></th>\n",
       "      <th></th>\n",
       "      <th></th>\n",
       "      <th></th>\n",
       "      <th></th>\n",
       "      <th></th>\n",
       "      <th></th>\n",
       "      <th></th>\n",
       "      <th></th>\n",
       "      <th></th>\n",
       "      <th></th>\n",
       "      <th></th>\n",
       "      <th></th>\n",
       "      <th></th>\n",
       "      <th></th>\n",
       "      <th></th>\n",
       "      <th></th>\n",
       "      <th></th>\n",
       "      <th></th>\n",
       "      <th></th>\n",
       "      <th></th>\n",
       "    </tr>\n",
       "  </thead>\n",
       "  <tbody>\n",
       "    <tr>\n",
       "      <th rowspan=\"3\" valign=\"top\">1</th>\n",
       "      <th>0-30</th>\n",
       "      <td>2641</td>\n",
       "      <td>5.0768</td>\n",
       "      <td>37</td>\n",
       "      <td>0.0711251</td>\n",
       "      <td>0.707407</td>\n",
       "      <td>216700</td>\n",
       "      <td>4.16563</td>\n",
       "      <td>10.7961</td>\n",
       "      <td>71.3784</td>\n",
       "      <td>153.919</td>\n",
       "      <td>...</td>\n",
       "      <td>1.08715</td>\n",
       "      <td>0.162565</td>\n",
       "      <td>0.0425986</td>\n",
       "      <td>3.92986</td>\n",
       "      <td>743.825</td>\n",
       "      <td>793.025</td>\n",
       "      <td>400</td>\n",
       "      <td>3512.14</td>\n",
       "      <td>781.004</td>\n",
       "      <td>104.998</td>\n",
       "    </tr>\n",
       "    <tr>\n",
       "      <th>30-60</th>\n",
       "      <td>9577</td>\n",
       "      <td>17.6965</td>\n",
       "      <td>40</td>\n",
       "      <td>0.0739126</td>\n",
       "      <td>12.2806</td>\n",
       "      <td>370500</td>\n",
       "      <td>6.84615</td>\n",
       "      <td>9.63776</td>\n",
       "      <td>239.425</td>\n",
       "      <td>4698.41</td>\n",
       "      <td>...</td>\n",
       "      <td>1.08185</td>\n",
       "      <td>0.167805</td>\n",
       "      <td>0.0370932</td>\n",
       "      <td>3.42972</td>\n",
       "      <td>685.22</td>\n",
       "      <td>347.101</td>\n",
       "      <td>591.548</td>\n",
       "      <td>1710.5</td>\n",
       "      <td>432.405</td>\n",
       "      <td>63.1045</td>\n",
       "    </tr>\n",
       "    <tr>\n",
       "      <th>60-90</th>\n",
       "      <td>1761</td>\n",
       "      <td>9.27281</td>\n",
       "      <td>9</td>\n",
       "      <td>0.0473909</td>\n",
       "      <td>6.90854</td>\n",
       "      <td>71900</td>\n",
       "      <td>3.786</td>\n",
       "      <td>4.71429</td>\n",
       "      <td>195.667</td>\n",
       "      <td>1002.82</td>\n",
       "      <td>...</td>\n",
       "      <td>1.06691</td>\n",
       "      <td>0.129875</td>\n",
       "      <td>0.0424932</td>\n",
       "      <td>3.9649</td>\n",
       "      <td>1585.76</td>\n",
       "      <td>686.289</td>\n",
       "      <td>1118.03</td>\n",
       "      <td>3284.69</td>\n",
       "      <td>1304.19</td>\n",
       "      <td>82.2442</td>\n",
       "    </tr>\n",
       "    <tr>\n",
       "      <th rowspan=\"3\" valign=\"top\">2</th>\n",
       "      <th>0-30</th>\n",
       "      <td>49380</td>\n",
       "      <td>94.9232</td>\n",
       "      <td>2</td>\n",
       "      <td>0.0038446</td>\n",
       "      <td>94.9194</td>\n",
       "      <td>216700</td>\n",
       "      <td>4.16563</td>\n",
       "      <td>3.61124</td>\n",
       "      <td>24690</td>\n",
       "      <td>49376</td>\n",
       "      <td>...</td>\n",
       "      <td>1.07006</td>\n",
       "      <td>0.116342</td>\n",
       "      <td>0.058171</td>\n",
       "      <td>5.43621</td>\n",
       "      <td>223.607</td>\n",
       "      <td>223.607</td>\n",
       "      <td>223.607</td>\n",
       "      <td>0</td>\n",
       "      <td>0</td>\n",
       "      <td>0</td>\n",
       "    </tr>\n",
       "    <tr>\n",
       "      <th>30-60</th>\n",
       "      <td>44541</td>\n",
       "      <td>82.3035</td>\n",
       "      <td>6</td>\n",
       "      <td>0.0110869</td>\n",
       "      <td>81.8859</td>\n",
       "      <td>370500</td>\n",
       "      <td>6.84615</td>\n",
       "      <td>5.66194</td>\n",
       "      <td>7423.5</td>\n",
       "      <td>44090.7</td>\n",
       "      <td>...</td>\n",
       "      <td>1.05184</td>\n",
       "      <td>0.171006</td>\n",
       "      <td>0.0593649</td>\n",
       "      <td>5.59432</td>\n",
       "      <td>279.945</td>\n",
       "      <td>200.112</td>\n",
       "      <td>211.803</td>\n",
       "      <td>432.456</td>\n",
       "      <td>158.001</td>\n",
       "      <td>56.4399</td>\n",
       "    </tr>\n",
       "    <tr>\n",
       "      <th>60-90</th>\n",
       "      <td>17230</td>\n",
       "      <td>90.7272</td>\n",
       "      <td>6</td>\n",
       "      <td>0.0315939</td>\n",
       "      <td>53.2199</td>\n",
       "      <td>71900</td>\n",
       "      <td>3.786</td>\n",
       "      <td>3.75665</td>\n",
       "      <td>2871.67</td>\n",
       "      <td>7596.21</td>\n",
       "      <td>...</td>\n",
       "      <td>1.07797</td>\n",
       "      <td>0.0983169</td>\n",
       "      <td>0.0329745</td>\n",
       "      <td>3.08267</td>\n",
       "      <td>594.107</td>\n",
       "      <td>1165.29</td>\n",
       "      <td>360.555</td>\n",
       "      <td>1611.08</td>\n",
       "      <td>563.06</td>\n",
       "      <td>94.7742</td>\n",
       "    </tr>\n",
       "  </tbody>\n",
       "</table>\n",
       "<p>6 rows × 44 columns</p>\n",
       "</div>"
      ],
      "text/plain": [
       "metric                     total_area proportion_of_landscape  \\\n",
       "class_val attribute_values                                      \n",
       "1         0-30                   2641                  5.0768   \n",
       "          30-60                  9577                 17.6965   \n",
       "          60-90                  1761                 9.27281   \n",
       "2         0-30                  49380                 94.9232   \n",
       "          30-60                 44541                 82.3035   \n",
       "          60-90                 17230                 90.7272   \n",
       "\n",
       "metric                     number_of_patches patch_density  \\\n",
       "class_val attribute_values                                   \n",
       "1         0-30                            37     0.0711251   \n",
       "          30-60                           40     0.0739126   \n",
       "          60-90                            9     0.0473909   \n",
       "2         0-30                             2     0.0038446   \n",
       "          30-60                            6     0.0110869   \n",
       "          60-90                            6     0.0315939   \n",
       "\n",
       "metric                     largest_patch_index total_edge edge_density  \\\n",
       "class_val attribute_values                                               \n",
       "1         0-30                        0.707407     216700      4.16563   \n",
       "          30-60                        12.2806     370500      6.84615   \n",
       "          60-90                        6.90854      71900        3.786   \n",
       "2         0-30                         94.9194     216700      4.16563   \n",
       "          30-60                        81.8859     370500      6.84615   \n",
       "          60-90                        53.2199      71900        3.786   \n",
       "\n",
       "metric                     landscape_shape_index  area_mn  area_am  ...  \\\n",
       "class_val attribute_values                                          ...   \n",
       "1         0-30                           10.7961  71.3784  153.919  ...   \n",
       "          30-60                          9.63776  239.425  4698.41  ...   \n",
       "          60-90                          4.71429  195.667  1002.82  ...   \n",
       "2         0-30                           3.61124    24690    49376  ...   \n",
       "          30-60                          5.66194   7423.5  44090.7  ...   \n",
       "          60-90                          3.75665  2871.67  7596.21  ...   \n",
       "\n",
       "metric                     fractal_dimension_md fractal_dimension_ra  \\\n",
       "class_val attribute_values                                             \n",
       "1         0-30                          1.08715             0.162565   \n",
       "          30-60                         1.08185             0.167805   \n",
       "          60-90                         1.06691             0.129875   \n",
       "2         0-30                          1.07006             0.116342   \n",
       "          30-60                         1.05184             0.171006   \n",
       "          60-90                         1.07797            0.0983169   \n",
       "\n",
       "metric                     fractal_dimension_sd fractal_dimension_cv  \\\n",
       "class_val attribute_values                                             \n",
       "1         0-30                        0.0425986              3.92986   \n",
       "          30-60                       0.0370932              3.42972   \n",
       "          60-90                       0.0424932               3.9649   \n",
       "2         0-30                         0.058171              5.43621   \n",
       "          30-60                       0.0593649              5.59432   \n",
       "          60-90                       0.0329745              3.08267   \n",
       "\n",
       "metric                     euclidean_nearest_neighbor_mn  \\\n",
       "class_val attribute_values                                 \n",
       "1         0-30                                   743.825   \n",
       "          30-60                                   685.22   \n",
       "          60-90                                  1585.76   \n",
       "2         0-30                                   223.607   \n",
       "          30-60                                  279.945   \n",
       "          60-90                                  594.107   \n",
       "\n",
       "metric                     euclidean_nearest_neighbor_am  \\\n",
       "class_val attribute_values                                 \n",
       "1         0-30                                   793.025   \n",
       "          30-60                                  347.101   \n",
       "          60-90                                  686.289   \n",
       "2         0-30                                   223.607   \n",
       "          30-60                                  200.112   \n",
       "          60-90                                  1165.29   \n",
       "\n",
       "metric                     euclidean_nearest_neighbor_md  \\\n",
       "class_val attribute_values                                 \n",
       "1         0-30                                       400   \n",
       "          30-60                                  591.548   \n",
       "          60-90                                  1118.03   \n",
       "2         0-30                                   223.607   \n",
       "          30-60                                  211.803   \n",
       "          60-90                                  360.555   \n",
       "\n",
       "metric                     euclidean_nearest_neighbor_ra  \\\n",
       "class_val attribute_values                                 \n",
       "1         0-30                                   3512.14   \n",
       "          30-60                                   1710.5   \n",
       "          60-90                                  3284.69   \n",
       "2         0-30                                         0   \n",
       "          30-60                                  432.456   \n",
       "          60-90                                  1611.08   \n",
       "\n",
       "metric                     euclidean_nearest_neighbor_sd  \\\n",
       "class_val attribute_values                                 \n",
       "1         0-30                                   781.004   \n",
       "          30-60                                  432.405   \n",
       "          60-90                                  1304.19   \n",
       "2         0-30                                         0   \n",
       "          30-60                                  158.001   \n",
       "          60-90                                   563.06   \n",
       "\n",
       "metric                     euclidean_nearest_neighbor_cv  \n",
       "class_val attribute_values                                \n",
       "1         0-30                                   104.998  \n",
       "          30-60                                  63.1045  \n",
       "          60-90                                  82.2442  \n",
       "2         0-30                                         0  \n",
       "          30-60                                  56.4399  \n",
       "          60-90                                  94.7742  \n",
       "\n",
       "[6 rows x 44 columns]"
      ]
     },
     "execution_count": 24,
     "metadata": {},
     "output_type": "execute_result"
    }
   ],
   "source": [
    "ga.compute_class_metrics_df()"
   ]
  },
  {
   "cell_type": "code",
   "execution_count": 25,
   "metadata": {
    "autoscroll": false,
    "ein.hycell": false,
    "ein.tags": "worksheet-0",
    "slideshow": {
     "slide_type": "-"
    }
   },
   "outputs": [
    {
     "data": {
      "text/plain": [
       "<matplotlib.axes._subplots.AxesSubplot at 0x7f6c15ec60f0>"
      ]
     },
     "execution_count": 25,
     "metadata": {},
     "output_type": "execute_result"
    },
    {
     "data": {
      "image/png": "[encoded data removed]",
      "text/plain": [
       "<Figure size 432x288 with 1 Axes>"
      ]
     },
     "metadata": {
      "needs_background": "light"
     },
     "output_type": "display_data"
    }
   ],
   "source": [
    "ga.plot_metric('proportion_of_landscape', class_val=URBAN_CLASS_VAL)"
   ]
  },
  {
   "cell_type": "markdown",
   "metadata": {
    "ein.tags": "worksheet-0",
    "slideshow": {
     "slide_type": "-"
    }
   },
   "source": [
    "Note that the values that we pass to `attribute_values` will be used within the metric dataframes and plot labels.\n",
    "\n",
    "Finally, note that the data frames for `GradientAnalysis`, likewise those of `SpatioTemporalAnalysis` or `BufferAnalysis` (see [above](#customizing-buffer-analysis)) can be customized via by passing the arguments `metrics`, `classes` or `metrics_kws` to the `compute_class_metrics_df` and `compute_landscape_metrics_df` methods."
   ]
  },
  {
   "cell_type": "markdown",
   "metadata": {
    "ein.tags": "worksheet-0",
    "slideshow": {
     "slide_type": "-"
    }
   },
   "source": [
    "## See also"
   ]
  },
  {
   "cell_type": "markdown",
   "metadata": {
    "ein.tags": "worksheet-0",
    "slideshow": {
     "slide_type": "-"
    }
   },
   "source": [
    "* [SpatioTemporalBufferAnalysis](https://github.com/martibosch/pylandstats-notebooks/blob/master/notebooks/04-spatiotemporal-buffer-analysis.ipynb)"
   ]
  }
 ],
 "metadata": {
  "kernelspec": {
   "display_name": "Python (pylandstats)",
   "language": "python",
   "name": "pylandstats"
  },
  "language_info": {
   "codemirror_mode": {
    "name": "ipython",
    "version": 3
   },
   "file_extension": ".py",
   "mimetype": "text/x-python",
   "name": "python",
   "nbconvert_exporter": "python",
   "pygments_lexer": "ipython3",
   "version": "3.7.3"
  },
  "name": "03-gradient-analysis.ipynb"
 },
 "nbformat": 4,
 "nbformat_minor": 2
}
